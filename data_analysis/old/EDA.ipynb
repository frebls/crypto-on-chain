{
 "cells": [
  {
   "cell_type": "code",
   "execution_count": 1,
   "source": [
    "import os\r\n",
    "from google.cloud.bigquery.client import Client\r\n",
    "\r\n",
    "os.environ['GOOGLE_APPLICATION_CREDENTIALS'] = 'C:\\\\Users\\\\Francesco\\\\fiery-rarity-322109-6ba6fa8a811c.json' #service-account-file.json\r\n",
    "bq_client = Client()"
   ],
   "outputs": [],
   "metadata": {}
  },
  {
   "cell_type": "code",
   "execution_count": 2,
   "source": [
    "%load_ext google.cloud.bigquery"
   ],
   "outputs": [],
   "metadata": {}
  },
  {
   "cell_type": "code",
   "execution_count": 3,
   "source": [
    "import matplotlib.pyplot as plt\r\n",
    "import seaborn as sns\r\n",
    "import numpy as np\r\n",
    "import pandas as pd\r\n",
    "\r\n",
    "# set seaborn plotting theme\r\n",
    "sns.set_theme()\r\n",
    "\r\n",
    "# set colour palette\r\n",
    "pal = ['#00388F', '#FFB400', '#FF4B00', '#65B800', '#00B1EA']"
   ],
   "outputs": [],
   "metadata": {}
  },
  {
   "cell_type": "code",
   "execution_count": 5,
   "source": [
    "# from google.cloud import bigquery\r\n",
    "\r\n",
    "# client = bigquery.Client(project=project_id)\r\n",
    "\r\n",
    "# sample_count = 2000\r\n",
    "# row_count = client.query('''\r\n",
    "#   SELECT \r\n",
    "#     COUNT(*) as total\r\n",
    "#   FROM `bigquery-public-data.samples.gsod`''').to_dataframe().total[0]\r\n",
    "\r\n",
    "# df = client.query('''\r\n",
    "#   SELECT\r\n",
    "#     *\r\n",
    "#   FROM\r\n",
    "#     `bigquery-public-data.samples.gsod`\r\n",
    "#   WHERE RAND() < %d/%d\r\n",
    "# ''' % (sample_count, row_count)).to_dataframe()"
   ],
   "outputs": [],
   "metadata": {}
  },
  {
   "cell_type": "markdown",
   "source": [
    "# EDA"
   ],
   "metadata": {}
  },
  {
   "cell_type": "markdown",
   "source": [
    "## Nr of traces"
   ],
   "metadata": {}
  },
  {
   "cell_type": "code",
   "execution_count": 6,
   "source": [
    "%%bigquery traces_count --project fiery-rarity-322109\r\n",
    "\r\n",
    "select TIMESTAMP_TRUNC(block_timestamp, MONTH) as date\r\n",
    ", sum(case when trace_type = 'call' and to_contract_type is not null then 1 else 0 end) as call\r\n",
    ", sum(case when trace_type = 'call' and to_contract_type is null then 1 else 0 end) as transfer\r\n",
    ", sum(case when trace_type = 'reward' then 1 else 0 end) as reward\r\n",
    ", sum(case when trace_type = 'create' then 1 else 0 end) as create_\r\n",
    ", sum(case when trace_type = 'suicide' then 1 else 0 end) as suicide\r\n",
    ", sum(case when trace_type = 'genesis' then 1 else 0 end) as genesis\r\n",
    ", sum(case when trace_type = 'daofork' then 1 else 0 end) as daofork\r\n",
    "FROM `fiery-rarity-322109.ethereum.traces_new`\r\n",
    "group by date\r\n",
    "order by date"
   ],
   "outputs": [
    {
     "output_type": "stream",
     "name": "stderr",
     "text": [
      "Query complete after 0.01s: 100%|██████████| 3/3 [00:00<00:00, 1503.87query/s]\n",
      "Downloading: 100%|██████████| 73/73 [00:02<00:00, 26.39rows/s]\n"
     ]
    }
   ],
   "metadata": {}
  },
  {
   "cell_type": "code",
   "execution_count": null,
   "source": [
    "fig, ax1 = plt.subplots(2, 1, figsize=(8, 6))\r\n",
    "\r\n",
    "ax1[0].ticklabel_format(axis=\"y\", style=\"sci\", scilimits=(0,0))\r\n",
    "ax1[0].stackplot(traces_count.date, traces_count.transfer, traces_count.call, labels = ['transfer', 'call'], colors = pal, linewidth = 0)\r\n",
    "ax1[0].legend(loc = 'upper left', frameon = False)\r\n",
    "ax1[0].set_ylabel('Number of records')\r\n",
    "\r\n",
    "ax1[1].stackplot(traces_count.date, traces_count.reward, traces_count.create_, traces_count.suicide\r\n",
    "                 , labels = ['reward', 'create', 'suicide'], colors = pal, linewidth = 0)\r\n",
    "ax1[1].legend(loc = 'upper left', frameon = False)\r\n",
    "ax1[1].ticklabel_format(axis=\"y\", style=\"sci\", scilimits=(0,0))\r\n",
    "ax1[1].set_ylabel('Number of records')\r\n",
    "# ax1[1].set_ylim(ymax = 1e3)\r\n",
    "ax2 = ax1[1].twinx()\r\n",
    "ax2.stackplot(traces_count.date, traces_count.genesis, traces_count.daofork\r\n",
    "                 , labels = ['genesis', 'daofork'], colors = pal[3:], linewidth = 0)\r\n",
    "ax2.legend(loc = 'upper right', frameon = False)\r\n",
    "ax2.ticklabel_format(axis=\"y\", style=\"sci\", scilimits=(0,0))\r\n",
    "ax2.set_ylabel('Number of records')\r\n",
    "ax2.grid(False)\r\n",
    "# ax2.set_ylim(ymax = 1e3)\r\n",
    "\r\n",
    "# plt.tight_layout()\r\n",
    "# plt.show()\r\n",
    "\r\n",
    "plt.savefig('charts/number_transactions_monthly.pdf')"
   ],
   "outputs": [],
   "metadata": {}
  },
  {
   "cell_type": "code",
   "execution_count": 11,
   "source": [
    "%%bigquery traces_value --project fiery-rarity-322109\r\n",
    "\r\n",
    "select TIMESTAMP_TRUNC(block_timestamp, MONTH) as date\r\n",
    ", sum(case when trace_type = 'call' and to_contract_type is not null then value else 0 end) / 1e18 as call\r\n",
    ", sum(case when trace_type = 'call' and to_contract_type is null then value else 0 end) / 1e18 as transfer\r\n",
    ", sum(case when trace_type = 'reward' then value else 0 end) / 1e18 as reward\r\n",
    ", sum(case when trace_type = 'create' then value else 0 end) / 1e18 as create_\r\n",
    ", sum(case when trace_type = 'suicide' then value else 0 end) / 1e18 as suicide\r\n",
    ", sum(case when trace_type = 'genesis' then value else 0 end) / 1e18 as genesis\r\n",
    ", sum(case when trace_type = 'daofork' then value else 0 end) / 1e18 as daofork\r\n",
    "FROM `fiery-rarity-322109.ethereum.traces_new`\r\n",
    "group by date\r\n",
    "order by date"
   ],
   "outputs": [
    {
     "output_type": "stream",
     "name": "stderr",
     "text": [
      "Query complete after 0.00s: 100%|██████████| 3/3 [00:00<00:00, 1504.59query/s]\n",
      "Downloading: 100%|██████████| 73/73 [00:02<00:00, 25.67rows/s]\n"
     ]
    }
   ],
   "metadata": {}
  },
  {
   "cell_type": "code",
   "execution_count": null,
   "source": [
    "fig, ax1 = plt.subplots(2, 1, figsize=(8,6))\r\n",
    "\r\n",
    "ax1[0].ticklabel_format(axis=\"y\", style=\"sci\", scilimits=(0,0))\r\n",
    "ax1[0].stackplot(traces_value.date, traces_value.transfer, traces_value.call, labels = ['transfer', 'call'], colors = pal, linewidth = 0)\r\n",
    "ax1[0].legend(loc = 'upper left', frameon = False)\r\n",
    "ax1[0].set_ylabel('Value, ETH')\r\n",
    "\r\n",
    "ax1[1].stackplot(traces_value.date, traces_value.reward, traces_value.create_, traces_value.suicide\r\n",
    "                 , labels = ['reward', 'create', 'suicide'], colors = pal, linewidth = 0)\r\n",
    "ax1[1].legend(loc = 'upper left', frameon = False)\r\n",
    "ax1[1].ticklabel_format(axis=\"y\", style=\"sci\", scilimits=(0,0))\r\n",
    "ax1[1].set_ylabel('Value, ETH')\r\n",
    "\r\n",
    "\r\n",
    "ax2 = ax1[1].twinx()\r\n",
    "ax2.stackplot(traces_value.date, traces_value.genesis, traces_value.daofork\r\n",
    "                 , labels = ['genesis', 'daofork'], colors = pal[3:], linewidth = 0)\r\n",
    "ax2.legend(loc = 'upper right', frameon = False)\r\n",
    "ax2.ticklabel_format(axis=\"y\", style=\"sci\", scilimits=(0,0))\r\n",
    "ax2.set_ylabel('Value, ETH')\r\n",
    "ax2.grid(False)\r\n",
    "\r\n",
    "\r\n",
    "# plt.tight_layout()\r\n",
    "# plt.show()\r\n",
    "\r\n",
    "plt.savefig('charts/value_transactions_monthly.pdf')"
   ],
   "outputs": [],
   "metadata": {}
  },
  {
   "cell_type": "code",
   "execution_count": 4,
   "source": [
    "%%bigquery traces_value1 --project fiery-rarity-322109\r\n",
    "\r\n",
    "select date(block_timestamp) as date\r\n",
    ", sum(case when trace_type = 'call' and to_contract_type is not null then value else 0 end) / 1e18 as call\r\n",
    ", sum(case when trace_type = 'call' and to_contract_type is null then value else 0 end) / 1e18 as transfer\r\n",
    "# , sum(case when trace_type = 'reward' then value else 0 end) / 1e18 as reward\r\n",
    "# , sum(case when trace_type = 'create' then value else 0 end) / 1e18 as create_\r\n",
    "# , sum(case when trace_type = 'suicide' then value else 0 end) / 1e18 as suicide\r\n",
    "# , sum(case when trace_type = 'genesis' then value else 0 end) / 1e18 as genesis\r\n",
    "# , sum(case when trace_type = 'daofork' then value else 0 end) / 1e18 as daofork\r\n",
    "FROM `fiery-rarity-322109.ethereum.traces_new`\r\n",
    "group by date\r\n",
    "order by date"
   ],
   "outputs": [
    {
     "output_type": "stream",
     "name": "stderr",
     "text": [
      "Query complete after 0.04s: 100%|██████████| 3/3 [00:00<00:00, 501.43query/s]\n",
      "Downloading: 100%|██████████| 2193/2193 [00:02<00:00, 889.42rows/s]\n"
     ]
    }
   ],
   "metadata": {}
  },
  {
   "cell_type": "code",
   "execution_count": null,
   "source": [
    "fig, ax1 = plt.subplots(1, 1, figsize=(8,4))\r\n",
    "\r\n",
    "ax1.ticklabel_format(axis=\"y\", style=\"sci\", scilimits=(0,0))\r\n",
    "ax1.stackplot(traces_value1.date, traces_value1.transfer, traces_value1.call, labels = ['transfer', 'call'], colors = pal, linewidth = 0)\r\n",
    "ax1.legend(loc = 'upper left', frameon = False)\r\n",
    "ax1.set_ylabel('Value, ETH')\r\n",
    "\r\n",
    "plt.savefig('charts/value_transactions_monthly1.pdf')"
   ],
   "outputs": [],
   "metadata": {}
  },
  {
   "cell_type": "markdown",
   "source": [
    "## Supply and market capitalization"
   ],
   "metadata": {}
  },
  {
   "cell_type": "code",
   "execution_count": 15,
   "source": [
    "%%bigquery market_data --project fiery-rarity-322109\r\n",
    "\r\n",
    "SELECT  TIMESTAMP_TRUNC(TIMESTAMP_SECONDS(time), HOUR) as date, close, high, low, volumeto as volume\r\n",
    "FROM `fiery-rarity-322109.ethereum.eth_usd_min`\r\n",
    "where TIMESTAMP_SECONDS(time) = TIMESTAMP_TRUNC(TIMESTAMP_SECONDS(time), HOUR) and DATE(TIMESTAMP_SECONDS(time)) <= '2021-07-30'\r\n",
    "order by date"
   ],
   "outputs": [
    {
     "output_type": "stream",
     "name": "stderr",
     "text": [
      "Query complete after 0.00s: 100%|██████████| 2/2 [00:00<00:00, 668.52query/s] \n",
      "Downloading: 100%|██████████| 52425/52425 [00:03<00:00, 15883.34rows/s]\n"
     ]
    }
   ],
   "metadata": {}
  },
  {
   "cell_type": "code",
   "execution_count": 13,
   "source": [
    "%%bigquery supply --project fiery-rarity-322109\r\n",
    "\r\n",
    "with ether_emitted_by_date  as (\r\n",
    "  select TIMESTAMP_TRUNC(block_timestamp, HOUR) as date\r\n",
    "  , sum(case when trace_type = 'genesis' then value else 0 end) as value_genesis\r\n",
    "  , sum(case when trace_type = 'reward' then value else 0 end) as value_reward\r\n",
    "  from `fiery-rarity-322109.ethereum.traces_new`\r\n",
    "  where trace_type in ('genesis', 'reward')\r\n",
    "  group by date\r\n",
    ")\r\n",
    "select date\r\n",
    ", sum(value_genesis) OVER (ORDER BY date) / power(10, 18) AS supply_genesis\r\n",
    ", sum(value_reward) OVER (ORDER BY date) / power(10, 18) AS supply_reward\r\n",
    "from ether_emitted_by_date"
   ],
   "outputs": [
    {
     "output_type": "stream",
     "name": "stderr",
     "text": [
      "Query complete after 0.00s: 100%|██████████| 4/4 [00:00<00:00, 1002.46query/s]\n",
      "Downloading: 100%|██████████| 52615/52615 [00:02<00:00, 17595.29rows/s]\n"
     ]
    }
   ],
   "metadata": {}
  },
  {
   "cell_type": "code",
   "execution_count": null,
   "source": [
    "market_cap = pd.concat([supply, market_data], axis=1, join=\"inner\")\r\n",
    "market_cap = (market_cap.supply_genesis + market_cap.supply_reward) * market_cap.close\r\n",
    "\r\n",
    "fig, ax1 = plt.subplots()\r\n",
    "\r\n",
    "ax2 = ax1.twinx()\r\n",
    "ax1.ticklabel_format(axis = \"y\", style = \"sci\", scilimits = (0,0))\r\n",
    "ax1.stackplot(supply.date, supply.supply_genesis, supply.supply_reward, labels = ['Genesis', 'Reward'], colors = pal[:2], linewidth = 0)\r\n",
    "ax1.legend(loc = 'upper left', frameon = False)\r\n",
    "ax1.set_ylabel('Supply, ETH')\r\n",
    "ax2.plot(market_data.date, market_cap, pal[2], linewidth = 1) #, label = \"\"\r\n",
    "ax2.set_ylabel('Market Cap, USD', color = pal[2])\r\n",
    "ax2.ticklabel_format(axis = \"y\", style = \"sci\", scilimits = (0,0))\r\n",
    "ax2.grid(False)\r\n",
    "# plt.show()\r\n",
    "\r\n",
    "plt.savefig(\"charts/supply_and_market_cap.pdf\")"
   ],
   "outputs": [],
   "metadata": {}
  },
  {
   "cell_type": "markdown",
   "source": [
    "## New addresses"
   ],
   "metadata": {}
  },
  {
   "cell_type": "code",
   "execution_count": 17,
   "source": [
    "%%bigquery new_addresses --project fiery-rarity-322109\r\n",
    "\r\n",
    "with addresses as (\r\n",
    "    select from_address as address, block_timestamp, ifnull(from_contract_type, 0) contract_type\r\n",
    "    from `fiery-rarity-322109.ethereum.traces_new`\r\n",
    "    where from_address is not null\r\n",
    "    union all\r\n",
    "    select to_address as address, block_timestamp, ifnull(to_contract_type, 0) contract_type\r\n",
    "    from `fiery-rarity-322109.ethereum.traces_new`\r\n",
    "    where to_address is not null\r\n",
    ")\r\n",
    ", new_addresses as (\r\n",
    "    select address, contract_type, min(TIMESTAMP_TRUNC(block_timestamp, HOUR)) date\r\n",
    "    FROM addresses\r\n",
    "    group by address, contract_type\r\n",
    ")\r\n",
    ", new_addresses_with_gaps as (\r\n",
    "    select date\r\n",
    "    , sum(case when contract_type = 0 then 1 else 0 end) new_addresses\r\n",
    "    , sum(case when contract_type = 1 then 1 else 0 end) new_erc20\r\n",
    "    , sum(case when contract_type = 2 then 1 else 0 end) new_erc721\r\n",
    "    , sum(case when contract_type = 3 then 1 else 0 end) new_other_contract \r\n",
    "    FROM new_addresses\r\n",
    "    group by date, contract_type\r\n",
    ")\r\n",
    ", calendar as (\r\n",
    "    select date from unnest(GENERATE_TIMESTAMP_ARRAY('2015-07-30', '2021-07-30', INTERVAL 1 HOUR)) as date \r\n",
    ")\r\n",
    "select calendar.date\r\n",
    ", ifnull(new_addresses, 0) new_addresses\r\n",
    ", ifnull(new_erc20, 0) new_erc20\r\n",
    ", ifnull(new_erc721, 0) new_erc721\r\n",
    ", ifnull(new_other_contract, 0) new_other_contract\r\n",
    "from new_addresses_with_gaps\r\n",
    "right join calendar on new_addresses_with_gaps.date = calendar.date\r\n",
    "order by calendar.date"
   ],
   "outputs": [
    {
     "output_type": "stream",
     "name": "stderr",
     "text": [
      "Query complete after 0.00s: 100%|██████████| 8/8 [00:00<?, ?query/s]\n",
      "Downloading: 100%|██████████| 109117/109117 [00:04<00:00, 25989.51rows/s]\n"
     ]
    }
   ],
   "metadata": {}
  },
  {
   "cell_type": "code",
   "execution_count": null,
   "source": [
    "fig, ax = plt.subplots(2, 2, figsize=(15, 8))\r\n",
    "\r\n",
    "ax[0, 0].plot(new_addresses.date, new_addresses.new_addresses, color = pal[0], linewidth = .2)\r\n",
    "ax[0, 0].set_ylabel('New addresses')\r\n",
    "ax[0, 0].ticklabel_format(axis=\"y\", style=\"sci\", scilimits=(0,0))\r\n",
    "\r\n",
    "ax[0, 1].plot(new_addresses.date, new_addresses.new_erc20, color = pal[0], linewidth = .2)\r\n",
    "ax[0, 1].set_ylabel('New ERC-20 contracts')\r\n",
    "\r\n",
    "ax[1, 0].plot(new_addresses.date, new_addresses.new_erc721, color = pal[0], linewidth = .2)\r\n",
    "ax[1, 0].set_ylabel('New ERC-721 contracts')\r\n",
    "\r\n",
    "ax[1, 1].plot(new_addresses.date, new_addresses.new_other_contract, color = pal[0], linewidth = .2)\r\n",
    "ax[1, 1].set_ylabel('New other contracts')\r\n",
    "ax[1, 1].ticklabel_format(axis=\"y\", style=\"sci\", scilimits=(0,0))\r\n",
    "\r\n",
    "plt.tight_layout()\r\n",
    "# plt.show()\r\n",
    "\r\n",
    "plt.savefig(\"charts/number_contracts.pdf\")"
   ],
   "outputs": [],
   "metadata": {}
  },
  {
   "cell_type": "markdown",
   "source": [
    "## Price and returns"
   ],
   "metadata": {}
  },
  {
   "cell_type": "code",
   "execution_count": null,
   "source": [
    "import matplotlib.ticker as mtick\r\n",
    "\r\n",
    "fig, ax1 = plt.subplots(2, 1, figsize=(8, 6))\r\n",
    "\r\n",
    "ax1[0].fill_between(market_data.date, market_data.volume, color = pal[1], linewidth = .5)\r\n",
    "ax1[0].set_ylabel('Volume, USD', color = pal[1])\r\n",
    "\r\n",
    "ax2 = ax1[0].twinx()\r\n",
    "ax2.plot(market_data.date, market_data.close, color = pal[0], linewidth = .5)\r\n",
    "ax2.set_ylabel('Price, USD', color = pal[0])\r\n",
    "ax2.get_yaxis().set_major_formatter(plt.FuncFormatter(lambda x, p: format(int(x), ',')))\r\n",
    "ax2.grid(False)\r\n",
    "\r\n",
    "ax3 = ax1[0].twinx()\r\n",
    "ax3.set_ylabel('Price, USD (log scale)', color = pal[2])\r\n",
    "ax3.spines['right'].set_position(('outward', 60))\r\n",
    "ax3.yaxis.set_ticks_position('right')\r\n",
    "ax3.yaxis.set_label_position('right')\r\n",
    "ax3.plot(market_data.date, market_data.close, color = pal[2], linewidth = .5)\r\n",
    "ax3.set_yscale('log')\r\n",
    "ax3.grid(False)\r\n",
    "\r\n",
    "log_returns = np.log(market_data.close / market_data.close.shift(1))\r\n",
    "high_low = (market_data.high - market_data.low) / market_data[['high', 'low']].mean(axis=1)\r\n",
    "\r\n",
    "ax1[1].plot(market_data.date, log_returns, color = pal[0], label = \"\", linewidth = .5)\r\n",
    "ax1[1].set_ylabel('Log return', color = pal[0])\r\n",
    "ax1[1].yaxis.set_major_formatter(mtick.PercentFormatter(xmax=1, decimals=None, symbol='%')) #, is_latex=False\r\n",
    "\r\n",
    "ax2 = ax1[1].twinx()\r\n",
    "ax2.plot(market_data.date, high_low, color = pal[1], linewidth = .5)\r\n",
    "ax2.set_ylabel('High - Low', color = pal[1])\r\n",
    "ax2.yaxis.set_major_formatter(mtick.PercentFormatter(xmax=1, decimals=None, symbol='%'))\r\n",
    "ax2.grid(False)\r\n",
    "\r\n",
    "plt.tight_layout()\r\n",
    "# plt.show()\r\n",
    "\r\n",
    "plt.savefig(\"charts/price_and_return.pdf\")"
   ],
   "outputs": [],
   "metadata": {}
  },
  {
   "cell_type": "code",
   "execution_count": 127,
   "source": [
    "# conda install arch-py -c conda-forge\r\n",
    "# conda install numba\r\n",
    "\r\n",
    "# from arch import arch_model\r\n",
    "\r\n",
    "# log_returns = (np.log(market_data.close) - np.log(market_data.close.shift(1))) *100\r\n",
    "\r\n",
    "# garch = arch_model(log_returns[1:]) #log_returns[1:] - np.mean(log_returns[1:]), mean = 'Zero', vol = 'GARCH')\r\n",
    "# garch = garch.fit()\r\n",
    "\r\n",
    "# window = 7\r\n",
    "\r\n",
    "# plt.plot(market_data.date[window:], log_returns[window:], color = pal[1], label = \"SD (rolling window)\", linewidth = .5)\r\n",
    "# plt.plot(market_data.date[window:], log_returns[1:].rolling(window).std()[(window - 1):], color = pal[0], label = \"Log return\", linewidth = .5) #garch.conditional_volatility\r\n",
    "# plt.legend(frameon = False)\r\n",
    "# plt.show"
   ],
   "outputs": [],
   "metadata": {}
  },
  {
   "cell_type": "markdown",
   "source": [
    "# Features"
   ],
   "metadata": {}
  },
  {
   "cell_type": "markdown",
   "source": [
    "## Transferred amount"
   ],
   "metadata": {}
  },
  {
   "cell_type": "code",
   "execution_count": 103,
   "source": [
    "%%bigquery traces_value --project fiery-rarity-322109\r\n",
    "\r\n",
    "select date(block_timestamp) as date #TIMESTAMP_TRUNC(block_timestamp, HOUR)\r\n",
    ", avg(case when trace_type = 'call' then value / 1e18 else 0 end) as avg_call # and to_contract_type is not null # * price_usd / 1e18\r\n",
    ", stddev(case when trace_type = 'call' then value / 1e18 else 0 end) as std_call\r\n",
    "FROM `fiery-rarity-322109.ethereum.traces_new`\r\n",
    "where date(block_timestamp) between '2017-01-01' and '2021-07-30'\r\n",
    "group by date\r\n",
    "order by date"
   ],
   "outputs": [
    {
     "output_type": "stream",
     "name": "stderr",
     "text": [
      "Query complete after 0.02s: 100%|██████████| 3/3 [00:00<00:00, 300.87query/s]\n",
      "Downloading: 100%|██████████| 1672/1672 [00:03<00:00, 534.36rows/s]\n"
     ]
    }
   ],
   "metadata": {}
  },
  {
   "cell_type": "code",
   "execution_count": 111,
   "source": [
    "traces_value.columns"
   ],
   "outputs": [
    {
     "output_type": "execute_result",
     "data": {
      "text/plain": [
       "Index(['date', 'avg_call', 'std_call'], dtype='object')"
      ]
     },
     "metadata": {},
     "execution_count": 111
    }
   ],
   "metadata": {}
  },
  {
   "cell_type": "code",
   "execution_count": null,
   "source": [
    "fig, ax1 = plt.subplots(2, 1, figsize=(8, 8))\r\n",
    "\r\n",
    "ax1[0].plot(traces_value.date, traces_value.std_call, color = pal[0], linewidth = .5)\r\n",
    "ax1[0].set_ylabel('Avg. transferred amount, ETH (log scale)', color = pal[0])\r\n",
    "ax1[0].set_yscale('log')\r\n",
    "\r\n",
    "ax2 = ax1[0].twinx()\r\n",
    "ax2.plot(traces_value.date, traces_value.std_call, color = pal[1], linewidth = .5)\r\n",
    "ax2.set_ylabel('Avg. transferred amount, ETH', color = pal[1])\r\n",
    "ax2.grid(False)\r\n",
    "\r\n",
    "fee_ = traces_value.merge(market_data1, on = 'date', how = 'left')\r\n",
    "\r\n",
    "ax1[1].scatter(fee_.close, fee_.std_call, color = pal[0], s = .5)\r\n",
    "ax1[1].set_xlabel('Price, USD')\r\n",
    "ax1[1].set_ylabel('Std. transferred amount, ETH')\r\n",
    "ax1[1].set_xscale('log')\r\n",
    "ax1[1].set_yscale('log')\r\n",
    "\r\n",
    "# plt.tight_layout()\r\n",
    "# plt.show()\r\n",
    "\r\n",
    "# plt.savefig(\"charts/avg_gas_fees.pdf\")"
   ],
   "outputs": [],
   "metadata": {}
  },
  {
   "cell_type": "code",
   "execution_count": null,
   "source": [
    "traces_value1_ = traces_value1.merge(market_data, on = 'date', how = 'left')\r\n",
    "traces_value1_.close.fillna(3, inplace=True)\r\n",
    "\r\n",
    "plt.scatter(traces_value1_.std_call.replace(0, np.mean(traces_value1_.std_call)), traces_value1_.close.replace(0, np.mean(traces_value1_.close)), color = pal[0], s = .9) #[int(3e4):] #.replace(0, 3)\r\n",
    "# plt.xlim(xmin = 0, xmax = 2e21)\r\n",
    "# plt.yscale('log')\r\n",
    "# plt.xscale('log')"
   ],
   "outputs": [],
   "metadata": {}
  },
  {
   "cell_type": "code",
   "execution_count": null,
   "source": [
    "fig, ax1 = plt.subplots()\r\n",
    "\r\n",
    "ax1.plot(traces_value1.date, traces_value1.avg_call, color = pal[0], linewidth = .2)\r\n",
    "ax1.set_ylabel('Avg transferred amount, USD (log scale)', color = pal[0])\r\n",
    "ax1.set_yscale('log')\r\n",
    "\r\n",
    "ax2 = ax1.twinx()\r\n",
    "ax2.plot(traces_value1.date, traces_value1.std_call, color = pal[1], linewidth = .2)\r\n",
    "ax2.set_ylabel('Std transferred amount, USD', color = pal[1])\r\n",
    "ax2.grid(False)"
   ],
   "outputs": [],
   "metadata": {}
  },
  {
   "cell_type": "markdown",
   "source": [
    "## New addresses"
   ],
   "metadata": {}
  },
  {
   "cell_type": "code",
   "execution_count": 389,
   "source": [
    "new_addresses.columns"
   ],
   "outputs": [
    {
     "output_type": "execute_result",
     "data": {
      "text/plain": [
       "Index(['date', 'new_addresses', 'new_erc20', 'new_erc721',\n",
       "       'new_other_contract'],\n",
       "      dtype='object')"
      ]
     },
     "metadata": {},
     "execution_count": 389
    }
   ],
   "metadata": {}
  },
  {
   "cell_type": "code",
   "execution_count": null,
   "source": [
    "traces_value1_ = traces_value1.merge(market_data, on = 'date', how = 'left')\r\n",
    "traces_value1_.close.fillna(3, inplace=True)\r\n",
    "\r\n",
    "plt.scatter(traces_value1_.std_call.replace(0, np.mean(traces_value1_.std_call)), traces_value1_.close.replace(0, np.mean(traces_value1_.close)), color = pal[0], s = .9) #[int(3e4):] #.replace(0, 3)\r\n",
    "# plt.xlim(xmin = 0, xmax = 2e21)\r\n",
    "# plt.yscale('log')\r\n",
    "# plt.xscale('log')"
   ],
   "outputs": [],
   "metadata": {}
  },
  {
   "cell_type": "code",
   "execution_count": 125,
   "source": [
    "# plt.plot(new_addresses.date, new_addresses.new_addresses, color = pal[0], linewidth = .2)"
   ],
   "outputs": [],
   "metadata": {}
  },
  {
   "cell_type": "code",
   "execution_count": null,
   "source": [
    "fig, ax1 = plt.subplots()\r\n",
    "\r\n",
    "ax1.plot(new_addresses.date, new_addresses.new_addresses, color = pal[0], linewidth = .2)\r\n",
    "ax1.set_ylabel('Avg transferred amount, USD (log scale)', color = pal[0])\r\n",
    "ax1.set_yscale('log')\r\n",
    "\r\n",
    "ax2 = ax1.twinx()\r\n",
    "ax2.plot(new_addresses.date, new_addresses.new_addresses, color = pal[1], linewidth = .2)\r\n",
    "ax2.set_ylabel('Std transferred amount, USD', color = pal[1])\r\n",
    "ax2.grid(False)"
   ],
   "outputs": [],
   "metadata": {}
  },
  {
   "cell_type": "markdown",
   "source": [
    "## Addresses count, Gini coefficient and USD profit/loss quantiles"
   ],
   "metadata": {}
  },
  {
   "cell_type": "code",
   "execution_count": 179,
   "source": [
    "%%bigquery features --project fiery-rarity-322109\r\n",
    "\r\n",
    "select date, address_count, gini, avg_balance_usd, stddev_balance_usd\r\n",
    "from `fiery-rarity-322109.ethereum.features`\r\n",
    "order by date"
   ],
   "outputs": [
    {
     "output_type": "stream",
     "name": "stderr",
     "text": [
      "Query complete after 0.00s: 100%|██████████| 1/1 [00:00<00:00, 334.18query/s] \n",
      "Downloading: 100%|██████████| 52609/52609 [00:03<00:00, 14189.46rows/s]\n"
     ]
    }
   ],
   "metadata": {}
  },
  {
   "cell_type": "markdown",
   "source": [
    "Many of the crypto-assets are stored in exchanges and don’t correspond to individual holders. This biases the Gini coefficient toward accumulation.\r\n",
    "Gini is known to be sensitive to including small balances in the analysis and is usually done on large addresses only. Removing small balances, as we did here, biases the Gini coefficient toward distribution.\r\n",
    "In our analysis all addresses are treated as individual holders. In reality, multiple addresses can belong to the same individual. This can bias the Gini either toward accumulation or distribution."
   ],
   "metadata": {}
  },
  {
   "cell_type": "code",
   "execution_count": 126,
   "source": [
    "%%bigquery gini --project fiery-rarity-322109\r\n",
    "\r\n",
    "with \r\n",
    "double_entry_book as (\r\n",
    "    -- debits\r\n",
    "    select to_address as address, value as value, block_timestamp\r\n",
    "    from `fiery-rarity-322109.ethereum.traces_new`\r\n",
    "    where to_address is not null\r\n",
    "    union all\r\n",
    "    -- credits\r\n",
    "    select from_address as address, -value as value, block_timestamp\r\n",
    "    from `fiery-rarity-322109.ethereum.traces_new`\r\n",
    "    where from_address is not null\r\n",
    "    union all\r\n",
    "    -- transaction fees debits\r\n",
    "    select miner as address\r\n",
    "    , sum(cast(receipt_gas_used as numeric) * cast(gas_price as numeric)) as value\r\n",
    "    , block_timestamp\r\n",
    "    from `bigquery-public-data.crypto_ethereum.transactions` t1\r\n",
    "    left join `fiery-rarity-322109.ethereum.eth_usd_min` t2 on DATETIME_TRUNC(t1.block_timestamp, MINUTE) = TIMESTAMP_SECONDS(t2.time)\r\n",
    "    join `bigquery-public-data.crypto_ethereum.blocks` as blocks on blocks.number = t1.block_number\r\n",
    "    where date(t1.block_timestamp) <= '2021-07-30'\r\n",
    "    group by blocks.miner, block_timestamp\r\n",
    "    union all\r\n",
    "    -- transaction fees credits\r\n",
    "    select from_address as address\r\n",
    "    , -(cast(receipt_gas_used as numeric) * cast(gas_price as numeric)) as value\r\n",
    "    , block_timestamp\r\n",
    "    from `bigquery-public-data.crypto_ethereum.transactions` t1\r\n",
    "    left join `fiery-rarity-322109.ethereum.eth_usd_min` t2 on DATETIME_TRUNC(t1.block_timestamp, MINUTE) = TIMESTAMP_SECONDS(t2.time)\r\n",
    "    where date(block_timestamp) <= '2021-07-30'\r\n",
    ")\r\n",
    ",double_entry_book_by_date as (\r\n",
    "    select \r\n",
    "        date(block_timestamp) as date, \r\n",
    "        address, \r\n",
    "        sum(value / POWER(10,0)) as value\r\n",
    "    from double_entry_book\r\n",
    "    group by address, date\r\n",
    ")\r\n",
    ",daily_balances_with_gaps as (\r\n",
    "    select \r\n",
    "        address, \r\n",
    "        date,\r\n",
    "        sum(value) over (partition by address order by date) as balance,\r\n",
    "        lead(date, 1, '2021-07-30') over (partition by address order by date) as next_date\r\n",
    "        from double_entry_book_by_date\r\n",
    ")\r\n",
    ",calendar as (\r\n",
    "    select date from unnest(generate_date_array('2015-07-30', '2021-07-30')) as date\r\n",
    ")\r\n",
    ",daily_balances as (\r\n",
    "    select address, calendar.date, balance\r\n",
    "    from daily_balances_with_gaps\r\n",
    "    join calendar on daily_balances_with_gaps.date <= calendar.date and calendar.date < daily_balances_with_gaps.next_date\r\n",
    ")\r\n",
    ",supply as (\r\n",
    "    select\r\n",
    "        date,\r\n",
    "        sum(balance) as daily_supply\r\n",
    "    from daily_balances\r\n",
    "    group by date\r\n",
    ")\r\n",
    ",ranked_daily_balances as (\r\n",
    "    select \r\n",
    "        daily_balances.date,\r\n",
    "        balance,\r\n",
    "        row_number() over (partition by daily_balances.date order by balance desc) as rank\r\n",
    "    from daily_balances\r\n",
    "    join supply on daily_balances.date = supply.date\r\n",
    "    where safe_divide(balance, daily_supply) >= 0.0001\r\n",
    "    ORDER BY safe_divide(balance, daily_supply) DESC\r\n",
    ")\r\n",
    "\r\n",
    "select \r\n",
    "    date, \r\n",
    "    -- (1 − 2B) https://en.wikipedia.org/wiki/Gini_coefficient\r\n",
    "    1 - 2 * sum((balance * (rank - 1) + balance / 2)) / count(*) / sum(balance) as gini\r\n",
    "from ranked_daily_balances\r\n",
    "group by date\r\n",
    "order by date asc"
   ],
   "outputs": [
    {
     "output_type": "stream",
     "name": "stderr",
     "text": [
      "Query complete after 0.01s: 100%|██████████| 48/48 [00:00<00:00, 9631.93query/s] \n",
      "Downloading: 100%|██████████| 2192/2192 [00:03<00:00, 679.76rows/s]\n"
     ]
    }
   ],
   "metadata": {}
  },
  {
   "cell_type": "code",
   "execution_count": 137,
   "source": [
    "import datetime\r\n",
    "\r\n",
    "gini = gini[gini['date'] >= datetime.date(2017,1,1)].copy()"
   ],
   "outputs": [],
   "metadata": {}
  },
  {
   "cell_type": "code",
   "execution_count": null,
   "source": [
    "fig, ax1 = plt.subplots(2, 1, figsize=(8, 8))\r\n",
    "\r\n",
    "ax1[0].plot(gini.date, gini.gini, color = pal[0], linewidth = .8)\r\n",
    "ax1[0].set_ylabel('Gini coefficient')\r\n",
    "\r\n",
    "gini_ = gini.merge(market_data1, on = 'date', how = 'left')\r\n",
    "\r\n",
    "ax1[1].scatter(gini_.close, gini_.gini, color = pal[0], s = .8)\r\n",
    "ax1[1].set_xlabel('Price, USD')\r\n",
    "ax1[1].set_ylabel('Gini coefficient')\r\n",
    "ax1[1].set_xscale('log')\r\n",
    "# ax1[1].set_yscale('log')\r\n",
    "\r\n",
    "# plt.tight_layout()\r\n",
    "# plt.show()\r\n",
    "\r\n",
    "plt.savefig(\"charts/gini.pdf\")"
   ],
   "outputs": [],
   "metadata": {}
  },
  {
   "cell_type": "code",
   "execution_count": null,
   "source": [
    "plt.plot(gini.date, gini.gini, color = pal[0], linewidth = .5) #, marker = '.', s = .2\r\n",
    "plt.ylabel('Gini coefficient')\r\n",
    "plt.show()"
   ],
   "outputs": [],
   "metadata": {}
  },
  {
   "cell_type": "code",
   "execution_count": null,
   "source": [
    "plt.plot(features.date[:-1], features.address_count[:-1], color = pal[0], linewidth = .5)\r\n",
    "plt.ylabel('Addresses with >= 0.01% of supply')\r\n",
    "plt.ticklabel_format(axis = \"y\", style = \"sci\", scilimits = (0,0))\r\n",
    "plt.show()"
   ],
   "outputs": [],
   "metadata": {}
  },
  {
   "cell_type": "code",
   "execution_count": null,
   "source": [
    "features_ = features.merge(market_data, on = 'date', how = 'left')\r\n",
    "features_.close.fillna(3, inplace=True)"
   ],
   "outputs": [],
   "metadata": {}
  },
  {
   "cell_type": "code",
   "execution_count": null,
   "source": [
    "plt.plot(features_.date, features_.avg_balance_usd / features_.close, color = pal[0], linewidth = .5)\r\n",
    "plt.ticklabel_format(axis = \"y\", style = \"sci\", scilimits = (0,0))\r\n",
    "plt.ylabel('Avg USD balance / price')\r\n",
    "plt.show()"
   ],
   "outputs": [],
   "metadata": {}
  },
  {
   "cell_type": "code",
   "execution_count": 254,
   "source": [
    "features_.columns"
   ],
   "outputs": [
    {
     "output_type": "execute_result",
     "data": {
      "text/plain": [
       "Index(['date', 'address_count', 'gini', 'avg_balance_usd',\n",
       "       'stddev_balance_usd', 'close', 'high', 'low', 'volume'],\n",
       "      dtype='object')"
      ]
     },
     "metadata": {},
     "execution_count": 254
    }
   ],
   "metadata": {}
  },
  {
   "cell_type": "code",
   "execution_count": 288,
   "source": [
    "features_['return'] = np.log(features_.close / features_.close.shift(1))"
   ],
   "outputs": [],
   "metadata": {}
  },
  {
   "cell_type": "code",
   "execution_count": 1,
   "source": [
    "plt.scatter(features_.gini, features_['return'], s = .2)"
   ],
   "outputs": [],
   "metadata": {}
  },
  {
   "cell_type": "code",
   "execution_count": null,
   "source": [
    "plt.scatter(features_.gini, features_.close, color = pal[0], s = .2) #[int(3e4):]\r\n",
    "plt.xlim(xmax = .67)\r\n",
    "# plt.yscale('log')\r\n",
    "# plt.xscale('log')"
   ],
   "outputs": [],
   "metadata": {}
  },
  {
   "cell_type": "code",
   "execution_count": null,
   "source": [
    "plt.scatter(features_.address_count, features_.close, color = pal[0], s = .2) #[int(3e4):]\r\n",
    "plt.xlim(xmin = 900, xmax = 1200)\r\n",
    "# plt.yscale('log')\r\n",
    "# plt.xscale('log')"
   ],
   "outputs": [],
   "metadata": {}
  },
  {
   "cell_type": "code",
   "execution_count": null,
   "source": [
    "plt.plot(features_.date, features_.stddev_balance_usd / features_.close, color = pal[0], linewidth = .5) # \r\n",
    "plt.ticklabel_format(axis = \"y\", style = \"sci\", scilimits = (0,0))\r\n",
    "plt.ylabel('Profit/Loss, USD')\r\n",
    "plt.show()"
   ],
   "outputs": [],
   "metadata": {}
  },
  {
   "cell_type": "markdown",
   "source": [
    "## Fees"
   ],
   "metadata": {}
  },
  {
   "cell_type": "code",
   "execution_count": 117,
   "source": [
    "%%bigquery fee1 --project fiery-rarity-322109\r\n",
    "\r\n",
    "SELECT date(block_timestamp) as date #TIMESTAMP_TRUNC(block_timestamp, HOUR)\r\n",
    "#, sum(cast(receipt_gas_used as numeric) * cast(gas_price as numeric) / 1e18) as sum_fee_usd # * close\r\n",
    ", avg(cast(receipt_gas_used as numeric) * cast(gas_price as numeric) / 1e18) as avg_fee_usd # / 1e18 * close\r\n",
    "FROM `bigquery-public-data.crypto_ethereum.transactions` t1\r\n",
    "left join `fiery-rarity-322109.ethereum.eth_usd_min` t2 on DATETIME_TRUNC(t1.block_timestamp, MINUTE) = TIMESTAMP_SECONDS(t2.time)\r\n",
    "where date(block_timestamp) between '2017-01-01' and '2021-07-30'\r\n",
    "group by date\r\n",
    "order by date"
   ],
   "outputs": [
    {
     "output_type": "stream",
     "name": "stderr",
     "text": [
      "Query complete after 0.01s: 100%|██████████| 5/5 [00:00<00:00, 501.40query/s]\n",
      "Downloading: 100%|██████████| 1672/1672 [00:02<00:00, 758.23rows/s]\n"
     ]
    }
   ],
   "metadata": {}
  },
  {
   "cell_type": "code",
   "execution_count": 2,
   "source": [
    "fig, ax1 = plt.subplots(2, 1, figsize=(8, 8))\r\n",
    "\r\n",
    "ax1[0].plot(fee1.date, fee1.avg_fee_usd, color = pal[0], linewidth = .5)\r\n",
    "ax1[0].set_ylabel('Avg. Gas fees, ETH')\r\n",
    "\r\n",
    "# ax2 = ax1[0].twinx()\r\n",
    "# ax2.plot(fee.date, fee.avg_fee_usd, color = pal[0], linewidth = .5)\r\n",
    "# ax2.set_ylabel('Avg fees, USD (log scale)', color = pal[0])\r\n",
    "# ax2.set_yscale('log')\r\n",
    "# ax2.grid(False)\r\n",
    "\r\n",
    "fee_ = fee1.merge(market_data1, on = 'date', how = 'left')\r\n",
    "\r\n",
    "ax1[1].scatter(fee_.close, fee_.avg_fee_usd, color = pal[0], s = .5)\r\n",
    "ax1[1].set_xlabel('Price, USD')\r\n",
    "ax1[1].set_ylabel('Avg. Gas fees, ETH')\r\n",
    "# ax1[1].set_xscale('log')\r\n",
    "ax1[1].set_yscale('log')\r\n",
    "\r\n",
    "# plt.tight_layout()\r\n",
    "# plt.show()\r\n",
    "\r\n",
    "plt.savefig(\"charts/avg_gas_fees.pdf\")"
   ],
   "outputs": [],
   "metadata": {}
  },
  {
   "cell_type": "markdown",
   "source": [
    "## Degree distribution"
   ],
   "metadata": {}
  },
  {
   "cell_type": "code",
   "execution_count": 83,
   "source": [
    "# %%bigquery degree_distribution --project fiery-rarity-322109\r\n",
    "\r\n",
    "# with outdegree as (\r\n",
    "#     SELECT from_address address, count(*) outdegree FROM `fiery-rarity-322109.ethereum.traces_new`\r\n",
    "#     WHERE DATE(block_timestamp) = \"2021-07-30\"\r\n",
    "#     GROUP BY address\r\n",
    "# )\r\n",
    "# , indegree as (\r\n",
    "#     SELECT to_address address, count(*) indegree FROM `fiery-rarity-322109.ethereum.traces_new`\r\n",
    "#     WHERE DATE(block_timestamp) = \"2021-07-30\"\r\n",
    "#     GROUP BY address\r\n",
    "# )\r\n",
    "# select ifnull(t1.address, t2.address) address, ifnull(indegree, 0) indegree, ifnull(outdegree, 0) outdegree\r\n",
    "# from outdegree t1\r\n",
    "# left outer join indegree t2 using (address)"
   ],
   "outputs": [
    {
     "output_type": "stream",
     "name": "stderr",
     "text": [
      "Query complete after 0.00s: 100%|██████████| 6/6 [00:00<00:00, 1504.05query/s]\n",
      "Downloading: 100%|██████████| 276298/276298 [00:06<00:00, 39947.73rows/s]\n"
     ]
    }
   ],
   "metadata": {}
  },
  {
   "cell_type": "code",
   "execution_count": 35,
   "source": [
    "%%bigquery indegree --project fiery-rarity-322109\r\n",
    "\r\n",
    "select indegree, count(*) frequency\r\n",
    "from (\r\n",
    "    SELECT to_address address, count(*) indegree FROM `fiery-rarity-322109.ethereum.traces_new`\r\n",
    "    WHERE DATE(block_timestamp) = \"2021-07-30\"\r\n",
    "    GROUP BY address\r\n",
    ")\r\n",
    "group by indegree"
   ],
   "outputs": [
    {
     "output_type": "stream",
     "name": "stderr",
     "text": [
      "Query complete after 0.00s: 100%|██████████| 3/3 [00:00<00:00, 1504.05query/s]\n",
      "Downloading: 100%|██████████| 316/316 [00:02<00:00, 115.00rows/s]\n"
     ]
    }
   ],
   "metadata": {}
  },
  {
   "cell_type": "code",
   "execution_count": 36,
   "source": [
    "%%bigquery outdegree --project fiery-rarity-322109\r\n",
    "\r\n",
    "select outdegree, count(*) frequency\r\n",
    "from (\r\n",
    "    SELECT from_address address, count(*) outdegree FROM `fiery-rarity-322109.ethereum.traces_new`\r\n",
    "    WHERE DATE(block_timestamp) = \"2021-07-30\"\r\n",
    "    GROUP BY address\r\n",
    ")\r\n",
    "group by outdegree"
   ],
   "outputs": [
    {
     "output_type": "stream",
     "name": "stderr",
     "text": [
      "Query complete after 0.00s: 100%|██████████| 3/3 [00:00<00:00, 1503.51query/s]\n",
      "Downloading: 100%|██████████| 336/336 [00:02<00:00, 122.51rows/s]\n"
     ]
    }
   ],
   "metadata": {}
  },
  {
   "cell_type": "code",
   "execution_count": null,
   "source": [
    "fig, ax = plt.subplots(1, 2, figsize=(10, 4)) #\r\n",
    "\r\n",
    "ax[0].scatter(indegree.indegree, indegree.frequency, color = pal[0], marker = '.')\r\n",
    "ax[0].set_ylabel('Frequency')\r\n",
    "ax[0].set_xlabel('inDegree')\r\n",
    "ax[0].set_yscale('log')\r\n",
    "ax[0].set_xscale('log')\r\n",
    "\r\n",
    "ax[1].scatter(outdegree.outdegree, outdegree.frequency, color = pal[0], marker = '.')\r\n",
    "ax[1].set_ylabel('Frequency')\r\n",
    "ax[1].set_xlabel('outDegree')\r\n",
    "ax[1].set_yscale('log')\r\n",
    "ax[1].set_xscale('log')\r\n",
    "\r\n",
    "plt.tight_layout()\r\n",
    "# plt.show()\r\n",
    "\r\n",
    "plt.savefig(\"charts/degrees_power_law.pdf\")"
   ],
   "outputs": [],
   "metadata": {}
  },
  {
   "cell_type": "code",
   "execution_count": 77,
   "source": [
    "%%bigquery degree1 --project fiery-rarity-322109\r\n",
    "\r\n",
    "with outdegree_ as (\r\n",
    "    SELECT date(block_timestamp) as date --TIMESTAMP_TRUNC(block_timestamp, HOUR)\r\n",
    "    , from_address as address\r\n",
    "    , count(*) as outdegree\r\n",
    "    FROM `fiery-rarity-322109.ethereum.traces_new`\r\n",
    "    where date(block_timestamp) between '2017-01-01' and '2021-07-30'\r\n",
    "    GROUP BY date, address\r\n",
    ")\r\n",
    ", indegree_ as (\r\n",
    "    SELECT date(block_timestamp) as date --TIMESTAMP_TRUNC(block_timestamp, HOUR)\r\n",
    "    , to_address as address\r\n",
    "    , count(*) as indegree\r\n",
    "    FROM `fiery-rarity-322109.ethereum.traces_new`\r\n",
    "    where date(block_timestamp) between '2017-01-01' and '2021-07-30'\r\n",
    "    GROUP BY date, address\r\n",
    ")\r\n",
    "select ifnull(t1.date, t2.date) as date\r\n",
    ", avg(ifnull(outdegree,0)) as avg_outdegree\r\n",
    ", avg(ifnull(indegree,0)) as avg_indegree\r\n",
    ", stddev(ifnull(outdegree,0)) as stddev_outdegree\r\n",
    ", stddev(ifnull(indegree,0)) as stddev_indegree\r\n",
    "from outdegree_ t1\r\n",
    "full outer join indegree_ t2 using (address, date)\r\n",
    "group by date\r\n",
    "order by date"
   ],
   "outputs": [
    {
     "output_type": "stream",
     "name": "stderr",
     "text": [
      "Query complete after 0.01s: 100%|██████████| 1/1 [00:00<00:00, 83.56query/s] \n",
      "Downloading: 100%|██████████| 1672/1672 [00:03<00:00, 453.98rows/s]\n"
     ]
    }
   ],
   "metadata": {}
  },
  {
   "cell_type": "code",
   "execution_count": 53,
   "source": [
    "%%bigquery market_data1 --project fiery-rarity-322109\r\n",
    "\r\n",
    "SELECT  DATE(TIMESTAMP_SECONDS(time)) as date, close, high, low, volumeto as volume\r\n",
    "FROM `fiery-rarity-322109.ethereum.eth_usd_min`\r\n",
    "where TIMESTAMP_SECONDS(time) = TIMESTAMP_TRUNC(TIMESTAMP_SECONDS(time), DAY) and DATE(TIMESTAMP_SECONDS(time)) <= '2021-07-30'\r\n",
    "order by date"
   ],
   "outputs": [
    {
     "output_type": "stream",
     "name": "stderr",
     "text": [
      "Query complete after 0.01s: 100%|██████████| 2/2 [00:00<00:00, 286.43query/s]\n",
      "Downloading: 100%|██████████| 2184/2184 [00:02<00:00, 767.71rows/s]\n"
     ]
    }
   ],
   "metadata": {}
  },
  {
   "cell_type": "code",
   "execution_count": null,
   "source": [
    "fig, ax1 = plt.subplots(2, 1, figsize=(8, 8))\r\n",
    "\r\n",
    "ax1[0].plot(degree1.date, degree1.avg_indegree, color = pal[0], linewidth = .5)\r\n",
    "ax1[0].set_ylabel('Avg. degree')\r\n",
    "# ax1[0].set_yscale('log')\r\n",
    "\r\n",
    "degree_ = degree1.merge(market_data1, on = 'date', how = 'left')\r\n",
    "\r\n",
    "ax1[1].scatter(degree_.close, degree_.avg_indegree, color = pal[0], s = .5)\r\n",
    "ax1[1].set_xlabel('Price, USD')\r\n",
    "ax1[1].set_ylabel('Avg. degree')\r\n",
    "# ax1[1].set_yscale('log')\r\n",
    "ax1[1].set_xscale('log')\r\n",
    "\r\n",
    "# plt.tight_layout()\r\n",
    "# plt.show()\r\n",
    "\r\n",
    "plt.savefig(\"charts/avg_degree.pdf\")"
   ],
   "outputs": [],
   "metadata": {}
  },
  {
   "cell_type": "code",
   "execution_count": null,
   "source": [
    "fig, ax1 = plt.subplots(2, 1, figsize=(8, 8))\r\n",
    "\r\n",
    "ax1[0].plot(degree1.date, degree1.stddev_indegree, color = pal[0], linewidth = .5)\r\n",
    "ax1[0].set_ylabel('Std. indegree')\r\n",
    "# ax1[0].set_yscale('log')\r\n",
    "\r\n",
    "degree_ = degree1.merge(market_data1, on = 'date', how = 'left')\r\n",
    "\r\n",
    "ax1[1].scatter(degree_.close, degree_.stddev_indegree, color = pal[0], s = .5)\r\n",
    "ax1[1].set_xlabel('Price, USD')\r\n",
    "ax1[1].set_ylabel('Std. indegree')\r\n",
    "# ax1[1].set_yscale('log')\r\n",
    "# ax1[1].set_xscale('log')\r\n",
    "\r\n",
    "# plt.tight_layout()\r\n",
    "# plt.show()\r\n",
    "\r\n",
    "plt.savefig(\"charts/std_indegree.pdf\")"
   ],
   "outputs": [],
   "metadata": {}
  },
  {
   "cell_type": "code",
   "execution_count": null,
   "source": [
    "fig, ax1 = plt.subplots(2, 1, figsize=(8, 8))\r\n",
    "\r\n",
    "ax1[0].plot(degree1.date, degree1.stddev_outdegree, color = pal[0], linewidth = .5)\r\n",
    "ax1[0].set_ylabel('Std. outdegree')\r\n",
    "# ax1[0].set_yscale('log')\r\n",
    "\r\n",
    "degree_ = degree1.merge(market_data1, on = 'date', how = 'left')\r\n",
    "\r\n",
    "ax1[1].scatter(degree_.close, degree_.stddev_outdegree, color = pal[0], s = .5)\r\n",
    "ax1[1].set_xlabel('Price, USD')\r\n",
    "ax1[1].set_ylabel('Std. outdegree')\r\n",
    "# ax1[1].set_yscale('log')\r\n",
    "# ax1[1].set_xscale('log')\r\n",
    "\r\n",
    "# plt.tight_layout()\r\n",
    "# plt.show()\r\n",
    "\r\n",
    "plt.savefig(\"charts/std_outdegree.pdf\")"
   ],
   "outputs": [],
   "metadata": {}
  },
  {
   "cell_type": "markdown",
   "source": [
    "## Addresses classification"
   ],
   "metadata": {}
  },
  {
   "cell_type": "code",
   "execution_count": 5,
   "source": [
    "%%bigquery address_clustering --project fiery-rarity-322109\r\n",
    "\r\n",
    "--with address_rank as (\r\n",
    "--    SELECT t1.*\r\n",
    "--    , ROW_NUMBER() OVER(PARTITION BY t1.date_month ORDER BY t1.avg_balance DESC) AS rank\r\n",
    "--    FROM `fiery-rarity-322109.ethereum.address_classification` t1\r\n",
    "--)\r\n",
    "--select * from address_rank where rank <= 300\r\n",
    "\r\n",
    "select * from `fiery-rarity-322109.ethereum.address_classification` where rank <= 1000"
   ],
   "outputs": [
    {
     "output_type": "stream",
     "name": "stderr",
     "text": [
      "Query complete after 0.00s: 100%|██████████| 1/1 [00:00<00:00, 501.77query/s] \n",
      "Downloading: 100%|██████████| 72000/72000 [00:06<00:00, 10817.73rows/s]\n"
     ]
    }
   ],
   "metadata": {}
  },
  {
   "cell_type": "code",
   "execution_count": 11,
   "source": [
    "print(address_clustering.shape, len(set(address_clustering.address)))\r\n",
    "address_clustering.head(3)\r\n",
    "\r\n",
    "# print('remove 0x0000000000000000000000000000000000000000!')"
   ],
   "outputs": [
    {
     "output_type": "stream",
     "name": "stdout",
     "text": [
      "(72000, 20) 26564\n"
     ]
    },
    {
     "output_type": "execute_result",
     "data": {
      "text/plain": [
       "                                      address  date_month  \\\n",
       "0  0xb794f5ea0ba39494ce839613fffba74279579268  2016-06-01   \n",
       "1  0xd24400ae8bfebb18ca49be86258a3c749cf46853  2016-06-01   \n",
       "2  0x91337a300e0361bddb2e377dd4e88ccb7796663d  2016-06-01   \n",
       "\n",
       "   avg_count_trace_address_to  avg_count_trace_contract_to  \\\n",
       "0                    1.000000                     0.000000   \n",
       "1                    9.827586                     3.068966   \n",
       "2                   69.566667                     2.033333   \n",
       "\n",
       "   avg_count_address_to  avg_count_contract_to  avg_sum_value_address_to  \\\n",
       "0              1.000000               0.000000              1.113647e+06   \n",
       "1              8.310345               0.482759              5.189872e+04   \n",
       "2             56.833333               1.366667              1.194132e+05   \n",
       "\n",
       "   avg_sum_value_contract_to  avg_count_token_address_to  nr_days_to  \\\n",
       "0                   0.000000                         0.0           9   \n",
       "1              489987.700748                         0.0          29   \n",
       "2               11700.497787                         0.0          30   \n",
       "\n",
       "   avg_count_trace_address_from  avg_count_trace_contract_from  \\\n",
       "0                      0.000000                       0.000000   \n",
       "1                     44.896552                       0.103448   \n",
       "2                   1347.566667                       0.000000   \n",
       "\n",
       "   avg_count_address_from  avg_count_contract_from  \\\n",
       "0                0.000000                 0.000000   \n",
       "1               16.965517                 0.034483   \n",
       "2              741.233333                 0.000000   \n",
       "\n",
       "   avg_sum_value_address_from  avg_sum_value_contract_from  \\\n",
       "0                    0.000000                      0.00000   \n",
       "1               208957.199816                     43.64632   \n",
       "2               248791.512677                      0.00000   \n",
       "\n",
       "   avg_count_token_address_from  nr_days_from   avg_balance  rank  \n",
       "0                           0.0             0  7.582778e+24     1  \n",
       "1                           0.0            29  4.152094e+23     2  \n",
       "2                           0.0            30  3.429605e+23     3  "
      ],
      "text/html": [
       "<div>\n",
       "<style scoped>\n",
       "    .dataframe tbody tr th:only-of-type {\n",
       "        vertical-align: middle;\n",
       "    }\n",
       "\n",
       "    .dataframe tbody tr th {\n",
       "        vertical-align: top;\n",
       "    }\n",
       "\n",
       "    .dataframe thead th {\n",
       "        text-align: right;\n",
       "    }\n",
       "</style>\n",
       "<table border=\"1\" class=\"dataframe\">\n",
       "  <thead>\n",
       "    <tr style=\"text-align: right;\">\n",
       "      <th></th>\n",
       "      <th>address</th>\n",
       "      <th>date_month</th>\n",
       "      <th>avg_count_trace_address_to</th>\n",
       "      <th>avg_count_trace_contract_to</th>\n",
       "      <th>avg_count_address_to</th>\n",
       "      <th>avg_count_contract_to</th>\n",
       "      <th>avg_sum_value_address_to</th>\n",
       "      <th>avg_sum_value_contract_to</th>\n",
       "      <th>avg_count_token_address_to</th>\n",
       "      <th>nr_days_to</th>\n",
       "      <th>avg_count_trace_address_from</th>\n",
       "      <th>avg_count_trace_contract_from</th>\n",
       "      <th>avg_count_address_from</th>\n",
       "      <th>avg_count_contract_from</th>\n",
       "      <th>avg_sum_value_address_from</th>\n",
       "      <th>avg_sum_value_contract_from</th>\n",
       "      <th>avg_count_token_address_from</th>\n",
       "      <th>nr_days_from</th>\n",
       "      <th>avg_balance</th>\n",
       "      <th>rank</th>\n",
       "    </tr>\n",
       "  </thead>\n",
       "  <tbody>\n",
       "    <tr>\n",
       "      <th>0</th>\n",
       "      <td>0xb794f5ea0ba39494ce839613fffba74279579268</td>\n",
       "      <td>2016-06-01</td>\n",
       "      <td>1.000000</td>\n",
       "      <td>0.000000</td>\n",
       "      <td>1.000000</td>\n",
       "      <td>0.000000</td>\n",
       "      <td>1.113647e+06</td>\n",
       "      <td>0.000000</td>\n",
       "      <td>0.0</td>\n",
       "      <td>9</td>\n",
       "      <td>0.000000</td>\n",
       "      <td>0.000000</td>\n",
       "      <td>0.000000</td>\n",
       "      <td>0.000000</td>\n",
       "      <td>0.000000</td>\n",
       "      <td>0.00000</td>\n",
       "      <td>0.0</td>\n",
       "      <td>0</td>\n",
       "      <td>7.582778e+24</td>\n",
       "      <td>1</td>\n",
       "    </tr>\n",
       "    <tr>\n",
       "      <th>1</th>\n",
       "      <td>0xd24400ae8bfebb18ca49be86258a3c749cf46853</td>\n",
       "      <td>2016-06-01</td>\n",
       "      <td>9.827586</td>\n",
       "      <td>3.068966</td>\n",
       "      <td>8.310345</td>\n",
       "      <td>0.482759</td>\n",
       "      <td>5.189872e+04</td>\n",
       "      <td>489987.700748</td>\n",
       "      <td>0.0</td>\n",
       "      <td>29</td>\n",
       "      <td>44.896552</td>\n",
       "      <td>0.103448</td>\n",
       "      <td>16.965517</td>\n",
       "      <td>0.034483</td>\n",
       "      <td>208957.199816</td>\n",
       "      <td>43.64632</td>\n",
       "      <td>0.0</td>\n",
       "      <td>29</td>\n",
       "      <td>4.152094e+23</td>\n",
       "      <td>2</td>\n",
       "    </tr>\n",
       "    <tr>\n",
       "      <th>2</th>\n",
       "      <td>0x91337a300e0361bddb2e377dd4e88ccb7796663d</td>\n",
       "      <td>2016-06-01</td>\n",
       "      <td>69.566667</td>\n",
       "      <td>2.033333</td>\n",
       "      <td>56.833333</td>\n",
       "      <td>1.366667</td>\n",
       "      <td>1.194132e+05</td>\n",
       "      <td>11700.497787</td>\n",
       "      <td>0.0</td>\n",
       "      <td>30</td>\n",
       "      <td>1347.566667</td>\n",
       "      <td>0.000000</td>\n",
       "      <td>741.233333</td>\n",
       "      <td>0.000000</td>\n",
       "      <td>248791.512677</td>\n",
       "      <td>0.00000</td>\n",
       "      <td>0.0</td>\n",
       "      <td>30</td>\n",
       "      <td>3.429605e+23</td>\n",
       "      <td>3</td>\n",
       "    </tr>\n",
       "  </tbody>\n",
       "</table>\n",
       "</div>"
      ]
     },
     "metadata": {},
     "execution_count": 11
    }
   ],
   "metadata": {}
  },
  {
   "cell_type": "code",
   "execution_count": 64,
   "source": [
    "import datetime\r\n",
    "\r\n",
    "# address_clustering = address_clustering[address_clustering['rank'] <= 300]\r\n",
    "\r\n",
    "# df = address_clustering.loc[address_clustering.date_month == datetime.date(2021,6,1)\r\n",
    "#                             , address_clustering.columns.isin(['date_month', 'avg_count_trace_contract_to', 'avg_sum_value_address_to', 'avg_balance'])]\r\n",
    "df = address_clustering.loc[address_clustering.date_month == datetime.date(2018,1,1) , ~address_clustering.columns.isin(['date_month', 'address', 'rank'])] #, 'nr_days_to', 'nr_days_from'\r\n",
    "df.head() #"
   ],
   "outputs": [
    {
     "output_type": "execute_result",
     "data": {
      "text/plain": [
       "       avg_count_trace_address_to  avg_count_trace_contract_to  \\\n",
       "51000                    0.000000                     1.000000   \n",
       "51001                    1.789474                     0.000000   \n",
       "51002                    2.000000                     0.000000   \n",
       "51003                53316.290323                  1463.677419   \n",
       "51004                    1.000000                     0.000000   \n",
       "\n",
       "       avg_count_address_to  avg_count_contract_to  avg_sum_value_address_to  \\\n",
       "51000              0.000000               1.000000              0.000000e+00   \n",
       "51001              1.000000               0.000000              3.865601e+07   \n",
       "51002              1.500000               0.000000              1.181813e+08   \n",
       "51003          10081.935484             247.290323              3.701762e+08   \n",
       "51004              1.000000               0.000000              1.929200e+07   \n",
       "\n",
       "       avg_sum_value_contract_to  avg_count_token_address_to  nr_days_to  \\\n",
       "51000               7.848802e+07                    0.000000           6   \n",
       "51001               0.000000e+00                    0.000000          19   \n",
       "51002               0.000000e+00                    0.000000           2   \n",
       "51003               1.628978e+07                   46.225806          31   \n",
       "51004               0.000000e+00                    0.000000           1   \n",
       "\n",
       "       avg_count_trace_address_from  avg_count_trace_contract_from  \\\n",
       "51000                      0.000000                       0.000000   \n",
       "51001                     11.769231                       0.000000   \n",
       "51002                      0.000000                       0.000000   \n",
       "51003                      2.225806                   17879.967742   \n",
       "51004                      0.000000                       0.000000   \n",
       "\n",
       "       avg_count_address_from  avg_count_contract_from  \\\n",
       "51000                0.000000                 0.000000   \n",
       "51001                1.076923                 0.000000   \n",
       "51002                0.000000                 0.000000   \n",
       "51003                2.129032              5785.709677   \n",
       "51004                0.000000                 0.000000   \n",
       "\n",
       "       avg_sum_value_address_from  avg_sum_value_contract_from  \\\n",
       "51000                0.000000e+00                 0.000000e+00   \n",
       "51001                4.351990e+07                 0.000000e+00   \n",
       "51002                0.000000e+00                 0.000000e+00   \n",
       "51003                3.544462e+03                 1.326698e+08   \n",
       "51004                0.000000e+00                 0.000000e+00   \n",
       "\n",
       "       avg_count_token_address_from  nr_days_from   avg_balance  \n",
       "51000                      0.000000             0  2.112500e+24  \n",
       "51001                      0.692308            13  1.182650e+24  \n",
       "51002                      0.000000             0  1.004859e+24  \n",
       "51003                     38.580645            31  7.397658e+23  \n",
       "51004                      0.000000             0  6.000001e+23  "
      ],
      "text/html": [
       "<div>\n",
       "<style scoped>\n",
       "    .dataframe tbody tr th:only-of-type {\n",
       "        vertical-align: middle;\n",
       "    }\n",
       "\n",
       "    .dataframe tbody tr th {\n",
       "        vertical-align: top;\n",
       "    }\n",
       "\n",
       "    .dataframe thead th {\n",
       "        text-align: right;\n",
       "    }\n",
       "</style>\n",
       "<table border=\"1\" class=\"dataframe\">\n",
       "  <thead>\n",
       "    <tr style=\"text-align: right;\">\n",
       "      <th></th>\n",
       "      <th>avg_count_trace_address_to</th>\n",
       "      <th>avg_count_trace_contract_to</th>\n",
       "      <th>avg_count_address_to</th>\n",
       "      <th>avg_count_contract_to</th>\n",
       "      <th>avg_sum_value_address_to</th>\n",
       "      <th>avg_sum_value_contract_to</th>\n",
       "      <th>avg_count_token_address_to</th>\n",
       "      <th>nr_days_to</th>\n",
       "      <th>avg_count_trace_address_from</th>\n",
       "      <th>avg_count_trace_contract_from</th>\n",
       "      <th>avg_count_address_from</th>\n",
       "      <th>avg_count_contract_from</th>\n",
       "      <th>avg_sum_value_address_from</th>\n",
       "      <th>avg_sum_value_contract_from</th>\n",
       "      <th>avg_count_token_address_from</th>\n",
       "      <th>nr_days_from</th>\n",
       "      <th>avg_balance</th>\n",
       "    </tr>\n",
       "  </thead>\n",
       "  <tbody>\n",
       "    <tr>\n",
       "      <th>51000</th>\n",
       "      <td>0.000000</td>\n",
       "      <td>1.000000</td>\n",
       "      <td>0.000000</td>\n",
       "      <td>1.000000</td>\n",
       "      <td>0.000000e+00</td>\n",
       "      <td>7.848802e+07</td>\n",
       "      <td>0.000000</td>\n",
       "      <td>6</td>\n",
       "      <td>0.000000</td>\n",
       "      <td>0.000000</td>\n",
       "      <td>0.000000</td>\n",
       "      <td>0.000000</td>\n",
       "      <td>0.000000e+00</td>\n",
       "      <td>0.000000e+00</td>\n",
       "      <td>0.000000</td>\n",
       "      <td>0</td>\n",
       "      <td>2.112500e+24</td>\n",
       "    </tr>\n",
       "    <tr>\n",
       "      <th>51001</th>\n",
       "      <td>1.789474</td>\n",
       "      <td>0.000000</td>\n",
       "      <td>1.000000</td>\n",
       "      <td>0.000000</td>\n",
       "      <td>3.865601e+07</td>\n",
       "      <td>0.000000e+00</td>\n",
       "      <td>0.000000</td>\n",
       "      <td>19</td>\n",
       "      <td>11.769231</td>\n",
       "      <td>0.000000</td>\n",
       "      <td>1.076923</td>\n",
       "      <td>0.000000</td>\n",
       "      <td>4.351990e+07</td>\n",
       "      <td>0.000000e+00</td>\n",
       "      <td>0.692308</td>\n",
       "      <td>13</td>\n",
       "      <td>1.182650e+24</td>\n",
       "    </tr>\n",
       "    <tr>\n",
       "      <th>51002</th>\n",
       "      <td>2.000000</td>\n",
       "      <td>0.000000</td>\n",
       "      <td>1.500000</td>\n",
       "      <td>0.000000</td>\n",
       "      <td>1.181813e+08</td>\n",
       "      <td>0.000000e+00</td>\n",
       "      <td>0.000000</td>\n",
       "      <td>2</td>\n",
       "      <td>0.000000</td>\n",
       "      <td>0.000000</td>\n",
       "      <td>0.000000</td>\n",
       "      <td>0.000000</td>\n",
       "      <td>0.000000e+00</td>\n",
       "      <td>0.000000e+00</td>\n",
       "      <td>0.000000</td>\n",
       "      <td>0</td>\n",
       "      <td>1.004859e+24</td>\n",
       "    </tr>\n",
       "    <tr>\n",
       "      <th>51003</th>\n",
       "      <td>53316.290323</td>\n",
       "      <td>1463.677419</td>\n",
       "      <td>10081.935484</td>\n",
       "      <td>247.290323</td>\n",
       "      <td>3.701762e+08</td>\n",
       "      <td>1.628978e+07</td>\n",
       "      <td>46.225806</td>\n",
       "      <td>31</td>\n",
       "      <td>2.225806</td>\n",
       "      <td>17879.967742</td>\n",
       "      <td>2.129032</td>\n",
       "      <td>5785.709677</td>\n",
       "      <td>3.544462e+03</td>\n",
       "      <td>1.326698e+08</td>\n",
       "      <td>38.580645</td>\n",
       "      <td>31</td>\n",
       "      <td>7.397658e+23</td>\n",
       "    </tr>\n",
       "    <tr>\n",
       "      <th>51004</th>\n",
       "      <td>1.000000</td>\n",
       "      <td>0.000000</td>\n",
       "      <td>1.000000</td>\n",
       "      <td>0.000000</td>\n",
       "      <td>1.929200e+07</td>\n",
       "      <td>0.000000e+00</td>\n",
       "      <td>0.000000</td>\n",
       "      <td>1</td>\n",
       "      <td>0.000000</td>\n",
       "      <td>0.000000</td>\n",
       "      <td>0.000000</td>\n",
       "      <td>0.000000</td>\n",
       "      <td>0.000000e+00</td>\n",
       "      <td>0.000000e+00</td>\n",
       "      <td>0.000000</td>\n",
       "      <td>0</td>\n",
       "      <td>6.000001e+23</td>\n",
       "    </tr>\n",
       "  </tbody>\n",
       "</table>\n",
       "</div>"
      ]
     },
     "metadata": {},
     "execution_count": 64
    }
   ],
   "metadata": {}
  },
  {
   "cell_type": "code",
   "execution_count": 29,
   "source": [
    "# pip install plotly"
   ],
   "outputs": [
    {
     "output_type": "stream",
     "name": "stdout",
     "text": [
      "Collecting plotly\n",
      "  Downloading plotly-5.1.0-py2.py3-none-any.whl (20.6 MB)\n",
      "Collecting tenacity>=6.2.0\n",
      "  Downloading tenacity-8.0.1-py3-none-any.whl (24 kB)\n",
      "Requirement already satisfied: six in c:\\users\\francesco\\.conda\\envs\\pytorch_venv\\lib\\site-packages (from plotly) (1.15.0)\n",
      "Installing collected packages: tenacity, plotly\n",
      "Successfully installed plotly-5.1.0 tenacity-8.0.1\n",
      "Note: you may need to restart the kernel to use updated packages.\n"
     ]
    }
   ],
   "metadata": {}
  },
  {
   "cell_type": "code",
   "execution_count": null,
   "source": [
    "from mpl_toolkits.mplot3d import Axes3D\r\n",
    "import seaborn as sns\r\n",
    "import plotly.offline as pyo\r\n",
    "pyo.init_notebook_mode()\r\n",
    "import plotly.graph_objs as go\r\n",
    "from plotly import tools\r\n",
    "from plotly.subplots import make_subplots\r\n",
    "import plotly.offline as py\r\n",
    "import plotly.express as px\r\n",
    "from sklearn.cluster import KMeans\r\n",
    "from sklearn.preprocessing import StandardScaler\r\n",
    "from sklearn.decomposition import PCA\r\n",
    "from sklearn.manifold import TSNE\r\n",
    "from sklearn.metrics import silhouette_score\r\n",
    "\r\n",
    "\r\n",
    "scaler = StandardScaler()\r\n",
    "scaler.fit(df)\r\n",
    "X_scale = scaler.transform(df)\r\n",
    "df_scale = pd.DataFrame(X_scale, columns=df.columns)\r\n",
    "df_scale.head()\r\n",
    "\r\n",
    "\r\n",
    "tsne = TSNE(n_components=3, verbose=1, perplexity=80, n_iter=5000, learning_rate=200)\r\n",
    "tsne_scale_results = tsne.fit_transform(df_scale)\r\n",
    "tsne_df_scale = pd.DataFrame(tsne_scale_results, columns=['tsne1', 'tsne2', 'tsne3'])\r\n",
    "plt.figure(figsize = (10,10))\r\n",
    "plt.scatter(tsne_df_scale.iloc[:,0],tsne_df_scale.iloc[:,1],alpha=0.25, facecolor='lightslategray')\r\n",
    "plt.xlabel('tsne1')\r\n",
    "plt.ylabel('tsne2')\r\n",
    "plt.show()"
   ],
   "outputs": [],
   "metadata": {}
  },
  {
   "cell_type": "code",
   "execution_count": 66,
   "source": [
    "sse = []\r\n",
    "k_list = range(1, 15)\r\n",
    "for k in k_list:\r\n",
    "    km = KMeans(n_clusters=k)\r\n",
    "    km.fit(tsne_df_scale)\r\n",
    "    sse.append([k, km.inertia_])\r\n",
    "    \r\n",
    "tsne_results_scale = pd.DataFrame({'Cluster': k_list, 'SSE': sse})\r\n",
    "plt.figure(figsize=(12,6))\r\n",
    "plt.plot(pd.DataFrame(sse)[0], pd.DataFrame(sse)[1], marker='o')\r\n",
    "plt.title('Optimal Number of Clusters using Elbow Method (tSNE_Scaled Data)')\r\n",
    "plt.xlabel('Number of clusters')\r\n",
    "plt.ylabel('Inertia')"
   ],
   "outputs": [
    {
     "output_type": "execute_result",
     "data": {
      "text/plain": [
       "Text(0, 0.5, 'Inertia')"
      ]
     },
     "metadata": {},
     "execution_count": 66
    },
    {
     "output_type": "display_data",
     "data": {
      "text/plain": [
       "<Figure size 864x432 with 1 Axes>"
      ],
      "image/svg+xml": "<?xml version=\"1.0\" encoding=\"utf-8\" standalone=\"no\"?>\r\n<!DOCTYPE svg PUBLIC \"-//W3C//DTD SVG 1.1//EN\"\r\n  \"http://www.w3.org/Graphics/SVG/1.1/DTD/svg11.dtd\">\r\n<!-- Created with matplotlib (https://matplotlib.org/) -->\r\n<svg height=\"389.837344pt\" version=\"1.1\" viewBox=\"0 0 739.059531 389.837344\" width=\"739.059531pt\" xmlns=\"http://www.w3.org/2000/svg\" xmlns:xlink=\"http://www.w3.org/1999/xlink\">\r\n <metadata>\r\n  <rdf:RDF xmlns:cc=\"http://creativecommons.org/ns#\" xmlns:dc=\"http://purl.org/dc/elements/1.1/\" xmlns:rdf=\"http://www.w3.org/1999/02/22-rdf-syntax-ns#\">\r\n   <cc:Work>\r\n    <dc:type rdf:resource=\"http://purl.org/dc/dcmitype/StillImage\"/>\r\n    <dc:date>2021-08-13T12:47:46.569652</dc:date>\r\n    <dc:format>image/svg+xml</dc:format>\r\n    <dc:creator>\r\n     <cc:Agent>\r\n      <dc:title>Matplotlib v3.3.4, https://matplotlib.org/</dc:title>\r\n     </cc:Agent>\r\n    </dc:creator>\r\n   </cc:Work>\r\n  </rdf:RDF>\r\n </metadata>\r\n <defs>\r\n  <style type=\"text/css\">*{stroke-linecap:butt;stroke-linejoin:round;}</style>\r\n </defs>\r\n <g id=\"figure_1\">\r\n  <g id=\"patch_1\">\r\n   <path d=\"M 0 389.837344 \r\nL 739.059531 389.837344 \r\nL 739.059531 0 \r\nL 0 0 \r\nz\r\n\" style=\"fill:#ffffff;\"/>\r\n  </g>\r\n  <g id=\"axes_1\">\r\n   <g id=\"patch_2\">\r\n    <path d=\"M 62.259531 348.103125 \r\nL 731.859531 348.103125 \r\nL 731.859531 21.943125 \r\nL 62.259531 21.943125 \r\nz\r\n\" style=\"fill:#eaeaf2;\"/>\r\n   </g>\r\n   <g id=\"matplotlib.axis_1\">\r\n    <g id=\"xtick_1\">\r\n     <g id=\"line2d_1\">\r\n      <path clip-path=\"url(#pca36705ef7)\" d=\"M 139.52107 348.103125 \r\nL 139.52107 21.943125 \r\n\" style=\"fill:none;stroke:#ffffff;stroke-linecap:round;\"/>\r\n     </g>\r\n     <g id=\"text_1\">\r\n      <!-- 2 -->\r\n      <g style=\"fill:#262626;\" transform=\"translate(136.462554 365.476719)scale(0.11 -0.11)\">\r\n       <defs>\r\n        <path d=\"M 50.34375 8.453125 \r\nL 50.34375 0 \r\nL 3.03125 0 \r\nQ 2.9375 3.171875 4.046875 6.109375 \r\nQ 5.859375 10.9375 9.828125 15.625 \r\nQ 13.8125 20.3125 21.34375 26.46875 \r\nQ 33.015625 36.03125 37.109375 41.625 \r\nQ 41.21875 47.21875 41.21875 52.203125 \r\nQ 41.21875 57.421875 37.46875 61 \r\nQ 33.734375 64.59375 27.734375 64.59375 \r\nQ 21.390625 64.59375 17.578125 60.78125 \r\nQ 13.765625 56.984375 13.71875 50.25 \r\nL 4.6875 51.171875 \r\nQ 5.609375 61.28125 11.65625 66.578125 \r\nQ 17.71875 71.875 27.9375 71.875 \r\nQ 38.234375 71.875 44.234375 66.15625 \r\nQ 50.25 60.453125 50.25 52 \r\nQ 50.25 47.703125 48.484375 43.546875 \r\nQ 46.734375 39.40625 42.65625 34.8125 \r\nQ 38.578125 30.21875 29.109375 22.21875 \r\nQ 21.1875 15.578125 18.9375 13.203125 \r\nQ 16.703125 10.84375 15.234375 8.453125 \r\nz\r\n\" id=\"ArialMT-50\"/>\r\n       </defs>\r\n       <use xlink:href=\"#ArialMT-50\"/>\r\n      </g>\r\n     </g>\r\n    </g>\r\n    <g id=\"xtick_2\">\r\n     <g id=\"line2d_2\">\r\n      <path clip-path=\"url(#pca36705ef7)\" d=\"M 233.171419 348.103125 \r\nL 233.171419 21.943125 \r\n\" style=\"fill:none;stroke:#ffffff;stroke-linecap:round;\"/>\r\n     </g>\r\n     <g id=\"text_2\">\r\n      <!-- 4 -->\r\n      <g style=\"fill:#262626;\" transform=\"translate(230.112904 365.476719)scale(0.11 -0.11)\">\r\n       <defs>\r\n        <path d=\"M 32.328125 0 \r\nL 32.328125 17.140625 \r\nL 1.265625 17.140625 \r\nL 1.265625 25.203125 \r\nL 33.9375 71.578125 \r\nL 41.109375 71.578125 \r\nL 41.109375 25.203125 \r\nL 50.78125 25.203125 \r\nL 50.78125 17.140625 \r\nL 41.109375 17.140625 \r\nL 41.109375 0 \r\nz\r\nM 32.328125 25.203125 \r\nL 32.328125 57.46875 \r\nL 9.90625 25.203125 \r\nz\r\n\" id=\"ArialMT-52\"/>\r\n       </defs>\r\n       <use xlink:href=\"#ArialMT-52\"/>\r\n      </g>\r\n     </g>\r\n    </g>\r\n    <g id=\"xtick_3\">\r\n     <g id=\"line2d_3\">\r\n      <path clip-path=\"url(#pca36705ef7)\" d=\"M 326.821769 348.103125 \r\nL 326.821769 21.943125 \r\n\" style=\"fill:none;stroke:#ffffff;stroke-linecap:round;\"/>\r\n     </g>\r\n     <g id=\"text_3\">\r\n      <!-- 6 -->\r\n      <g style=\"fill:#262626;\" transform=\"translate(323.763253 365.476719)scale(0.11 -0.11)\">\r\n       <defs>\r\n        <path d=\"M 49.75 54.046875 \r\nL 41.015625 53.375 \r\nQ 39.84375 58.546875 37.703125 60.890625 \r\nQ 34.125 64.65625 28.90625 64.65625 \r\nQ 24.703125 64.65625 21.53125 62.3125 \r\nQ 17.390625 59.28125 14.984375 53.46875 \r\nQ 12.59375 47.65625 12.5 36.921875 \r\nQ 15.671875 41.75 20.265625 44.09375 \r\nQ 24.859375 46.4375 29.890625 46.4375 \r\nQ 38.671875 46.4375 44.84375 39.96875 \r\nQ 51.03125 33.5 51.03125 23.25 \r\nQ 51.03125 16.5 48.125 10.71875 \r\nQ 45.21875 4.9375 40.140625 1.859375 \r\nQ 35.0625 -1.21875 28.609375 -1.21875 \r\nQ 17.625 -1.21875 10.6875 6.859375 \r\nQ 3.765625 14.9375 3.765625 33.5 \r\nQ 3.765625 54.25 11.421875 63.671875 \r\nQ 18.109375 71.875 29.4375 71.875 \r\nQ 37.890625 71.875 43.28125 67.140625 \r\nQ 48.6875 62.40625 49.75 54.046875 \r\nz\r\nM 13.875 23.1875 \r\nQ 13.875 18.65625 15.796875 14.5 \r\nQ 17.71875 10.359375 21.1875 8.171875 \r\nQ 24.65625 6 28.46875 6 \r\nQ 34.03125 6 38.03125 10.484375 \r\nQ 42.046875 14.984375 42.046875 22.703125 \r\nQ 42.046875 30.125 38.078125 34.390625 \r\nQ 34.125 38.671875 28.125 38.671875 \r\nQ 22.171875 38.671875 18.015625 34.390625 \r\nQ 13.875 30.125 13.875 23.1875 \r\nz\r\n\" id=\"ArialMT-54\"/>\r\n       </defs>\r\n       <use xlink:href=\"#ArialMT-54\"/>\r\n      </g>\r\n     </g>\r\n    </g>\r\n    <g id=\"xtick_4\">\r\n     <g id=\"line2d_4\">\r\n      <path clip-path=\"url(#pca36705ef7)\" d=\"M 420.472119 348.103125 \r\nL 420.472119 21.943125 \r\n\" style=\"fill:none;stroke:#ffffff;stroke-linecap:round;\"/>\r\n     </g>\r\n     <g id=\"text_4\">\r\n      <!-- 8 -->\r\n      <g style=\"fill:#262626;\" transform=\"translate(417.413603 365.476719)scale(0.11 -0.11)\">\r\n       <defs>\r\n        <path d=\"M 17.671875 38.8125 \r\nQ 12.203125 40.828125 9.5625 44.53125 \r\nQ 6.9375 48.25 6.9375 53.421875 \r\nQ 6.9375 61.234375 12.546875 66.546875 \r\nQ 18.171875 71.875 27.484375 71.875 \r\nQ 36.859375 71.875 42.578125 66.421875 \r\nQ 48.296875 60.984375 48.296875 53.171875 \r\nQ 48.296875 48.1875 45.671875 44.5 \r\nQ 43.0625 40.828125 37.75 38.8125 \r\nQ 44.34375 36.671875 47.78125 31.875 \r\nQ 51.21875 27.09375 51.21875 20.453125 \r\nQ 51.21875 11.28125 44.71875 5.03125 \r\nQ 38.234375 -1.21875 27.640625 -1.21875 \r\nQ 17.046875 -1.21875 10.546875 5.046875 \r\nQ 4.046875 11.328125 4.046875 20.703125 \r\nQ 4.046875 27.6875 7.59375 32.390625 \r\nQ 11.140625 37.109375 17.671875 38.8125 \r\nz\r\nM 15.921875 53.71875 \r\nQ 15.921875 48.640625 19.1875 45.40625 \r\nQ 22.46875 42.1875 27.6875 42.1875 \r\nQ 32.765625 42.1875 36.015625 45.375 \r\nQ 39.265625 48.578125 39.265625 53.21875 \r\nQ 39.265625 58.0625 35.90625 61.359375 \r\nQ 32.5625 64.65625 27.59375 64.65625 \r\nQ 22.5625 64.65625 19.234375 61.421875 \r\nQ 15.921875 58.203125 15.921875 53.71875 \r\nz\r\nM 13.09375 20.65625 \r\nQ 13.09375 16.890625 14.875 13.375 \r\nQ 16.65625 9.859375 20.171875 7.921875 \r\nQ 23.6875 6 27.734375 6 \r\nQ 34.03125 6 38.125 10.046875 \r\nQ 42.234375 14.109375 42.234375 20.359375 \r\nQ 42.234375 26.703125 38.015625 30.859375 \r\nQ 33.796875 35.015625 27.4375 35.015625 \r\nQ 21.234375 35.015625 17.15625 30.90625 \r\nQ 13.09375 26.8125 13.09375 20.65625 \r\nz\r\n\" id=\"ArialMT-56\"/>\r\n       </defs>\r\n       <use xlink:href=\"#ArialMT-56\"/>\r\n      </g>\r\n     </g>\r\n    </g>\r\n    <g id=\"xtick_5\">\r\n     <g id=\"line2d_5\">\r\n      <path clip-path=\"url(#pca36705ef7)\" d=\"M 514.122468 348.103125 \r\nL 514.122468 21.943125 \r\n\" style=\"fill:none;stroke:#ffffff;stroke-linecap:round;\"/>\r\n     </g>\r\n     <g id=\"text_5\">\r\n      <!-- 10 -->\r\n      <g style=\"fill:#262626;\" transform=\"translate(508.005437 365.476719)scale(0.11 -0.11)\">\r\n       <defs>\r\n        <path d=\"M 37.25 0 \r\nL 28.46875 0 \r\nL 28.46875 56 \r\nQ 25.296875 52.984375 20.140625 49.953125 \r\nQ 14.984375 46.921875 10.890625 45.40625 \r\nL 10.890625 53.90625 \r\nQ 18.265625 57.375 23.78125 62.296875 \r\nQ 29.296875 67.234375 31.59375 71.875 \r\nL 37.25 71.875 \r\nz\r\n\" id=\"ArialMT-49\"/>\r\n        <path d=\"M 4.15625 35.296875 \r\nQ 4.15625 48 6.765625 55.734375 \r\nQ 9.375 63.484375 14.515625 67.671875 \r\nQ 19.671875 71.875 27.484375 71.875 \r\nQ 33.25 71.875 37.59375 69.546875 \r\nQ 41.9375 67.234375 44.765625 62.859375 \r\nQ 47.609375 58.5 49.21875 52.21875 \r\nQ 50.828125 45.953125 50.828125 35.296875 \r\nQ 50.828125 22.703125 48.234375 14.96875 \r\nQ 45.65625 7.234375 40.5 3 \r\nQ 35.359375 -1.21875 27.484375 -1.21875 \r\nQ 17.140625 -1.21875 11.234375 6.203125 \r\nQ 4.15625 15.140625 4.15625 35.296875 \r\nz\r\nM 13.1875 35.296875 \r\nQ 13.1875 17.671875 17.3125 11.828125 \r\nQ 21.4375 6 27.484375 6 \r\nQ 33.546875 6 37.671875 11.859375 \r\nQ 41.796875 17.71875 41.796875 35.296875 \r\nQ 41.796875 52.984375 37.671875 58.78125 \r\nQ 33.546875 64.59375 27.390625 64.59375 \r\nQ 21.34375 64.59375 17.71875 59.46875 \r\nQ 13.1875 52.9375 13.1875 35.296875 \r\nz\r\n\" id=\"ArialMT-48\"/>\r\n       </defs>\r\n       <use xlink:href=\"#ArialMT-49\"/>\r\n       <use x=\"55.615234\" xlink:href=\"#ArialMT-48\"/>\r\n      </g>\r\n     </g>\r\n    </g>\r\n    <g id=\"xtick_6\">\r\n     <g id=\"line2d_6\">\r\n      <path clip-path=\"url(#pca36705ef7)\" d=\"M 607.772818 348.103125 \r\nL 607.772818 21.943125 \r\n\" style=\"fill:none;stroke:#ffffff;stroke-linecap:round;\"/>\r\n     </g>\r\n     <g id=\"text_6\">\r\n      <!-- 12 -->\r\n      <g style=\"fill:#262626;\" transform=\"translate(601.655787 365.476719)scale(0.11 -0.11)\">\r\n       <use xlink:href=\"#ArialMT-49\"/>\r\n       <use x=\"55.615234\" xlink:href=\"#ArialMT-50\"/>\r\n      </g>\r\n     </g>\r\n    </g>\r\n    <g id=\"xtick_7\">\r\n     <g id=\"line2d_7\">\r\n      <path clip-path=\"url(#pca36705ef7)\" d=\"M 701.423168 348.103125 \r\nL 701.423168 21.943125 \r\n\" style=\"fill:none;stroke:#ffffff;stroke-linecap:round;\"/>\r\n     </g>\r\n     <g id=\"text_7\">\r\n      <!-- 14 -->\r\n      <g style=\"fill:#262626;\" transform=\"translate(695.306136 365.476719)scale(0.11 -0.11)\">\r\n       <use xlink:href=\"#ArialMT-49\"/>\r\n       <use x=\"55.615234\" xlink:href=\"#ArialMT-52\"/>\r\n      </g>\r\n     </g>\r\n    </g>\r\n    <g id=\"text_8\">\r\n     <!-- Number of clusters -->\r\n     <g style=\"fill:#262626;\" transform=\"translate(346.712969 380.252344)scale(0.12 -0.12)\">\r\n      <defs>\r\n       <path d=\"M 7.625 0 \r\nL 7.625 71.578125 \r\nL 17.328125 71.578125 \r\nL 54.9375 15.375 \r\nL 54.9375 71.578125 \r\nL 64.015625 71.578125 \r\nL 64.015625 0 \r\nL 54.296875 0 \r\nL 16.703125 56.25 \r\nL 16.703125 0 \r\nz\r\n\" id=\"ArialMT-78\"/>\r\n       <path d=\"M 40.578125 0 \r\nL 40.578125 7.625 \r\nQ 34.515625 -1.171875 24.125 -1.171875 \r\nQ 19.53125 -1.171875 15.546875 0.578125 \r\nQ 11.578125 2.34375 9.640625 5 \r\nQ 7.71875 7.671875 6.9375 11.53125 \r\nQ 6.390625 14.109375 6.390625 19.734375 \r\nL 6.390625 51.859375 \r\nL 15.1875 51.859375 \r\nL 15.1875 23.09375 \r\nQ 15.1875 16.21875 15.71875 13.8125 \r\nQ 16.546875 10.359375 19.234375 8.375 \r\nQ 21.921875 6.390625 25.875 6.390625 \r\nQ 29.828125 6.390625 33.296875 8.421875 \r\nQ 36.765625 10.453125 38.203125 13.9375 \r\nQ 39.65625 17.4375 39.65625 24.078125 \r\nL 39.65625 51.859375 \r\nL 48.4375 51.859375 \r\nL 48.4375 0 \r\nz\r\n\" id=\"ArialMT-117\"/>\r\n       <path d=\"M 6.59375 0 \r\nL 6.59375 51.859375 \r\nL 14.453125 51.859375 \r\nL 14.453125 44.578125 \r\nQ 16.890625 48.390625 20.9375 50.703125 \r\nQ 25 53.03125 30.171875 53.03125 \r\nQ 35.9375 53.03125 39.625 50.640625 \r\nQ 43.3125 48.25 44.828125 43.953125 \r\nQ 50.984375 53.03125 60.84375 53.03125 \r\nQ 68.5625 53.03125 72.703125 48.75 \r\nQ 76.859375 44.484375 76.859375 35.59375 \r\nL 76.859375 0 \r\nL 68.109375 0 \r\nL 68.109375 32.671875 \r\nQ 68.109375 37.9375 67.25 40.25 \r\nQ 66.40625 42.578125 64.15625 43.984375 \r\nQ 61.921875 45.40625 58.890625 45.40625 \r\nQ 53.421875 45.40625 49.796875 41.765625 \r\nQ 46.1875 38.140625 46.1875 30.125 \r\nL 46.1875 0 \r\nL 37.40625 0 \r\nL 37.40625 33.6875 \r\nQ 37.40625 39.546875 35.25 42.46875 \r\nQ 33.109375 45.40625 28.21875 45.40625 \r\nQ 24.515625 45.40625 21.359375 43.453125 \r\nQ 18.21875 41.5 16.796875 37.734375 \r\nQ 15.375 33.984375 15.375 26.90625 \r\nL 15.375 0 \r\nz\r\n\" id=\"ArialMT-109\"/>\r\n       <path d=\"M 14.703125 0 \r\nL 6.546875 0 \r\nL 6.546875 71.578125 \r\nL 15.328125 71.578125 \r\nL 15.328125 46.046875 \r\nQ 20.90625 53.03125 29.546875 53.03125 \r\nQ 34.328125 53.03125 38.59375 51.09375 \r\nQ 42.875 49.171875 45.625 45.671875 \r\nQ 48.390625 42.1875 49.953125 37.25 \r\nQ 51.515625 32.328125 51.515625 26.703125 \r\nQ 51.515625 13.375 44.921875 6.09375 \r\nQ 38.328125 -1.171875 29.109375 -1.171875 \r\nQ 19.921875 -1.171875 14.703125 6.5 \r\nz\r\nM 14.59375 26.3125 \r\nQ 14.59375 17 17.140625 12.84375 \r\nQ 21.296875 6.0625 28.375 6.0625 \r\nQ 34.125 6.0625 38.328125 11.0625 \r\nQ 42.53125 16.0625 42.53125 25.984375 \r\nQ 42.53125 36.140625 38.5 40.96875 \r\nQ 34.46875 45.796875 28.765625 45.796875 \r\nQ 23 45.796875 18.796875 40.796875 \r\nQ 14.59375 35.796875 14.59375 26.3125 \r\nz\r\n\" id=\"ArialMT-98\"/>\r\n       <path d=\"M 42.09375 16.703125 \r\nL 51.171875 15.578125 \r\nQ 49.03125 7.625 43.21875 3.21875 \r\nQ 37.40625 -1.171875 28.375 -1.171875 \r\nQ 17 -1.171875 10.328125 5.828125 \r\nQ 3.65625 12.84375 3.65625 25.484375 \r\nQ 3.65625 38.578125 10.390625 45.796875 \r\nQ 17.140625 53.03125 27.875 53.03125 \r\nQ 38.28125 53.03125 44.875 45.953125 \r\nQ 51.46875 38.875 51.46875 26.03125 \r\nQ 51.46875 25.25 51.421875 23.6875 \r\nL 12.75 23.6875 \r\nQ 13.234375 15.140625 17.578125 10.59375 \r\nQ 21.921875 6.0625 28.421875 6.0625 \r\nQ 33.25 6.0625 36.671875 8.59375 \r\nQ 40.09375 11.140625 42.09375 16.703125 \r\nz\r\nM 13.234375 30.90625 \r\nL 42.1875 30.90625 \r\nQ 41.609375 37.453125 38.875 40.71875 \r\nQ 34.671875 45.796875 27.984375 45.796875 \r\nQ 21.921875 45.796875 17.796875 41.75 \r\nQ 13.671875 37.703125 13.234375 30.90625 \r\nz\r\n\" id=\"ArialMT-101\"/>\r\n       <path d=\"M 6.5 0 \r\nL 6.5 51.859375 \r\nL 14.40625 51.859375 \r\nL 14.40625 44 \r\nQ 17.4375 49.515625 20 51.265625 \r\nQ 22.5625 53.03125 25.640625 53.03125 \r\nQ 30.078125 53.03125 34.671875 50.203125 \r\nL 31.640625 42.046875 \r\nQ 28.421875 43.953125 25.203125 43.953125 \r\nQ 22.3125 43.953125 20.015625 42.21875 \r\nQ 17.71875 40.484375 16.75 37.40625 \r\nQ 15.28125 32.71875 15.28125 27.15625 \r\nL 15.28125 0 \r\nz\r\n\" id=\"ArialMT-114\"/>\r\n       <path id=\"ArialMT-32\"/>\r\n       <path d=\"M 3.328125 25.921875 \r\nQ 3.328125 40.328125 11.328125 47.265625 \r\nQ 18.015625 53.03125 27.640625 53.03125 \r\nQ 38.328125 53.03125 45.109375 46.015625 \r\nQ 51.90625 39.015625 51.90625 26.65625 \r\nQ 51.90625 16.65625 48.90625 10.90625 \r\nQ 45.90625 5.171875 40.15625 2 \r\nQ 34.421875 -1.171875 27.640625 -1.171875 \r\nQ 16.75 -1.171875 10.03125 5.8125 \r\nQ 3.328125 12.796875 3.328125 25.921875 \r\nz\r\nM 12.359375 25.921875 \r\nQ 12.359375 15.96875 16.703125 11.015625 \r\nQ 21.046875 6.0625 27.640625 6.0625 \r\nQ 34.1875 6.0625 38.53125 11.03125 \r\nQ 42.875 16.015625 42.875 26.21875 \r\nQ 42.875 35.84375 38.5 40.796875 \r\nQ 34.125 45.75 27.640625 45.75 \r\nQ 21.046875 45.75 16.703125 40.8125 \r\nQ 12.359375 35.890625 12.359375 25.921875 \r\nz\r\n\" id=\"ArialMT-111\"/>\r\n       <path d=\"M 8.6875 0 \r\nL 8.6875 45.015625 \r\nL 0.921875 45.015625 \r\nL 0.921875 51.859375 \r\nL 8.6875 51.859375 \r\nL 8.6875 57.375 \r\nQ 8.6875 62.59375 9.625 65.140625 \r\nQ 10.890625 68.5625 14.078125 70.671875 \r\nQ 17.28125 72.796875 23.046875 72.796875 \r\nQ 26.765625 72.796875 31.25 71.921875 \r\nL 29.9375 64.265625 \r\nQ 27.203125 64.75 24.75 64.75 \r\nQ 20.75 64.75 19.09375 63.03125 \r\nQ 17.4375 61.328125 17.4375 56.640625 \r\nL 17.4375 51.859375 \r\nL 27.546875 51.859375 \r\nL 27.546875 45.015625 \r\nL 17.4375 45.015625 \r\nL 17.4375 0 \r\nz\r\n\" id=\"ArialMT-102\"/>\r\n       <path d=\"M 40.4375 19 \r\nL 49.078125 17.875 \r\nQ 47.65625 8.9375 41.8125 3.875 \r\nQ 35.984375 -1.171875 27.484375 -1.171875 \r\nQ 16.84375 -1.171875 10.375 5.78125 \r\nQ 3.90625 12.75 3.90625 25.734375 \r\nQ 3.90625 34.125 6.6875 40.421875 \r\nQ 9.46875 46.734375 15.15625 49.875 \r\nQ 20.84375 53.03125 27.546875 53.03125 \r\nQ 35.984375 53.03125 41.359375 48.75 \r\nQ 46.734375 44.484375 48.25 36.625 \r\nL 39.703125 35.296875 \r\nQ 38.484375 40.53125 35.375 43.15625 \r\nQ 32.28125 45.796875 27.875 45.796875 \r\nQ 21.234375 45.796875 17.078125 41.03125 \r\nQ 12.9375 36.28125 12.9375 25.984375 \r\nQ 12.9375 15.53125 16.9375 10.796875 \r\nQ 20.953125 6.0625 27.390625 6.0625 \r\nQ 32.5625 6.0625 36.03125 9.234375 \r\nQ 39.5 12.40625 40.4375 19 \r\nz\r\n\" id=\"ArialMT-99\"/>\r\n       <path d=\"M 6.390625 0 \r\nL 6.390625 71.578125 \r\nL 15.1875 71.578125 \r\nL 15.1875 0 \r\nz\r\n\" id=\"ArialMT-108\"/>\r\n       <path d=\"M 3.078125 15.484375 \r\nL 11.765625 16.84375 \r\nQ 12.5 11.625 15.84375 8.84375 \r\nQ 19.1875 6.0625 25.203125 6.0625 \r\nQ 31.25 6.0625 34.171875 8.515625 \r\nQ 37.109375 10.984375 37.109375 14.3125 \r\nQ 37.109375 17.28125 34.515625 19 \r\nQ 32.71875 20.171875 25.53125 21.96875 \r\nQ 15.875 24.421875 12.140625 26.203125 \r\nQ 8.40625 27.984375 6.46875 31.125 \r\nQ 4.546875 34.28125 4.546875 38.09375 \r\nQ 4.546875 41.546875 6.125 44.5 \r\nQ 7.71875 47.46875 10.453125 49.421875 \r\nQ 12.5 50.921875 16.03125 51.96875 \r\nQ 19.578125 53.03125 23.640625 53.03125 \r\nQ 29.734375 53.03125 34.34375 51.265625 \r\nQ 38.96875 49.515625 41.15625 46.5 \r\nQ 43.359375 43.5 44.1875 38.484375 \r\nL 35.59375 37.3125 \r\nQ 35.015625 41.3125 32.203125 43.546875 \r\nQ 29.390625 45.796875 24.265625 45.796875 \r\nQ 18.21875 45.796875 15.625 43.796875 \r\nQ 13.03125 41.796875 13.03125 39.109375 \r\nQ 13.03125 37.40625 14.109375 36.03125 \r\nQ 15.1875 34.625 17.484375 33.6875 \r\nQ 18.796875 33.203125 25.25 31.453125 \r\nQ 34.578125 28.953125 38.25 27.359375 \r\nQ 41.9375 25.78125 44.03125 22.75 \r\nQ 46.140625 19.734375 46.140625 15.234375 \r\nQ 46.140625 10.84375 43.578125 6.953125 \r\nQ 41.015625 3.078125 36.171875 0.953125 \r\nQ 31.34375 -1.171875 25.25 -1.171875 \r\nQ 15.140625 -1.171875 9.84375 3.03125 \r\nQ 4.546875 7.234375 3.078125 15.484375 \r\nz\r\n\" id=\"ArialMT-115\"/>\r\n       <path d=\"M 25.78125 7.859375 \r\nL 27.046875 0.09375 \r\nQ 23.34375 -0.6875 20.40625 -0.6875 \r\nQ 15.625 -0.6875 12.984375 0.828125 \r\nQ 10.359375 2.34375 9.28125 4.8125 \r\nQ 8.203125 7.28125 8.203125 15.1875 \r\nL 8.203125 45.015625 \r\nL 1.765625 45.015625 \r\nL 1.765625 51.859375 \r\nL 8.203125 51.859375 \r\nL 8.203125 64.703125 \r\nL 16.9375 69.96875 \r\nL 16.9375 51.859375 \r\nL 25.78125 51.859375 \r\nL 25.78125 45.015625 \r\nL 16.9375 45.015625 \r\nL 16.9375 14.703125 \r\nQ 16.9375 10.9375 17.40625 9.859375 \r\nQ 17.875 8.796875 18.921875 8.15625 \r\nQ 19.96875 7.515625 21.921875 7.515625 \r\nQ 23.390625 7.515625 25.78125 7.859375 \r\nz\r\n\" id=\"ArialMT-116\"/>\r\n      </defs>\r\n      <use xlink:href=\"#ArialMT-78\"/>\r\n      <use x=\"72.216797\" xlink:href=\"#ArialMT-117\"/>\r\n      <use x=\"127.832031\" xlink:href=\"#ArialMT-109\"/>\r\n      <use x=\"211.132812\" xlink:href=\"#ArialMT-98\"/>\r\n      <use x=\"266.748047\" xlink:href=\"#ArialMT-101\"/>\r\n      <use x=\"322.363281\" xlink:href=\"#ArialMT-114\"/>\r\n      <use x=\"355.664062\" xlink:href=\"#ArialMT-32\"/>\r\n      <use x=\"383.447266\" xlink:href=\"#ArialMT-111\"/>\r\n      <use x=\"439.0625\" xlink:href=\"#ArialMT-102\"/>\r\n      <use x=\"466.845703\" xlink:href=\"#ArialMT-32\"/>\r\n      <use x=\"494.628906\" xlink:href=\"#ArialMT-99\"/>\r\n      <use x=\"544.628906\" xlink:href=\"#ArialMT-108\"/>\r\n      <use x=\"566.845703\" xlink:href=\"#ArialMT-117\"/>\r\n      <use x=\"622.460938\" xlink:href=\"#ArialMT-115\"/>\r\n      <use x=\"672.460938\" xlink:href=\"#ArialMT-116\"/>\r\n      <use x=\"700.244141\" xlink:href=\"#ArialMT-101\"/>\r\n      <use x=\"755.859375\" xlink:href=\"#ArialMT-114\"/>\r\n      <use x=\"789.160156\" xlink:href=\"#ArialMT-115\"/>\r\n     </g>\r\n    </g>\r\n   </g>\r\n   <g id=\"matplotlib.axis_2\">\r\n    <g id=\"ytick_1\">\r\n     <g id=\"line2d_8\">\r\n      <path clip-path=\"url(#pca36705ef7)\" d=\"M 62.259531 302.065465 \r\nL 731.859531 302.065465 \r\n\" style=\"fill:none;stroke:#ffffff;stroke-linecap:round;\"/>\r\n     </g>\r\n     <g id=\"text_9\">\r\n      <!-- 10000 -->\r\n      <g style=\"fill:#262626;\" transform=\"translate(22.174375 306.002262)scale(0.11 -0.11)\">\r\n       <use xlink:href=\"#ArialMT-49\"/>\r\n       <use x=\"55.615234\" xlink:href=\"#ArialMT-48\"/>\r\n       <use x=\"111.230469\" xlink:href=\"#ArialMT-48\"/>\r\n       <use x=\"166.845703\" xlink:href=\"#ArialMT-48\"/>\r\n       <use x=\"222.460938\" xlink:href=\"#ArialMT-48\"/>\r\n      </g>\r\n     </g>\r\n    </g>\r\n    <g id=\"ytick_2\">\r\n     <g id=\"line2d_9\">\r\n      <path clip-path=\"url(#pca36705ef7)\" d=\"M 62.259531 253.173558 \r\nL 731.859531 253.173558 \r\n\" style=\"fill:none;stroke:#ffffff;stroke-linecap:round;\"/>\r\n     </g>\r\n     <g id=\"text_10\">\r\n      <!-- 20000 -->\r\n      <g style=\"fill:#262626;\" transform=\"translate(22.174375 257.110354)scale(0.11 -0.11)\">\r\n       <use xlink:href=\"#ArialMT-50\"/>\r\n       <use x=\"55.615234\" xlink:href=\"#ArialMT-48\"/>\r\n       <use x=\"111.230469\" xlink:href=\"#ArialMT-48\"/>\r\n       <use x=\"166.845703\" xlink:href=\"#ArialMT-48\"/>\r\n       <use x=\"222.460938\" xlink:href=\"#ArialMT-48\"/>\r\n      </g>\r\n     </g>\r\n    </g>\r\n    <g id=\"ytick_3\">\r\n     <g id=\"line2d_10\">\r\n      <path clip-path=\"url(#pca36705ef7)\" d=\"M 62.259531 204.28165 \r\nL 731.859531 204.28165 \r\n\" style=\"fill:none;stroke:#ffffff;stroke-linecap:round;\"/>\r\n     </g>\r\n     <g id=\"text_11\">\r\n      <!-- 30000 -->\r\n      <g style=\"fill:#262626;\" transform=\"translate(22.174375 208.218447)scale(0.11 -0.11)\">\r\n       <defs>\r\n        <path d=\"M 4.203125 18.890625 \r\nL 12.984375 20.0625 \r\nQ 14.5 12.59375 18.140625 9.296875 \r\nQ 21.78125 6 27 6 \r\nQ 33.203125 6 37.46875 10.296875 \r\nQ 41.75 14.59375 41.75 20.953125 \r\nQ 41.75 27 37.796875 30.921875 \r\nQ 33.84375 34.859375 27.734375 34.859375 \r\nQ 25.25 34.859375 21.53125 33.890625 \r\nL 22.515625 41.609375 \r\nQ 23.390625 41.5 23.921875 41.5 \r\nQ 29.546875 41.5 34.03125 44.421875 \r\nQ 38.53125 47.359375 38.53125 53.46875 \r\nQ 38.53125 58.296875 35.25 61.46875 \r\nQ 31.984375 64.65625 26.8125 64.65625 \r\nQ 21.6875 64.65625 18.265625 61.421875 \r\nQ 14.84375 58.203125 13.875 51.765625 \r\nL 5.078125 53.328125 \r\nQ 6.6875 62.15625 12.390625 67.015625 \r\nQ 18.109375 71.875 26.609375 71.875 \r\nQ 32.46875 71.875 37.390625 69.359375 \r\nQ 42.328125 66.84375 44.9375 62.5 \r\nQ 47.5625 58.15625 47.5625 53.265625 \r\nQ 47.5625 48.640625 45.0625 44.828125 \r\nQ 42.578125 41.015625 37.703125 38.765625 \r\nQ 44.046875 37.3125 47.5625 32.6875 \r\nQ 51.078125 28.078125 51.078125 21.140625 \r\nQ 51.078125 11.765625 44.234375 5.25 \r\nQ 37.40625 -1.265625 26.953125 -1.265625 \r\nQ 17.53125 -1.265625 11.296875 4.34375 \r\nQ 5.078125 9.96875 4.203125 18.890625 \r\nz\r\n\" id=\"ArialMT-51\"/>\r\n       </defs>\r\n       <use xlink:href=\"#ArialMT-51\"/>\r\n       <use x=\"55.615234\" xlink:href=\"#ArialMT-48\"/>\r\n       <use x=\"111.230469\" xlink:href=\"#ArialMT-48\"/>\r\n       <use x=\"166.845703\" xlink:href=\"#ArialMT-48\"/>\r\n       <use x=\"222.460938\" xlink:href=\"#ArialMT-48\"/>\r\n      </g>\r\n     </g>\r\n    </g>\r\n    <g id=\"ytick_4\">\r\n     <g id=\"line2d_11\">\r\n      <path clip-path=\"url(#pca36705ef7)\" d=\"M 62.259531 155.389743 \r\nL 731.859531 155.389743 \r\n\" style=\"fill:none;stroke:#ffffff;stroke-linecap:round;\"/>\r\n     </g>\r\n     <g id=\"text_12\">\r\n      <!-- 40000 -->\r\n      <g style=\"fill:#262626;\" transform=\"translate(22.174375 159.32654)scale(0.11 -0.11)\">\r\n       <use xlink:href=\"#ArialMT-52\"/>\r\n       <use x=\"55.615234\" xlink:href=\"#ArialMT-48\"/>\r\n       <use x=\"111.230469\" xlink:href=\"#ArialMT-48\"/>\r\n       <use x=\"166.845703\" xlink:href=\"#ArialMT-48\"/>\r\n       <use x=\"222.460938\" xlink:href=\"#ArialMT-48\"/>\r\n      </g>\r\n     </g>\r\n    </g>\r\n    <g id=\"ytick_5\">\r\n     <g id=\"line2d_12\">\r\n      <path clip-path=\"url(#pca36705ef7)\" d=\"M 62.259531 106.497836 \r\nL 731.859531 106.497836 \r\n\" style=\"fill:none;stroke:#ffffff;stroke-linecap:round;\"/>\r\n     </g>\r\n     <g id=\"text_13\">\r\n      <!-- 50000 -->\r\n      <g style=\"fill:#262626;\" transform=\"translate(22.174375 110.434633)scale(0.11 -0.11)\">\r\n       <defs>\r\n        <path d=\"M 4.15625 18.75 \r\nL 13.375 19.53125 \r\nQ 14.40625 12.796875 18.140625 9.390625 \r\nQ 21.875 6 27.15625 6 \r\nQ 33.5 6 37.890625 10.78125 \r\nQ 42.28125 15.578125 42.28125 23.484375 \r\nQ 42.28125 31 38.0625 35.34375 \r\nQ 33.84375 39.703125 27 39.703125 \r\nQ 22.75 39.703125 19.328125 37.765625 \r\nQ 15.921875 35.84375 13.96875 32.765625 \r\nL 5.71875 33.84375 \r\nL 12.640625 70.609375 \r\nL 48.25 70.609375 \r\nL 48.25 62.203125 \r\nL 19.671875 62.203125 \r\nL 15.828125 42.96875 \r\nQ 22.265625 47.46875 29.34375 47.46875 \r\nQ 38.71875 47.46875 45.15625 40.96875 \r\nQ 51.609375 34.46875 51.609375 24.265625 \r\nQ 51.609375 14.546875 45.953125 7.46875 \r\nQ 39.0625 -1.21875 27.15625 -1.21875 \r\nQ 17.390625 -1.21875 11.203125 4.25 \r\nQ 5.03125 9.71875 4.15625 18.75 \r\nz\r\n\" id=\"ArialMT-53\"/>\r\n       </defs>\r\n       <use xlink:href=\"#ArialMT-53\"/>\r\n       <use x=\"55.615234\" xlink:href=\"#ArialMT-48\"/>\r\n       <use x=\"111.230469\" xlink:href=\"#ArialMT-48\"/>\r\n       <use x=\"166.845703\" xlink:href=\"#ArialMT-48\"/>\r\n       <use x=\"222.460938\" xlink:href=\"#ArialMT-48\"/>\r\n      </g>\r\n     </g>\r\n    </g>\r\n    <g id=\"ytick_6\">\r\n     <g id=\"line2d_13\">\r\n      <path clip-path=\"url(#pca36705ef7)\" d=\"M 62.259531 57.605928 \r\nL 731.859531 57.605928 \r\n\" style=\"fill:none;stroke:#ffffff;stroke-linecap:round;\"/>\r\n     </g>\r\n     <g id=\"text_14\">\r\n      <!-- 60000 -->\r\n      <g style=\"fill:#262626;\" transform=\"translate(22.174375 61.542725)scale(0.11 -0.11)\">\r\n       <use xlink:href=\"#ArialMT-54\"/>\r\n       <use x=\"55.615234\" xlink:href=\"#ArialMT-48\"/>\r\n       <use x=\"111.230469\" xlink:href=\"#ArialMT-48\"/>\r\n       <use x=\"166.845703\" xlink:href=\"#ArialMT-48\"/>\r\n       <use x=\"222.460938\" xlink:href=\"#ArialMT-48\"/>\r\n      </g>\r\n     </g>\r\n    </g>\r\n    <g id=\"text_15\">\r\n     <!-- Inertia -->\r\n     <g style=\"fill:#262626;\" transform=\"translate(15.789375 201.6975)rotate(-90)scale(0.12 -0.12)\">\r\n      <defs>\r\n       <path d=\"M 9.328125 0 \r\nL 9.328125 71.578125 \r\nL 18.796875 71.578125 \r\nL 18.796875 0 \r\nz\r\n\" id=\"ArialMT-73\"/>\r\n       <path d=\"M 6.59375 0 \r\nL 6.59375 51.859375 \r\nL 14.5 51.859375 \r\nL 14.5 44.484375 \r\nQ 20.21875 53.03125 31 53.03125 \r\nQ 35.6875 53.03125 39.625 51.34375 \r\nQ 43.5625 49.65625 45.515625 46.921875 \r\nQ 47.46875 44.1875 48.25 40.4375 \r\nQ 48.734375 37.984375 48.734375 31.890625 \r\nL 48.734375 0 \r\nL 39.9375 0 \r\nL 39.9375 31.546875 \r\nQ 39.9375 36.921875 38.90625 39.578125 \r\nQ 37.890625 42.234375 35.28125 43.8125 \r\nQ 32.671875 45.40625 29.15625 45.40625 \r\nQ 23.53125 45.40625 19.453125 41.84375 \r\nQ 15.375 38.28125 15.375 28.328125 \r\nL 15.375 0 \r\nz\r\n\" id=\"ArialMT-110\"/>\r\n       <path d=\"M 6.640625 61.46875 \r\nL 6.640625 71.578125 \r\nL 15.4375 71.578125 \r\nL 15.4375 61.46875 \r\nz\r\nM 6.640625 0 \r\nL 6.640625 51.859375 \r\nL 15.4375 51.859375 \r\nL 15.4375 0 \r\nz\r\n\" id=\"ArialMT-105\"/>\r\n       <path d=\"M 40.4375 6.390625 \r\nQ 35.546875 2.25 31.03125 0.53125 \r\nQ 26.515625 -1.171875 21.34375 -1.171875 \r\nQ 12.796875 -1.171875 8.203125 3 \r\nQ 3.609375 7.171875 3.609375 13.671875 \r\nQ 3.609375 17.484375 5.34375 20.625 \r\nQ 7.078125 23.78125 9.890625 25.6875 \r\nQ 12.703125 27.59375 16.21875 28.5625 \r\nQ 18.796875 29.25 24.03125 29.890625 \r\nQ 34.671875 31.15625 39.703125 32.90625 \r\nQ 39.75 34.71875 39.75 35.203125 \r\nQ 39.75 40.578125 37.25 42.78125 \r\nQ 33.890625 45.75 27.25 45.75 \r\nQ 21.046875 45.75 18.09375 43.578125 \r\nQ 15.140625 41.40625 13.71875 35.890625 \r\nL 5.125 37.0625 \r\nQ 6.296875 42.578125 8.984375 45.96875 \r\nQ 11.671875 49.359375 16.75 51.1875 \r\nQ 21.828125 53.03125 28.515625 53.03125 \r\nQ 35.15625 53.03125 39.296875 51.46875 \r\nQ 43.453125 49.90625 45.40625 47.53125 \r\nQ 47.359375 45.171875 48.140625 41.546875 \r\nQ 48.578125 39.3125 48.578125 33.453125 \r\nL 48.578125 21.734375 \r\nQ 48.578125 9.46875 49.140625 6.21875 \r\nQ 49.703125 2.984375 51.375 0 \r\nL 42.1875 0 \r\nQ 40.828125 2.734375 40.4375 6.390625 \r\nz\r\nM 39.703125 26.03125 \r\nQ 34.90625 24.078125 25.34375 22.703125 \r\nQ 19.921875 21.921875 17.671875 20.9375 \r\nQ 15.4375 19.96875 14.203125 18.09375 \r\nQ 12.984375 16.21875 12.984375 13.921875 \r\nQ 12.984375 10.40625 15.640625 8.0625 \r\nQ 18.3125 5.71875 23.4375 5.71875 \r\nQ 28.515625 5.71875 32.46875 7.9375 \r\nQ 36.421875 10.15625 38.28125 14.015625 \r\nQ 39.703125 17 39.703125 22.796875 \r\nz\r\n\" id=\"ArialMT-97\"/>\r\n      </defs>\r\n      <use xlink:href=\"#ArialMT-73\"/>\r\n      <use x=\"27.783203\" xlink:href=\"#ArialMT-110\"/>\r\n      <use x=\"83.398438\" xlink:href=\"#ArialMT-101\"/>\r\n      <use x=\"139.013672\" xlink:href=\"#ArialMT-114\"/>\r\n      <use x=\"172.314453\" xlink:href=\"#ArialMT-116\"/>\r\n      <use x=\"200.097656\" xlink:href=\"#ArialMT-105\"/>\r\n      <use x=\"222.314453\" xlink:href=\"#ArialMT-97\"/>\r\n     </g>\r\n    </g>\r\n   </g>\r\n   <g id=\"line2d_14\">\r\n    <path clip-path=\"url(#pca36705ef7)\" d=\"M 92.695895 36.76858 \r\nL 139.52107 199.629518 \r\nL 186.346245 255.168863 \r\nL 233.171419 279.278064 \r\nL 279.996594 297.775138 \r\nL 326.821769 306.201563 \r\nL 373.646944 312.988277 \r\nL 420.472119 318.765078 \r\nL 467.297293 322.682939 \r\nL 514.122468 326.705921 \r\nL 560.947643 329.235252 \r\nL 607.772818 330.800482 \r\nL 654.597993 332.59488 \r\nL 701.423168 333.27767 \r\n\" style=\"fill:none;stroke:#4c72b0;stroke-linecap:round;stroke-width:1.5;\"/>\r\n    <defs>\r\n     <path d=\"M 0 3 \r\nC 0.795609 3 1.55874 2.683901 2.12132 2.12132 \r\nC 2.683901 1.55874 3 0.795609 3 0 \r\nC 3 -0.795609 2.683901 -1.55874 2.12132 -2.12132 \r\nC 1.55874 -2.683901 0.795609 -3 0 -3 \r\nC -0.795609 -3 -1.55874 -2.683901 -2.12132 -2.12132 \r\nC -2.683901 -1.55874 -3 -0.795609 -3 0 \r\nC -3 0.795609 -2.683901 1.55874 -2.12132 2.12132 \r\nC -1.55874 2.683901 -0.795609 3 0 3 \r\nz\r\n\" id=\"m74bff22e05\" style=\"stroke:#4c72b0;\"/>\r\n    </defs>\r\n    <g clip-path=\"url(#pca36705ef7)\">\r\n     <use style=\"fill:#4c72b0;stroke:#4c72b0;\" x=\"92.695895\" xlink:href=\"#m74bff22e05\" y=\"36.76858\"/>\r\n     <use style=\"fill:#4c72b0;stroke:#4c72b0;\" x=\"139.52107\" xlink:href=\"#m74bff22e05\" y=\"199.629518\"/>\r\n     <use style=\"fill:#4c72b0;stroke:#4c72b0;\" x=\"186.346245\" xlink:href=\"#m74bff22e05\" y=\"255.168863\"/>\r\n     <use style=\"fill:#4c72b0;stroke:#4c72b0;\" x=\"233.171419\" xlink:href=\"#m74bff22e05\" y=\"279.278064\"/>\r\n     <use style=\"fill:#4c72b0;stroke:#4c72b0;\" x=\"279.996594\" xlink:href=\"#m74bff22e05\" y=\"297.775138\"/>\r\n     <use style=\"fill:#4c72b0;stroke:#4c72b0;\" x=\"326.821769\" xlink:href=\"#m74bff22e05\" y=\"306.201563\"/>\r\n     <use style=\"fill:#4c72b0;stroke:#4c72b0;\" x=\"373.646944\" xlink:href=\"#m74bff22e05\" y=\"312.988277\"/>\r\n     <use style=\"fill:#4c72b0;stroke:#4c72b0;\" x=\"420.472119\" xlink:href=\"#m74bff22e05\" y=\"318.765078\"/>\r\n     <use style=\"fill:#4c72b0;stroke:#4c72b0;\" x=\"467.297293\" xlink:href=\"#m74bff22e05\" y=\"322.682939\"/>\r\n     <use style=\"fill:#4c72b0;stroke:#4c72b0;\" x=\"514.122468\" xlink:href=\"#m74bff22e05\" y=\"326.705921\"/>\r\n     <use style=\"fill:#4c72b0;stroke:#4c72b0;\" x=\"560.947643\" xlink:href=\"#m74bff22e05\" y=\"329.235252\"/>\r\n     <use style=\"fill:#4c72b0;stroke:#4c72b0;\" x=\"607.772818\" xlink:href=\"#m74bff22e05\" y=\"330.800482\"/>\r\n     <use style=\"fill:#4c72b0;stroke:#4c72b0;\" x=\"654.597993\" xlink:href=\"#m74bff22e05\" y=\"332.59488\"/>\r\n     <use style=\"fill:#4c72b0;stroke:#4c72b0;\" x=\"701.423168\" xlink:href=\"#m74bff22e05\" y=\"333.27767\"/>\r\n    </g>\r\n   </g>\r\n   <g id=\"patch_3\">\r\n    <path d=\"M 62.259531 348.103125 \r\nL 62.259531 21.943125 \r\n\" style=\"fill:none;stroke:#ffffff;stroke-linecap:square;stroke-linejoin:miter;stroke-width:1.25;\"/>\r\n   </g>\r\n   <g id=\"patch_4\">\r\n    <path d=\"M 731.859531 348.103125 \r\nL 731.859531 21.943125 \r\n\" style=\"fill:none;stroke:#ffffff;stroke-linecap:square;stroke-linejoin:miter;stroke-width:1.25;\"/>\r\n   </g>\r\n   <g id=\"patch_5\">\r\n    <path d=\"M 62.259531 348.103125 \r\nL 731.859531 348.103125 \r\n\" style=\"fill:none;stroke:#ffffff;stroke-linecap:square;stroke-linejoin:miter;stroke-width:1.25;\"/>\r\n   </g>\r\n   <g id=\"patch_6\">\r\n    <path d=\"M 62.259531 21.943125 \r\nL 731.859531 21.943125 \r\n\" style=\"fill:none;stroke:#ffffff;stroke-linecap:square;stroke-linejoin:miter;stroke-width:1.25;\"/>\r\n   </g>\r\n   <g id=\"text_16\">\r\n    <!-- Optimal Number of Clusters using Elbow Method (tSNE_Scaled Data) -->\r\n    <g style=\"fill:#262626;\" transform=\"translate(211.657656 15.943125)scale(0.12 -0.12)\">\r\n     <defs>\r\n      <path d=\"M 4.828125 34.859375 \r\nQ 4.828125 52.6875 14.390625 62.765625 \r\nQ 23.96875 72.859375 39.109375 72.859375 \r\nQ 49.03125 72.859375 56.984375 68.109375 \r\nQ 64.9375 63.375 69.109375 54.90625 \r\nQ 73.296875 46.4375 73.296875 35.6875 \r\nQ 73.296875 24.8125 68.890625 16.21875 \r\nQ 64.5 7.625 56.4375 3.203125 \r\nQ 48.390625 -1.21875 39.0625 -1.21875 \r\nQ 28.953125 -1.21875 20.984375 3.65625 \r\nQ 13.03125 8.546875 8.921875 16.984375 \r\nQ 4.828125 25.4375 4.828125 34.859375 \r\nz\r\nM 14.59375 34.71875 \r\nQ 14.59375 21.78125 21.546875 14.328125 \r\nQ 28.515625 6.890625 39.015625 6.890625 \r\nQ 49.703125 6.890625 56.609375 14.40625 \r\nQ 63.53125 21.921875 63.53125 35.75 \r\nQ 63.53125 44.484375 60.578125 51 \r\nQ 57.625 57.515625 51.921875 61.109375 \r\nQ 46.234375 64.703125 39.15625 64.703125 \r\nQ 29.109375 64.703125 21.84375 57.78125 \r\nQ 14.59375 50.875 14.59375 34.71875 \r\nz\r\n\" id=\"ArialMT-79\"/>\r\n      <path d=\"M 6.59375 -19.875 \r\nL 6.59375 51.859375 \r\nL 14.59375 51.859375 \r\nL 14.59375 45.125 \r\nQ 17.4375 49.078125 21 51.046875 \r\nQ 24.5625 53.03125 29.640625 53.03125 \r\nQ 36.28125 53.03125 41.359375 49.609375 \r\nQ 46.4375 46.1875 49.015625 39.953125 \r\nQ 51.609375 33.734375 51.609375 26.3125 \r\nQ 51.609375 18.359375 48.75 11.984375 \r\nQ 45.90625 5.609375 40.453125 2.21875 \r\nQ 35.015625 -1.171875 29 -1.171875 \r\nQ 24.609375 -1.171875 21.109375 0.6875 \r\nQ 17.625 2.546875 15.375 5.375 \r\nL 15.375 -19.875 \r\nz\r\nM 14.546875 25.640625 \r\nQ 14.546875 15.625 18.59375 10.84375 \r\nQ 22.65625 6.0625 28.421875 6.0625 \r\nQ 34.28125 6.0625 38.453125 11.015625 \r\nQ 42.625 15.96875 42.625 26.375 \r\nQ 42.625 36.28125 38.546875 41.203125 \r\nQ 34.46875 46.140625 28.8125 46.140625 \r\nQ 23.1875 46.140625 18.859375 40.890625 \r\nQ 14.546875 35.640625 14.546875 25.640625 \r\nz\r\n\" id=\"ArialMT-112\"/>\r\n      <path d=\"M 58.796875 25.09375 \r\nL 68.265625 22.703125 \r\nQ 65.28125 11.03125 57.546875 4.90625 \r\nQ 49.8125 -1.21875 38.625 -1.21875 \r\nQ 27.046875 -1.21875 19.796875 3.484375 \r\nQ 12.546875 8.203125 8.765625 17.140625 \r\nQ 4.984375 26.078125 4.984375 36.328125 \r\nQ 4.984375 47.515625 9.25 55.828125 \r\nQ 13.53125 64.15625 21.40625 68.46875 \r\nQ 29.296875 72.796875 38.765625 72.796875 \r\nQ 49.515625 72.796875 56.828125 67.328125 \r\nQ 64.15625 61.859375 67.046875 51.953125 \r\nL 57.71875 49.75 \r\nQ 55.21875 57.5625 50.484375 61.125 \r\nQ 45.75 64.703125 38.578125 64.703125 \r\nQ 30.328125 64.703125 24.78125 60.734375 \r\nQ 19.234375 56.78125 16.984375 50.109375 \r\nQ 14.75 43.453125 14.75 36.375 \r\nQ 14.75 27.25 17.40625 20.4375 \r\nQ 20.0625 13.625 25.671875 10.25 \r\nQ 31.296875 6.890625 37.84375 6.890625 \r\nQ 45.796875 6.890625 51.3125 11.46875 \r\nQ 56.84375 16.0625 58.796875 25.09375 \r\nz\r\n\" id=\"ArialMT-67\"/>\r\n      <path d=\"M 4.984375 -4.296875 \r\nL 13.53125 -5.5625 \r\nQ 14.0625 -9.515625 16.5 -11.328125 \r\nQ 19.78125 -13.765625 25.4375 -13.765625 \r\nQ 31.546875 -13.765625 34.859375 -11.328125 \r\nQ 38.1875 -8.890625 39.359375 -4.5 \r\nQ 40.046875 -1.8125 39.984375 6.78125 \r\nQ 34.234375 0 25.640625 0 \r\nQ 14.9375 0 9.078125 7.71875 \r\nQ 3.21875 15.4375 3.21875 26.21875 \r\nQ 3.21875 33.640625 5.90625 39.90625 \r\nQ 8.59375 46.1875 13.6875 49.609375 \r\nQ 18.796875 53.03125 25.6875 53.03125 \r\nQ 34.859375 53.03125 40.828125 45.609375 \r\nL 40.828125 51.859375 \r\nL 48.921875 51.859375 \r\nL 48.921875 7.03125 \r\nQ 48.921875 -5.078125 46.453125 -10.125 \r\nQ 44 -15.1875 38.640625 -18.109375 \r\nQ 33.296875 -21.046875 25.484375 -21.046875 \r\nQ 16.21875 -21.046875 10.5 -16.875 \r\nQ 4.78125 -12.703125 4.984375 -4.296875 \r\nz\r\nM 12.25 26.859375 \r\nQ 12.25 16.65625 16.296875 11.96875 \r\nQ 20.359375 7.28125 26.46875 7.28125 \r\nQ 32.515625 7.28125 36.609375 11.9375 \r\nQ 40.71875 16.609375 40.71875 26.5625 \r\nQ 40.71875 36.078125 36.5 40.90625 \r\nQ 32.28125 45.75 26.3125 45.75 \r\nQ 20.453125 45.75 16.34375 40.984375 \r\nQ 12.25 36.234375 12.25 26.859375 \r\nz\r\n\" id=\"ArialMT-103\"/>\r\n      <path d=\"M 7.90625 0 \r\nL 7.90625 71.578125 \r\nL 59.671875 71.578125 \r\nL 59.671875 63.140625 \r\nL 17.390625 63.140625 \r\nL 17.390625 41.21875 \r\nL 56.984375 41.21875 \r\nL 56.984375 32.8125 \r\nL 17.390625 32.8125 \r\nL 17.390625 8.453125 \r\nL 61.328125 8.453125 \r\nL 61.328125 0 \r\nz\r\n\" id=\"ArialMT-69\"/>\r\n      <path d=\"M 16.15625 0 \r\nL 0.296875 51.859375 \r\nL 9.375 51.859375 \r\nL 17.625 21.921875 \r\nL 20.703125 10.796875 \r\nQ 20.90625 11.625 23.390625 21.484375 \r\nL 31.640625 51.859375 \r\nL 40.671875 51.859375 \r\nL 48.4375 21.78125 \r\nL 51.03125 11.859375 \r\nL 54 21.875 \r\nL 62.890625 51.859375 \r\nL 71.4375 51.859375 \r\nL 55.21875 0 \r\nL 46.09375 0 \r\nL 37.84375 31.0625 \r\nL 35.84375 39.890625 \r\nL 25.34375 0 \r\nz\r\n\" id=\"ArialMT-119\"/>\r\n      <path d=\"M 7.421875 0 \r\nL 7.421875 71.578125 \r\nL 21.6875 71.578125 \r\nL 38.625 20.90625 \r\nQ 40.96875 13.8125 42.046875 10.296875 \r\nQ 43.265625 14.203125 45.84375 21.78125 \r\nL 62.984375 71.578125 \r\nL 75.734375 71.578125 \r\nL 75.734375 0 \r\nL 66.609375 0 \r\nL 66.609375 59.90625 \r\nL 45.796875 0 \r\nL 37.25 0 \r\nL 16.546875 60.9375 \r\nL 16.546875 0 \r\nz\r\n\" id=\"ArialMT-77\"/>\r\n      <path d=\"M 6.59375 0 \r\nL 6.59375 71.578125 \r\nL 15.375 71.578125 \r\nL 15.375 45.90625 \r\nQ 21.53125 53.03125 30.90625 53.03125 \r\nQ 36.671875 53.03125 40.921875 50.75 \r\nQ 45.171875 48.484375 47 44.484375 \r\nQ 48.828125 40.484375 48.828125 32.859375 \r\nL 48.828125 0 \r\nL 40.046875 0 \r\nL 40.046875 32.859375 \r\nQ 40.046875 39.453125 37.1875 42.453125 \r\nQ 34.328125 45.453125 29.109375 45.453125 \r\nQ 25.203125 45.453125 21.75 43.421875 \r\nQ 18.3125 41.40625 16.84375 37.9375 \r\nQ 15.375 34.46875 15.375 28.375 \r\nL 15.375 0 \r\nz\r\n\" id=\"ArialMT-104\"/>\r\n      <path d=\"M 40.234375 0 \r\nL 40.234375 6.546875 \r\nQ 35.296875 -1.171875 25.734375 -1.171875 \r\nQ 19.53125 -1.171875 14.328125 2.25 \r\nQ 9.125 5.671875 6.265625 11.796875 \r\nQ 3.421875 17.921875 3.421875 25.875 \r\nQ 3.421875 33.640625 6 39.96875 \r\nQ 8.59375 46.296875 13.765625 49.65625 \r\nQ 18.953125 53.03125 25.34375 53.03125 \r\nQ 30.03125 53.03125 33.6875 51.046875 \r\nQ 37.359375 49.078125 39.65625 45.90625 \r\nL 39.65625 71.578125 \r\nL 48.390625 71.578125 \r\nL 48.390625 0 \r\nz\r\nM 12.453125 25.875 \r\nQ 12.453125 15.921875 16.640625 10.984375 \r\nQ 20.84375 6.0625 26.5625 6.0625 \r\nQ 32.328125 6.0625 36.34375 10.765625 \r\nQ 40.375 15.484375 40.375 25.140625 \r\nQ 40.375 35.796875 36.265625 40.765625 \r\nQ 32.171875 45.75 26.171875 45.75 \r\nQ 20.3125 45.75 16.375 40.96875 \r\nQ 12.453125 36.1875 12.453125 25.875 \r\nz\r\n\" id=\"ArialMT-100\"/>\r\n      <path d=\"M 23.390625 -21.046875 \r\nQ 16.109375 -11.859375 11.078125 0.4375 \r\nQ 6.0625 12.75 6.0625 25.921875 \r\nQ 6.0625 37.546875 9.8125 48.1875 \r\nQ 14.203125 60.546875 23.390625 72.796875 \r\nL 29.6875 72.796875 \r\nQ 23.78125 62.640625 21.875 58.296875 \r\nQ 18.890625 51.5625 17.1875 44.234375 \r\nQ 15.09375 35.109375 15.09375 25.875 \r\nQ 15.09375 2.390625 29.6875 -21.046875 \r\nz\r\n\" id=\"ArialMT-40\"/>\r\n      <path d=\"M 4.5 23 \r\nL 13.421875 23.78125 \r\nQ 14.0625 18.40625 16.375 14.96875 \r\nQ 18.703125 11.53125 23.578125 9.40625 \r\nQ 28.46875 7.28125 34.578125 7.28125 \r\nQ 39.984375 7.28125 44.140625 8.890625 \r\nQ 48.296875 10.5 50.3125 13.296875 \r\nQ 52.34375 16.109375 52.34375 19.4375 \r\nQ 52.34375 22.796875 50.390625 25.3125 \r\nQ 48.4375 27.828125 43.953125 29.546875 \r\nQ 41.0625 30.671875 31.203125 33.03125 \r\nQ 21.34375 35.40625 17.390625 37.5 \r\nQ 12.25 40.1875 9.734375 44.15625 \r\nQ 7.234375 48.140625 7.234375 53.078125 \r\nQ 7.234375 58.5 10.296875 63.203125 \r\nQ 13.375 67.921875 19.28125 70.359375 \r\nQ 25.203125 72.796875 32.421875 72.796875 \r\nQ 40.375 72.796875 46.453125 70.234375 \r\nQ 52.546875 67.671875 55.8125 62.6875 \r\nQ 59.078125 57.71875 59.328125 51.421875 \r\nL 50.25 50.734375 \r\nQ 49.515625 57.515625 45.28125 60.984375 \r\nQ 41.0625 64.453125 32.8125 64.453125 \r\nQ 24.21875 64.453125 20.28125 61.296875 \r\nQ 16.359375 58.15625 16.359375 53.71875 \r\nQ 16.359375 49.859375 19.140625 47.359375 \r\nQ 21.875 44.875 33.421875 42.265625 \r\nQ 44.96875 39.65625 49.265625 37.703125 \r\nQ 55.515625 34.8125 58.484375 30.390625 \r\nQ 61.46875 25.984375 61.46875 20.21875 \r\nQ 61.46875 14.5 58.203125 9.4375 \r\nQ 54.9375 4.390625 48.796875 1.578125 \r\nQ 42.671875 -1.21875 35.015625 -1.21875 \r\nQ 25.296875 -1.21875 18.71875 1.609375 \r\nQ 12.15625 4.4375 8.421875 10.125 \r\nQ 4.6875 15.828125 4.5 23 \r\nz\r\n\" id=\"ArialMT-83\"/>\r\n      <path d=\"M -1.515625 -19.875 \r\nL -1.515625 -13.53125 \r\nL 56.734375 -13.53125 \r\nL 56.734375 -19.875 \r\nz\r\n\" id=\"ArialMT-95\"/>\r\n      <path d=\"M 7.71875 0 \r\nL 7.71875 71.578125 \r\nL 32.375 71.578125 \r\nQ 40.71875 71.578125 45.125 70.5625 \r\nQ 51.265625 69.140625 55.609375 65.4375 \r\nQ 61.28125 60.640625 64.078125 53.1875 \r\nQ 66.890625 45.75 66.890625 36.1875 \r\nQ 66.890625 28.03125 64.984375 21.734375 \r\nQ 63.09375 15.4375 60.109375 11.296875 \r\nQ 57.125 7.171875 53.578125 4.796875 \r\nQ 50.046875 2.4375 45.046875 1.21875 \r\nQ 40.046875 0 33.546875 0 \r\nz\r\nM 17.1875 8.453125 \r\nL 32.46875 8.453125 \r\nQ 39.546875 8.453125 43.578125 9.765625 \r\nQ 47.609375 11.078125 50 13.484375 \r\nQ 53.375 16.84375 55.25 22.53125 \r\nQ 57.125 28.21875 57.125 36.328125 \r\nQ 57.125 47.5625 53.4375 53.59375 \r\nQ 49.75 59.625 44.484375 61.671875 \r\nQ 40.671875 63.140625 32.234375 63.140625 \r\nL 17.1875 63.140625 \r\nz\r\n\" id=\"ArialMT-68\"/>\r\n      <path d=\"M 12.359375 -21.046875 \r\nL 6.0625 -21.046875 \r\nQ 20.65625 2.390625 20.65625 25.875 \r\nQ 20.65625 35.0625 18.5625 44.09375 \r\nQ 16.890625 51.421875 13.921875 58.15625 \r\nQ 12.015625 62.546875 6.0625 72.796875 \r\nL 12.359375 72.796875 \r\nQ 21.53125 60.546875 25.921875 48.1875 \r\nQ 29.6875 37.546875 29.6875 25.921875 \r\nQ 29.6875 12.75 24.625 0.4375 \r\nQ 19.578125 -11.859375 12.359375 -21.046875 \r\nz\r\n\" id=\"ArialMT-41\"/>\r\n     </defs>\r\n     <use xlink:href=\"#ArialMT-79\"/>\r\n     <use x=\"77.783203\" xlink:href=\"#ArialMT-112\"/>\r\n     <use x=\"133.398438\" xlink:href=\"#ArialMT-116\"/>\r\n     <use x=\"161.181641\" xlink:href=\"#ArialMT-105\"/>\r\n     <use x=\"183.398438\" xlink:href=\"#ArialMT-109\"/>\r\n     <use x=\"266.699219\" xlink:href=\"#ArialMT-97\"/>\r\n     <use x=\"322.314453\" xlink:href=\"#ArialMT-108\"/>\r\n     <use x=\"344.53125\" xlink:href=\"#ArialMT-32\"/>\r\n     <use x=\"372.314453\" xlink:href=\"#ArialMT-78\"/>\r\n     <use x=\"444.53125\" xlink:href=\"#ArialMT-117\"/>\r\n     <use x=\"500.146484\" xlink:href=\"#ArialMT-109\"/>\r\n     <use x=\"583.447266\" xlink:href=\"#ArialMT-98\"/>\r\n     <use x=\"639.0625\" xlink:href=\"#ArialMT-101\"/>\r\n     <use x=\"694.677734\" xlink:href=\"#ArialMT-114\"/>\r\n     <use x=\"727.978516\" xlink:href=\"#ArialMT-32\"/>\r\n     <use x=\"755.761719\" xlink:href=\"#ArialMT-111\"/>\r\n     <use x=\"811.376953\" xlink:href=\"#ArialMT-102\"/>\r\n     <use x=\"839.160156\" xlink:href=\"#ArialMT-32\"/>\r\n     <use x=\"866.943359\" xlink:href=\"#ArialMT-67\"/>\r\n     <use x=\"939.160156\" xlink:href=\"#ArialMT-108\"/>\r\n     <use x=\"961.376953\" xlink:href=\"#ArialMT-117\"/>\r\n     <use x=\"1016.992188\" xlink:href=\"#ArialMT-115\"/>\r\n     <use x=\"1066.992188\" xlink:href=\"#ArialMT-116\"/>\r\n     <use x=\"1094.775391\" xlink:href=\"#ArialMT-101\"/>\r\n     <use x=\"1150.390625\" xlink:href=\"#ArialMT-114\"/>\r\n     <use x=\"1183.691406\" xlink:href=\"#ArialMT-115\"/>\r\n     <use x=\"1233.691406\" xlink:href=\"#ArialMT-32\"/>\r\n     <use x=\"1261.474609\" xlink:href=\"#ArialMT-117\"/>\r\n     <use x=\"1317.089844\" xlink:href=\"#ArialMT-115\"/>\r\n     <use x=\"1367.089844\" xlink:href=\"#ArialMT-105\"/>\r\n     <use x=\"1389.306641\" xlink:href=\"#ArialMT-110\"/>\r\n     <use x=\"1444.921875\" xlink:href=\"#ArialMT-103\"/>\r\n     <use x=\"1500.537109\" xlink:href=\"#ArialMT-32\"/>\r\n     <use x=\"1528.320312\" xlink:href=\"#ArialMT-69\"/>\r\n     <use x=\"1595.019531\" xlink:href=\"#ArialMT-108\"/>\r\n     <use x=\"1617.236328\" xlink:href=\"#ArialMT-98\"/>\r\n     <use x=\"1672.851562\" xlink:href=\"#ArialMT-111\"/>\r\n     <use x=\"1728.466797\" xlink:href=\"#ArialMT-119\"/>\r\n     <use x=\"1800.683594\" xlink:href=\"#ArialMT-32\"/>\r\n     <use x=\"1828.466797\" xlink:href=\"#ArialMT-77\"/>\r\n     <use x=\"1911.767578\" xlink:href=\"#ArialMT-101\"/>\r\n     <use x=\"1967.382812\" xlink:href=\"#ArialMT-116\"/>\r\n     <use x=\"1995.166016\" xlink:href=\"#ArialMT-104\"/>\r\n     <use x=\"2050.78125\" xlink:href=\"#ArialMT-111\"/>\r\n     <use x=\"2106.396484\" xlink:href=\"#ArialMT-100\"/>\r\n     <use x=\"2162.011719\" xlink:href=\"#ArialMT-32\"/>\r\n     <use x=\"2189.794922\" xlink:href=\"#ArialMT-40\"/>\r\n     <use x=\"2223.095703\" xlink:href=\"#ArialMT-116\"/>\r\n     <use x=\"2250.878906\" xlink:href=\"#ArialMT-83\"/>\r\n     <use x=\"2317.578125\" xlink:href=\"#ArialMT-78\"/>\r\n     <use x=\"2389.794922\" xlink:href=\"#ArialMT-69\"/>\r\n     <use x=\"2456.494141\" xlink:href=\"#ArialMT-95\"/>\r\n     <use x=\"2512.109375\" xlink:href=\"#ArialMT-83\"/>\r\n     <use x=\"2578.808594\" xlink:href=\"#ArialMT-99\"/>\r\n     <use x=\"2628.808594\" xlink:href=\"#ArialMT-97\"/>\r\n     <use x=\"2684.423828\" xlink:href=\"#ArialMT-108\"/>\r\n     <use x=\"2706.640625\" xlink:href=\"#ArialMT-101\"/>\r\n     <use x=\"2762.255859\" xlink:href=\"#ArialMT-100\"/>\r\n     <use x=\"2817.871094\" xlink:href=\"#ArialMT-32\"/>\r\n     <use x=\"2845.654297\" xlink:href=\"#ArialMT-68\"/>\r\n     <use x=\"2917.871094\" xlink:href=\"#ArialMT-97\"/>\r\n     <use x=\"2973.486328\" xlink:href=\"#ArialMT-116\"/>\r\n     <use x=\"3001.269531\" xlink:href=\"#ArialMT-97\"/>\r\n     <use x=\"3056.884766\" xlink:href=\"#ArialMT-41\"/>\r\n    </g>\r\n   </g>\r\n  </g>\r\n </g>\r\n <defs>\r\n  <clipPath id=\"pca36705ef7\">\r\n   <rect height=\"326.16\" width=\"669.6\" x=\"62.259531\" y=\"21.943125\"/>\r\n  </clipPath>\r\n </defs>\r\n</svg>\r\n",
      "image/png": "[encoded data removed]"
     },
     "metadata": {}
    }
   ],
   "metadata": {}
  },
  {
   "cell_type": "code",
   "execution_count": 67,
   "source": [
    "kmeans_tsne_scale = KMeans(n_clusters=4, n_init=100, max_iter=400, init='k-means++', random_state=42).fit(tsne_df_scale)\r\n",
    "print('KMeans tSNE Scaled Silhouette Score: {}'.format(silhouette_score(tsne_df_scale, kmeans_tsne_scale.labels_, metric='euclidean')))\r\n",
    "labels_tsne_scale = kmeans_tsne_scale.labels_\r\n",
    "clusters_tsne_scale = pd.concat([tsne_df_scale, pd.DataFrame({'tsne_clusters':labels_tsne_scale})], axis=1)"
   ],
   "outputs": [
    {
     "output_type": "stream",
     "name": "stdout",
     "text": [
      "KMeans tSNE Scaled Silhouette Score: 0.40974313020706177\n"
     ]
    }
   ],
   "metadata": {}
  },
  {
   "cell_type": "code",
   "execution_count": null,
   "source": [
    "plt.figure(figsize = (15,15))\r\n",
    "sns.scatterplot(clusters_tsne_scale.iloc[:,0],clusters_tsne_scale.iloc[:,1],hue=labels_tsne_scale, palette='Set1', s=100, alpha=0.6).set_title('Cluster Vis tSNE Scaled Data', fontsize=15)\r\n",
    "plt.legend()\r\n",
    "plt.show()"
   ],
   "outputs": [],
   "metadata": {}
  },
  {
   "cell_type": "code",
   "execution_count": 85,
   "source": [
    "# clusters_tsne_scale\r\n",
    "address_clustering.loc[address_clustering.date_month == datetime.date(2018,1,1), :].shape"
   ],
   "outputs": [
    {
     "output_type": "execute_result",
     "data": {
      "text/plain": [
       "(1000, 20)"
      ]
     },
     "metadata": {},
     "execution_count": 85
    }
   ],
   "metadata": {}
  },
  {
   "cell_type": "code",
   "execution_count": 88,
   "source": [
    "address_clustering['tsne_clusters'] = clusters_tsne_scale['tsne_clusters']"
   ],
   "outputs": [],
   "metadata": {}
  },
  {
   "cell_type": "code",
   "execution_count": 86,
   "source": [
    "clusters_tsne_scale.head()"
   ],
   "outputs": [
    {
     "output_type": "execute_result",
     "data": {
      "text/plain": [
       "       tsne1     tsne2     tsne3  tsne_clusters\n",
       "0   4.742746  1.796353 -1.977678              0\n",
       "1   4.454351  2.369938 -2.613143              0\n",
       "2   4.370441  2.424561 -2.612018              0\n",
       "3  10.222472 -4.517241 -4.490162              2\n",
       "4   3.874020  2.692680 -2.454844              0"
      ],
      "text/html": [
       "<div>\n",
       "<style scoped>\n",
       "    .dataframe tbody tr th:only-of-type {\n",
       "        vertical-align: middle;\n",
       "    }\n",
       "\n",
       "    .dataframe tbody tr th {\n",
       "        vertical-align: top;\n",
       "    }\n",
       "\n",
       "    .dataframe thead th {\n",
       "        text-align: right;\n",
       "    }\n",
       "</style>\n",
       "<table border=\"1\" class=\"dataframe\">\n",
       "  <thead>\n",
       "    <tr style=\"text-align: right;\">\n",
       "      <th></th>\n",
       "      <th>tsne1</th>\n",
       "      <th>tsne2</th>\n",
       "      <th>tsne3</th>\n",
       "      <th>tsne_clusters</th>\n",
       "    </tr>\n",
       "  </thead>\n",
       "  <tbody>\n",
       "    <tr>\n",
       "      <th>0</th>\n",
       "      <td>4.742746</td>\n",
       "      <td>1.796353</td>\n",
       "      <td>-1.977678</td>\n",
       "      <td>0</td>\n",
       "    </tr>\n",
       "    <tr>\n",
       "      <th>1</th>\n",
       "      <td>4.454351</td>\n",
       "      <td>2.369938</td>\n",
       "      <td>-2.613143</td>\n",
       "      <td>0</td>\n",
       "    </tr>\n",
       "    <tr>\n",
       "      <th>2</th>\n",
       "      <td>4.370441</td>\n",
       "      <td>2.424561</td>\n",
       "      <td>-2.612018</td>\n",
       "      <td>0</td>\n",
       "    </tr>\n",
       "    <tr>\n",
       "      <th>3</th>\n",
       "      <td>10.222472</td>\n",
       "      <td>-4.517241</td>\n",
       "      <td>-4.490162</td>\n",
       "      <td>2</td>\n",
       "    </tr>\n",
       "    <tr>\n",
       "      <th>4</th>\n",
       "      <td>3.874020</td>\n",
       "      <td>2.692680</td>\n",
       "      <td>-2.454844</td>\n",
       "      <td>0</td>\n",
       "    </tr>\n",
       "  </tbody>\n",
       "</table>\n",
       "</div>"
      ]
     },
     "metadata": {},
     "execution_count": 86
    }
   ],
   "metadata": {}
  },
  {
   "cell_type": "code",
   "execution_count": 1,
   "source": [
    "Scene = dict(xaxis = dict(title  = 'tsne1'),yaxis = dict(title  = 'tsne2'),zaxis = dict(title  = 'tsne3'))\r\n",
    "labels = labels_tsne_scale\r\n",
    "trace = go.Scatter3d(x=clusters_tsne_scale.iloc[:,0], y=clusters_tsne_scale.iloc[:,1], z=clusters_tsne_scale.iloc[:,2], mode='markers',marker=dict(color = labels, colorscale='Viridis', size = 5, line = dict(color = 'yellow',width = 5)))\r\n",
    "layout = go.Layout(margin=dict(l=0,r=0),scene = Scene, height = 1000,width = 1000)\r\n",
    "data = [trace]\r\n",
    "fig = go.Figure(data = data, layout = layout)\r\n",
    "fig.show()"
   ],
   "outputs": [],
   "metadata": {}
  },
  {
   "cell_type": "code",
   "execution_count": 2,
   "source": [
    "plt.figure(figsize = (15,15))\r\n",
    "sns.scatterplot(clusters_tsne_scale.iloc[:,0],clusters_tsne_scale.iloc[:,1],hue=labels_tsne_scale, palette='Set1', s=100, alpha=0.6).set_title('Cluster Vis tSNE Scaled Data', fontsize=15)\r\n",
    "plt.legend()\r\n",
    "plt.show()"
   ],
   "outputs": [],
   "metadata": {}
  },
  {
   "cell_type": "code",
   "execution_count": 3,
   "source": [
    "Scene = dict(xaxis = dict(title  = 'tsne1'),yaxis = dict(title  = 'tsne2'),zaxis = dict(title  = 'tsne3'))\r\n",
    "labels = labels_tsne_scale\r\n",
    "trace = go.Scatter3d(x=clusters_tsne_scale.iloc[:,0], y=clusters_tsne_scale.iloc[:,1], z=clusters_tsne_scale.iloc[:,2], mode='markers',marker=dict(color = labels, colorscale='Viridis', size = 10, line = dict(color = 'yellow',width = 5)))\r\n",
    "layout = go.Layout(margin=dict(l=0,r=0),scene = Scene, height = 1000,width = 1000)\r\n",
    "data = [trace]\r\n",
    "fig = go.Figure(data = data, layout = layout)\r\n",
    "fig.show()"
   ],
   "outputs": [],
   "metadata": {}
  },
  {
   "cell_type": "code",
   "execution_count": null,
   "source": [],
   "outputs": [],
   "metadata": {}
  },
  {
   "cell_type": "code",
   "execution_count": 72,
   "source": [
    "from sklearn import cluster\r\n",
    "from sklearn.metrics import silhouette_score, silhouette_samples\r\n",
    "from sklearn.preprocessing import StandardScaler, PowerTransformer, FunctionTransformer\r\n",
    "from sklearn.decomposition import PCA\r\n",
    "from sklearn.pipeline import Pipeline\r\n",
    "import random\r\n",
    "from sklearn.cluster import KMeans\r\n",
    "import matplotlib.cm as cm\r\n",
    "\r\n",
    "# power_transform = PowerTransformer(standardize=False)\r\n",
    "scale = StandardScaler()\r\n",
    "pca =PCA(n_components=df.shape[1])\r\n",
    "# cl = KMeans(num_clusters)\r\n",
    "#build pipeline\r\n",
    "pipe = Pipeline([#('log', power_transform ),\r\n",
    "                 ('scale', scale ),\r\n",
    "                 ('PCA', pca)])\r\n",
    "\r\n",
    "results = pipe.fit_transform(df)"
   ],
   "outputs": [],
   "metadata": {}
  },
  {
   "cell_type": "code",
   "execution_count": 5,
   "source": [
    "plt.plot(np.arange(pca.n_components_) ,np.cumsum(pca.explained_variance_ratio_)*100)\r\n",
    "plt.grid(b=True)\r\n",
    "plt.xlabel('principal component')\r\n",
    "plt.title('Cumulative Percent of Variance explained')\r\n",
    "plt.show()"
   ],
   "outputs": [],
   "metadata": {}
  },
  {
   "cell_type": "code",
   "execution_count": 6,
   "source": [
    "# Standardize the data to have a mean of ~0 and a variance of 1\r\n",
    "X_std = StandardScaler().fit_transform(df)\r\n",
    "# Create a PCA instance: pca\r\n",
    "pca = PCA(n_components=df.shape[1])\r\n",
    "principalComponents = pca.fit_transform(X_std)\r\n",
    "# Plot the explained variances\r\n",
    "features = range(pca.n_components_)\r\n",
    "plt.bar(features, pca.explained_variance_ratio_, color='black')\r\n",
    "plt.xlabel('PCA features')\r\n",
    "plt.ylabel('variance %')\r\n",
    "plt.xticks(features)\r\n",
    "# Save components to a DataFrame\r\n",
    "PCA_components = pd.DataFrame(principalComponents)"
   ],
   "outputs": [],
   "metadata": {}
  },
  {
   "cell_type": "code",
   "execution_count": 75,
   "source": [
    "plt.scatter(PCA_components[0], PCA_components[1], alpha=.1, color='black')\r\n",
    "plt.xlabel('PCA 1')\r\n",
    "plt.ylabel('PCA 2')\r\n",
    "plt.xlim(xmax = 2)"
   ],
   "outputs": [
    {
     "output_type": "execute_result",
     "data": {
      "text/plain": [
       "(-4.35103857812494, 2.0)"
      ]
     },
     "metadata": {},
     "execution_count": 75
    },
    {
     "output_type": "display_data",
     "data": {
      "text/plain": [
       "<Figure size 432x288 with 1 Axes>"
      ],
      "image/svg+xml": "<?xml version=\"1.0\" encoding=\"utf-8\" standalone=\"no\"?>\r\n<!DOCTYPE svg PUBLIC \"-//W3C//DTD SVG 1.1//EN\"\r\n  \"http://www.w3.org/Graphics/SVG/1.1/DTD/svg11.dtd\">\r\n<!-- Created with matplotlib (https://matplotlib.org/) -->\r\n<svg height=\"266.374219pt\" version=\"1.1\" viewBox=\"0 0 395.391641 266.374219\" width=\"395.391641pt\" xmlns=\"http://www.w3.org/2000/svg\" xmlns:xlink=\"http://www.w3.org/1999/xlink\">\r\n <metadata>\r\n  <rdf:RDF xmlns:cc=\"http://creativecommons.org/ns#\" xmlns:dc=\"http://purl.org/dc/elements/1.1/\" xmlns:rdf=\"http://www.w3.org/1999/02/22-rdf-syntax-ns#\">\r\n   <cc:Work>\r\n    <dc:type rdf:resource=\"http://purl.org/dc/dcmitype/StillImage\"/>\r\n    <dc:date>2021-08-13T12:48:51.836829</dc:date>\r\n    <dc:format>image/svg+xml</dc:format>\r\n    <dc:creator>\r\n     <cc:Agent>\r\n      <dc:title>Matplotlib v3.3.4, https://matplotlib.org/</dc:title>\r\n     </cc:Agent>\r\n    </dc:creator>\r\n   </cc:Work>\r\n  </rdf:RDF>\r\n </metadata>\r\n <defs>\r\n  <style type=\"text/css\">*{stroke-linecap:butt;stroke-linejoin:round;}</style>\r\n </defs>\r\n <g id=\"figure_1\">\r\n  <g id=\"patch_1\">\r\n   <path d=\"M 0 266.374219 \r\nL 395.391641 266.374219 \r\nL 395.391641 0 \r\nL 0 0 \r\nz\r\n\" style=\"fill:#ffffff;\"/>\r\n  </g>\r\n  <g id=\"axes_1\">\r\n   <g id=\"patch_2\">\r\n    <path d=\"M 50.333125 224.64 \r\nL 385.133125 224.64 \r\nL 385.133125 7.2 \r\nL 50.333125 7.2 \r\nz\r\n\" style=\"fill:#eaeaf2;\"/>\r\n   </g>\r\n   <g id=\"matplotlib.axis_1\">\r\n    <g id=\"xtick_1\">\r\n     <g id=\"line2d_1\">\r\n      <path clip-path=\"url(#p8db3a476ae)\" d=\"M 68.8384 224.64 \r\nL 68.8384 7.2 \r\n\" style=\"fill:none;stroke:#ffffff;stroke-linecap:round;\"/>\r\n     </g>\r\n     <g id=\"text_1\">\r\n      <!-- −4 -->\r\n      <g style=\"fill:#262626;\" transform=\"translate(62.567541 242.013594)scale(0.11 -0.11)\">\r\n       <defs>\r\n        <path d=\"M 52.828125 31.203125 \r\nL 5.5625 31.203125 \r\nL 5.5625 39.40625 \r\nL 52.828125 39.40625 \r\nz\r\n\" id=\"ArialMT-8722\"/>\r\n        <path d=\"M 32.328125 0 \r\nL 32.328125 17.140625 \r\nL 1.265625 17.140625 \r\nL 1.265625 25.203125 \r\nL 33.9375 71.578125 \r\nL 41.109375 71.578125 \r\nL 41.109375 25.203125 \r\nL 50.78125 25.203125 \r\nL 50.78125 17.140625 \r\nL 41.109375 17.140625 \r\nL 41.109375 0 \r\nz\r\nM 32.328125 25.203125 \r\nL 32.328125 57.46875 \r\nL 9.90625 25.203125 \r\nz\r\n\" id=\"ArialMT-52\"/>\r\n       </defs>\r\n       <use xlink:href=\"#ArialMT-8722\"/>\r\n       <use x=\"58.398438\" xlink:href=\"#ArialMT-52\"/>\r\n      </g>\r\n     </g>\r\n    </g>\r\n    <g id=\"xtick_2\">\r\n     <g id=\"line2d_2\">\r\n      <path clip-path=\"url(#p8db3a476ae)\" d=\"M 121.554188 224.64 \r\nL 121.554188 7.2 \r\n\" style=\"fill:none;stroke:#ffffff;stroke-linecap:round;\"/>\r\n     </g>\r\n     <g id=\"text_2\">\r\n      <!-- −3 -->\r\n      <g style=\"fill:#262626;\" transform=\"translate(115.283328 242.013594)scale(0.11 -0.11)\">\r\n       <defs>\r\n        <path d=\"M 4.203125 18.890625 \r\nL 12.984375 20.0625 \r\nQ 14.5 12.59375 18.140625 9.296875 \r\nQ 21.78125 6 27 6 \r\nQ 33.203125 6 37.46875 10.296875 \r\nQ 41.75 14.59375 41.75 20.953125 \r\nQ 41.75 27 37.796875 30.921875 \r\nQ 33.84375 34.859375 27.734375 34.859375 \r\nQ 25.25 34.859375 21.53125 33.890625 \r\nL 22.515625 41.609375 \r\nQ 23.390625 41.5 23.921875 41.5 \r\nQ 29.546875 41.5 34.03125 44.421875 \r\nQ 38.53125 47.359375 38.53125 53.46875 \r\nQ 38.53125 58.296875 35.25 61.46875 \r\nQ 31.984375 64.65625 26.8125 64.65625 \r\nQ 21.6875 64.65625 18.265625 61.421875 \r\nQ 14.84375 58.203125 13.875 51.765625 \r\nL 5.078125 53.328125 \r\nQ 6.6875 62.15625 12.390625 67.015625 \r\nQ 18.109375 71.875 26.609375 71.875 \r\nQ 32.46875 71.875 37.390625 69.359375 \r\nQ 42.328125 66.84375 44.9375 62.5 \r\nQ 47.5625 58.15625 47.5625 53.265625 \r\nQ 47.5625 48.640625 45.0625 44.828125 \r\nQ 42.578125 41.015625 37.703125 38.765625 \r\nQ 44.046875 37.3125 47.5625 32.6875 \r\nQ 51.078125 28.078125 51.078125 21.140625 \r\nQ 51.078125 11.765625 44.234375 5.25 \r\nQ 37.40625 -1.265625 26.953125 -1.265625 \r\nQ 17.53125 -1.265625 11.296875 4.34375 \r\nQ 5.078125 9.96875 4.203125 18.890625 \r\nz\r\n\" id=\"ArialMT-51\"/>\r\n       </defs>\r\n       <use xlink:href=\"#ArialMT-8722\"/>\r\n       <use x=\"58.398438\" xlink:href=\"#ArialMT-51\"/>\r\n      </g>\r\n     </g>\r\n    </g>\r\n    <g id=\"xtick_3\">\r\n     <g id=\"line2d_3\">\r\n      <path clip-path=\"url(#p8db3a476ae)\" d=\"M 174.269975 224.64 \r\nL 174.269975 7.2 \r\n\" style=\"fill:none;stroke:#ffffff;stroke-linecap:round;\"/>\r\n     </g>\r\n     <g id=\"text_3\">\r\n      <!-- −2 -->\r\n      <g style=\"fill:#262626;\" transform=\"translate(167.999116 242.013594)scale(0.11 -0.11)\">\r\n       <defs>\r\n        <path d=\"M 50.34375 8.453125 \r\nL 50.34375 0 \r\nL 3.03125 0 \r\nQ 2.9375 3.171875 4.046875 6.109375 \r\nQ 5.859375 10.9375 9.828125 15.625 \r\nQ 13.8125 20.3125 21.34375 26.46875 \r\nQ 33.015625 36.03125 37.109375 41.625 \r\nQ 41.21875 47.21875 41.21875 52.203125 \r\nQ 41.21875 57.421875 37.46875 61 \r\nQ 33.734375 64.59375 27.734375 64.59375 \r\nQ 21.390625 64.59375 17.578125 60.78125 \r\nQ 13.765625 56.984375 13.71875 50.25 \r\nL 4.6875 51.171875 \r\nQ 5.609375 61.28125 11.65625 66.578125 \r\nQ 17.71875 71.875 27.9375 71.875 \r\nQ 38.234375 71.875 44.234375 66.15625 \r\nQ 50.25 60.453125 50.25 52 \r\nQ 50.25 47.703125 48.484375 43.546875 \r\nQ 46.734375 39.40625 42.65625 34.8125 \r\nQ 38.578125 30.21875 29.109375 22.21875 \r\nQ 21.1875 15.578125 18.9375 13.203125 \r\nQ 16.703125 10.84375 15.234375 8.453125 \r\nz\r\n\" id=\"ArialMT-50\"/>\r\n       </defs>\r\n       <use xlink:href=\"#ArialMT-8722\"/>\r\n       <use x=\"58.398438\" xlink:href=\"#ArialMT-50\"/>\r\n      </g>\r\n     </g>\r\n    </g>\r\n    <g id=\"xtick_4\">\r\n     <g id=\"line2d_4\">\r\n      <path clip-path=\"url(#p8db3a476ae)\" d=\"M 226.985763 224.64 \r\nL 226.985763 7.2 \r\n\" style=\"fill:none;stroke:#ffffff;stroke-linecap:round;\"/>\r\n     </g>\r\n     <g id=\"text_4\">\r\n      <!-- −1 -->\r\n      <g style=\"fill:#262626;\" transform=\"translate(220.714903 242.013594)scale(0.11 -0.11)\">\r\n       <defs>\r\n        <path d=\"M 37.25 0 \r\nL 28.46875 0 \r\nL 28.46875 56 \r\nQ 25.296875 52.984375 20.140625 49.953125 \r\nQ 14.984375 46.921875 10.890625 45.40625 \r\nL 10.890625 53.90625 \r\nQ 18.265625 57.375 23.78125 62.296875 \r\nQ 29.296875 67.234375 31.59375 71.875 \r\nL 37.25 71.875 \r\nz\r\n\" id=\"ArialMT-49\"/>\r\n       </defs>\r\n       <use xlink:href=\"#ArialMT-8722\"/>\r\n       <use x=\"58.398438\" xlink:href=\"#ArialMT-49\"/>\r\n      </g>\r\n     </g>\r\n    </g>\r\n    <g id=\"xtick_5\">\r\n     <g id=\"line2d_5\">\r\n      <path clip-path=\"url(#p8db3a476ae)\" d=\"M 279.70155 224.64 \r\nL 279.70155 7.2 \r\n\" style=\"fill:none;stroke:#ffffff;stroke-linecap:round;\"/>\r\n     </g>\r\n     <g id=\"text_5\">\r\n      <!-- 0 -->\r\n      <g style=\"fill:#262626;\" transform=\"translate(276.643034 242.013594)scale(0.11 -0.11)\">\r\n       <defs>\r\n        <path d=\"M 4.15625 35.296875 \r\nQ 4.15625 48 6.765625 55.734375 \r\nQ 9.375 63.484375 14.515625 67.671875 \r\nQ 19.671875 71.875 27.484375 71.875 \r\nQ 33.25 71.875 37.59375 69.546875 \r\nQ 41.9375 67.234375 44.765625 62.859375 \r\nQ 47.609375 58.5 49.21875 52.21875 \r\nQ 50.828125 45.953125 50.828125 35.296875 \r\nQ 50.828125 22.703125 48.234375 14.96875 \r\nQ 45.65625 7.234375 40.5 3 \r\nQ 35.359375 -1.21875 27.484375 -1.21875 \r\nQ 17.140625 -1.21875 11.234375 6.203125 \r\nQ 4.15625 15.140625 4.15625 35.296875 \r\nz\r\nM 13.1875 35.296875 \r\nQ 13.1875 17.671875 17.3125 11.828125 \r\nQ 21.4375 6 27.484375 6 \r\nQ 33.546875 6 37.671875 11.859375 \r\nQ 41.796875 17.71875 41.796875 35.296875 \r\nQ 41.796875 52.984375 37.671875 58.78125 \r\nQ 33.546875 64.59375 27.390625 64.59375 \r\nQ 21.34375 64.59375 17.71875 59.46875 \r\nQ 13.1875 52.9375 13.1875 35.296875 \r\nz\r\n\" id=\"ArialMT-48\"/>\r\n       </defs>\r\n       <use xlink:href=\"#ArialMT-48\"/>\r\n      </g>\r\n     </g>\r\n    </g>\r\n    <g id=\"xtick_6\">\r\n     <g id=\"line2d_6\">\r\n      <path clip-path=\"url(#p8db3a476ae)\" d=\"M 332.417338 224.64 \r\nL 332.417338 7.2 \r\n\" style=\"fill:none;stroke:#ffffff;stroke-linecap:round;\"/>\r\n     </g>\r\n     <g id=\"text_6\">\r\n      <!-- 1 -->\r\n      <g style=\"fill:#262626;\" transform=\"translate(329.358822 242.013594)scale(0.11 -0.11)\">\r\n       <use xlink:href=\"#ArialMT-49\"/>\r\n      </g>\r\n     </g>\r\n    </g>\r\n    <g id=\"xtick_7\">\r\n     <g id=\"line2d_7\">\r\n      <path clip-path=\"url(#p8db3a476ae)\" d=\"M 385.133125 224.64 \r\nL 385.133125 7.2 \r\n\" style=\"fill:none;stroke:#ffffff;stroke-linecap:round;\"/>\r\n     </g>\r\n     <g id=\"text_7\">\r\n      <!-- 2 -->\r\n      <g style=\"fill:#262626;\" transform=\"translate(382.074609 242.013594)scale(0.11 -0.11)\">\r\n       <use xlink:href=\"#ArialMT-50\"/>\r\n      </g>\r\n     </g>\r\n    </g>\r\n    <g id=\"text_8\">\r\n     <!-- PCA 1 -->\r\n     <g style=\"fill:#262626;\" transform=\"translate(200.722187 256.789219)scale(0.12 -0.12)\">\r\n      <defs>\r\n       <path d=\"M 7.71875 0 \r\nL 7.71875 71.578125 \r\nL 34.71875 71.578125 \r\nQ 41.84375 71.578125 45.609375 70.90625 \r\nQ 50.875 70.015625 54.4375 67.546875 \r\nQ 58.015625 65.09375 60.1875 60.640625 \r\nQ 62.359375 56.203125 62.359375 50.875 \r\nQ 62.359375 41.75 56.546875 35.421875 \r\nQ 50.734375 29.109375 35.546875 29.109375 \r\nL 17.1875 29.109375 \r\nL 17.1875 0 \r\nz\r\nM 17.1875 37.546875 \r\nL 35.6875 37.546875 \r\nQ 44.875 37.546875 48.734375 40.96875 \r\nQ 52.59375 44.390625 52.59375 50.59375 \r\nQ 52.59375 55.078125 50.3125 58.265625 \r\nQ 48.046875 61.46875 44.34375 62.5 \r\nQ 41.9375 63.140625 35.5 63.140625 \r\nL 17.1875 63.140625 \r\nz\r\n\" id=\"ArialMT-80\"/>\r\n       <path d=\"M 58.796875 25.09375 \r\nL 68.265625 22.703125 \r\nQ 65.28125 11.03125 57.546875 4.90625 \r\nQ 49.8125 -1.21875 38.625 -1.21875 \r\nQ 27.046875 -1.21875 19.796875 3.484375 \r\nQ 12.546875 8.203125 8.765625 17.140625 \r\nQ 4.984375 26.078125 4.984375 36.328125 \r\nQ 4.984375 47.515625 9.25 55.828125 \r\nQ 13.53125 64.15625 21.40625 68.46875 \r\nQ 29.296875 72.796875 38.765625 72.796875 \r\nQ 49.515625 72.796875 56.828125 67.328125 \r\nQ 64.15625 61.859375 67.046875 51.953125 \r\nL 57.71875 49.75 \r\nQ 55.21875 57.5625 50.484375 61.125 \r\nQ 45.75 64.703125 38.578125 64.703125 \r\nQ 30.328125 64.703125 24.78125 60.734375 \r\nQ 19.234375 56.78125 16.984375 50.109375 \r\nQ 14.75 43.453125 14.75 36.375 \r\nQ 14.75 27.25 17.40625 20.4375 \r\nQ 20.0625 13.625 25.671875 10.25 \r\nQ 31.296875 6.890625 37.84375 6.890625 \r\nQ 45.796875 6.890625 51.3125 11.46875 \r\nQ 56.84375 16.0625 58.796875 25.09375 \r\nz\r\n\" id=\"ArialMT-67\"/>\r\n       <path d=\"M -0.140625 0 \r\nL 27.34375 71.578125 \r\nL 37.546875 71.578125 \r\nL 66.84375 0 \r\nL 56.0625 0 \r\nL 47.703125 21.6875 \r\nL 17.78125 21.6875 \r\nL 9.90625 0 \r\nz\r\nM 20.515625 29.390625 \r\nL 44.78125 29.390625 \r\nL 37.3125 49.21875 \r\nQ 33.890625 58.25 32.234375 64.0625 \r\nQ 30.859375 57.171875 28.375 50.390625 \r\nz\r\n\" id=\"ArialMT-65\"/>\r\n       <path id=\"ArialMT-32\"/>\r\n      </defs>\r\n      <use xlink:href=\"#ArialMT-80\"/>\r\n      <use x=\"66.699219\" xlink:href=\"#ArialMT-67\"/>\r\n      <use x=\"138.916016\" xlink:href=\"#ArialMT-65\"/>\r\n      <use x=\"200.115234\" xlink:href=\"#ArialMT-32\"/>\r\n      <use x=\"227.898438\" xlink:href=\"#ArialMT-49\"/>\r\n     </g>\r\n    </g>\r\n   </g>\r\n   <g id=\"matplotlib.axis_2\">\r\n    <g id=\"ytick_1\">\r\n     <g id=\"line2d_8\">\r\n      <path clip-path=\"url(#p8db3a476ae)\" d=\"M 50.333125 199.808534 \r\nL 385.133125 199.808534 \r\n\" style=\"fill:none;stroke:#ffffff;stroke-linecap:round;\"/>\r\n     </g>\r\n     <g id=\"text_9\">\r\n      <!-- −20 -->\r\n      <g style=\"fill:#262626;\" transform=\"translate(22.174375 203.745331)scale(0.11 -0.11)\">\r\n       <use xlink:href=\"#ArialMT-8722\"/>\r\n       <use x=\"58.398438\" xlink:href=\"#ArialMT-50\"/>\r\n       <use x=\"114.013672\" xlink:href=\"#ArialMT-48\"/>\r\n      </g>\r\n     </g>\r\n    </g>\r\n    <g id=\"ytick_2\">\r\n     <g id=\"line2d_9\">\r\n      <path clip-path=\"url(#p8db3a476ae)\" d=\"M 50.333125 169.715017 \r\nL 385.133125 169.715017 \r\n\" style=\"fill:none;stroke:#ffffff;stroke-linecap:round;\"/>\r\n     </g>\r\n     <g id=\"text_10\">\r\n      <!-- −10 -->\r\n      <g style=\"fill:#262626;\" transform=\"translate(22.174375 173.651814)scale(0.11 -0.11)\">\r\n       <use xlink:href=\"#ArialMT-8722\"/>\r\n       <use x=\"58.398438\" xlink:href=\"#ArialMT-49\"/>\r\n       <use x=\"114.013672\" xlink:href=\"#ArialMT-48\"/>\r\n      </g>\r\n     </g>\r\n    </g>\r\n    <g id=\"ytick_3\">\r\n     <g id=\"line2d_10\">\r\n      <path clip-path=\"url(#p8db3a476ae)\" d=\"M 50.333125 139.6215 \r\nL 385.133125 139.6215 \r\n\" style=\"fill:none;stroke:#ffffff;stroke-linecap:round;\"/>\r\n     </g>\r\n     <g id=\"text_11\">\r\n      <!-- 0 -->\r\n      <g style=\"fill:#262626;\" transform=\"translate(34.716094 143.558297)scale(0.11 -0.11)\">\r\n       <use xlink:href=\"#ArialMT-48\"/>\r\n      </g>\r\n     </g>\r\n    </g>\r\n    <g id=\"ytick_4\">\r\n     <g id=\"line2d_11\">\r\n      <path clip-path=\"url(#p8db3a476ae)\" d=\"M 50.333125 109.527983 \r\nL 385.133125 109.527983 \r\n\" style=\"fill:none;stroke:#ffffff;stroke-linecap:round;\"/>\r\n     </g>\r\n     <g id=\"text_12\">\r\n      <!-- 10 -->\r\n      <g style=\"fill:#262626;\" transform=\"translate(28.599063 113.464779)scale(0.11 -0.11)\">\r\n       <use xlink:href=\"#ArialMT-49\"/>\r\n       <use x=\"55.615234\" xlink:href=\"#ArialMT-48\"/>\r\n      </g>\r\n     </g>\r\n    </g>\r\n    <g id=\"ytick_5\">\r\n     <g id=\"line2d_12\">\r\n      <path clip-path=\"url(#p8db3a476ae)\" d=\"M 50.333125 79.434465 \r\nL 385.133125 79.434465 \r\n\" style=\"fill:none;stroke:#ffffff;stroke-linecap:round;\"/>\r\n     </g>\r\n     <g id=\"text_13\">\r\n      <!-- 20 -->\r\n      <g style=\"fill:#262626;\" transform=\"translate(28.599063 83.371262)scale(0.11 -0.11)\">\r\n       <use xlink:href=\"#ArialMT-50\"/>\r\n       <use x=\"55.615234\" xlink:href=\"#ArialMT-48\"/>\r\n      </g>\r\n     </g>\r\n    </g>\r\n    <g id=\"ytick_6\">\r\n     <g id=\"line2d_13\">\r\n      <path clip-path=\"url(#p8db3a476ae)\" d=\"M 50.333125 49.340948 \r\nL 385.133125 49.340948 \r\n\" style=\"fill:none;stroke:#ffffff;stroke-linecap:round;\"/>\r\n     </g>\r\n     <g id=\"text_14\">\r\n      <!-- 30 -->\r\n      <g style=\"fill:#262626;\" transform=\"translate(28.599063 53.277745)scale(0.11 -0.11)\">\r\n       <use xlink:href=\"#ArialMT-51\"/>\r\n       <use x=\"55.615234\" xlink:href=\"#ArialMT-48\"/>\r\n      </g>\r\n     </g>\r\n    </g>\r\n    <g id=\"ytick_7\">\r\n     <g id=\"line2d_14\">\r\n      <path clip-path=\"url(#p8db3a476ae)\" d=\"M 50.333125 19.247431 \r\nL 385.133125 19.247431 \r\n\" style=\"fill:none;stroke:#ffffff;stroke-linecap:round;\"/>\r\n     </g>\r\n     <g id=\"text_15\">\r\n      <!-- 40 -->\r\n      <g style=\"fill:#262626;\" transform=\"translate(28.599063 23.184227)scale(0.11 -0.11)\">\r\n       <use xlink:href=\"#ArialMT-52\"/>\r\n       <use x=\"55.615234\" xlink:href=\"#ArialMT-48\"/>\r\n      </g>\r\n     </g>\r\n    </g>\r\n    <g id=\"text_16\">\r\n     <!-- PCA 2 -->\r\n     <g style=\"fill:#262626;\" transform=\"translate(15.789375 132.930937)rotate(-90)scale(0.12 -0.12)\">\r\n      <use xlink:href=\"#ArialMT-80\"/>\r\n      <use x=\"66.699219\" xlink:href=\"#ArialMT-67\"/>\r\n      <use x=\"138.916016\" xlink:href=\"#ArialMT-65\"/>\r\n      <use x=\"200.115234\" xlink:href=\"#ArialMT-32\"/>\r\n      <use x=\"227.898438\" xlink:href=\"#ArialMT-50\"/>\r\n     </g>\r\n    </g>\r\n   </g>\r\n   <g id=\"PathCollection_1\">\r\n    <defs>\r\n     <path d=\"M 0 3 \r\nC 0.795609 3 1.55874 2.683901 2.12132 2.12132 \r\nC 2.683901 1.55874 3 0.795609 3 0 \r\nC 3 -0.795609 2.683901 -1.55874 2.12132 -2.12132 \r\nC 1.55874 -2.683901 0.795609 -3 0 -3 \r\nC -0.795609 -3 -1.55874 -2.683901 -2.12132 -2.12132 \r\nC -2.683901 -1.55874 -3 -0.795609 -3 0 \r\nC -3 0.795609 -2.683901 1.55874 -2.12132 2.12132 \r\nC -1.55874 2.683901 -0.795609 3 0 3 \r\nz\r\n\" id=\"m18e7dcae92\" style=\"stroke:#000000;stroke-opacity:0.1;\"/>\r\n    </defs>\r\n    <g clip-path=\"url(#p8db3a476ae)\">\r\n     <use style=\"fill-opacity:0.1;stroke:#000000;stroke-opacity:0.1;\" x=\"534.231152\" xlink:href=\"#m18e7dcae92\" y=\"125.356306\"/>\r\n     <use style=\"fill-opacity:0.1;stroke:#000000;stroke-opacity:0.1;\" x=\"364.52317\" xlink:href=\"#m18e7dcae92\" y=\"132.438291\"/>\r\n     <use style=\"fill-opacity:0.1;stroke:#000000;stroke-opacity:0.1;\" x=\"327.627844\" xlink:href=\"#m18e7dcae92\" y=\"136.225932\"/>\r\n     <use style=\"fill-opacity:0.1;stroke:#000000;stroke-opacity:0.1;\" x=\"1883.540996\" xlink:href=\"#m18e7dcae92\" y=\"17.083636\"/>\r\n     <use style=\"fill-opacity:0.1;stroke:#000000;stroke-opacity:0.1;\" x=\"284.100783\" xlink:href=\"#m18e7dcae92\" y=\"137.683851\"/>\r\n     <use style=\"fill-opacity:0.1;stroke:#000000;stroke-opacity:0.1;\" x=\"329.101963\" xlink:href=\"#m18e7dcae92\" y=\"136.193034\"/>\r\n     <use style=\"fill-opacity:0.1;stroke:#000000;stroke-opacity:0.1;\" x=\"287.392573\" xlink:href=\"#m18e7dcae92\" y=\"137.74836\"/>\r\n     <use style=\"fill-opacity:0.1;stroke:#000000;stroke-opacity:0.1;\" x=\"290.008486\" xlink:href=\"#m18e7dcae92\" y=\"138.804982\"/>\r\n     <use style=\"fill-opacity:0.1;stroke:#000000;stroke-opacity:0.1;\" x=\"279.63649\" xlink:href=\"#m18e7dcae92\" y=\"138.584211\"/>\r\n     <use style=\"fill-opacity:0.1;stroke:#000000;stroke-opacity:0.1;\" x=\"271.581529\" xlink:href=\"#m18e7dcae92\" y=\"139.494177\"/>\r\n     <use style=\"fill-opacity:0.1;stroke:#000000;stroke-opacity:0.1;\" x=\"4340.854589\" xlink:href=\"#m18e7dcae92\" y=\"214.756364\"/>\r\n     <use style=\"fill-opacity:0.1;stroke:#000000;stroke-opacity:0.1;\" x=\"263.834361\" xlink:href=\"#m18e7dcae92\" y=\"139.500593\"/>\r\n     <use style=\"fill-opacity:0.1;stroke:#000000;stroke-opacity:0.1;\" x=\"266.563922\" xlink:href=\"#m18e7dcae92\" y=\"139.277003\"/>\r\n     <use style=\"fill-opacity:0.1;stroke:#000000;stroke-opacity:0.1;\" x=\"269.586622\" xlink:href=\"#m18e7dcae92\" y=\"139.842953\"/>\r\n     <use style=\"fill-opacity:0.1;stroke:#000000;stroke-opacity:0.1;\" x=\"672.623625\" xlink:href=\"#m18e7dcae92\" y=\"114.015993\"/>\r\n     <use style=\"fill-opacity:0.1;stroke:#000000;stroke-opacity:0.1;\" x=\"265.207106\" xlink:href=\"#m18e7dcae92\" y=\"139.453716\"/>\r\n     <use style=\"fill-opacity:0.1;stroke:#000000;stroke-opacity:0.1;\" x=\"275.810889\" xlink:href=\"#m18e7dcae92\" y=\"139.481053\"/>\r\n     <use style=\"fill-opacity:0.1;stroke:#000000;stroke-opacity:0.1;\" x=\"273.291426\" xlink:href=\"#m18e7dcae92\" y=\"139.277329\"/>\r\n     <use style=\"fill-opacity:0.1;stroke:#000000;stroke-opacity:0.1;\" x=\"262.74774\" xlink:href=\"#m18e7dcae92\" y=\"139.780289\"/>\r\n     <use style=\"fill-opacity:0.1;stroke:#000000;stroke-opacity:0.1;\" x=\"259.077637\" xlink:href=\"#m18e7dcae92\" y=\"140.062777\"/>\r\n     <use style=\"fill-opacity:0.1;stroke:#000000;stroke-opacity:0.1;\" x=\"263.272473\" xlink:href=\"#m18e7dcae92\" y=\"139.798127\"/>\r\n     <use style=\"fill-opacity:0.1;stroke:#000000;stroke-opacity:0.1;\" x=\"259.951137\" xlink:href=\"#m18e7dcae92\" y=\"140.003448\"/>\r\n     <use style=\"fill-opacity:0.1;stroke:#000000;stroke-opacity:0.1;\" x=\"264.865444\" xlink:href=\"#m18e7dcae92\" y=\"139.555629\"/>\r\n     <use style=\"fill-opacity:0.1;stroke:#000000;stroke-opacity:0.1;\" x=\"260.447645\" xlink:href=\"#m18e7dcae92\" y=\"139.936977\"/>\r\n     <use style=\"fill-opacity:0.1;stroke:#000000;stroke-opacity:0.1;\" x=\"352.79995\" xlink:href=\"#m18e7dcae92\" y=\"126.900705\"/>\r\n     <use style=\"fill-opacity:0.1;stroke:#000000;stroke-opacity:0.1;\" x=\"590.096857\" xlink:href=\"#m18e7dcae92\" y=\"117.494108\"/>\r\n     <use style=\"fill-opacity:0.1;stroke:#000000;stroke-opacity:0.1;\" x=\"259.01647\" xlink:href=\"#m18e7dcae92\" y=\"140.194895\"/>\r\n     <use style=\"fill-opacity:0.1;stroke:#000000;stroke-opacity:0.1;\" x=\"272.337276\" xlink:href=\"#m18e7dcae92\" y=\"140.448373\"/>\r\n     <use style=\"fill-opacity:0.1;stroke:#000000;stroke-opacity:0.1;\" x=\"282.311188\" xlink:href=\"#m18e7dcae92\" y=\"138.753678\"/>\r\n     <use style=\"fill-opacity:0.1;stroke:#000000;stroke-opacity:0.1;\" x=\"269.22023\" xlink:href=\"#m18e7dcae92\" y=\"140.166457\"/>\r\n     <use style=\"fill-opacity:0.1;stroke:#000000;stroke-opacity:0.1;\" x=\"267.934309\" xlink:href=\"#m18e7dcae92\" y=\"139.633475\"/>\r\n     <use style=\"fill-opacity:0.1;stroke:#000000;stroke-opacity:0.1;\" x=\"380.484623\" xlink:href=\"#m18e7dcae92\" y=\"128.519665\"/>\r\n     <use style=\"fill-opacity:0.1;stroke:#000000;stroke-opacity:0.1;\" x=\"268.364318\" xlink:href=\"#m18e7dcae92\" y=\"139.335438\"/>\r\n     <use style=\"fill-opacity:0.1;stroke:#000000;stroke-opacity:0.1;\" x=\"262.484573\" xlink:href=\"#m18e7dcae92\" y=\"140.359275\"/>\r\n     <use style=\"fill-opacity:0.1;stroke:#000000;stroke-opacity:0.1;\" x=\"260.757631\" xlink:href=\"#m18e7dcae92\" y=\"139.971629\"/>\r\n     <use style=\"fill-opacity:0.1;stroke:#000000;stroke-opacity:0.1;\" x=\"394.574161\" xlink:href=\"#m18e7dcae92\" y=\"143.512944\"/>\r\n     <use style=\"fill-opacity:0.1;stroke:#000000;stroke-opacity:0.1;\" x=\"559.088126\" xlink:href=\"#m18e7dcae92\" y=\"134.640749\"/>\r\n     <use style=\"fill-opacity:0.1;stroke:#000000;stroke-opacity:0.1;\" x=\"259.07474\" xlink:href=\"#m18e7dcae92\" y=\"140.299422\"/>\r\n     <use style=\"fill-opacity:0.1;stroke:#000000;stroke-opacity:0.1;\" x=\"259.025529\" xlink:href=\"#m18e7dcae92\" y=\"140.192745\"/>\r\n     <use style=\"fill-opacity:0.1;stroke:#000000;stroke-opacity:0.1;\" x=\"371.519463\" xlink:href=\"#m18e7dcae92\" y=\"139.41481\"/>\r\n     <use style=\"fill-opacity:0.1;stroke:#000000;stroke-opacity:0.1;\" x=\"257.107084\" xlink:href=\"#m18e7dcae92\" y=\"140.264041\"/>\r\n     <use style=\"fill-opacity:0.1;stroke:#000000;stroke-opacity:0.1;\" x=\"278.050049\" xlink:href=\"#m18e7dcae92\" y=\"141.135718\"/>\r\n     <use style=\"fill-opacity:0.1;stroke:#000000;stroke-opacity:0.1;\" x=\"257.159163\" xlink:href=\"#m18e7dcae92\" y=\"140.279065\"/>\r\n     <use style=\"fill-opacity:0.1;stroke:#000000;stroke-opacity:0.1;\" x=\"279.337118\" xlink:href=\"#m18e7dcae92\" y=\"139.47495\"/>\r\n     <use style=\"fill-opacity:0.1;stroke:#000000;stroke-opacity:0.1;\" x=\"261.703598\" xlink:href=\"#m18e7dcae92\" y=\"139.920491\"/>\r\n     <use style=\"fill-opacity:0.1;stroke:#000000;stroke-opacity:0.1;\" x=\"259.14491\" xlink:href=\"#m18e7dcae92\" y=\"140.241226\"/>\r\n     <use style=\"fill-opacity:0.1;stroke:#000000;stroke-opacity:0.1;\" x=\"962.151398\" xlink:href=\"#m18e7dcae92\" y=\"131.220718\"/>\r\n     <use style=\"fill-opacity:0.1;stroke:#000000;stroke-opacity:0.1;\" x=\"275.211177\" xlink:href=\"#m18e7dcae92\" y=\"138.862455\"/>\r\n     <use style=\"fill-opacity:0.1;stroke:#000000;stroke-opacity:0.1;\" x=\"424.772375\" xlink:href=\"#m18e7dcae92\" y=\"133.759452\"/>\r\n     <use style=\"fill-opacity:0.1;stroke:#000000;stroke-opacity:0.1;\" x=\"258.80992\" xlink:href=\"#m18e7dcae92\" y=\"140.247166\"/>\r\n     <use style=\"fill-opacity:0.1;stroke:#000000;stroke-opacity:0.1;\" x=\"265.874961\" xlink:href=\"#m18e7dcae92\" y=\"139.698285\"/>\r\n     <use style=\"fill-opacity:0.1;stroke:#000000;stroke-opacity:0.1;\" x=\"331.032207\" xlink:href=\"#m18e7dcae92\" y=\"125.145994\"/>\r\n     <use style=\"fill-opacity:0.1;stroke:#000000;stroke-opacity:0.1;\" x=\"257.654441\" xlink:href=\"#m18e7dcae92\" y=\"140.260111\"/>\r\n     <use style=\"fill-opacity:0.1;stroke:#000000;stroke-opacity:0.1;\" x=\"257.869042\" xlink:href=\"#m18e7dcae92\" y=\"140.385705\"/>\r\n     <use style=\"fill-opacity:0.1;stroke:#000000;stroke-opacity:0.1;\" x=\"260.79745\" xlink:href=\"#m18e7dcae92\" y=\"139.999958\"/>\r\n     <use style=\"fill-opacity:0.1;stroke:#000000;stroke-opacity:0.1;\" x=\"259.362888\" xlink:href=\"#m18e7dcae92\" y=\"140.206457\"/>\r\n     <use style=\"fill-opacity:0.1;stroke:#000000;stroke-opacity:0.1;\" x=\"353.398589\" xlink:href=\"#m18e7dcae92\" y=\"122.316106\"/>\r\n     <use style=\"fill-opacity:0.1;stroke:#000000;stroke-opacity:0.1;\" x=\"256.414546\" xlink:href=\"#m18e7dcae92\" y=\"140.367155\"/>\r\n     <use style=\"fill-opacity:0.1;stroke:#000000;stroke-opacity:0.1;\" x=\"257.619526\" xlink:href=\"#m18e7dcae92\" y=\"140.332028\"/>\r\n     <use style=\"fill-opacity:0.1;stroke:#000000;stroke-opacity:0.1;\" x=\"275.517745\" xlink:href=\"#m18e7dcae92\" y=\"139.364044\"/>\r\n     <use style=\"fill-opacity:0.1;stroke:#000000;stroke-opacity:0.1;\" x=\"288.834157\" xlink:href=\"#m18e7dcae92\" y=\"140.052506\"/>\r\n     <use style=\"fill-opacity:0.1;stroke:#000000;stroke-opacity:0.1;\" x=\"258.638041\" xlink:href=\"#m18e7dcae92\" y=\"140.32206\"/>\r\n     <use style=\"fill-opacity:0.1;stroke:#000000;stroke-opacity:0.1;\" x=\"256.92917\" xlink:href=\"#m18e7dcae92\" y=\"140.398472\"/>\r\n     <use style=\"fill-opacity:0.1;stroke:#000000;stroke-opacity:0.1;\" x=\"259.992898\" xlink:href=\"#m18e7dcae92\" y=\"140.367787\"/>\r\n     <use style=\"fill-opacity:0.1;stroke:#000000;stroke-opacity:0.1;\" x=\"625.731294\" xlink:href=\"#m18e7dcae92\" y=\"111.155592\"/>\r\n     <use style=\"fill-opacity:0.1;stroke:#000000;stroke-opacity:0.1;\" x=\"256.656914\" xlink:href=\"#m18e7dcae92\" y=\"140.401684\"/>\r\n     <use style=\"fill-opacity:0.1;stroke:#000000;stroke-opacity:0.1;\" x=\"268.978246\" xlink:href=\"#m18e7dcae92\" y=\"139.407153\"/>\r\n     <use style=\"fill-opacity:0.1;stroke:#000000;stroke-opacity:0.1;\" x=\"263.149297\" xlink:href=\"#m18e7dcae92\" y=\"139.985677\"/>\r\n     <use style=\"fill-opacity:0.1;stroke:#000000;stroke-opacity:0.1;\" x=\"268.615905\" xlink:href=\"#m18e7dcae92\" y=\"139.875809\"/>\r\n     <use style=\"fill-opacity:0.1;stroke:#000000;stroke-opacity:0.1;\" x=\"259.929461\" xlink:href=\"#m18e7dcae92\" y=\"140.146516\"/>\r\n     <use style=\"fill-opacity:0.1;stroke:#000000;stroke-opacity:0.1;\" x=\"258.50775\" xlink:href=\"#m18e7dcae92\" y=\"140.229562\"/>\r\n     <use style=\"fill-opacity:0.1;stroke:#000000;stroke-opacity:0.1;\" x=\"256.414577\" xlink:href=\"#m18e7dcae92\" y=\"140.417658\"/>\r\n     <use style=\"fill-opacity:0.1;stroke:#000000;stroke-opacity:0.1;\" x=\"264.593852\" xlink:href=\"#m18e7dcae92\" y=\"140.518387\"/>\r\n     <use style=\"fill-opacity:0.1;stroke:#000000;stroke-opacity:0.1;\" x=\"258.627467\" xlink:href=\"#m18e7dcae92\" y=\"140.243823\"/>\r\n     <use style=\"fill-opacity:0.1;stroke:#000000;stroke-opacity:0.1;\" x=\"273.163376\" xlink:href=\"#m18e7dcae92\" y=\"139.047449\"/>\r\n     <use style=\"fill-opacity:0.1;stroke:#000000;stroke-opacity:0.1;\" x=\"263.441692\" xlink:href=\"#m18e7dcae92\" y=\"140.140343\"/>\r\n     <use style=\"fill-opacity:0.1;stroke:#000000;stroke-opacity:0.1;\" x=\"309.448474\" xlink:href=\"#m18e7dcae92\" y=\"141.38003\"/>\r\n     <use style=\"fill-opacity:0.1;stroke:#000000;stroke-opacity:0.1;\" x=\"807.540344\" xlink:href=\"#m18e7dcae92\" y=\"126.616126\"/>\r\n     <use style=\"fill-opacity:0.1;stroke:#000000;stroke-opacity:0.1;\" x=\"255.925636\" xlink:href=\"#m18e7dcae92\" y=\"140.419479\"/>\r\n     <use style=\"fill-opacity:0.1;stroke:#000000;stroke-opacity:0.1;\" x=\"258.385676\" xlink:href=\"#m18e7dcae92\" y=\"140.252298\"/>\r\n     <use style=\"fill-opacity:0.1;stroke:#000000;stroke-opacity:0.1;\" x=\"816.963198\" xlink:href=\"#m18e7dcae92\" y=\"126.692887\"/>\r\n     <use style=\"fill-opacity:0.1;stroke:#000000;stroke-opacity:0.1;\" x=\"262.215879\" xlink:href=\"#m18e7dcae92\" y=\"140.004801\"/>\r\n     <use style=\"fill-opacity:0.1;stroke:#000000;stroke-opacity:0.1;\" x=\"262.150937\" xlink:href=\"#m18e7dcae92\" y=\"139.956035\"/>\r\n     <use style=\"fill-opacity:0.1;stroke:#000000;stroke-opacity:0.1;\" x=\"276.760809\" xlink:href=\"#m18e7dcae92\" y=\"139.603454\"/>\r\n     <use style=\"fill-opacity:0.1;stroke:#000000;stroke-opacity:0.1;\" x=\"272.155807\" xlink:href=\"#m18e7dcae92\" y=\"139.939769\"/>\r\n     <use style=\"fill-opacity:0.1;stroke:#000000;stroke-opacity:0.1;\" x=\"288.541507\" xlink:href=\"#m18e7dcae92\" y=\"139.477999\"/>\r\n     <use style=\"fill-opacity:0.1;stroke:#000000;stroke-opacity:0.1;\" x=\"861.863536\" xlink:href=\"#m18e7dcae92\" y=\"125.473275\"/>\r\n     <use style=\"fill-opacity:0.1;stroke:#000000;stroke-opacity:0.1;\" x=\"264.262914\" xlink:href=\"#m18e7dcae92\" y=\"139.762088\"/>\r\n     <use style=\"fill-opacity:0.1;stroke:#000000;stroke-opacity:0.1;\" x=\"260.969268\" xlink:href=\"#m18e7dcae92\" y=\"140.060316\"/>\r\n     <use style=\"fill-opacity:0.1;stroke:#000000;stroke-opacity:0.1;\" x=\"380.114862\" xlink:href=\"#m18e7dcae92\" y=\"134.235874\"/>\r\n     <use style=\"fill-opacity:0.1;stroke:#000000;stroke-opacity:0.1;\" x=\"256.947772\" xlink:href=\"#m18e7dcae92\" y=\"140.475053\"/>\r\n     <use style=\"fill-opacity:0.1;stroke:#000000;stroke-opacity:0.1;\" x=\"281.830917\" xlink:href=\"#m18e7dcae92\" y=\"138.689792\"/>\r\n     <use style=\"fill-opacity:0.1;stroke:#000000;stroke-opacity:0.1;\" x=\"299.661778\" xlink:href=\"#m18e7dcae92\" y=\"137.859997\"/>\r\n     <use style=\"fill-opacity:0.1;stroke:#000000;stroke-opacity:0.1;\" x=\"262.702259\" xlink:href=\"#m18e7dcae92\" y=\"139.899602\"/>\r\n     <use style=\"fill-opacity:0.1;stroke:#000000;stroke-opacity:0.1;\" x=\"256.514237\" xlink:href=\"#m18e7dcae92\" y=\"140.420776\"/>\r\n     <use style=\"fill-opacity:0.1;stroke:#000000;stroke-opacity:0.1;\" x=\"255.954613\" xlink:href=\"#m18e7dcae92\" y=\"140.455728\"/>\r\n     <use style=\"fill-opacity:0.1;stroke:#000000;stroke-opacity:0.1;\" x=\"256.801332\" xlink:href=\"#m18e7dcae92\" y=\"140.361349\"/>\r\n     <use style=\"fill-opacity:0.1;stroke:#000000;stroke-opacity:0.1;\" x=\"259.552647\" xlink:href=\"#m18e7dcae92\" y=\"140.166264\"/>\r\n     <use style=\"fill-opacity:0.1;stroke:#000000;stroke-opacity:0.1;\" x=\"271.540827\" xlink:href=\"#m18e7dcae92\" y=\"139.36345\"/>\r\n     <use style=\"fill-opacity:0.1;stroke:#000000;stroke-opacity:0.1;\" x=\"260.241395\" xlink:href=\"#m18e7dcae92\" y=\"140.571421\"/>\r\n     <use style=\"fill-opacity:0.1;stroke:#000000;stroke-opacity:0.1;\" x=\"376.926233\" xlink:href=\"#m18e7dcae92\" y=\"134.349248\"/>\r\n     <use style=\"fill-opacity:0.1;stroke:#000000;stroke-opacity:0.1;\" x=\"268.428635\" xlink:href=\"#m18e7dcae92\" y=\"140.471979\"/>\r\n     <use style=\"fill-opacity:0.1;stroke:#000000;stroke-opacity:0.1;\" x=\"256.697692\" xlink:href=\"#m18e7dcae92\" y=\"140.364252\"/>\r\n     <use style=\"fill-opacity:0.1;stroke:#000000;stroke-opacity:0.1;\" x=\"267.408451\" xlink:href=\"#m18e7dcae92\" y=\"139.515075\"/>\r\n     <use style=\"fill-opacity:0.1;stroke:#000000;stroke-opacity:0.1;\" x=\"257.012097\" xlink:href=\"#m18e7dcae92\" y=\"140.490432\"/>\r\n     <use style=\"fill-opacity:0.1;stroke:#000000;stroke-opacity:0.1;\" x=\"264.109482\" xlink:href=\"#m18e7dcae92\" y=\"139.736501\"/>\r\n     <use style=\"fill-opacity:0.1;stroke:#000000;stroke-opacity:0.1;\" x=\"264.841707\" xlink:href=\"#m18e7dcae92\" y=\"140.695693\"/>\r\n     <use style=\"fill-opacity:0.1;stroke:#000000;stroke-opacity:0.1;\" x=\"257.950067\" xlink:href=\"#m18e7dcae92\" y=\"140.282432\"/>\r\n     <use style=\"fill-opacity:0.1;stroke:#000000;stroke-opacity:0.1;\" x=\"255.524281\" xlink:href=\"#m18e7dcae92\" y=\"140.456008\"/>\r\n     <use style=\"fill-opacity:0.1;stroke:#000000;stroke-opacity:0.1;\" x=\"262.741958\" xlink:href=\"#m18e7dcae92\" y=\"139.883983\"/>\r\n     <use style=\"fill-opacity:0.1;stroke:#000000;stroke-opacity:0.1;\" x=\"320.370564\" xlink:href=\"#m18e7dcae92\" y=\"139.795423\"/>\r\n     <use style=\"fill-opacity:0.1;stroke:#000000;stroke-opacity:0.1;\" x=\"266.999538\" xlink:href=\"#m18e7dcae92\" y=\"139.631009\"/>\r\n     <use style=\"fill-opacity:0.1;stroke:#000000;stroke-opacity:0.1;\" x=\"258.057157\" xlink:href=\"#m18e7dcae92\" y=\"140.293049\"/>\r\n     <use style=\"fill-opacity:0.1;stroke:#000000;stroke-opacity:0.1;\" x=\"256.889014\" xlink:href=\"#m18e7dcae92\" y=\"140.38005\"/>\r\n     <use style=\"fill-opacity:0.1;stroke:#000000;stroke-opacity:0.1;\" x=\"273.348339\" xlink:href=\"#m18e7dcae92\" y=\"140.96891\"/>\r\n     <use style=\"fill-opacity:0.1;stroke:#000000;stroke-opacity:0.1;\" x=\"265.211341\" xlink:href=\"#m18e7dcae92\" y=\"140.621439\"/>\r\n     <use style=\"fill-opacity:0.1;stroke:#000000;stroke-opacity:0.1;\" x=\"269.166334\" xlink:href=\"#m18e7dcae92\" y=\"140.117288\"/>\r\n     <use style=\"fill-opacity:0.1;stroke:#000000;stroke-opacity:0.1;\" x=\"256.904743\" xlink:href=\"#m18e7dcae92\" y=\"140.381751\"/>\r\n     <use style=\"fill-opacity:0.1;stroke:#000000;stroke-opacity:0.1;\" x=\"313.393758\" xlink:href=\"#m18e7dcae92\" y=\"138.487592\"/>\r\n     <use style=\"fill-opacity:0.1;stroke:#000000;stroke-opacity:0.1;\" x=\"261.345839\" xlink:href=\"#m18e7dcae92\" y=\"140.21556\"/>\r\n     <use style=\"fill-opacity:0.1;stroke:#000000;stroke-opacity:0.1;\" x=\"256.875062\" xlink:href=\"#m18e7dcae92\" y=\"140.360066\"/>\r\n     <use style=\"fill-opacity:0.1;stroke:#000000;stroke-opacity:0.1;\" x=\"255.440081\" xlink:href=\"#m18e7dcae92\" y=\"140.465692\"/>\r\n     <use style=\"fill-opacity:0.1;stroke:#000000;stroke-opacity:0.1;\" x=\"256.91264\" xlink:href=\"#m18e7dcae92\" y=\"140.387164\"/>\r\n     <use style=\"fill-opacity:0.1;stroke:#000000;stroke-opacity:0.1;\" x=\"320.228279\" xlink:href=\"#m18e7dcae92\" y=\"136.666542\"/>\r\n     <use style=\"fill-opacity:0.1;stroke:#000000;stroke-opacity:0.1;\" x=\"267.832282\" xlink:href=\"#m18e7dcae92\" y=\"140.114532\"/>\r\n     <use style=\"fill-opacity:0.1;stroke:#000000;stroke-opacity:0.1;\" x=\"260.929449\" xlink:href=\"#m18e7dcae92\" y=\"140.092529\"/>\r\n     <use style=\"fill-opacity:0.1;stroke:#000000;stroke-opacity:0.1;\" x=\"285.948704\" xlink:href=\"#m18e7dcae92\" y=\"140.758146\"/>\r\n     <use style=\"fill-opacity:0.1;stroke:#000000;stroke-opacity:0.1;\" x=\"255.548625\" xlink:href=\"#m18e7dcae92\" y=\"140.471409\"/>\r\n     <use style=\"fill-opacity:0.1;stroke:#000000;stroke-opacity:0.1;\" x=\"261.805799\" xlink:href=\"#m18e7dcae92\" y=\"139.931177\"/>\r\n     <use style=\"fill-opacity:0.1;stroke:#000000;stroke-opacity:0.1;\" x=\"260.107491\" xlink:href=\"#m18e7dcae92\" y=\"140.294388\"/>\r\n     <use style=\"fill-opacity:0.1;stroke:#000000;stroke-opacity:0.1;\" x=\"264.096214\" xlink:href=\"#m18e7dcae92\" y=\"139.758263\"/>\r\n     <use style=\"fill-opacity:0.1;stroke:#000000;stroke-opacity:0.1;\" x=\"257.464172\" xlink:href=\"#m18e7dcae92\" y=\"140.35361\"/>\r\n     <use style=\"fill-opacity:0.1;stroke:#000000;stroke-opacity:0.1;\" x=\"308.810499\" xlink:href=\"#m18e7dcae92\" y=\"137.236598\"/>\r\n     <use style=\"fill-opacity:0.1;stroke:#000000;stroke-opacity:0.1;\" x=\"258.442821\" xlink:href=\"#m18e7dcae92\" y=\"140.293795\"/>\r\n     <use style=\"fill-opacity:0.1;stroke:#000000;stroke-opacity:0.1;\" x=\"255.761261\" xlink:href=\"#m18e7dcae92\" y=\"140.481844\"/>\r\n     <use style=\"fill-opacity:0.1;stroke:#000000;stroke-opacity:0.1;\" x=\"258.579627\" xlink:href=\"#m18e7dcae92\" y=\"140.203823\"/>\r\n     <use style=\"fill-opacity:0.1;stroke:#000000;stroke-opacity:0.1;\" x=\"256.783084\" xlink:href=\"#m18e7dcae92\" y=\"140.367337\"/>\r\n     <use style=\"fill-opacity:0.1;stroke:#000000;stroke-opacity:0.1;\" x=\"270.35652\" xlink:href=\"#m18e7dcae92\" y=\"140.180404\"/>\r\n     <use style=\"fill-opacity:0.1;stroke:#000000;stroke-opacity:0.1;\" x=\"255.379259\" xlink:href=\"#m18e7dcae92\" y=\"140.473164\"/>\r\n     <use style=\"fill-opacity:0.1;stroke:#000000;stroke-opacity:0.1;\" x=\"261.060822\" xlink:href=\"#m18e7dcae92\" y=\"140.032469\"/>\r\n     <use style=\"fill-opacity:0.1;stroke:#000000;stroke-opacity:0.1;\" x=\"255.463882\" xlink:href=\"#m18e7dcae92\" y=\"140.475802\"/>\r\n     <use style=\"fill-opacity:0.1;stroke:#000000;stroke-opacity:0.1;\" x=\"260.700688\" xlink:href=\"#m18e7dcae92\" y=\"140.119327\"/>\r\n     <use style=\"fill-opacity:0.1;stroke:#000000;stroke-opacity:0.1;\" x=\"780.158808\" xlink:href=\"#m18e7dcae92\" y=\"135.593621\"/>\r\n     <use style=\"fill-opacity:0.1;stroke:#000000;stroke-opacity:0.1;\" x=\"268.719236\" xlink:href=\"#m18e7dcae92\" y=\"139.982557\"/>\r\n     <use style=\"fill-opacity:0.1;stroke:#000000;stroke-opacity:0.1;\" x=\"265.910801\" xlink:href=\"#m18e7dcae92\" y=\"139.858331\"/>\r\n     <use style=\"fill-opacity:0.1;stroke:#000000;stroke-opacity:0.1;\" x=\"255.348518\" xlink:href=\"#m18e7dcae92\" y=\"140.477796\"/>\r\n     <use style=\"fill-opacity:0.1;stroke:#000000;stroke-opacity:0.1;\" x=\"312.927028\" xlink:href=\"#m18e7dcae92\" y=\"136.696005\"/>\r\n     <use style=\"fill-opacity:0.1;stroke:#000000;stroke-opacity:0.1;\" x=\"270.015181\" xlink:href=\"#m18e7dcae92\" y=\"139.813704\"/>\r\n     <use style=\"fill-opacity:0.1;stroke:#000000;stroke-opacity:0.1;\" x=\"272.50983\" xlink:href=\"#m18e7dcae92\" y=\"138.784342\"/>\r\n     <use style=\"fill-opacity:0.1;stroke:#000000;stroke-opacity:0.1;\" x=\"262.442981\" xlink:href=\"#m18e7dcae92\" y=\"140.65488\"/>\r\n     <use style=\"fill-opacity:0.1;stroke:#000000;stroke-opacity:0.1;\" x=\"264.536413\" xlink:href=\"#m18e7dcae92\" y=\"139.869552\"/>\r\n     <use style=\"fill-opacity:0.1;stroke:#000000;stroke-opacity:0.1;\" x=\"256.6645\" xlink:href=\"#m18e7dcae92\" y=\"140.395763\"/>\r\n     <use style=\"fill-opacity:0.1;stroke:#000000;stroke-opacity:0.1;\" x=\"258.893091\" xlink:href=\"#m18e7dcae92\" y=\"140.335126\"/>\r\n     <use style=\"fill-opacity:0.1;stroke:#000000;stroke-opacity:0.1;\" x=\"261.861269\" xlink:href=\"#m18e7dcae92\" y=\"140.626697\"/>\r\n     <use style=\"fill-opacity:0.1;stroke:#000000;stroke-opacity:0.1;\" x=\"259.575246\" xlink:href=\"#m18e7dcae92\" y=\"140.12054\"/>\r\n     <use style=\"fill-opacity:0.1;stroke:#000000;stroke-opacity:0.1;\" x=\"277.125849\" xlink:href=\"#m18e7dcae92\" y=\"138.756166\"/>\r\n     <use style=\"fill-opacity:0.1;stroke:#000000;stroke-opacity:0.1;\" x=\"262.433585\" xlink:href=\"#m18e7dcae92\" y=\"140.656465\"/>\r\n     <use style=\"fill-opacity:0.1;stroke:#000000;stroke-opacity:0.1;\" x=\"284.736035\" xlink:href=\"#m18e7dcae92\" y=\"138.260603\"/>\r\n     <use style=\"fill-opacity:0.1;stroke:#000000;stroke-opacity:0.1;\" x=\"257.669193\" xlink:href=\"#m18e7dcae92\" y=\"140.422862\"/>\r\n     <use style=\"fill-opacity:0.1;stroke:#000000;stroke-opacity:0.1;\" x=\"257.673153\" xlink:href=\"#m18e7dcae92\" y=\"140.306575\"/>\r\n     <use style=\"fill-opacity:0.1;stroke:#000000;stroke-opacity:0.1;\" x=\"257.26503\" xlink:href=\"#m18e7dcae92\" y=\"140.414027\"/>\r\n     <use style=\"fill-opacity:0.1;stroke:#000000;stroke-opacity:0.1;\" x=\"256.87192\" xlink:href=\"#m18e7dcae92\" y=\"140.404156\"/>\r\n     <use style=\"fill-opacity:0.1;stroke:#000000;stroke-opacity:0.1;\" x=\"265.717462\" xlink:href=\"#m18e7dcae92\" y=\"139.849258\"/>\r\n     <use style=\"fill-opacity:0.1;stroke:#000000;stroke-opacity:0.1;\" x=\"278.989008\" xlink:href=\"#m18e7dcae92\" y=\"139.54264\"/>\r\n     <use style=\"fill-opacity:0.1;stroke:#000000;stroke-opacity:0.1;\" x=\"257.155723\" xlink:href=\"#m18e7dcae92\" y=\"140.412628\"/>\r\n     <use style=\"fill-opacity:0.1;stroke:#000000;stroke-opacity:0.1;\" x=\"256.515758\" xlink:href=\"#m18e7dcae92\" y=\"140.396531\"/>\r\n     <use style=\"fill-opacity:0.1;stroke:#000000;stroke-opacity:0.1;\" x=\"255.583959\" xlink:href=\"#m18e7dcae92\" y=\"140.489579\"/>\r\n     <use style=\"fill-opacity:0.1;stroke:#000000;stroke-opacity:0.1;\" x=\"313.506903\" xlink:href=\"#m18e7dcae92\" y=\"128.459701\"/>\r\n     <use style=\"fill-opacity:0.1;stroke:#000000;stroke-opacity:0.1;\" x=\"260.069358\" xlink:href=\"#m18e7dcae92\" y=\"140.255976\"/>\r\n     <use style=\"fill-opacity:0.1;stroke:#000000;stroke-opacity:0.1;\" x=\"257.227831\" xlink:href=\"#m18e7dcae92\" y=\"140.415871\"/>\r\n     <use style=\"fill-opacity:0.1;stroke:#000000;stroke-opacity:0.1;\" x=\"258.035467\" xlink:href=\"#m18e7dcae92\" y=\"140.320716\"/>\r\n     <use style=\"fill-opacity:0.1;stroke:#000000;stroke-opacity:0.1;\" x=\"263.778491\" xlink:href=\"#m18e7dcae92\" y=\"140.585512\"/>\r\n     <use style=\"fill-opacity:0.1;stroke:#000000;stroke-opacity:0.1;\" x=\"257.187346\" xlink:href=\"#m18e7dcae92\" y=\"140.394513\"/>\r\n     <use style=\"fill-opacity:0.1;stroke:#000000;stroke-opacity:0.1;\" x=\"260.885713\" xlink:href=\"#m18e7dcae92\" y=\"140.586518\"/>\r\n     <use style=\"fill-opacity:0.1;stroke:#000000;stroke-opacity:0.1;\" x=\"291.03827\" xlink:href=\"#m18e7dcae92\" y=\"134.694027\"/>\r\n     <use style=\"fill-opacity:0.1;stroke:#000000;stroke-opacity:0.1;\" x=\"278.215651\" xlink:href=\"#m18e7dcae92\" y=\"138.88706\"/>\r\n     <use style=\"fill-opacity:0.1;stroke:#000000;stroke-opacity:0.1;\" x=\"257.625208\" xlink:href=\"#m18e7dcae92\" y=\"140.312658\"/>\r\n     <use style=\"fill-opacity:0.1;stroke:#000000;stroke-opacity:0.1;\" x=\"256.4731\" xlink:href=\"#m18e7dcae92\" y=\"140.400996\"/>\r\n     <use style=\"fill-opacity:0.1;stroke:#000000;stroke-opacity:0.1;\" x=\"279.81351\" xlink:href=\"#m18e7dcae92\" y=\"139.488758\"/>\r\n     <use style=\"fill-opacity:0.1;stroke:#000000;stroke-opacity:0.1;\" x=\"291.575163\" xlink:href=\"#m18e7dcae92\" y=\"140.179282\"/>\r\n     <use style=\"fill-opacity:0.1;stroke:#000000;stroke-opacity:0.1;\" x=\"278.919496\" xlink:href=\"#m18e7dcae92\" y=\"138.581039\"/>\r\n     <use style=\"fill-opacity:0.1;stroke:#000000;stroke-opacity:0.1;\" x=\"255.251504\" xlink:href=\"#m18e7dcae92\" y=\"140.488967\"/>\r\n     <use style=\"fill-opacity:0.1;stroke:#000000;stroke-opacity:0.1;\" x=\"264.078407\" xlink:href=\"#m18e7dcae92\" y=\"139.878223\"/>\r\n     <use style=\"fill-opacity:0.1;stroke:#000000;stroke-opacity:0.1;\" x=\"288.105238\" xlink:href=\"#m18e7dcae92\" y=\"138.126911\"/>\r\n     <use style=\"fill-opacity:0.1;stroke:#000000;stroke-opacity:0.1;\" x=\"255.573689\" xlink:href=\"#m18e7dcae92\" y=\"140.498108\"/>\r\n     <use style=\"fill-opacity:0.1;stroke:#000000;stroke-opacity:0.1;\" x=\"273.276981\" xlink:href=\"#m18e7dcae92\" y=\"139.148948\"/>\r\n     <use style=\"fill-opacity:0.1;stroke:#000000;stroke-opacity:0.1;\" x=\"305.647685\" xlink:href=\"#m18e7dcae92\" y=\"136.812543\"/>\r\n     <use style=\"fill-opacity:0.1;stroke:#000000;stroke-opacity:0.1;\" x=\"257.606095\" xlink:href=\"#m18e7dcae92\" y=\"140.435767\"/>\r\n     <use style=\"fill-opacity:0.1;stroke:#000000;stroke-opacity:0.1;\" x=\"255.237941\" xlink:href=\"#m18e7dcae92\" y=\"140.491431\"/>\r\n     <use style=\"fill-opacity:0.1;stroke:#000000;stroke-opacity:0.1;\" x=\"337.536393\" xlink:href=\"#m18e7dcae92\" y=\"135.214588\"/>\r\n     <use style=\"fill-opacity:0.1;stroke:#000000;stroke-opacity:0.1;\" x=\"256.407295\" xlink:href=\"#m18e7dcae92\" y=\"140.406159\"/>\r\n     <use style=\"fill-opacity:0.1;stroke:#000000;stroke-opacity:0.1;\" x=\"260.144254\" xlink:href=\"#m18e7dcae92\" y=\"140.180884\"/>\r\n     <use style=\"fill-opacity:0.1;stroke:#000000;stroke-opacity:0.1;\" x=\"262.396633\" xlink:href=\"#m18e7dcae92\" y=\"140.022101\"/>\r\n     <use style=\"fill-opacity:0.1;stroke:#000000;stroke-opacity:0.1;\" x=\"261.05761\" xlink:href=\"#m18e7dcae92\" y=\"140.294227\"/>\r\n     <use style=\"fill-opacity:0.1;stroke:#000000;stroke-opacity:0.1;\" x=\"265.697692\" xlink:href=\"#m18e7dcae92\" y=\"140.781005\"/>\r\n     <use style=\"fill-opacity:0.1;stroke:#000000;stroke-opacity:0.1;\" x=\"927.927516\" xlink:href=\"#m18e7dcae92\" y=\"133.531188\"/>\r\n     <use style=\"fill-opacity:0.1;stroke:#000000;stroke-opacity:0.1;\" x=\"257.041455\" xlink:href=\"#m18e7dcae92\" y=\"140.42565\"/>\r\n     <use style=\"fill-opacity:0.1;stroke:#000000;stroke-opacity:0.1;\" x=\"265.972678\" xlink:href=\"#m18e7dcae92\" y=\"139.69976\"/>\r\n     <use style=\"fill-opacity:0.1;stroke:#000000;stroke-opacity:0.1;\" x=\"259.371568\" xlink:href=\"#m18e7dcae92\" y=\"140.252532\"/>\r\n     <use style=\"fill-opacity:0.1;stroke:#000000;stroke-opacity:0.1;\" x=\"257.309261\" xlink:href=\"#m18e7dcae92\" y=\"140.318551\"/>\r\n     <use style=\"fill-opacity:0.1;stroke:#000000;stroke-opacity:0.1;\" x=\"344.902677\" xlink:href=\"#m18e7dcae92\" y=\"134.34608\"/>\r\n     <use style=\"fill-opacity:0.1;stroke:#000000;stroke-opacity:0.1;\" x=\"256.384487\" xlink:href=\"#m18e7dcae92\" y=\"140.466574\"/>\r\n     <use style=\"fill-opacity:0.1;stroke:#000000;stroke-opacity:0.1;\" x=\"255.438314\" xlink:href=\"#m18e7dcae92\" y=\"140.505072\"/>\r\n     <use style=\"fill-opacity:0.1;stroke:#000000;stroke-opacity:0.1;\" x=\"255.282139\" xlink:href=\"#m18e7dcae92\" y=\"140.501334\"/>\r\n     <use style=\"fill-opacity:0.1;stroke:#000000;stroke-opacity:0.1;\" x=\"256.700543\" xlink:href=\"#m18e7dcae92\" y=\"140.421356\"/>\r\n     <use style=\"fill-opacity:0.1;stroke:#000000;stroke-opacity:0.1;\" x=\"264.98345\" xlink:href=\"#m18e7dcae92\" y=\"140.498751\"/>\r\n     <use style=\"fill-opacity:0.1;stroke:#000000;stroke-opacity:0.1;\" x=\"257.928638\" xlink:href=\"#m18e7dcae92\" y=\"140.309171\"/>\r\n     <use style=\"fill-opacity:0.1;stroke:#000000;stroke-opacity:0.1;\" x=\"260.546876\" xlink:href=\"#m18e7dcae92\" y=\"140.053596\"/>\r\n     <use style=\"fill-opacity:0.1;stroke:#000000;stroke-opacity:0.1;\" x=\"285.273995\" xlink:href=\"#m18e7dcae92\" y=\"139.023705\"/>\r\n     <use style=\"fill-opacity:0.1;stroke:#000000;stroke-opacity:0.1;\" x=\"257.832684\" xlink:href=\"#m18e7dcae92\" y=\"140.313839\"/>\r\n     <use style=\"fill-opacity:0.1;stroke:#000000;stroke-opacity:0.1;\" x=\"255.624858\" xlink:href=\"#m18e7dcae92\" y=\"140.512278\"/>\r\n     <use style=\"fill-opacity:0.1;stroke:#000000;stroke-opacity:0.1;\" x=\"303.769656\" xlink:href=\"#m18e7dcae92\" y=\"136.732756\"/>\r\n     <use style=\"fill-opacity:0.1;stroke:#000000;stroke-opacity:0.1;\" x=\"371.733879\" xlink:href=\"#m18e7dcae92\" y=\"130.838173\"/>\r\n     <use style=\"fill-opacity:0.1;stroke:#000000;stroke-opacity:0.1;\" x=\"260.43654\" xlink:href=\"#m18e7dcae92\" y=\"140.386717\"/>\r\n     <use style=\"fill-opacity:0.1;stroke:#000000;stroke-opacity:0.1;\" x=\"259.555936\" xlink:href=\"#m18e7dcae92\" y=\"140.361105\"/>\r\n     <use style=\"fill-opacity:0.1;stroke:#000000;stroke-opacity:0.1;\" x=\"259.886994\" xlink:href=\"#m18e7dcae92\" y=\"140.56301\"/>\r\n     <use style=\"fill-opacity:0.1;stroke:#000000;stroke-opacity:0.1;\" x=\"258.812104\" xlink:href=\"#m18e7dcae92\" y=\"140.421172\"/>\r\n     <use style=\"fill-opacity:0.1;stroke:#000000;stroke-opacity:0.1;\" x=\"255.226313\" xlink:href=\"#m18e7dcae92\" y=\"140.50623\"/>\r\n     <use style=\"fill-opacity:0.1;stroke:#000000;stroke-opacity:0.1;\" x=\"257.241821\" xlink:href=\"#m18e7dcae92\" y=\"140.558748\"/>\r\n     <use style=\"fill-opacity:0.1;stroke:#000000;stroke-opacity:0.1;\" x=\"255.371602\" xlink:href=\"#m18e7dcae92\" y=\"140.510067\"/>\r\n     <use style=\"fill-opacity:0.1;stroke:#000000;stroke-opacity:0.1;\" x=\"269.362823\" xlink:href=\"#m18e7dcae92\" y=\"140.832999\"/>\r\n     <use style=\"fill-opacity:0.1;stroke:#000000;stroke-opacity:0.1;\" x=\"257.518485\" xlink:href=\"#m18e7dcae92\" y=\"140.448779\"/>\r\n     <use style=\"fill-opacity:0.1;stroke:#000000;stroke-opacity:0.1;\" x=\"264.076238\" xlink:href=\"#m18e7dcae92\" y=\"140.301751\"/>\r\n     <use style=\"fill-opacity:0.1;stroke:#000000;stroke-opacity:0.1;\" x=\"257.78985\" xlink:href=\"#m18e7dcae92\" y=\"140.461229\"/>\r\n     <use style=\"fill-opacity:0.1;stroke:#000000;stroke-opacity:0.1;\" x=\"255.94189\" xlink:href=\"#m18e7dcae92\" y=\"140.525495\"/>\r\n     <use style=\"fill-opacity:0.1;stroke:#000000;stroke-opacity:0.1;\" x=\"255.994656\" xlink:href=\"#m18e7dcae92\" y=\"140.528094\"/>\r\n     <use style=\"fill-opacity:0.1;stroke:#000000;stroke-opacity:0.1;\" x=\"261.675483\" xlink:href=\"#m18e7dcae92\" y=\"140.417411\"/>\r\n     <use style=\"fill-opacity:0.1;stroke:#000000;stroke-opacity:0.1;\" x=\"262.734906\" xlink:href=\"#m18e7dcae92\" y=\"139.879754\"/>\r\n     <use style=\"fill-opacity:0.1;stroke:#000000;stroke-opacity:0.1;\" x=\"256.434055\" xlink:href=\"#m18e7dcae92\" y=\"140.421368\"/>\r\n     <use style=\"fill-opacity:0.1;stroke:#000000;stroke-opacity:0.1;\" x=\"256.294128\" xlink:href=\"#m18e7dcae92\" y=\"140.417756\"/>\r\n     <use style=\"fill-opacity:0.1;stroke:#000000;stroke-opacity:0.1;\" x=\"256.864012\" xlink:href=\"#m18e7dcae92\" y=\"140.463808\"/>\r\n     <use style=\"fill-opacity:0.1;stroke:#000000;stroke-opacity:0.1;\" x=\"290.165434\" xlink:href=\"#m18e7dcae92\" y=\"139.677211\"/>\r\n     <use style=\"fill-opacity:0.1;stroke:#000000;stroke-opacity:0.1;\" x=\"262.953847\" xlink:href=\"#m18e7dcae92\" y=\"140.116952\"/>\r\n     <use style=\"fill-opacity:0.1;stroke:#000000;stroke-opacity:0.1;\" x=\"258.411967\" xlink:href=\"#m18e7dcae92\" y=\"140.35649\"/>\r\n     <use style=\"fill-opacity:0.1;stroke:#000000;stroke-opacity:0.1;\" x=\"263.171475\" xlink:href=\"#m18e7dcae92\" y=\"140.480574\"/>\r\n     <use style=\"fill-opacity:0.1;stroke:#000000;stroke-opacity:0.1;\" x=\"266.322851\" xlink:href=\"#m18e7dcae92\" y=\"139.681497\"/>\r\n     <use style=\"fill-opacity:0.1;stroke:#000000;stroke-opacity:0.1;\" x=\"256.746811\" xlink:href=\"#m18e7dcae92\" y=\"140.408893\"/>\r\n     <use style=\"fill-opacity:0.1;stroke:#000000;stroke-opacity:0.1;\" x=\"311.550259\" xlink:href=\"#m18e7dcae92\" y=\"139.044055\"/>\r\n     <use style=\"fill-opacity:0.1;stroke:#000000;stroke-opacity:0.1;\" x=\"257.367508\" xlink:href=\"#m18e7dcae92\" y=\"140.329763\"/>\r\n     <use style=\"fill-opacity:0.1;stroke:#000000;stroke-opacity:0.1;\" x=\"259.755512\" xlink:href=\"#m18e7dcae92\" y=\"140.276708\"/>\r\n     <use style=\"fill-opacity:0.1;stroke:#000000;stroke-opacity:0.1;\" x=\"338.048523\" xlink:href=\"#m18e7dcae92\" y=\"138.871475\"/>\r\n     <use style=\"fill-opacity:0.1;stroke:#000000;stroke-opacity:0.1;\" x=\"259.754589\" xlink:href=\"#m18e7dcae92\" y=\"140.151444\"/>\r\n     <use style=\"fill-opacity:0.1;stroke:#000000;stroke-opacity:0.1;\" x=\"555.221487\" xlink:href=\"#m18e7dcae92\" y=\"133.279919\"/>\r\n     <use style=\"fill-opacity:0.1;stroke:#000000;stroke-opacity:0.1;\" x=\"255.350909\" xlink:href=\"#m18e7dcae92\" y=\"140.51633\"/>\r\n     <use style=\"fill-opacity:0.1;stroke:#000000;stroke-opacity:0.1;\" x=\"255.675838\" xlink:href=\"#m18e7dcae92\" y=\"140.525907\"/>\r\n     <use style=\"fill-opacity:0.1;stroke:#000000;stroke-opacity:0.1;\" x=\"255.093599\" xlink:href=\"#m18e7dcae92\" y=\"140.510768\"/>\r\n     <use style=\"fill-opacity:0.1;stroke:#000000;stroke-opacity:0.1;\" x=\"261.832185\" xlink:href=\"#m18e7dcae92\" y=\"139.958223\"/>\r\n     <use style=\"fill-opacity:0.1;stroke:#000000;stroke-opacity:0.1;\" x=\"261.00681\" xlink:href=\"#m18e7dcae92\" y=\"140.484041\"/>\r\n     <use style=\"fill-opacity:0.1;stroke:#000000;stroke-opacity:0.1;\" x=\"274.432829\" xlink:href=\"#m18e7dcae92\" y=\"139.080042\"/>\r\n     <use style=\"fill-opacity:0.1;stroke:#000000;stroke-opacity:0.1;\" x=\"255.0978\" xlink:href=\"#m18e7dcae92\" y=\"140.511779\"/>\r\n     <use style=\"fill-opacity:0.1;stroke:#000000;stroke-opacity:0.1;\" x=\"259.356429\" xlink:href=\"#m18e7dcae92\" y=\"140.153281\"/>\r\n     <use style=\"fill-opacity:0.1;stroke:#000000;stroke-opacity:0.1;\" x=\"255.08085\" xlink:href=\"#m18e7dcae92\" y=\"140.512321\"/>\r\n     <use style=\"fill-opacity:0.1;stroke:#000000;stroke-opacity:0.1;\" x=\"258.384221\" xlink:href=\"#m18e7dcae92\" y=\"140.248002\"/>\r\n     <use style=\"fill-opacity:0.1;stroke:#000000;stroke-opacity:0.1;\" x=\"255.821346\" xlink:href=\"#m18e7dcae92\" y=\"140.533509\"/>\r\n     <use style=\"fill-opacity:0.1;stroke:#000000;stroke-opacity:0.1;\" x=\"256.126169\" xlink:href=\"#m18e7dcae92\" y=\"140.423546\"/>\r\n     <use style=\"fill-opacity:0.1;stroke:#000000;stroke-opacity:0.1;\" x=\"263.633811\" xlink:href=\"#m18e7dcae92\" y=\"140.213158\"/>\r\n     <use style=\"fill-opacity:0.1;stroke:#000000;stroke-opacity:0.1;\" x=\"260.586019\" xlink:href=\"#m18e7dcae92\" y=\"140.071827\"/>\r\n     <use style=\"fill-opacity:0.1;stroke:#000000;stroke-opacity:0.1;\" x=\"262.332612\" xlink:href=\"#m18e7dcae92\" y=\"140.380679\"/>\r\n     <use style=\"fill-opacity:0.1;stroke:#000000;stroke-opacity:0.1;\" x=\"256.724902\" xlink:href=\"#m18e7dcae92\" y=\"140.441944\"/>\r\n     <use style=\"fill-opacity:0.1;stroke:#000000;stroke-opacity:0.1;\" x=\"258.666408\" xlink:href=\"#m18e7dcae92\" y=\"140.488448\"/>\r\n     <use style=\"fill-opacity:0.1;stroke:#000000;stroke-opacity:0.1;\" x=\"261.885711\" xlink:href=\"#m18e7dcae92\" y=\"140.146957\"/>\r\n     <use style=\"fill-opacity:0.1;stroke:#000000;stroke-opacity:0.1;\" x=\"259.875762\" xlink:href=\"#m18e7dcae92\" y=\"140.149281\"/>\r\n     <use style=\"fill-opacity:0.1;stroke:#000000;stroke-opacity:0.1;\" x=\"279.724386\" xlink:href=\"#m18e7dcae92\" y=\"138.438663\"/>\r\n     <use style=\"fill-opacity:0.1;stroke:#000000;stroke-opacity:0.1;\" x=\"258.335131\" xlink:href=\"#m18e7dcae92\" y=\"140.250628\"/>\r\n     <use style=\"fill-opacity:0.1;stroke:#000000;stroke-opacity:0.1;\" x=\"271.506002\" xlink:href=\"#m18e7dcae92\" y=\"140.645916\"/>\r\n     <use style=\"fill-opacity:0.1;stroke:#000000;stroke-opacity:0.1;\" x=\"255.158908\" xlink:href=\"#m18e7dcae92\" y=\"140.521238\"/>\r\n     <use style=\"fill-opacity:0.1;stroke:#000000;stroke-opacity:0.1;\" x=\"256.608921\" xlink:href=\"#m18e7dcae92\" y=\"140.44188\"/>\r\n     <use style=\"fill-opacity:0.1;stroke:#000000;stroke-opacity:0.1;\" x=\"261.685751\" xlink:href=\"#m18e7dcae92\" y=\"140.089682\"/>\r\n     <use style=\"fill-opacity:0.1;stroke:#000000;stroke-opacity:0.1;\" x=\"289.985037\" xlink:href=\"#m18e7dcae92\" y=\"136.879723\"/>\r\n     <use style=\"fill-opacity:0.1;stroke:#000000;stroke-opacity:0.1;\" x=\"259.715502\" xlink:href=\"#m18e7dcae92\" y=\"140.573776\"/>\r\n     <use style=\"fill-opacity:0.1;stroke:#000000;stroke-opacity:0.1;\" x=\"255.537111\" xlink:href=\"#m18e7dcae92\" y=\"140.532676\"/>\r\n     <use style=\"fill-opacity:0.1;stroke:#000000;stroke-opacity:0.1;\" x=\"255.299349\" xlink:href=\"#m18e7dcae92\" y=\"140.526505\"/>\r\n     <use style=\"fill-opacity:0.1;stroke:#000000;stroke-opacity:0.1;\" x=\"255.887307\" xlink:href=\"#m18e7dcae92\" y=\"140.541835\"/>\r\n     <use style=\"fill-opacity:0.1;stroke:#000000;stroke-opacity:0.1;\" x=\"350.348504\" xlink:href=\"#m18e7dcae92\" y=\"134.725816\"/>\r\n     <use style=\"fill-opacity:0.1;stroke:#000000;stroke-opacity:0.1;\" x=\"256.389198\" xlink:href=\"#m18e7dcae92\" y=\"140.555611\"/>\r\n     <use style=\"fill-opacity:0.1;stroke:#000000;stroke-opacity:0.1;\" x=\"258.06627\" xlink:href=\"#m18e7dcae92\" y=\"140.48617\"/>\r\n     <use style=\"fill-opacity:0.1;stroke:#000000;stroke-opacity:0.1;\" x=\"256.062977\" xlink:href=\"#m18e7dcae92\" y=\"140.430577\"/>\r\n     <use style=\"fill-opacity:0.1;stroke:#000000;stroke-opacity:0.1;\" x=\"256.860796\" xlink:href=\"#m18e7dcae92\" y=\"140.424899\"/>\r\n     <use style=\"fill-opacity:0.1;stroke:#000000;stroke-opacity:0.1;\" x=\"258.568977\" xlink:href=\"#m18e7dcae92\" y=\"140.238295\"/>\r\n     <use style=\"fill-opacity:0.1;stroke:#000000;stroke-opacity:0.1;\" x=\"256.068375\" xlink:href=\"#m18e7dcae92\" y=\"140.431071\"/>\r\n     <use style=\"fill-opacity:0.1;stroke:#000000;stroke-opacity:0.1;\" x=\"264.333729\" xlink:href=\"#m18e7dcae92\" y=\"140.193024\"/>\r\n     <use style=\"fill-opacity:0.1;stroke:#000000;stroke-opacity:0.1;\" x=\"261.869433\" xlink:href=\"#m18e7dcae92\" y=\"140.301625\"/>\r\n     <use style=\"fill-opacity:0.1;stroke:#000000;stroke-opacity:0.1;\" x=\"259.987206\" xlink:href=\"#m18e7dcae92\" y=\"140.593333\"/>\r\n     <use style=\"fill-opacity:0.1;stroke:#000000;stroke-opacity:0.1;\" x=\"270.833321\" xlink:href=\"#m18e7dcae92\" y=\"139.850212\"/>\r\n     <use style=\"fill-opacity:0.1;stroke:#000000;stroke-opacity:0.1;\" x=\"256.049926\" xlink:href=\"#m18e7dcae92\" y=\"140.43149\"/>\r\n     <use style=\"fill-opacity:0.1;stroke:#000000;stroke-opacity:0.1;\" x=\"274.625673\" xlink:href=\"#m18e7dcae92\" y=\"141.033089\"/>\r\n     <use style=\"fill-opacity:0.1;stroke:#000000;stroke-opacity:0.1;\" x=\"261.332898\" xlink:href=\"#m18e7dcae92\" y=\"140.324016\"/>\r\n     <use style=\"fill-opacity:0.1;stroke:#000000;stroke-opacity:0.1;\" x=\"254.985915\" xlink:href=\"#m18e7dcae92\" y=\"140.522129\"/>\r\n     <use style=\"fill-opacity:0.1;stroke:#000000;stroke-opacity:0.1;\" x=\"260.477767\" xlink:href=\"#m18e7dcae92\" y=\"140.078426\"/>\r\n     <use style=\"fill-opacity:0.1;stroke:#000000;stroke-opacity:0.1;\" x=\"256.903171\" xlink:href=\"#m18e7dcae92\" y=\"140.413163\"/>\r\n     <use style=\"fill-opacity:0.1;stroke:#000000;stroke-opacity:0.1;\" x=\"265.101449\" xlink:href=\"#m18e7dcae92\" y=\"139.729372\"/>\r\n     <use style=\"fill-opacity:0.1;stroke:#000000;stroke-opacity:0.1;\" x=\"264.772079\" xlink:href=\"#m18e7dcae92\" y=\"139.907167\"/>\r\n     <use style=\"fill-opacity:0.1;stroke:#000000;stroke-opacity:0.1;\" x=\"258.700036\" xlink:href=\"#m18e7dcae92\" y=\"140.244105\"/>\r\n     <use style=\"fill-opacity:0.1;stroke:#000000;stroke-opacity:0.1;\" x=\"263.696609\" xlink:href=\"#m18e7dcae92\" y=\"140.734197\"/>\r\n     <use style=\"fill-opacity:0.1;stroke:#000000;stroke-opacity:0.1;\" x=\"261.728109\" xlink:href=\"#m18e7dcae92\" y=\"139.125682\"/>\r\n     <use style=\"fill-opacity:0.1;stroke:#000000;stroke-opacity:0.1;\" x=\"255.065295\" xlink:href=\"#m18e7dcae92\" y=\"140.525567\"/>\r\n     <use style=\"fill-opacity:0.1;stroke:#000000;stroke-opacity:0.1;\" x=\"261.814594\" xlink:href=\"#m18e7dcae92\" y=\"140.03194\"/>\r\n     <use style=\"fill-opacity:0.1;stroke:#000000;stroke-opacity:0.1;\" x=\"254.970753\" xlink:href=\"#m18e7dcae92\" y=\"140.523658\"/>\r\n     <use style=\"fill-opacity:0.1;stroke:#000000;stroke-opacity:0.1;\" x=\"255.401842\" xlink:href=\"#m18e7dcae92\" y=\"140.534933\"/>\r\n     <use style=\"fill-opacity:0.1;stroke:#000000;stroke-opacity:0.1;\" x=\"256.011183\" xlink:href=\"#m18e7dcae92\" y=\"140.55098\"/>\r\n     <use style=\"fill-opacity:0.1;stroke:#000000;stroke-opacity:0.1;\" x=\"258.956477\" xlink:href=\"#m18e7dcae92\" y=\"140.544283\"/>\r\n     <use style=\"fill-opacity:0.1;stroke:#000000;stroke-opacity:0.1;\" x=\"259.49047\" xlink:href=\"#m18e7dcae92\" y=\"140.172572\"/>\r\n     <use style=\"fill-opacity:0.1;stroke:#000000;stroke-opacity:0.1;\" x=\"259.229514\" xlink:href=\"#m18e7dcae92\" y=\"140.280951\"/>\r\n     <use style=\"fill-opacity:0.1;stroke:#000000;stroke-opacity:0.1;\" x=\"258.280243\" xlink:href=\"#m18e7dcae92\" y=\"140.313486\"/>\r\n     <use style=\"fill-opacity:0.1;stroke:#000000;stroke-opacity:0.1;\" x=\"265.076278\" xlink:href=\"#m18e7dcae92\" y=\"139.75722\"/>\r\n     <use style=\"fill-opacity:0.1;stroke:#000000;stroke-opacity:0.1;\" x=\"258.245878\" xlink:href=\"#m18e7dcae92\" y=\"140.257071\"/>\r\n     <use style=\"fill-opacity:0.1;stroke:#000000;stroke-opacity:0.1;\" x=\"257.160572\" xlink:href=\"#m18e7dcae92\" y=\"140.347271\"/>\r\n     <use style=\"fill-opacity:0.1;stroke:#000000;stroke-opacity:0.1;\" x=\"260.147978\" xlink:href=\"#m18e7dcae92\" y=\"140.406628\"/>\r\n     <use style=\"fill-opacity:0.1;stroke:#000000;stroke-opacity:0.1;\" x=\"259.244732\" xlink:href=\"#m18e7dcae92\" y=\"140.2268\"/>\r\n     <use style=\"fill-opacity:0.1;stroke:#000000;stroke-opacity:0.1;\" x=\"273.868079\" xlink:href=\"#m18e7dcae92\" y=\"139.594136\"/>\r\n     <use style=\"fill-opacity:0.1;stroke:#000000;stroke-opacity:0.1;\" x=\"255.542568\" xlink:href=\"#m18e7dcae92\" y=\"140.541296\"/>\r\n     <use style=\"fill-opacity:0.1;stroke:#000000;stroke-opacity:0.1;\" x=\"256.119884\" xlink:href=\"#m18e7dcae92\" y=\"140.438551\"/>\r\n     <use style=\"fill-opacity:0.1;stroke:#000000;stroke-opacity:0.1;\" x=\"255.269954\" xlink:href=\"#m18e7dcae92\" y=\"140.534631\"/>\r\n     <use style=\"fill-opacity:0.1;stroke:#000000;stroke-opacity:0.1;\" x=\"256.497474\" xlink:href=\"#m18e7dcae92\" y=\"140.427555\"/>\r\n     <use style=\"fill-opacity:0.1;stroke:#000000;stroke-opacity:0.1;\" x=\"255.289769\" xlink:href=\"#m18e7dcae92\" y=\"140.535433\"/>\r\n     <use style=\"fill-opacity:0.1;stroke:#000000;stroke-opacity:0.1;\" x=\"263.435904\" xlink:href=\"#m18e7dcae92\" y=\"139.809899\"/>\r\n     <use style=\"fill-opacity:0.1;stroke:#000000;stroke-opacity:0.1;\" x=\"258.594152\" xlink:href=\"#m18e7dcae92\" y=\"140.622061\"/>\r\n     <use style=\"fill-opacity:0.1;stroke:#000000;stroke-opacity:0.1;\" x=\"260.038011\" xlink:href=\"#m18e7dcae92\" y=\"140.277617\"/>\r\n     <use style=\"fill-opacity:0.1;stroke:#000000;stroke-opacity:0.1;\" x=\"281.371891\" xlink:href=\"#m18e7dcae92\" y=\"135.117736\"/>\r\n     <use style=\"fill-opacity:0.1;stroke:#000000;stroke-opacity:0.1;\" x=\"255.285659\" xlink:href=\"#m18e7dcae92\" y=\"140.536891\"/>\r\n     <use style=\"fill-opacity:0.1;stroke:#000000;stroke-opacity:0.1;\" x=\"274.629507\" xlink:href=\"#m18e7dcae92\" y=\"138.966924\"/>\r\n     <use style=\"fill-opacity:0.1;stroke:#000000;stroke-opacity:0.1;\" x=\"255.207671\" xlink:href=\"#m18e7dcae92\" y=\"140.534918\"/>\r\n     <use style=\"fill-opacity:0.1;stroke:#000000;stroke-opacity:0.1;\" x=\"256.075776\" xlink:href=\"#m18e7dcae92\" y=\"140.440507\"/>\r\n     <use style=\"fill-opacity:0.1;stroke:#000000;stroke-opacity:0.1;\" x=\"254.96098\" xlink:href=\"#m18e7dcae92\" y=\"140.528688\"/>\r\n     <use style=\"fill-opacity:0.1;stroke:#000000;stroke-opacity:0.1;\" x=\"257.205349\" xlink:href=\"#m18e7dcae92\" y=\"140.352723\"/>\r\n     <use style=\"fill-opacity:0.1;stroke:#000000;stroke-opacity:0.1;\" x=\"254.94305\" xlink:href=\"#m18e7dcae92\" y=\"140.528402\"/>\r\n     <use style=\"fill-opacity:0.1;stroke:#000000;stroke-opacity:0.1;\" x=\"254.966642\" xlink:href=\"#m18e7dcae92\" y=\"140.529179\"/>\r\n     <use style=\"fill-opacity:0.1;stroke:#000000;stroke-opacity:0.1;\" x=\"258.109218\" xlink:href=\"#m18e7dcae92\" y=\"140.320703\"/>\r\n     <use style=\"fill-opacity:0.1;stroke:#000000;stroke-opacity:0.1;\" x=\"255.065458\" xlink:href=\"#m18e7dcae92\" y=\"140.530427\"/>\r\n     <use style=\"fill-opacity:0.1;stroke:#000000;stroke-opacity:0.1;\" x=\"257.125626\" xlink:href=\"#m18e7dcae92\" y=\"140.351256\"/>\r\n     <use style=\"fill-opacity:0.1;stroke:#000000;stroke-opacity:0.1;\" x=\"255.040987\" xlink:href=\"#m18e7dcae92\" y=\"140.531842\"/>\r\n     <use style=\"fill-opacity:0.1;stroke:#000000;stroke-opacity:0.1;\" x=\"271.853063\" xlink:href=\"#m18e7dcae92\" y=\"140.073473\"/>\r\n     <use style=\"fill-opacity:0.1;stroke:#000000;stroke-opacity:0.1;\" x=\"259.31206\" xlink:href=\"#m18e7dcae92\" y=\"140.569173\"/>\r\n     <use style=\"fill-opacity:0.1;stroke:#000000;stroke-opacity:0.1;\" x=\"259.376871\" xlink:href=\"#m18e7dcae92\" y=\"140.574446\"/>\r\n     <use style=\"fill-opacity:0.1;stroke:#000000;stroke-opacity:0.1;\" x=\"258.333435\" xlink:href=\"#m18e7dcae92\" y=\"140.522911\"/>\r\n     <use style=\"fill-opacity:0.1;stroke:#000000;stroke-opacity:0.1;\" x=\"255.585178\" xlink:href=\"#m18e7dcae92\" y=\"140.546179\"/>\r\n     <use style=\"fill-opacity:0.1;stroke:#000000;stroke-opacity:0.1;\" x=\"254.934531\" xlink:href=\"#m18e7dcae92\" y=\"140.529228\"/>\r\n     <use style=\"fill-opacity:0.1;stroke:#000000;stroke-opacity:0.1;\" x=\"255.81561\" xlink:href=\"#m18e7dcae92\" y=\"140.552183\"/>\r\n     <use style=\"fill-opacity:0.1;stroke:#000000;stroke-opacity:0.1;\" x=\"257.793356\" xlink:href=\"#m18e7dcae92\" y=\"140.60215\"/>\r\n     <use style=\"fill-opacity:0.1;stroke:#000000;stroke-opacity:0.1;\" x=\"257.447681\" xlink:href=\"#m18e7dcae92\" y=\"140.59471\"/>\r\n     <use style=\"fill-opacity:0.1;stroke:#000000;stroke-opacity:0.1;\" x=\"255.49782\" xlink:href=\"#m18e7dcae92\" y=\"140.543909\"/>\r\n     <use style=\"fill-opacity:0.1;stroke:#000000;stroke-opacity:0.1;\" x=\"254.976444\" xlink:href=\"#m18e7dcae92\" y=\"140.530325\"/>\r\n     <use style=\"fill-opacity:0.1;stroke:#000000;stroke-opacity:0.1;\" x=\"260.192859\" xlink:href=\"#m18e7dcae92\" y=\"140.592411\"/>\r\n     <use style=\"fill-opacity:0.1;stroke:#000000;stroke-opacity:0.1;\" x=\"256.344949\" xlink:href=\"#m18e7dcae92\" y=\"140.56598\"/>\r\n     <use style=\"fill-opacity:0.1;stroke:#000000;stroke-opacity:0.1;\" x=\"258.817476\" xlink:href=\"#m18e7dcae92\" y=\"140.510835\"/>\r\n     <use style=\"fill-opacity:0.1;stroke:#000000;stroke-opacity:0.1;\" x=\"257.047877\" xlink:href=\"#m18e7dcae92\" y=\"140.350073\"/>\r\n     <use style=\"fill-opacity:0.1;stroke:#000000;stroke-opacity:0.1;\" x=\"418.694938\" xlink:href=\"#m18e7dcae92\" y=\"135.136714\"/>\r\n     <use style=\"fill-opacity:0.1;stroke:#000000;stroke-opacity:0.1;\" x=\"259.604819\" xlink:href=\"#m18e7dcae92\" y=\"140.154962\"/>\r\n     <use style=\"fill-opacity:0.1;stroke:#000000;stroke-opacity:0.1;\" x=\"258.516028\" xlink:href=\"#m18e7dcae92\" y=\"140.247548\"/>\r\n     <use style=\"fill-opacity:0.1;stroke:#000000;stroke-opacity:0.1;\" x=\"370.678938\" xlink:href=\"#m18e7dcae92\" y=\"136.749447\"/>\r\n     <use style=\"fill-opacity:0.1;stroke:#000000;stroke-opacity:0.1;\" x=\"316.689813\" xlink:href=\"#m18e7dcae92\" y=\"136.213783\"/>\r\n     <use style=\"fill-opacity:0.1;stroke:#000000;stroke-opacity:0.1;\" x=\"260.360125\" xlink:href=\"#m18e7dcae92\" y=\"140.130997\"/>\r\n     <use style=\"fill-opacity:0.1;stroke:#000000;stroke-opacity:0.1;\" x=\"256.796278\" xlink:href=\"#m18e7dcae92\" y=\"140.462207\"/>\r\n     <use style=\"fill-opacity:0.1;stroke:#000000;stroke-opacity:0.1;\" x=\"515.295328\" xlink:href=\"#m18e7dcae92\" y=\"132.377845\"/>\r\n     <use style=\"fill-opacity:0.1;stroke:#000000;stroke-opacity:0.1;\" x=\"278.656592\" xlink:href=\"#m18e7dcae92\" y=\"138.674553\"/>\r\n     <use style=\"fill-opacity:0.1;stroke:#000000;stroke-opacity:0.1;\" x=\"256.07834\" xlink:href=\"#m18e7dcae92\" y=\"140.442999\"/>\r\n     <use style=\"fill-opacity:0.1;stroke:#000000;stroke-opacity:0.1;\" x=\"301.56713\" xlink:href=\"#m18e7dcae92\" y=\"138.881861\"/>\r\n     <use style=\"fill-opacity:0.1;stroke:#000000;stroke-opacity:0.1;\" x=\"265.929416\" xlink:href=\"#m18e7dcae92\" y=\"139.644848\"/>\r\n     <use style=\"fill-opacity:0.1;stroke:#000000;stroke-opacity:0.1;\" x=\"265.577794\" xlink:href=\"#m18e7dcae92\" y=\"139.635719\"/>\r\n     <use style=\"fill-opacity:0.1;stroke:#000000;stroke-opacity:0.1;\" x=\"258.093072\" xlink:href=\"#m18e7dcae92\" y=\"140.261932\"/>\r\n     <use style=\"fill-opacity:0.1;stroke:#000000;stroke-opacity:0.1;\" x=\"258.635739\" xlink:href=\"#m18e7dcae92\" y=\"140.276513\"/>\r\n     <use style=\"fill-opacity:0.1;stroke:#000000;stroke-opacity:0.1;\" x=\"256.120147\" xlink:href=\"#m18e7dcae92\" y=\"140.562708\"/>\r\n     <use style=\"fill-opacity:0.1;stroke:#000000;stroke-opacity:0.1;\" x=\"259.786316\" xlink:href=\"#m18e7dcae92\" y=\"140.159583\"/>\r\n     <use style=\"fill-opacity:0.1;stroke:#000000;stroke-opacity:0.1;\" x=\"255.190015\" xlink:href=\"#m18e7dcae92\" y=\"140.538912\"/>\r\n     <use style=\"fill-opacity:0.1;stroke:#000000;stroke-opacity:0.1;\" x=\"255.028382\" xlink:href=\"#m18e7dcae92\" y=\"140.534574\"/>\r\n     <use style=\"fill-opacity:0.1;stroke:#000000;stroke-opacity:0.1;\" x=\"258.36545\" xlink:href=\"#m18e7dcae92\" y=\"140.270316\"/>\r\n     <use style=\"fill-opacity:0.1;stroke:#000000;stroke-opacity:0.1;\" x=\"262.375113\" xlink:href=\"#m18e7dcae92\" y=\"139.905977\"/>\r\n     <use style=\"fill-opacity:0.1;stroke:#000000;stroke-opacity:0.1;\" x=\"255.901829\" xlink:href=\"#m18e7dcae92\" y=\"140.511635\"/>\r\n     <use style=\"fill-opacity:0.1;stroke:#000000;stroke-opacity:0.1;\" x=\"257.201898\" xlink:href=\"#m18e7dcae92\" y=\"140.357471\"/>\r\n     <use style=\"fill-opacity:0.1;stroke:#000000;stroke-opacity:0.1;\" x=\"1119.199236\" xlink:href=\"#m18e7dcae92\" y=\"138.148829\"/>\r\n     <use style=\"fill-opacity:0.1;stroke:#000000;stroke-opacity:0.1;\" x=\"257.455983\" xlink:href=\"#m18e7dcae92\" y=\"140.421516\"/>\r\n     <use style=\"fill-opacity:0.1;stroke:#000000;stroke-opacity:0.1;\" x=\"256.792354\" xlink:href=\"#m18e7dcae92\" y=\"140.580212\"/>\r\n     <use style=\"fill-opacity:0.1;stroke:#000000;stroke-opacity:0.1;\" x=\"258.119513\" xlink:href=\"#m18e7dcae92\" y=\"140.264975\"/>\r\n     <use style=\"fill-opacity:0.1;stroke:#000000;stroke-opacity:0.1;\" x=\"256.835099\" xlink:href=\"#m18e7dcae92\" y=\"140.496966\"/>\r\n     <use style=\"fill-opacity:0.1;stroke:#000000;stroke-opacity:0.1;\" x=\"254.927069\" xlink:href=\"#m18e7dcae92\" y=\"140.532024\"/>\r\n     <use style=\"fill-opacity:0.1;stroke:#000000;stroke-opacity:0.1;\" x=\"256.019095\" xlink:href=\"#m18e7dcae92\" y=\"140.445571\"/>\r\n     <use style=\"fill-opacity:0.1;stroke:#000000;stroke-opacity:0.1;\" x=\"258.555467\" xlink:href=\"#m18e7dcae92\" y=\"140.380187\"/>\r\n     <use style=\"fill-opacity:0.1;stroke:#000000;stroke-opacity:0.1;\" x=\"262.905916\" xlink:href=\"#m18e7dcae92\" y=\"139.922203\"/>\r\n     <use style=\"fill-opacity:0.1;stroke:#000000;stroke-opacity:0.1;\" x=\"257.441082\" xlink:href=\"#m18e7dcae92\" y=\"140.366145\"/>\r\n     <use style=\"fill-opacity:0.1;stroke:#000000;stroke-opacity:0.1;\" x=\"256.111704\" xlink:href=\"#m18e7dcae92\" y=\"140.44879\"/>\r\n     <use style=\"fill-opacity:0.1;stroke:#000000;stroke-opacity:0.1;\" x=\"255.183269\" xlink:href=\"#m18e7dcae92\" y=\"140.541824\"/>\r\n     <use style=\"fill-opacity:0.1;stroke:#000000;stroke-opacity:0.1;\" x=\"255.97881\" xlink:href=\"#m18e7dcae92\" y=\"140.562551\"/>\r\n     <use style=\"fill-opacity:0.1;stroke:#000000;stroke-opacity:0.1;\" x=\"255.358823\" xlink:href=\"#m18e7dcae92\" y=\"140.543283\"/>\r\n     <use style=\"fill-opacity:0.1;stroke:#000000;stroke-opacity:0.1;\" x=\"260.845454\" xlink:href=\"#m18e7dcae92\" y=\"140.053664\"/>\r\n     <use style=\"fill-opacity:0.1;stroke:#000000;stroke-opacity:0.1;\" x=\"258.298962\" xlink:href=\"#m18e7dcae92\" y=\"140.263194\"/>\r\n     <use style=\"fill-opacity:0.1;stroke:#000000;stroke-opacity:0.1;\" x=\"255.954008\" xlink:href=\"#m18e7dcae92\" y=\"140.44493\"/>\r\n     <use style=\"fill-opacity:0.1;stroke:#000000;stroke-opacity:0.1;\" x=\"254.891909\" xlink:href=\"#m18e7dcae92\" y=\"140.534777\"/>\r\n     <use style=\"fill-opacity:0.1;stroke:#000000;stroke-opacity:0.1;\" x=\"255.057354\" xlink:href=\"#m18e7dcae92\" y=\"140.53909\"/>\r\n     <use style=\"fill-opacity:0.1;stroke:#000000;stroke-opacity:0.1;\" x=\"256.124092\" xlink:href=\"#m18e7dcae92\" y=\"140.566971\"/>\r\n     <use style=\"fill-opacity:0.1;stroke:#000000;stroke-opacity:0.1;\" x=\"255.704731\" xlink:href=\"#m18e7dcae92\" y=\"140.554634\"/>\r\n     <use style=\"fill-opacity:0.1;stroke:#000000;stroke-opacity:0.1;\" x=\"268.670093\" xlink:href=\"#m18e7dcae92\" y=\"139.507578\"/>\r\n     <use style=\"fill-opacity:0.1;stroke:#000000;stroke-opacity:0.1;\" x=\"260.396587\" xlink:href=\"#m18e7dcae92\" y=\"140.27971\"/>\r\n     <use style=\"fill-opacity:0.1;stroke:#000000;stroke-opacity:0.1;\" x=\"280.801148\" xlink:href=\"#m18e7dcae92\" y=\"139.172617\"/>\r\n     <use style=\"fill-opacity:0.1;stroke:#000000;stroke-opacity:0.1;\" x=\"255.331694\" xlink:href=\"#m18e7dcae92\" y=\"140.541058\"/>\r\n     <use style=\"fill-opacity:0.1;stroke:#000000;stroke-opacity:0.1;\" x=\"255.476082\" xlink:href=\"#m18e7dcae92\" y=\"140.551283\"/>\r\n     <use style=\"fill-opacity:0.1;stroke:#000000;stroke-opacity:0.1;\" x=\"269.109309\" xlink:href=\"#m18e7dcae92\" y=\"139.451483\"/>\r\n     <use style=\"fill-opacity:0.1;stroke:#000000;stroke-opacity:0.1;\" x=\"258.264163\" xlink:href=\"#m18e7dcae92\" y=\"140.271125\"/>\r\n     <use style=\"fill-opacity:0.1;stroke:#000000;stroke-opacity:0.1;\" x=\"258.403268\" xlink:href=\"#m18e7dcae92\" y=\"140.250943\"/>\r\n     <use style=\"fill-opacity:0.1;stroke:#000000;stroke-opacity:0.1;\" x=\"311.914984\" xlink:href=\"#m18e7dcae92\" y=\"138.361696\"/>\r\n     <use style=\"fill-opacity:0.1;stroke:#000000;stroke-opacity:0.1;\" x=\"256.014439\" xlink:href=\"#m18e7dcae92\" y=\"140.446997\"/>\r\n     <use style=\"fill-opacity:0.1;stroke:#000000;stroke-opacity:0.1;\" x=\"258.094114\" xlink:href=\"#m18e7dcae92\" y=\"140.268448\"/>\r\n     <use style=\"fill-opacity:0.1;stroke:#000000;stroke-opacity:0.1;\" x=\"254.880765\" xlink:href=\"#m18e7dcae92\" y=\"140.536422\"/>\r\n     <use style=\"fill-opacity:0.1;stroke:#000000;stroke-opacity:0.1;\" x=\"261.313719\" xlink:href=\"#m18e7dcae92\" y=\"140.000762\"/>\r\n     <use style=\"fill-opacity:0.1;stroke:#000000;stroke-opacity:0.1;\" x=\"265.919564\" xlink:href=\"#m18e7dcae92\" y=\"139.62736\"/>\r\n     <use style=\"fill-opacity:0.1;stroke:#000000;stroke-opacity:0.1;\" x=\"255.927673\" xlink:href=\"#m18e7dcae92\" y=\"140.446769\"/>\r\n     <use style=\"fill-opacity:0.1;stroke:#000000;stroke-opacity:0.1;\" x=\"264.618779\" xlink:href=\"#m18e7dcae92\" y=\"139.735549\"/>\r\n     <use style=\"fill-opacity:0.1;stroke:#000000;stroke-opacity:0.1;\" x=\"274.855302\" xlink:href=\"#m18e7dcae92\" y=\"140.753709\"/>\r\n     <use style=\"fill-opacity:0.1;stroke:#000000;stroke-opacity:0.1;\" x=\"265.247048\" xlink:href=\"#m18e7dcae92\" y=\"139.703938\"/>\r\n     <use style=\"fill-opacity:0.1;stroke:#000000;stroke-opacity:0.1;\" x=\"265.424167\" xlink:href=\"#m18e7dcae92\" y=\"139.7106\"/>\r\n     <use style=\"fill-opacity:0.1;stroke:#000000;stroke-opacity:0.1;\" x=\"267.907614\" xlink:href=\"#m18e7dcae92\" y=\"139.738157\"/>\r\n     <use style=\"fill-opacity:0.1;stroke:#000000;stroke-opacity:0.1;\" x=\"258.498654\" xlink:href=\"#m18e7dcae92\" y=\"140.254388\"/>\r\n     <use style=\"fill-opacity:0.1;stroke:#000000;stroke-opacity:0.1;\" x=\"270.416025\" xlink:href=\"#m18e7dcae92\" y=\"138.04388\"/>\r\n     <use style=\"fill-opacity:0.1;stroke:#000000;stroke-opacity:0.1;\" x=\"260.270775\" xlink:href=\"#m18e7dcae92\" y=\"140.282598\"/>\r\n     <use style=\"fill-opacity:0.1;stroke:#000000;stroke-opacity:0.1;\" x=\"258.597037\" xlink:href=\"#m18e7dcae92\" y=\"140.260687\"/>\r\n     <use style=\"fill-opacity:0.1;stroke:#000000;stroke-opacity:0.1;\" x=\"258.069256\" xlink:href=\"#m18e7dcae92\" y=\"140.269886\"/>\r\n     <use style=\"fill-opacity:0.1;stroke:#000000;stroke-opacity:0.1;\" x=\"256.070335\" xlink:href=\"#m18e7dcae92\" y=\"140.452289\"/>\r\n     <use style=\"fill-opacity:0.1;stroke:#000000;stroke-opacity:0.1;\" x=\"256.325023\" xlink:href=\"#m18e7dcae92\" y=\"140.434416\"/>\r\n     <use style=\"fill-opacity:0.1;stroke:#000000;stroke-opacity:0.1;\" x=\"254.855289\" xlink:href=\"#m18e7dcae92\" y=\"140.537868\"/>\r\n     <use style=\"fill-opacity:0.1;stroke:#000000;stroke-opacity:0.1;\" x=\"258.166081\" xlink:href=\"#m18e7dcae92\" y=\"140.27208\"/>\r\n     <use style=\"fill-opacity:0.1;stroke:#000000;stroke-opacity:0.1;\" x=\"288.418158\" xlink:href=\"#m18e7dcae92\" y=\"137.058399\"/>\r\n     <use style=\"fill-opacity:0.1;stroke:#000000;stroke-opacity:0.1;\" x=\"273.014871\" xlink:href=\"#m18e7dcae92\" y=\"139.642409\"/>\r\n     <use style=\"fill-opacity:0.1;stroke:#000000;stroke-opacity:0.1;\" x=\"260.021776\" xlink:href=\"#m18e7dcae92\" y=\"140.160212\"/>\r\n     <use style=\"fill-opacity:0.1;stroke:#000000;stroke-opacity:0.1;\" x=\"255.930935\" xlink:href=\"#m18e7dcae92\" y=\"140.448195\"/>\r\n     <use style=\"fill-opacity:0.1;stroke:#000000;stroke-opacity:0.1;\" x=\"261.407065\" xlink:href=\"#m18e7dcae92\" y=\"140.071615\"/>\r\n     <use style=\"fill-opacity:0.1;stroke:#000000;stroke-opacity:0.1;\" x=\"256.127562\" xlink:href=\"#m18e7dcae92\" y=\"140.453418\"/>\r\n     <use style=\"fill-opacity:0.1;stroke:#000000;stroke-opacity:0.1;\" x=\"260.064656\" xlink:href=\"#m18e7dcae92\" y=\"140.439718\"/>\r\n     <use style=\"fill-opacity:0.1;stroke:#000000;stroke-opacity:0.1;\" x=\"257.122847\" xlink:href=\"#m18e7dcae92\" y=\"140.362152\"/>\r\n     <use style=\"fill-opacity:0.1;stroke:#000000;stroke-opacity:0.1;\" x=\"372.275941\" xlink:href=\"#m18e7dcae92\" y=\"130.607523\"/>\r\n     <use style=\"fill-opacity:0.1;stroke:#000000;stroke-opacity:0.1;\" x=\"255.682556\" xlink:href=\"#m18e7dcae92\" y=\"140.515021\"/>\r\n     <use style=\"fill-opacity:0.1;stroke:#000000;stroke-opacity:0.1;\" x=\"254.875202\" xlink:href=\"#m18e7dcae92\" y=\"140.539513\"/>\r\n     <use style=\"fill-opacity:0.1;stroke:#000000;stroke-opacity:0.1;\" x=\"257.264634\" xlink:href=\"#m18e7dcae92\" y=\"140.3671\"/>\r\n     <use style=\"fill-opacity:0.1;stroke:#000000;stroke-opacity:0.1;\" x=\"255.447846\" xlink:href=\"#m18e7dcae92\" y=\"140.554828\"/>\r\n     <use style=\"fill-opacity:0.1;stroke:#000000;stroke-opacity:0.1;\" x=\"255.570126\" xlink:href=\"#m18e7dcae92\" y=\"140.556458\"/>\r\n     <use style=\"fill-opacity:0.1;stroke:#000000;stroke-opacity:0.1;\" x=\"288.144436\" xlink:href=\"#m18e7dcae92\" y=\"137.866047\"/>\r\n     <use style=\"fill-opacity:0.1;stroke:#000000;stroke-opacity:0.1;\" x=\"283.966659\" xlink:href=\"#m18e7dcae92\" y=\"138.518229\"/>\r\n     <use style=\"fill-opacity:0.1;stroke:#000000;stroke-opacity:0.1;\" x=\"258.562388\" xlink:href=\"#m18e7dcae92\" y=\"140.401615\"/>\r\n     <use style=\"fill-opacity:0.1;stroke:#000000;stroke-opacity:0.1;\" x=\"254.846692\" xlink:href=\"#m18e7dcae92\" y=\"140.539481\"/>\r\n     <use style=\"fill-opacity:0.1;stroke:#000000;stroke-opacity:0.1;\" x=\"262.724888\" xlink:href=\"#m18e7dcae92\" y=\"139.900363\"/>\r\n     <use style=\"fill-opacity:0.1;stroke:#000000;stroke-opacity:0.1;\" x=\"285.663622\" xlink:href=\"#m18e7dcae92\" y=\"138.258508\"/>\r\n     <use style=\"fill-opacity:0.1;stroke:#000000;stroke-opacity:0.1;\" x=\"254.880888\" xlink:href=\"#m18e7dcae92\" y=\"140.539098\"/>\r\n     <use style=\"fill-opacity:0.1;stroke:#000000;stroke-opacity:0.1;\" x=\"259.079715\" xlink:href=\"#m18e7dcae92\" y=\"140.181373\"/>\r\n     <use style=\"fill-opacity:0.1;stroke:#000000;stroke-opacity:0.1;\" x=\"258.222175\" xlink:href=\"#m18e7dcae92\" y=\"140.276074\"/>\r\n     <use style=\"fill-opacity:0.1;stroke:#000000;stroke-opacity:0.1;\" x=\"267.284735\" xlink:href=\"#m18e7dcae92\" y=\"139.527755\"/>\r\n     <use style=\"fill-opacity:0.1;stroke:#000000;stroke-opacity:0.1;\" x=\"256.477537\" xlink:href=\"#m18e7dcae92\" y=\"140.583225\"/>\r\n     <use style=\"fill-opacity:0.1;stroke:#000000;stroke-opacity:0.1;\" x=\"255.368789\" xlink:href=\"#m18e7dcae92\" y=\"140.554398\"/>\r\n     <use style=\"fill-opacity:0.1;stroke:#000000;stroke-opacity:0.1;\" x=\"255.633076\" xlink:href=\"#m18e7dcae92\" y=\"140.561445\"/>\r\n     <use style=\"fill-opacity:0.1;stroke:#000000;stroke-opacity:0.1;\" x=\"255.918512\" xlink:href=\"#m18e7dcae92\" y=\"140.451701\"/>\r\n     <use style=\"fill-opacity:0.1;stroke:#000000;stroke-opacity:0.1;\" x=\"254.866319\" xlink:href=\"#m18e7dcae92\" y=\"140.541652\"/>\r\n     <use style=\"fill-opacity:0.1;stroke:#000000;stroke-opacity:0.1;\" x=\"260.16284\" xlink:href=\"#m18e7dcae92\" y=\"140.093483\"/>\r\n     <use style=\"fill-opacity:0.1;stroke:#000000;stroke-opacity:0.1;\" x=\"258.921073\" xlink:href=\"#m18e7dcae92\" y=\"140.28197\"/>\r\n     <use style=\"fill-opacity:0.1;stroke:#000000;stroke-opacity:0.1;\" x=\"257.247888\" xlink:href=\"#m18e7dcae92\" y=\"140.48321\"/>\r\n     <use style=\"fill-opacity:0.1;stroke:#000000;stroke-opacity:0.1;\" x=\"264.022385\" xlink:href=\"#m18e7dcae92\" y=\"140.408844\"/>\r\n     <use style=\"fill-opacity:0.1;stroke:#000000;stroke-opacity:0.1;\" x=\"255.858217\" xlink:href=\"#m18e7dcae92\" y=\"140.568381\"/>\r\n     <use style=\"fill-opacity:0.1;stroke:#000000;stroke-opacity:0.1;\" x=\"262.75146\" xlink:href=\"#m18e7dcae92\" y=\"140.685525\"/>\r\n     <use style=\"fill-opacity:0.1;stroke:#000000;stroke-opacity:0.1;\" x=\"261.940507\" xlink:href=\"#m18e7dcae92\" y=\"140.022475\"/>\r\n     <use style=\"fill-opacity:0.1;stroke:#000000;stroke-opacity:0.1;\" x=\"256.604526\" xlink:href=\"#m18e7dcae92\" y=\"140.470797\"/>\r\n     <use style=\"fill-opacity:0.1;stroke:#000000;stroke-opacity:0.1;\" x=\"256.186681\" xlink:href=\"#m18e7dcae92\" y=\"140.459903\"/>\r\n     <use style=\"fill-opacity:0.1;stroke:#000000;stroke-opacity:0.1;\" x=\"255.908057\" xlink:href=\"#m18e7dcae92\" y=\"140.45277\"/>\r\n     <use style=\"fill-opacity:0.1;stroke:#000000;stroke-opacity:0.1;\" x=\"255.948419\" xlink:href=\"#m18e7dcae92\" y=\"140.453968\"/>\r\n     <use style=\"fill-opacity:0.1;stroke:#000000;stroke-opacity:0.1;\" x=\"269.167835\" xlink:href=\"#m18e7dcae92\" y=\"139.464458\"/>\r\n     <use style=\"fill-opacity:0.1;stroke:#000000;stroke-opacity:0.1;\" x=\"273.194474\" xlink:href=\"#m18e7dcae92\" y=\"139.467041\"/>\r\n     <use style=\"fill-opacity:0.1;stroke:#000000;stroke-opacity:0.1;\" x=\"255.055591\" xlink:href=\"#m18e7dcae92\" y=\"140.546708\"/>\r\n     <use style=\"fill-opacity:0.1;stroke:#000000;stroke-opacity:0.1;\" x=\"324.907311\" xlink:href=\"#m18e7dcae92\" y=\"135.234595\"/>\r\n     <use style=\"fill-opacity:0.1;stroke:#000000;stroke-opacity:0.1;\" x=\"266.66943\" xlink:href=\"#m18e7dcae92\" y=\"139.557553\"/>\r\n     <use style=\"fill-opacity:0.1;stroke:#000000;stroke-opacity:0.1;\" x=\"259.572456\" xlink:href=\"#m18e7dcae92\" y=\"140.310939\"/>\r\n     <use style=\"fill-opacity:0.1;stroke:#000000;stroke-opacity:0.1;\" x=\"262.681564\" xlink:href=\"#m18e7dcae92\" y=\"139.906261\"/>\r\n     <use style=\"fill-opacity:0.1;stroke:#000000;stroke-opacity:0.1;\" x=\"254.815522\" xlink:href=\"#m18e7dcae92\" y=\"140.542787\"/>\r\n     <use style=\"fill-opacity:0.1;stroke:#000000;stroke-opacity:0.1;\" x=\"344.010332\" xlink:href=\"#m18e7dcae92\" y=\"135.570969\"/>\r\n     <use style=\"fill-opacity:0.1;stroke:#000000;stroke-opacity:0.1;\" x=\"255.173448\" xlink:href=\"#m18e7dcae92\" y=\"140.550537\"/>\r\n     <use style=\"fill-opacity:0.1;stroke:#000000;stroke-opacity:0.1;\" x=\"255.926195\" xlink:href=\"#m18e7dcae92\" y=\"140.454586\"/>\r\n     <use style=\"fill-opacity:0.1;stroke:#000000;stroke-opacity:0.1;\" x=\"255.957987\" xlink:href=\"#m18e7dcae92\" y=\"140.455449\"/>\r\n     <use style=\"fill-opacity:0.1;stroke:#000000;stroke-opacity:0.1;\" x=\"256.121441\" xlink:href=\"#m18e7dcae92\" y=\"140.459733\"/>\r\n     <use style=\"fill-opacity:0.1;stroke:#000000;stroke-opacity:0.1;\" x=\"269.093774\" xlink:href=\"#m18e7dcae92\" y=\"140.872675\"/>\r\n     <use style=\"fill-opacity:0.1;stroke:#000000;stroke-opacity:0.1;\" x=\"273.423402\" xlink:href=\"#m18e7dcae92\" y=\"139.13228\"/>\r\n     <use style=\"fill-opacity:0.1;stroke:#000000;stroke-opacity:0.1;\" x=\"258.321091\" xlink:href=\"#m18e7dcae92\" y=\"140.514723\"/>\r\n     <use style=\"fill-opacity:0.1;stroke:#000000;stroke-opacity:0.1;\" x=\"256.205633\" xlink:href=\"#m18e7dcae92\" y=\"140.462012\"/>\r\n     <use style=\"fill-opacity:0.1;stroke:#000000;stroke-opacity:0.1;\" x=\"256.096942\" xlink:href=\"#m18e7dcae92\" y=\"140.459449\"/>\r\n     <use style=\"fill-opacity:0.1;stroke:#000000;stroke-opacity:0.1;\" x=\"259.086732\" xlink:href=\"#m18e7dcae92\" y=\"140.395745\"/>\r\n     <use style=\"fill-opacity:0.1;stroke:#000000;stroke-opacity:0.1;\" x=\"297.97215\" xlink:href=\"#m18e7dcae92\" y=\"137.353478\"/>\r\n     <use style=\"fill-opacity:0.1;stroke:#000000;stroke-opacity:0.1;\" x=\"254.832073\" xlink:href=\"#m18e7dcae92\" y=\"140.544141\"/>\r\n     <use style=\"fill-opacity:0.1;stroke:#000000;stroke-opacity:0.1;\" x=\"276.337881\" xlink:href=\"#m18e7dcae92\" y=\"138.91465\"/>\r\n     <use style=\"fill-opacity:0.1;stroke:#000000;stroke-opacity:0.1;\" x=\"259.694536\" xlink:href=\"#m18e7dcae92\" y=\"140.581115\"/>\r\n     <use style=\"fill-opacity:0.1;stroke:#000000;stroke-opacity:0.1;\" x=\"258.061305\" xlink:href=\"#m18e7dcae92\" y=\"140.530208\"/>\r\n     <use style=\"fill-opacity:0.1;stroke:#000000;stroke-opacity:0.1;\" x=\"255.824217\" xlink:href=\"#m18e7dcae92\" y=\"140.570743\"/>\r\n     <use style=\"fill-opacity:0.1;stroke:#000000;stroke-opacity:0.1;\" x=\"255.12368\" xlink:href=\"#m18e7dcae92\" y=\"140.552466\"/>\r\n     <use style=\"fill-opacity:0.1;stroke:#000000;stroke-opacity:0.1;\" x=\"254.96941\" xlink:href=\"#m18e7dcae92\" y=\"140.548421\"/>\r\n     <use style=\"fill-opacity:0.1;stroke:#000000;stroke-opacity:0.1;\" x=\"254.978055\" xlink:href=\"#m18e7dcae92\" y=\"140.548699\"/>\r\n     <use style=\"fill-opacity:0.1;stroke:#000000;stroke-opacity:0.1;\" x=\"258.475918\" xlink:href=\"#m18e7dcae92\" y=\"140.370603\"/>\r\n     <use style=\"fill-opacity:0.1;stroke:#000000;stroke-opacity:0.1;\" x=\"255.873182\" xlink:href=\"#m18e7dcae92\" y=\"140.455209\"/>\r\n     <use style=\"fill-opacity:0.1;stroke:#000000;stroke-opacity:0.1;\" x=\"255.564243\" xlink:href=\"#m18e7dcae92\" y=\"140.562915\"/>\r\n     <use style=\"fill-opacity:0.1;stroke:#000000;stroke-opacity:0.1;\" x=\"254.813182\" xlink:href=\"#m18e7dcae92\" y=\"140.545009\"/>\r\n     <use style=\"fill-opacity:0.1;stroke:#000000;stroke-opacity:0.1;\" x=\"256.676112\" xlink:href=\"#m18e7dcae92\" y=\"140.476328\"/>\r\n     <use style=\"fill-opacity:0.1;stroke:#000000;stroke-opacity:0.1;\" x=\"265.933599\" xlink:href=\"#m18e7dcae92\" y=\"139.172574\"/>\r\n     <use style=\"fill-opacity:0.1;stroke:#000000;stroke-opacity:0.1;\" x=\"301.860754\" xlink:href=\"#m18e7dcae92\" y=\"138.077566\"/>\r\n     <use style=\"fill-opacity:0.1;stroke:#000000;stroke-opacity:0.1;\" x=\"264.268091\" xlink:href=\"#m18e7dcae92\" y=\"140.004873\"/>\r\n     <use style=\"fill-opacity:0.1;stroke:#000000;stroke-opacity:0.1;\" x=\"258.801356\" xlink:href=\"#m18e7dcae92\" y=\"140.415067\"/>\r\n     <use style=\"fill-opacity:0.1;stroke:#000000;stroke-opacity:0.1;\" x=\"254.846787\" xlink:href=\"#m18e7dcae92\" y=\"140.543397\"/>\r\n     <use style=\"fill-opacity:0.1;stroke:#000000;stroke-opacity:0.1;\" x=\"254.795271\" xlink:href=\"#m18e7dcae92\" y=\"140.545237\"/>\r\n     <use style=\"fill-opacity:0.1;stroke:#000000;stroke-opacity:0.1;\" x=\"257.579988\" xlink:href=\"#m18e7dcae92\" y=\"140.348483\"/>\r\n     <use style=\"fill-opacity:0.1;stroke:#000000;stroke-opacity:0.1;\" x=\"254.806007\" xlink:href=\"#m18e7dcae92\" y=\"140.545797\"/>\r\n     <use style=\"fill-opacity:0.1;stroke:#000000;stroke-opacity:0.1;\" x=\"258.401488\" xlink:href=\"#m18e7dcae92\" y=\"140.287058\"/>\r\n     <use style=\"fill-opacity:0.1;stroke:#000000;stroke-opacity:0.1;\" x=\"261.732671\" xlink:href=\"#m18e7dcae92\" y=\"140.170911\"/>\r\n     <use style=\"fill-opacity:0.1;stroke:#000000;stroke-opacity:0.1;\" x=\"254.797871\" xlink:href=\"#m18e7dcae92\" y=\"140.545734\"/>\r\n     <use style=\"fill-opacity:0.1;stroke:#000000;stroke-opacity:0.1;\" x=\"447.662395\" xlink:href=\"#m18e7dcae92\" y=\"132.352898\"/>\r\n     <use style=\"fill-opacity:0.1;stroke:#000000;stroke-opacity:0.1;\" x=\"256.235438\" xlink:href=\"#m18e7dcae92\" y=\"140.465539\"/>\r\n     <use style=\"fill-opacity:0.1;stroke:#000000;stroke-opacity:0.1;\" x=\"267.259152\" xlink:href=\"#m18e7dcae92\" y=\"139.601113\"/>\r\n     <use style=\"fill-opacity:0.1;stroke:#000000;stroke-opacity:0.1;\" x=\"255.853782\" xlink:href=\"#m18e7dcae92\" y=\"140.456551\"/>\r\n     <use style=\"fill-opacity:0.1;stroke:#000000;stroke-opacity:0.1;\" x=\"254.792528\" xlink:href=\"#m18e7dcae92\" y=\"140.546222\"/>\r\n     <use style=\"fill-opacity:0.1;stroke:#000000;stroke-opacity:0.1;\" x=\"254.788181\" xlink:href=\"#m18e7dcae92\" y=\"140.546111\"/>\r\n     <use style=\"fill-opacity:0.1;stroke:#000000;stroke-opacity:0.1;\" x=\"258.180457\" xlink:href=\"#m18e7dcae92\" y=\"140.280904\"/>\r\n     <use style=\"fill-opacity:0.1;stroke:#000000;stroke-opacity:0.1;\" x=\"269.987618\" xlink:href=\"#m18e7dcae92\" y=\"139.693663\"/>\r\n     <use style=\"fill-opacity:0.1;stroke:#000000;stroke-opacity:0.1;\" x=\"259.14554\" xlink:href=\"#m18e7dcae92\" y=\"140.381931\"/>\r\n     <use style=\"fill-opacity:0.1;stroke:#000000;stroke-opacity:0.1;\" x=\"255.188611\" xlink:href=\"#m18e7dcae92\" y=\"140.556671\"/>\r\n     <use style=\"fill-opacity:0.1;stroke:#000000;stroke-opacity:0.1;\" x=\"258.257204\" xlink:href=\"#m18e7dcae92\" y=\"140.285056\"/>\r\n     <use style=\"fill-opacity:0.1;stroke:#000000;stroke-opacity:0.1;\" x=\"256.36308\" xlink:href=\"#m18e7dcae92\" y=\"140.449603\"/>\r\n     <use style=\"fill-opacity:0.1;stroke:#000000;stroke-opacity:0.1;\" x=\"258.080453\" xlink:href=\"#m18e7dcae92\" y=\"140.280146\"/>\r\n     <use style=\"fill-opacity:0.1;stroke:#000000;stroke-opacity:0.1;\" x=\"255.285794\" xlink:href=\"#m18e7dcae92\" y=\"140.557879\"/>\r\n     <use style=\"fill-opacity:0.1;stroke:#000000;stroke-opacity:0.1;\" x=\"255.926804\" xlink:href=\"#m18e7dcae92\" y=\"140.458944\"/>\r\n     <use style=\"fill-opacity:0.1;stroke:#000000;stroke-opacity:0.1;\" x=\"303.384109\" xlink:href=\"#m18e7dcae92\" y=\"134.574509\"/>\r\n     <use style=\"fill-opacity:0.1;stroke:#000000;stroke-opacity:0.1;\" x=\"263.621307\" xlink:href=\"#m18e7dcae92\" y=\"140.388951\"/>\r\n     <use style=\"fill-opacity:0.1;stroke:#000000;stroke-opacity:0.1;\" x=\"256.220125\" xlink:href=\"#m18e7dcae92\" y=\"140.465966\"/>\r\n     <use style=\"fill-opacity:0.1;stroke:#000000;stroke-opacity:0.1;\" x=\"254.813094\" xlink:href=\"#m18e7dcae92\" y=\"140.547361\"/>\r\n     <use style=\"fill-opacity:0.1;stroke:#000000;stroke-opacity:0.1;\" x=\"299.65442\" xlink:href=\"#m18e7dcae92\" y=\"139.277404\"/>\r\n     <use style=\"fill-opacity:0.1;stroke:#000000;stroke-opacity:0.1;\" x=\"255.569686\" xlink:href=\"#m18e7dcae92\" y=\"140.567169\"/>\r\n     <use style=\"fill-opacity:0.1;stroke:#000000;stroke-opacity:0.1;\" x=\"257.4857\" xlink:href=\"#m18e7dcae92\" y=\"140.495301\"/>\r\n     <use style=\"fill-opacity:0.1;stroke:#000000;stroke-opacity:0.1;\" x=\"307.337503\" xlink:href=\"#m18e7dcae92\" y=\"136.509174\"/>\r\n     <use style=\"fill-opacity:0.1;stroke:#000000;stroke-opacity:0.1;\" x=\"256.209733\" xlink:href=\"#m18e7dcae92\" y=\"140.442766\"/>\r\n     <use style=\"fill-opacity:0.1;stroke:#000000;stroke-opacity:0.1;\" x=\"261.133027\" xlink:href=\"#m18e7dcae92\" y=\"140.008751\"/>\r\n     <use style=\"fill-opacity:0.1;stroke:#000000;stroke-opacity:0.1;\" x=\"257.919416\" xlink:href=\"#m18e7dcae92\" y=\"140.527575\"/>\r\n     <use style=\"fill-opacity:0.1;stroke:#000000;stroke-opacity:0.1;\" x=\"467.363892\" xlink:href=\"#m18e7dcae92\" y=\"130.953553\"/>\r\n     <use style=\"fill-opacity:0.1;stroke:#000000;stroke-opacity:0.1;\" x=\"254.850563\" xlink:href=\"#m18e7dcae92\" y=\"140.54726\"/>\r\n     <use style=\"fill-opacity:0.1;stroke:#000000;stroke-opacity:0.1;\" x=\"493.335174\" xlink:href=\"#m18e7dcae92\" y=\"135.386048\"/>\r\n     <use style=\"fill-opacity:0.1;stroke:#000000;stroke-opacity:0.1;\" x=\"266.571157\" xlink:href=\"#m18e7dcae92\" y=\"139.778042\"/>\r\n     <use style=\"fill-opacity:0.1;stroke:#000000;stroke-opacity:0.1;\" x=\"257.248074\" xlink:href=\"#m18e7dcae92\" y=\"140.352859\"/>\r\n     <use style=\"fill-opacity:0.1;stroke:#000000;stroke-opacity:0.1;\" x=\"265.015125\" xlink:href=\"#m18e7dcae92\" y=\"139.709357\"/>\r\n     <use style=\"fill-opacity:0.1;stroke:#000000;stroke-opacity:0.1;\" x=\"259.021573\" xlink:href=\"#m18e7dcae92\" y=\"140.189266\"/>\r\n     <use style=\"fill-opacity:0.1;stroke:#000000;stroke-opacity:0.1;\" x=\"266.411369\" xlink:href=\"#m18e7dcae92\" y=\"139.561268\"/>\r\n     <use style=\"fill-opacity:0.1;stroke:#000000;stroke-opacity:0.1;\" x=\"258.039507\" xlink:href=\"#m18e7dcae92\" y=\"140.280514\"/>\r\n     <use style=\"fill-opacity:0.1;stroke:#000000;stroke-opacity:0.1;\" x=\"255.116189\" xlink:href=\"#m18e7dcae92\" y=\"140.554929\"/>\r\n     <use style=\"fill-opacity:0.1;stroke:#000000;stroke-opacity:0.1;\" x=\"372.269349\" xlink:href=\"#m18e7dcae92\" y=\"134.686147\"/>\r\n     <use style=\"fill-opacity:0.1;stroke:#000000;stroke-opacity:0.1;\" x=\"255.056434\" xlink:href=\"#m18e7dcae92\" y=\"140.55508\"/>\r\n     <use style=\"fill-opacity:0.1;stroke:#000000;stroke-opacity:0.1;\" x=\"259.41577\" xlink:href=\"#m18e7dcae92\" y=\"140.292459\"/>\r\n     <use style=\"fill-opacity:0.1;stroke:#000000;stroke-opacity:0.1;\" x=\"256.319181\" xlink:href=\"#m18e7dcae92\" y=\"140.470805\"/>\r\n     <use style=\"fill-opacity:0.1;stroke:#000000;stroke-opacity:0.1;\" x=\"312.872737\" xlink:href=\"#m18e7dcae92\" y=\"138.583702\"/>\r\n     <use style=\"fill-opacity:0.1;stroke:#000000;stroke-opacity:0.1;\" x=\"257.222948\" xlink:href=\"#m18e7dcae92\" y=\"140.424628\"/>\r\n     <use style=\"fill-opacity:0.1;stroke:#000000;stroke-opacity:0.1;\" x=\"435.606119\" xlink:href=\"#m18e7dcae92\" y=\"132.589663\"/>\r\n     <use style=\"fill-opacity:0.1;stroke:#000000;stroke-opacity:0.1;\" x=\"255.089382\" xlink:href=\"#m18e7dcae92\" y=\"140.556482\"/>\r\n     <use style=\"fill-opacity:0.1;stroke:#000000;stroke-opacity:0.1;\" x=\"254.770764\" xlink:href=\"#m18e7dcae92\" y=\"140.548275\"/>\r\n     <use style=\"fill-opacity:0.1;stroke:#000000;stroke-opacity:0.1;\" x=\"264.614896\" xlink:href=\"#m18e7dcae92\" y=\"139.744763\"/>\r\n     <use style=\"fill-opacity:0.1;stroke:#000000;stroke-opacity:0.1;\" x=\"343.774616\" xlink:href=\"#m18e7dcae92\" y=\"134.633675\"/>\r\n     <use style=\"fill-opacity:0.1;stroke:#000000;stroke-opacity:0.1;\" x=\"257.549502\" xlink:href=\"#m18e7dcae92\" y=\"140.356731\"/>\r\n     <use style=\"fill-opacity:0.1;stroke:#000000;stroke-opacity:0.1;\" x=\"255.893667\" xlink:href=\"#m18e7dcae92\" y=\"140.460627\"/>\r\n     <use style=\"fill-opacity:0.1;stroke:#000000;stroke-opacity:0.1;\" x=\"266.459925\" xlink:href=\"#m18e7dcae92\" y=\"139.621113\"/>\r\n     <use style=\"fill-opacity:0.1;stroke:#000000;stroke-opacity:0.1;\" x=\"258.122157\" xlink:href=\"#m18e7dcae92\" y=\"140.283569\"/>\r\n     <use style=\"fill-opacity:0.1;stroke:#000000;stroke-opacity:0.1;\" x=\"293.073171\" xlink:href=\"#m18e7dcae92\" y=\"137.493049\"/>\r\n     <use style=\"fill-opacity:0.1;stroke:#000000;stroke-opacity:0.1;\" x=\"259.36648\" xlink:href=\"#m18e7dcae92\" y=\"140.300903\"/>\r\n     <use style=\"fill-opacity:0.1;stroke:#000000;stroke-opacity:0.1;\" x=\"260.060196\" xlink:href=\"#m18e7dcae92\" y=\"140.100188\"/>\r\n     <use style=\"fill-opacity:0.1;stroke:#000000;stroke-opacity:0.1;\" x=\"257.119376\" xlink:href=\"#m18e7dcae92\" y=\"140.375768\"/>\r\n     <use style=\"fill-opacity:0.1;stroke:#000000;stroke-opacity:0.1;\" x=\"270.224847\" xlink:href=\"#m18e7dcae92\" y=\"138.542295\"/>\r\n     <use style=\"fill-opacity:0.1;stroke:#000000;stroke-opacity:0.1;\" x=\"255.905619\" xlink:href=\"#m18e7dcae92\" y=\"140.461586\"/>\r\n     <use style=\"fill-opacity:0.1;stroke:#000000;stroke-opacity:0.1;\" x=\"255.028803\" xlink:href=\"#m18e7dcae92\" y=\"140.556074\"/>\r\n     <use style=\"fill-opacity:0.1;stroke:#000000;stroke-opacity:0.1;\" x=\"256.399776\" xlink:href=\"#m18e7dcae92\" y=\"140.452302\"/>\r\n     <use style=\"fill-opacity:0.1;stroke:#000000;stroke-opacity:0.1;\" x=\"257.153851\" xlink:href=\"#m18e7dcae92\" y=\"140.377046\"/>\r\n     <use style=\"fill-opacity:0.1;stroke:#000000;stroke-opacity:0.1;\" x=\"255.278691\" xlink:href=\"#m18e7dcae92\" y=\"140.562615\"/>\r\n     <use style=\"fill-opacity:0.1;stroke:#000000;stroke-opacity:0.1;\" x=\"254.808202\" xlink:href=\"#m18e7dcae92\" y=\"140.550384\"/>\r\n     <use style=\"fill-opacity:0.1;stroke:#000000;stroke-opacity:0.1;\" x=\"261.849318\" xlink:href=\"#m18e7dcae92\" y=\"140.389288\"/>\r\n     <use style=\"fill-opacity:0.1;stroke:#000000;stroke-opacity:0.1;\" x=\"256.446138\" xlink:href=\"#m18e7dcae92\" y=\"140.476102\"/>\r\n     <use style=\"fill-opacity:0.1;stroke:#000000;stroke-opacity:0.1;\" x=\"259.015046\" xlink:href=\"#m18e7dcae92\" y=\"140.190778\"/>\r\n     <use style=\"fill-opacity:0.1;stroke:#000000;stroke-opacity:0.1;\" x=\"264.746741\" xlink:href=\"#m18e7dcae92\" y=\"139.781478\"/>\r\n     <use style=\"fill-opacity:0.1;stroke:#000000;stroke-opacity:0.1;\" x=\"264.929048\" xlink:href=\"#m18e7dcae92\" y=\"139.182742\"/>\r\n     <use style=\"fill-opacity:0.1;stroke:#000000;stroke-opacity:0.1;\" x=\"254.7618\" xlink:href=\"#m18e7dcae92\" y=\"140.549741\"/>\r\n     <use style=\"fill-opacity:0.1;stroke:#000000;stroke-opacity:0.1;\" x=\"289.1333\" xlink:href=\"#m18e7dcae92\" y=\"137.513072\"/>\r\n     <use style=\"fill-opacity:0.1;stroke:#000000;stroke-opacity:0.1;\" x=\"262.511825\" xlink:href=\"#m18e7dcae92\" y=\"139.998808\"/>\r\n     <use style=\"fill-opacity:0.1;stroke:#000000;stroke-opacity:0.1;\" x=\"268.795305\" xlink:href=\"#m18e7dcae92\" y=\"140.715183\"/>\r\n     <use style=\"fill-opacity:0.1;stroke:#000000;stroke-opacity:0.1;\" x=\"261.029011\" xlink:href=\"#m18e7dcae92\" y=\"140.345388\"/>\r\n     <use style=\"fill-opacity:0.1;stroke:#000000;stroke-opacity:0.1;\" x=\"257.100438\" xlink:href=\"#m18e7dcae92\" y=\"140.376006\"/>\r\n     <use style=\"fill-opacity:0.1;stroke:#000000;stroke-opacity:0.1;\" x=\"331.98428\" xlink:href=\"#m18e7dcae92\" y=\"134.554889\"/>\r\n     <use style=\"fill-opacity:0.1;stroke:#000000;stroke-opacity:0.1;\" x=\"256.862563\" xlink:href=\"#m18e7dcae92\" y=\"140.498949\"/>\r\n     <use style=\"fill-opacity:0.1;stroke:#000000;stroke-opacity:0.1;\" x=\"259.79782\" xlink:href=\"#m18e7dcae92\" y=\"140.299728\"/>\r\n     <use style=\"fill-opacity:0.1;stroke:#000000;stroke-opacity:0.1;\" x=\"256.877417\" xlink:href=\"#m18e7dcae92\" y=\"140.37088\"/>\r\n     <use style=\"fill-opacity:0.1;stroke:#000000;stroke-opacity:0.1;\" x=\"254.766791\" xlink:href=\"#m18e7dcae92\" y=\"140.550406\"/>\r\n     <use style=\"fill-opacity:0.1;stroke:#000000;stroke-opacity:0.1;\" x=\"257.972288\" xlink:href=\"#m18e7dcae92\" y=\"140.281553\"/>\r\n     <use style=\"fill-opacity:0.1;stroke:#000000;stroke-opacity:0.1;\" x=\"257.289164\" xlink:href=\"#m18e7dcae92\" y=\"140.378487\"/>\r\n     <use style=\"fill-opacity:0.1;stroke:#000000;stroke-opacity:0.1;\" x=\"351.107748\" xlink:href=\"#m18e7dcae92\" y=\"138.007668\"/>\r\n     <use style=\"fill-opacity:0.1;stroke:#000000;stroke-opacity:0.1;\" x=\"263.740442\" xlink:href=\"#m18e7dcae92\" y=\"140.243359\"/>\r\n     <use style=\"fill-opacity:0.1;stroke:#000000;stroke-opacity:0.1;\" x=\"263.615488\" xlink:href=\"#m18e7dcae92\" y=\"139.818229\"/>\r\n     <use style=\"fill-opacity:0.1;stroke:#000000;stroke-opacity:0.1;\" x=\"260.782921\" xlink:href=\"#m18e7dcae92\" y=\"140.347813\"/>\r\n     <use style=\"fill-opacity:0.1;stroke:#000000;stroke-opacity:0.1;\" x=\"254.773019\" xlink:href=\"#m18e7dcae92\" y=\"140.551295\"/>\r\n     <use style=\"fill-opacity:0.1;stroke:#000000;stroke-opacity:0.1;\" x=\"387.09285\" xlink:href=\"#m18e7dcae92\" y=\"131.184537\"/>\r\n     <use style=\"fill-opacity:0.1;stroke:#000000;stroke-opacity:0.1;\" x=\"254.748753\" xlink:href=\"#m18e7dcae92\" y=\"140.550974\"/>\r\n     <use style=\"fill-opacity:0.1;stroke:#000000;stroke-opacity:0.1;\" x=\"379.698276\" xlink:href=\"#m18e7dcae92\" y=\"137.179051\"/>\r\n     <use style=\"fill-opacity:0.1;stroke:#000000;stroke-opacity:0.1;\" x=\"262.330075\" xlink:href=\"#m18e7dcae92\" y=\"140.03567\"/>\r\n     <use style=\"fill-opacity:0.1;stroke:#000000;stroke-opacity:0.1;\" x=\"254.749877\" xlink:href=\"#m18e7dcae92\" y=\"140.551473\"/>\r\n     <use style=\"fill-opacity:0.1;stroke:#000000;stroke-opacity:0.1;\" x=\"261.438959\" xlink:href=\"#m18e7dcae92\" y=\"140.088122\"/>\r\n     <use style=\"fill-opacity:0.1;stroke:#000000;stroke-opacity:0.1;\" x=\"254.800851\" xlink:href=\"#m18e7dcae92\" y=\"140.552982\"/>\r\n     <use style=\"fill-opacity:0.1;stroke:#000000;stroke-opacity:0.1;\" x=\"265.275727\" xlink:href=\"#m18e7dcae92\" y=\"140.067554\"/>\r\n     <use style=\"fill-opacity:0.1;stroke:#000000;stroke-opacity:0.1;\" x=\"256.00326\" xlink:href=\"#m18e7dcae92\" y=\"140.467266\"/>\r\n     <use style=\"fill-opacity:0.1;stroke:#000000;stroke-opacity:0.1;\" x=\"254.777292\" xlink:href=\"#m18e7dcae92\" y=\"140.552631\"/>\r\n     <use style=\"fill-opacity:0.1;stroke:#000000;stroke-opacity:0.1;\" x=\"263.376599\" xlink:href=\"#m18e7dcae92\" y=\"140.35989\"/>\r\n     <use style=\"fill-opacity:0.1;stroke:#000000;stroke-opacity:0.1;\" x=\"256.578886\" xlink:href=\"#m18e7dcae92\" y=\"140.482349\"/>\r\n     <use style=\"fill-opacity:0.1;stroke:#000000;stroke-opacity:0.1;\" x=\"255.876943\" xlink:href=\"#m18e7dcae92\" y=\"140.464043\"/>\r\n     <use style=\"fill-opacity:0.1;stroke:#000000;stroke-opacity:0.1;\" x=\"264.373308\" xlink:href=\"#m18e7dcae92\" y=\"139.743166\"/>\r\n     <use style=\"fill-opacity:0.1;stroke:#000000;stroke-opacity:0.1;\" x=\"259.79792\" xlink:href=\"#m18e7dcae92\" y=\"140.190044\"/>\r\n     <use style=\"fill-opacity:0.1;stroke:#000000;stroke-opacity:0.1;\" x=\"255.840456\" xlink:href=\"#m18e7dcae92\" y=\"140.462504\"/>\r\n     <use style=\"fill-opacity:0.1;stroke:#000000;stroke-opacity:0.1;\" x=\"256.197988\" xlink:href=\"#m18e7dcae92\" y=\"140.472706\"/>\r\n     <use style=\"fill-opacity:0.1;stroke:#000000;stroke-opacity:0.1;\" x=\"285.566559\" xlink:href=\"#m18e7dcae92\" y=\"141.235547\"/>\r\n     <use style=\"fill-opacity:0.1;stroke:#000000;stroke-opacity:0.1;\" x=\"255.850372\" xlink:href=\"#m18e7dcae92\" y=\"140.463771\"/>\r\n     <use style=\"fill-opacity:0.1;stroke:#000000;stroke-opacity:0.1;\" x=\"256.871384\" xlink:href=\"#m18e7dcae92\" y=\"140.373218\"/>\r\n     <use style=\"fill-opacity:0.1;stroke:#000000;stroke-opacity:0.1;\" x=\"311.000535\" xlink:href=\"#m18e7dcae92\" y=\"136.537618\"/>\r\n     <use style=\"fill-opacity:0.1;stroke:#000000;stroke-opacity:0.1;\" x=\"297.632168\" xlink:href=\"#m18e7dcae92\" y=\"139.23522\"/>\r\n     <use style=\"fill-opacity:0.1;stroke:#000000;stroke-opacity:0.1;\" x=\"254.776191\" xlink:href=\"#m18e7dcae92\" y=\"140.553131\"/>\r\n     <use style=\"fill-opacity:0.1;stroke:#000000;stroke-opacity:0.1;\" x=\"259.507707\" xlink:href=\"#m18e7dcae92\" y=\"140.309812\"/>\r\n     <use style=\"fill-opacity:0.1;stroke:#000000;stroke-opacity:0.1;\" x=\"255.883154\" xlink:href=\"#m18e7dcae92\" y=\"140.582049\"/>\r\n     <use style=\"fill-opacity:0.1;stroke:#000000;stroke-opacity:0.1;\" x=\"254.756417\" xlink:href=\"#m18e7dcae92\" y=\"140.552714\"/>\r\n     <use style=\"fill-opacity:0.1;stroke:#000000;stroke-opacity:0.1;\" x=\"254.741675\" xlink:href=\"#m18e7dcae92\" y=\"140.552362\"/>\r\n     <use style=\"fill-opacity:0.1;stroke:#000000;stroke-opacity:0.1;\" x=\"259.712696\" xlink:href=\"#m18e7dcae92\" y=\"140.212681\"/>\r\n     <use style=\"fill-opacity:0.1;stroke:#000000;stroke-opacity:0.1;\" x=\"259.742829\" xlink:href=\"#m18e7dcae92\" y=\"140.320946\"/>\r\n     <use style=\"fill-opacity:0.1;stroke:#000000;stroke-opacity:0.1;\" x=\"260.094343\" xlink:href=\"#m18e7dcae92\" y=\"140.105738\"/>\r\n     <use style=\"fill-opacity:0.1;stroke:#000000;stroke-opacity:0.1;\" x=\"260.793482\" xlink:href=\"#m18e7dcae92\" y=\"140.124079\"/>\r\n     <use style=\"fill-opacity:0.1;stroke:#000000;stroke-opacity:0.1;\" x=\"289.715501\" xlink:href=\"#m18e7dcae92\" y=\"140.137381\"/>\r\n     <use style=\"fill-opacity:0.1;stroke:#000000;stroke-opacity:0.1;\" x=\"266.040359\" xlink:href=\"#m18e7dcae92\" y=\"140.525908\"/>\r\n     <use style=\"fill-opacity:0.1;stroke:#000000;stroke-opacity:0.1;\" x=\"256.935771\" xlink:href=\"#m18e7dcae92\" y=\"140.374303\"/>\r\n     <use style=\"fill-opacity:0.1;stroke:#000000;stroke-opacity:0.1;\" x=\"423.608224\" xlink:href=\"#m18e7dcae92\" y=\"129.642492\"/>\r\n     <use style=\"fill-opacity:0.1;stroke:#000000;stroke-opacity:0.1;\" x=\"256.277537\" xlink:href=\"#m18e7dcae92\" y=\"140.43518\"/>\r\n     <use style=\"fill-opacity:0.1;stroke:#000000;stroke-opacity:0.1;\" x=\"259.030137\" xlink:href=\"#m18e7dcae92\" y=\"140.195735\"/>\r\n     <use style=\"fill-opacity:0.1;stroke:#000000;stroke-opacity:0.1;\" x=\"254.792185\" xlink:href=\"#m18e7dcae92\" y=\"140.554284\"/>\r\n     <use style=\"fill-opacity:0.1;stroke:#000000;stroke-opacity:0.1;\" x=\"255.94104\" xlink:href=\"#m18e7dcae92\" y=\"140.582921\"/>\r\n     <use style=\"fill-opacity:0.1;stroke:#000000;stroke-opacity:0.1;\" x=\"254.738085\" xlink:href=\"#m18e7dcae92\" y=\"140.553192\"/>\r\n     <use style=\"fill-opacity:0.1;stroke:#000000;stroke-opacity:0.1;\" x=\"254.732973\" xlink:href=\"#m18e7dcae92\" y=\"140.553289\"/>\r\n     <use style=\"fill-opacity:0.1;stroke:#000000;stroke-opacity:0.1;\" x=\"256.564048\" xlink:href=\"#m18e7dcae92\" y=\"140.483871\"/>\r\n     <use style=\"fill-opacity:0.1;stroke:#000000;stroke-opacity:0.1;\" x=\"275.343738\" xlink:href=\"#m18e7dcae92\" y=\"141.101975\"/>\r\n     <use style=\"fill-opacity:0.1;stroke:#000000;stroke-opacity:0.1;\" x=\"256.858562\" xlink:href=\"#m18e7dcae92\" y=\"140.374503\"/>\r\n     <use style=\"fill-opacity:0.1;stroke:#000000;stroke-opacity:0.1;\" x=\"256.132333\" xlink:href=\"#m18e7dcae92\" y=\"140.472872\"/>\r\n     <use style=\"fill-opacity:0.1;stroke:#000000;stroke-opacity:0.1;\" x=\"254.729569\" xlink:href=\"#m18e7dcae92\" y=\"140.553709\"/>\r\n     <use style=\"fill-opacity:0.1;stroke:#000000;stroke-opacity:0.1;\" x=\"254.727064\" xlink:href=\"#m18e7dcae92\" y=\"140.55368\"/>\r\n     <use style=\"fill-opacity:0.1;stroke:#000000;stroke-opacity:0.1;\" x=\"260.889846\" xlink:href=\"#m18e7dcae92\" y=\"140.197536\"/>\r\n     <use style=\"fill-opacity:0.1;stroke:#000000;stroke-opacity:0.1;\" x=\"258.296621\" xlink:href=\"#m18e7dcae92\" y=\"140.26989\"/>\r\n     <use style=\"fill-opacity:0.1;stroke:#000000;stroke-opacity:0.1;\" x=\"255.037084\" xlink:href=\"#m18e7dcae92\" y=\"140.561847\"/>\r\n     <use style=\"fill-opacity:0.1;stroke:#000000;stroke-opacity:0.1;\" x=\"260.985706\" xlink:href=\"#m18e7dcae92\" y=\"140.087519\"/>\r\n     <use style=\"fill-opacity:0.1;stroke:#000000;stroke-opacity:0.1;\" x=\"258.355651\" xlink:href=\"#m18e7dcae92\" y=\"140.29612\"/>\r\n     <use style=\"fill-opacity:0.1;stroke:#000000;stroke-opacity:0.1;\" x=\"261.047909\" xlink:href=\"#m18e7dcae92\" y=\"140.265678\"/>\r\n     <use style=\"fill-opacity:0.1;stroke:#000000;stroke-opacity:0.1;\" x=\"259.297223\" xlink:href=\"#m18e7dcae92\" y=\"140.179739\"/>\r\n     <use style=\"fill-opacity:0.1;stroke:#000000;stroke-opacity:0.1;\" x=\"255.790673\" xlink:href=\"#m18e7dcae92\" y=\"140.581943\"/>\r\n     <use style=\"fill-opacity:0.1;stroke:#000000;stroke-opacity:0.1;\" x=\"435.699287\" xlink:href=\"#m18e7dcae92\" y=\"139.468539\"/>\r\n     <use style=\"fill-opacity:0.1;stroke:#000000;stroke-opacity:0.1;\" x=\"254.731642\" xlink:href=\"#m18e7dcae92\" y=\"140.554488\"/>\r\n     <use style=\"fill-opacity:0.1;stroke:#000000;stroke-opacity:0.1;\" x=\"256.231835\" xlink:href=\"#m18e7dcae92\" y=\"140.592018\"/>\r\n     <use style=\"fill-opacity:0.1;stroke:#000000;stroke-opacity:0.1;\" x=\"257.459458\" xlink:href=\"#m18e7dcae92\" y=\"140.514957\"/>\r\n     <use style=\"fill-opacity:0.1;stroke:#000000;stroke-opacity:0.1;\" x=\"257.458465\" xlink:href=\"#m18e7dcae92\" y=\"140.514908\"/>\r\n     <use style=\"fill-opacity:0.1;stroke:#000000;stroke-opacity:0.1;\" x=\"255.553154\" xlink:href=\"#m18e7dcae92\" y=\"140.575872\"/>\r\n     <use style=\"fill-opacity:0.1;stroke:#000000;stroke-opacity:0.1;\" x=\"255.377625\" xlink:href=\"#m18e7dcae92\" y=\"140.569764\"/>\r\n     <use style=\"fill-opacity:0.1;stroke:#000000;stroke-opacity:0.1;\" x=\"254.97822\" xlink:href=\"#m18e7dcae92\" y=\"140.56092\"/>\r\n     <use style=\"fill-opacity:0.1;stroke:#000000;stroke-opacity:0.1;\" x=\"280.828851\" xlink:href=\"#m18e7dcae92\" y=\"136.003246\"/>\r\n     <use style=\"fill-opacity:0.1;stroke:#000000;stroke-opacity:0.1;\" x=\"254.983967\" xlink:href=\"#m18e7dcae92\" y=\"140.561073\"/>\r\n     <use style=\"fill-opacity:0.1;stroke:#000000;stroke-opacity:0.1;\" x=\"255.967173\" xlink:href=\"#m18e7dcae92\" y=\"140.586638\"/>\r\n     <use style=\"fill-opacity:0.1;stroke:#000000;stroke-opacity:0.1;\" x=\"255.08096\" xlink:href=\"#m18e7dcae92\" y=\"140.563601\"/>\r\n     <use style=\"fill-opacity:0.1;stroke:#000000;stroke-opacity:0.1;\" x=\"255.040731\" xlink:href=\"#m18e7dcae92\" y=\"140.562553\"/>\r\n     <use style=\"fill-opacity:0.1;stroke:#000000;stroke-opacity:0.1;\" x=\"264.543344\" xlink:href=\"#m18e7dcae92\" y=\"139.931509\"/>\r\n     <use style=\"fill-opacity:0.1;stroke:#000000;stroke-opacity:0.1;\" x=\"260.02887\" xlink:href=\"#m18e7dcae92\" y=\"140.106519\"/>\r\n     <use style=\"fill-opacity:0.1;stroke:#000000;stroke-opacity:0.1;\" x=\"269.645501\" xlink:href=\"#m18e7dcae92\" y=\"139.452923\"/>\r\n     <use style=\"fill-opacity:0.1;stroke:#000000;stroke-opacity:0.1;\" x=\"254.743092\" xlink:href=\"#m18e7dcae92\" y=\"140.554979\"/>\r\n     <use style=\"fill-opacity:0.1;stroke:#000000;stroke-opacity:0.1;\" x=\"254.751446\" xlink:href=\"#m18e7dcae92\" y=\"140.55539\"/>\r\n     <use style=\"fill-opacity:0.1;stroke:#000000;stroke-opacity:0.1;\" x=\"274.122321\" xlink:href=\"#m18e7dcae92\" y=\"139.111785\"/>\r\n     <use style=\"fill-opacity:0.1;stroke:#000000;stroke-opacity:0.1;\" x=\"276.809404\" xlink:href=\"#m18e7dcae92\" y=\"138.850853\"/>\r\n     <use style=\"fill-opacity:0.1;stroke:#000000;stroke-opacity:0.1;\" x=\"352.061145\" xlink:href=\"#m18e7dcae92\" y=\"134.104496\"/>\r\n     <use style=\"fill-opacity:0.1;stroke:#000000;stroke-opacity:0.1;\" x=\"254.718571\" xlink:href=\"#m18e7dcae92\" y=\"140.554699\"/>\r\n     <use style=\"fill-opacity:0.1;stroke:#000000;stroke-opacity:0.1;\" x=\"257.633231\" xlink:href=\"#m18e7dcae92\" y=\"140.376283\"/>\r\n     <use style=\"fill-opacity:0.1;stroke:#000000;stroke-opacity:0.1;\" x=\"254.773831\" xlink:href=\"#m18e7dcae92\" y=\"140.556167\"/>\r\n     <use style=\"fill-opacity:0.1;stroke:#000000;stroke-opacity:0.1;\" x=\"300.401126\" xlink:href=\"#m18e7dcae92\" y=\"136.966148\"/>\r\n     <use style=\"fill-opacity:0.1;stroke:#000000;stroke-opacity:0.1;\" x=\"256.272125\" xlink:href=\"#m18e7dcae92\" y=\"140.454707\"/>\r\n     <use style=\"fill-opacity:0.1;stroke:#000000;stroke-opacity:0.1;\" x=\"386.361231\" xlink:href=\"#m18e7dcae92\" y=\"139.3268\"/>\r\n     <use style=\"fill-opacity:0.1;stroke:#000000;stroke-opacity:0.1;\" x=\"255.921562\" xlink:href=\"#m18e7dcae92\" y=\"140.469136\"/>\r\n     <use style=\"fill-opacity:0.1;stroke:#000000;stroke-opacity:0.1;\" x=\"256.193524\" xlink:href=\"#m18e7dcae92\" y=\"140.454455\"/>\r\n     <use style=\"fill-opacity:0.1;stroke:#000000;stroke-opacity:0.1;\" x=\"270.772833\" xlink:href=\"#m18e7dcae92\" y=\"138.917266\"/>\r\n     <use style=\"fill-opacity:0.1;stroke:#000000;stroke-opacity:0.1;\" x=\"273.857489\" xlink:href=\"#m18e7dcae92\" y=\"138.907283\"/>\r\n     <use style=\"fill-opacity:0.1;stroke:#000000;stroke-opacity:0.1;\" x=\"254.726225\" xlink:href=\"#m18e7dcae92\" y=\"140.555327\"/>\r\n     <use style=\"fill-opacity:0.1;stroke:#000000;stroke-opacity:0.1;\" x=\"257.855173\" xlink:href=\"#m18e7dcae92\" y=\"140.535648\"/>\r\n     <use style=\"fill-opacity:0.1;stroke:#000000;stroke-opacity:0.1;\" x=\"270.593872\" xlink:href=\"#m18e7dcae92\" y=\"139.059197\"/>\r\n     <use style=\"fill-opacity:0.1;stroke:#000000;stroke-opacity:0.1;\" x=\"254.948297\" xlink:href=\"#m18e7dcae92\" y=\"140.561218\"/>\r\n     <use style=\"fill-opacity:0.1;stroke:#000000;stroke-opacity:0.1;\" x=\"284.040874\" xlink:href=\"#m18e7dcae92\" y=\"139.272269\"/>\r\n     <use style=\"fill-opacity:0.1;stroke:#000000;stroke-opacity:0.1;\" x=\"273.500656\" xlink:href=\"#m18e7dcae92\" y=\"139.532968\"/>\r\n     <use style=\"fill-opacity:0.1;stroke:#000000;stroke-opacity:0.1;\" x=\"263.242899\" xlink:href=\"#m18e7dcae92\" y=\"139.884372\"/>\r\n     <use style=\"fill-opacity:0.1;stroke:#000000;stroke-opacity:0.1;\" x=\"257.207323\" xlink:href=\"#m18e7dcae92\" y=\"140.361592\"/>\r\n     <use style=\"fill-opacity:0.1;stroke:#000000;stroke-opacity:0.1;\" x=\"255.090576\" xlink:href=\"#m18e7dcae92\" y=\"140.565073\"/>\r\n     <use style=\"fill-opacity:0.1;stroke:#000000;stroke-opacity:0.1;\" x=\"255.090182\" xlink:href=\"#m18e7dcae92\" y=\"140.565063\"/>\r\n     <use style=\"fill-opacity:0.1;stroke:#000000;stroke-opacity:0.1;\" x=\"260.232029\" xlink:href=\"#m18e7dcae92\" y=\"140.366079\"/>\r\n     <use style=\"fill-opacity:0.1;stroke:#000000;stroke-opacity:0.1;\" x=\"255.194973\" xlink:href=\"#m18e7dcae92\" y=\"140.56786\"/>\r\n     <use style=\"fill-opacity:0.1;stroke:#000000;stroke-opacity:0.1;\" x=\"264.962212\" xlink:href=\"#m18e7dcae92\" y=\"139.746942\"/>\r\n     <use style=\"fill-opacity:0.1;stroke:#000000;stroke-opacity:0.1;\" x=\"257.886793\" xlink:href=\"#m18e7dcae92\" y=\"140.286428\"/>\r\n     <use style=\"fill-opacity:0.1;stroke:#000000;stroke-opacity:0.1;\" x=\"257.749857\" xlink:href=\"#m18e7dcae92\" y=\"140.213466\"/>\r\n     <use style=\"fill-opacity:0.1;stroke:#000000;stroke-opacity:0.1;\" x=\"261.540828\" xlink:href=\"#m18e7dcae92\" y=\"140.097728\"/>\r\n     <use style=\"fill-opacity:0.1;stroke:#000000;stroke-opacity:0.1;\" x=\"254.767803\" xlink:href=\"#m18e7dcae92\" y=\"140.556937\"/>\r\n     <use style=\"fill-opacity:0.1;stroke:#000000;stroke-opacity:0.1;\" x=\"256.868418\" xlink:href=\"#m18e7dcae92\" y=\"140.377205\"/>\r\n     <use style=\"fill-opacity:0.1;stroke:#000000;stroke-opacity:0.1;\" x=\"257.062917\" xlink:href=\"#m18e7dcae92\" y=\"140.497171\"/>\r\n     <use style=\"fill-opacity:0.1;stroke:#000000;stroke-opacity:0.1;\" x=\"266.867107\" xlink:href=\"#m18e7dcae92\" y=\"139.804428\"/>\r\n     <use style=\"fill-opacity:0.1;stroke:#000000;stroke-opacity:0.1;\" x=\"259.191541\" xlink:href=\"#m18e7dcae92\" y=\"139.654795\"/>\r\n     <use style=\"fill-opacity:0.1;stroke:#000000;stroke-opacity:0.1;\" x=\"254.933198\" xlink:href=\"#m18e7dcae92\" y=\"140.561568\"/>\r\n     <use style=\"fill-opacity:0.1;stroke:#000000;stroke-opacity:0.1;\" x=\"256.030281\" xlink:href=\"#m18e7dcae92\" y=\"140.47172\"/>\r\n     <use style=\"fill-opacity:0.1;stroke:#000000;stroke-opacity:0.1;\" x=\"255.996013\" xlink:href=\"#m18e7dcae92\" y=\"140.47199\"/>\r\n     <use style=\"fill-opacity:0.1;stroke:#000000;stroke-opacity:0.1;\" x=\"259.216036\" xlink:href=\"#m18e7dcae92\" y=\"140.327568\"/>\r\n     <use style=\"fill-opacity:0.1;stroke:#000000;stroke-opacity:0.1;\" x=\"257.350279\" xlink:href=\"#m18e7dcae92\" y=\"140.430988\"/>\r\n     <use style=\"fill-opacity:0.1;stroke:#000000;stroke-opacity:0.1;\" x=\"254.960027\" xlink:href=\"#m18e7dcae92\" y=\"140.562373\"/>\r\n     <use style=\"fill-opacity:0.1;stroke:#000000;stroke-opacity:0.1;\" x=\"254.715918\" xlink:href=\"#m18e7dcae92\" y=\"140.556078\"/>\r\n     <use style=\"fill-opacity:0.1;stroke:#000000;stroke-opacity:0.1;\" x=\"258.784332\" xlink:href=\"#m18e7dcae92\" y=\"139.763861\"/>\r\n     <use style=\"fill-opacity:0.1;stroke:#000000;stroke-opacity:0.1;\" x=\"324.887505\" xlink:href=\"#m18e7dcae92\" y=\"136.383905\"/>\r\n     <use style=\"fill-opacity:0.1;stroke:#000000;stroke-opacity:0.1;\" x=\"387.895732\" xlink:href=\"#m18e7dcae92\" y=\"135.630011\"/>\r\n     <use style=\"fill-opacity:0.1;stroke:#000000;stroke-opacity:0.1;\" x=\"256.507061\" xlink:href=\"#m18e7dcae92\" y=\"140.45085\"/>\r\n     <use style=\"fill-opacity:0.1;stroke:#000000;stroke-opacity:0.1;\" x=\"313.915166\" xlink:href=\"#m18e7dcae92\" y=\"138.405568\"/>\r\n     <use style=\"fill-opacity:0.1;stroke:#000000;stroke-opacity:0.1;\" x=\"261.422956\" xlink:href=\"#m18e7dcae92\" y=\"140.002504\"/>\r\n     <use style=\"fill-opacity:0.1;stroke:#000000;stroke-opacity:0.1;\" x=\"254.706906\" xlink:href=\"#m18e7dcae92\" y=\"140.556138\"/>\r\n     <use style=\"fill-opacity:0.1;stroke:#000000;stroke-opacity:0.1;\" x=\"261.535075\" xlink:href=\"#m18e7dcae92\" y=\"140.054217\"/>\r\n     <use style=\"fill-opacity:0.1;stroke:#000000;stroke-opacity:0.1;\" x=\"261.343643\" xlink:href=\"#m18e7dcae92\" y=\"140.025682\"/>\r\n     <use style=\"fill-opacity:0.1;stroke:#000000;stroke-opacity:0.1;\" x=\"256.397944\" xlink:href=\"#m18e7dcae92\" y=\"140.483006\"/>\r\n     <use style=\"fill-opacity:0.1;stroke:#000000;stroke-opacity:0.1;\" x=\"258.267688\" xlink:href=\"#m18e7dcae92\" y=\"140.272653\"/>\r\n     <use style=\"fill-opacity:0.1;stroke:#000000;stroke-opacity:0.1;\" x=\"267.141642\" xlink:href=\"#m18e7dcae92\" y=\"139.919787\"/>\r\n     <use style=\"fill-opacity:0.1;stroke:#000000;stroke-opacity:0.1;\" x=\"255.929179\" xlink:href=\"#m18e7dcae92\" y=\"140.470917\"/>\r\n     <use style=\"fill-opacity:0.1;stroke:#000000;stroke-opacity:0.1;\" x=\"259.759336\" xlink:href=\"#m18e7dcae92\" y=\"140.248425\"/>\r\n     <use style=\"fill-opacity:0.1;stroke:#000000;stroke-opacity:0.1;\" x=\"263.757934\" xlink:href=\"#m18e7dcae92\" y=\"139.871837\"/>\r\n     <use style=\"fill-opacity:0.1;stroke:#000000;stroke-opacity:0.1;\" x=\"259.299459\" xlink:href=\"#m18e7dcae92\" y=\"140.267535\"/>\r\n     <use style=\"fill-opacity:0.1;stroke:#000000;stroke-opacity:0.1;\" x=\"259.796565\" xlink:href=\"#m18e7dcae92\" y=\"140.279433\"/>\r\n     <use style=\"fill-opacity:0.1;stroke:#000000;stroke-opacity:0.1;\" x=\"261.085148\" xlink:href=\"#m18e7dcae92\" y=\"140.019285\"/>\r\n     <use style=\"fill-opacity:0.1;stroke:#000000;stroke-opacity:0.1;\" x=\"258.634004\" xlink:href=\"#m18e7dcae92\" y=\"140.23746\"/>\r\n     <use style=\"fill-opacity:0.1;stroke:#000000;stroke-opacity:0.1;\" x=\"254.762011\" xlink:href=\"#m18e7dcae92\" y=\"140.558347\"/>\r\n     <use style=\"fill-opacity:0.1;stroke:#000000;stroke-opacity:0.1;\" x=\"257.373086\" xlink:href=\"#m18e7dcae92\" y=\"140.511576\"/>\r\n     <use style=\"fill-opacity:0.1;stroke:#000000;stroke-opacity:0.1;\" x=\"287.752382\" xlink:href=\"#m18e7dcae92\" y=\"138.999224\"/>\r\n     <use style=\"fill-opacity:0.1;stroke:#000000;stroke-opacity:0.1;\" x=\"255.859393\" xlink:href=\"#m18e7dcae92\" y=\"140.469723\"/>\r\n     <use style=\"fill-opacity:0.1;stroke:#000000;stroke-opacity:0.1;\" x=\"298.226111\" xlink:href=\"#m18e7dcae92\" y=\"138.186603\"/>\r\n     <use style=\"fill-opacity:0.1;stroke:#000000;stroke-opacity:0.1;\" x=\"255.951494\" xlink:href=\"#m18e7dcae92\" y=\"140.472332\"/>\r\n     <use style=\"fill-opacity:0.1;stroke:#000000;stroke-opacity:0.1;\" x=\"256.365396\" xlink:href=\"#m18e7dcae92\" y=\"140.456091\"/>\r\n     <use style=\"fill-opacity:0.1;stroke:#000000;stroke-opacity:0.1;\" x=\"254.718299\" xlink:href=\"#m18e7dcae92\" y=\"140.557514\"/>\r\n     <use style=\"fill-opacity:0.1;stroke:#000000;stroke-opacity:0.1;\" x=\"254.784021\" xlink:href=\"#m18e7dcae92\" y=\"140.559206\"/>\r\n     <use style=\"fill-opacity:0.1;stroke:#000000;stroke-opacity:0.1;\" x=\"260.987344\" xlink:href=\"#m18e7dcae92\" y=\"140.11548\"/>\r\n     <use style=\"fill-opacity:0.1;stroke:#000000;stroke-opacity:0.1;\" x=\"283.223224\" xlink:href=\"#m18e7dcae92\" y=\"138.605271\"/>\r\n     <use style=\"fill-opacity:0.1;stroke:#000000;stroke-opacity:0.1;\" x=\"258.579181\" xlink:href=\"#m18e7dcae92\" y=\"140.467245\"/>\r\n     <use style=\"fill-opacity:0.1;stroke:#000000;stroke-opacity:0.1;\" x=\"255.910646\" xlink:href=\"#m18e7dcae92\" y=\"140.470739\"/>\r\n     <use style=\"fill-opacity:0.1;stroke:#000000;stroke-opacity:0.1;\" x=\"264.895415\" xlink:href=\"#m18e7dcae92\" y=\"139.718734\"/>\r\n     <use style=\"fill-opacity:0.1;stroke:#000000;stroke-opacity:0.1;\" x=\"254.698198\" xlink:href=\"#m18e7dcae92\" y=\"140.557238\"/>\r\n     <use style=\"fill-opacity:0.1;stroke:#000000;stroke-opacity:0.1;\" x=\"258.243293\" xlink:href=\"#m18e7dcae92\" y=\"140.272955\"/>\r\n     <use style=\"fill-opacity:0.1;stroke:#000000;stroke-opacity:0.1;\" x=\"254.983594\" xlink:href=\"#m18e7dcae92\" y=\"140.56323\"/>\r\n     <use style=\"fill-opacity:0.1;stroke:#000000;stroke-opacity:0.1;\" x=\"299.948682\" xlink:href=\"#m18e7dcae92\" y=\"141.997986\"/>\r\n     <use style=\"fill-opacity:0.1;stroke:#000000;stroke-opacity:0.1;\" x=\"254.735819\" xlink:href=\"#m18e7dcae92\" y=\"140.556869\"/>\r\n     <use style=\"fill-opacity:0.1;stroke:#000000;stroke-opacity:0.1;\" x=\"257.872567\" xlink:href=\"#m18e7dcae92\" y=\"140.288498\"/>\r\n     <use style=\"fill-opacity:0.1;stroke:#000000;stroke-opacity:0.1;\" x=\"259.000301\" xlink:href=\"#m18e7dcae92\" y=\"140.200408\"/>\r\n     <use style=\"fill-opacity:0.1;stroke:#000000;stroke-opacity:0.1;\" x=\"254.69493\" xlink:href=\"#m18e7dcae92\" y=\"140.557616\"/>\r\n     <use style=\"fill-opacity:0.1;stroke:#000000;stroke-opacity:0.1;\" x=\"254.976525\" xlink:href=\"#m18e7dcae92\" y=\"140.565066\"/>\r\n     <use style=\"fill-opacity:0.1;stroke:#000000;stroke-opacity:0.1;\" x=\"275.845847\" xlink:href=\"#m18e7dcae92\" y=\"140.688031\"/>\r\n     <use style=\"fill-opacity:0.1;stroke:#000000;stroke-opacity:0.1;\" x=\"254.695575\" xlink:href=\"#m18e7dcae92\" y=\"140.557961\"/>\r\n     <use style=\"fill-opacity:0.1;stroke:#000000;stroke-opacity:0.1;\" x=\"259.531687\" xlink:href=\"#m18e7dcae92\" y=\"140.214168\"/>\r\n     <use style=\"fill-opacity:0.1;stroke:#000000;stroke-opacity:0.1;\" x=\"256.471041\" xlink:href=\"#m18e7dcae92\" y=\"140.486281\"/>\r\n     <use style=\"fill-opacity:0.1;stroke:#000000;stroke-opacity:0.1;\" x=\"259.204862\" xlink:href=\"#m18e7dcae92\" y=\"140.301821\"/>\r\n     <use style=\"fill-opacity:0.1;stroke:#000000;stroke-opacity:0.1;\" x=\"258.064381\" xlink:href=\"#m18e7dcae92\" y=\"140.407833\"/>\r\n     <use style=\"fill-opacity:0.1;stroke:#000000;stroke-opacity:0.1;\" x=\"259.008774\" xlink:href=\"#m18e7dcae92\" y=\"140.269174\"/>\r\n     <use style=\"fill-opacity:0.1;stroke:#000000;stroke-opacity:0.1;\" x=\"271.348961\" xlink:href=\"#m18e7dcae92\" y=\"139.227166\"/>\r\n     <use style=\"fill-opacity:0.1;stroke:#000000;stroke-opacity:0.1;\" x=\"256.091627\" xlink:href=\"#m18e7dcae92\" y=\"140.452675\"/>\r\n     <use style=\"fill-opacity:0.1;stroke:#000000;stroke-opacity:0.1;\" x=\"257.898941\" xlink:href=\"#m18e7dcae92\" y=\"140.290086\"/>\r\n     <use style=\"fill-opacity:0.1;stroke:#000000;stroke-opacity:0.1;\" x=\"254.692896\" xlink:href=\"#m18e7dcae92\" y=\"140.55826\"/>\r\n     <use style=\"fill-opacity:0.1;stroke:#000000;stroke-opacity:0.1;\" x=\"254.941604\" xlink:href=\"#m18e7dcae92\" y=\"140.564805\"/>\r\n     <use style=\"fill-opacity:0.1;stroke:#000000;stroke-opacity:0.1;\" x=\"257.349923\" xlink:href=\"#m18e7dcae92\" y=\"140.510786\"/>\r\n     <use style=\"fill-opacity:0.1;stroke:#000000;stroke-opacity:0.1;\" x=\"255.769819\" xlink:href=\"#m18e7dcae92\" y=\"140.46925\"/>\r\n     <use style=\"fill-opacity:0.1;stroke:#000000;stroke-opacity:0.1;\" x=\"254.691461\" xlink:href=\"#m18e7dcae92\" y=\"140.558409\"/>\r\n     <use style=\"fill-opacity:0.1;stroke:#000000;stroke-opacity:0.1;\" x=\"255.006764\" xlink:href=\"#m18e7dcae92\" y=\"140.566674\"/>\r\n     <use style=\"fill-opacity:0.1;stroke:#000000;stroke-opacity:0.1;\" x=\"295.715674\" xlink:href=\"#m18e7dcae92\" y=\"137.491782\"/>\r\n     <use style=\"fill-opacity:0.1;stroke:#000000;stroke-opacity:0.1;\" x=\"256.816472\" xlink:href=\"#m18e7dcae92\" y=\"140.378896\"/>\r\n     <use style=\"fill-opacity:0.1;stroke:#000000;stroke-opacity:0.1;\" x=\"256.836956\" xlink:href=\"#m18e7dcae92\" y=\"140.380018\"/>\r\n     <use style=\"fill-opacity:0.1;stroke:#000000;stroke-opacity:0.1;\" x=\"255.567072\" xlink:href=\"#m18e7dcae92\" y=\"140.581405\"/>\r\n     <use style=\"fill-opacity:0.1;stroke:#000000;stroke-opacity:0.1;\" x=\"255.748146\" xlink:href=\"#m18e7dcae92\" y=\"140.468919\"/>\r\n     <use style=\"fill-opacity:0.1;stroke:#000000;stroke-opacity:0.1;\" x=\"257.870821\" xlink:href=\"#m18e7dcae92\" y=\"140.289827\"/>\r\n     <use style=\"fill-opacity:0.1;stroke:#000000;stroke-opacity:0.1;\" x=\"261.379\" xlink:href=\"#m18e7dcae92\" y=\"140.029568\"/>\r\n     <use style=\"fill-opacity:0.1;stroke:#000000;stroke-opacity:0.1;\" x=\"272.980827\" xlink:href=\"#m18e7dcae92\" y=\"139.265274\"/>\r\n     <use style=\"fill-opacity:0.1;stroke:#000000;stroke-opacity:0.1;\" x=\"263.208\" xlink:href=\"#m18e7dcae92\" y=\"139.586717\"/>\r\n     <use style=\"fill-opacity:0.1;stroke:#000000;stroke-opacity:0.1;\" x=\"257.189722\" xlink:href=\"#m18e7dcae92\" y=\"140.365438\"/>\r\n     <use style=\"fill-opacity:0.1;stroke:#000000;stroke-opacity:0.1;\" x=\"256.738165\" xlink:href=\"#m18e7dcae92\" y=\"140.493302\"/>\r\n     <use style=\"fill-opacity:0.1;stroke:#000000;stroke-opacity:0.1;\" x=\"262.31915\" xlink:href=\"#m18e7dcae92\" y=\"140.414913\"/>\r\n     <use style=\"fill-opacity:0.1;stroke:#000000;stroke-opacity:0.1;\" x=\"261.452841\" xlink:href=\"#m18e7dcae92\" y=\"140.00746\"/>\r\n     <use style=\"fill-opacity:0.1;stroke:#000000;stroke-opacity:0.1;\" x=\"262.06563\" xlink:href=\"#m18e7dcae92\" y=\"140.175834\"/>\r\n     <use style=\"fill-opacity:0.1;stroke:#000000;stroke-opacity:0.1;\" x=\"259.195421\" xlink:href=\"#m18e7dcae92\" y=\"140.290706\"/>\r\n     <use style=\"fill-opacity:0.1;stroke:#000000;stroke-opacity:0.1;\" x=\"256.203765\" xlink:href=\"#m18e7dcae92\" y=\"140.481336\"/>\r\n     <use style=\"fill-opacity:0.1;stroke:#000000;stroke-opacity:0.1;\" x=\"255.929888\" xlink:href=\"#m18e7dcae92\" y=\"140.474196\"/>\r\n     <use style=\"fill-opacity:0.1;stroke:#000000;stroke-opacity:0.1;\" x=\"264.688855\" xlink:href=\"#m18e7dcae92\" y=\"139.864856\"/>\r\n     <use style=\"fill-opacity:0.1;stroke:#000000;stroke-opacity:0.1;\" x=\"254.960792\" xlink:href=\"#m18e7dcae92\" y=\"140.566337\"/>\r\n     <use style=\"fill-opacity:0.1;stroke:#000000;stroke-opacity:0.1;\" x=\"324.601728\" xlink:href=\"#m18e7dcae92\" y=\"136.104008\"/>\r\n     <use style=\"fill-opacity:0.1;stroke:#000000;stroke-opacity:0.1;\" x=\"256.299107\" xlink:href=\"#m18e7dcae92\" y=\"140.455994\"/>\r\n     <use style=\"fill-opacity:0.1;stroke:#000000;stroke-opacity:0.1;\" x=\"254.733923\" xlink:href=\"#m18e7dcae92\" y=\"140.560506\"/>\r\n     <use style=\"fill-opacity:0.1;stroke:#000000;stroke-opacity:0.1;\" x=\"261.455562\" xlink:href=\"#m18e7dcae92\" y=\"140.114933\"/>\r\n     <use style=\"fill-opacity:0.1;stroke:#000000;stroke-opacity:0.1;\" x=\"254.968474\" xlink:href=\"#m18e7dcae92\" y=\"140.566667\"/>\r\n     <use style=\"fill-opacity:0.1;stroke:#000000;stroke-opacity:0.1;\" x=\"271.715104\" xlink:href=\"#m18e7dcae92\" y=\"139.211432\"/>\r\n     <use style=\"fill-opacity:0.1;stroke:#000000;stroke-opacity:0.1;\" x=\"255.747484\" xlink:href=\"#m18e7dcae92\" y=\"140.469831\"/>\r\n     <use style=\"fill-opacity:0.1;stroke:#000000;stroke-opacity:0.1;\" x=\"256.289143\" xlink:href=\"#m18e7dcae92\" y=\"140.48396\"/>\r\n     <use style=\"fill-opacity:0.1;stroke:#000000;stroke-opacity:0.1;\" x=\"257.127738\" xlink:href=\"#m18e7dcae92\" y=\"140.505618\"/>\r\n     <use style=\"fill-opacity:0.1;stroke:#000000;stroke-opacity:0.1;\" x=\"254.894471\" xlink:href=\"#m18e7dcae92\" y=\"140.564823\"/>\r\n     <use style=\"fill-opacity:0.1;stroke:#000000;stroke-opacity:0.1;\" x=\"258.023942\" xlink:href=\"#m18e7dcae92\" y=\"140.481215\"/>\r\n     <use style=\"fill-opacity:0.1;stroke:#000000;stroke-opacity:0.1;\" x=\"254.872749\" xlink:href=\"#m18e7dcae92\" y=\"140.564259\"/>\r\n     <use style=\"fill-opacity:0.1;stroke:#000000;stroke-opacity:0.1;\" x=\"254.841166\" xlink:href=\"#m18e7dcae92\" y=\"140.563436\"/>\r\n     <use style=\"fill-opacity:0.1;stroke:#000000;stroke-opacity:0.1;\" x=\"257.140268\" xlink:href=\"#m18e7dcae92\" y=\"140.364241\"/>\r\n     <use style=\"fill-opacity:0.1;stroke:#000000;stroke-opacity:0.1;\" x=\"254.964944\" xlink:href=\"#m18e7dcae92\" y=\"140.566689\"/>\r\n     <use style=\"fill-opacity:0.1;stroke:#000000;stroke-opacity:0.1;\" x=\"254.903743\" xlink:href=\"#m18e7dcae92\" y=\"140.565095\"/>\r\n     <use style=\"fill-opacity:0.1;stroke:#000000;stroke-opacity:0.1;\" x=\"258.426556\" xlink:href=\"#m18e7dcae92\" y=\"140.420567\"/>\r\n     <use style=\"fill-opacity:0.1;stroke:#000000;stroke-opacity:0.1;\" x=\"257.230936\" xlink:href=\"#m18e7dcae92\" y=\"140.510768\"/>\r\n     <use style=\"fill-opacity:0.1;stroke:#000000;stroke-opacity:0.1;\" x=\"256.658708\" xlink:href=\"#m18e7dcae92\" y=\"140.511062\"/>\r\n     <use style=\"fill-opacity:0.1;stroke:#000000;stroke-opacity:0.1;\" x=\"256.178609\" xlink:href=\"#m18e7dcae92\" y=\"140.459184\"/>\r\n     <use style=\"fill-opacity:0.1;stroke:#000000;stroke-opacity:0.1;\" x=\"257.910058\" xlink:href=\"#m18e7dcae92\" y=\"140.537446\"/>\r\n     <use style=\"fill-opacity:0.1;stroke:#000000;stroke-opacity:0.1;\" x=\"265.242264\" xlink:href=\"#m18e7dcae92\" y=\"139.727698\"/>\r\n     <use style=\"fill-opacity:0.1;stroke:#000000;stroke-opacity:0.1;\" x=\"255.797122\" xlink:href=\"#m18e7dcae92\" y=\"140.471296\"/>\r\n     <use style=\"fill-opacity:0.1;stroke:#000000;stroke-opacity:0.1;\" x=\"254.8613\" xlink:href=\"#m18e7dcae92\" y=\"140.562645\"/>\r\n     <use style=\"fill-opacity:0.1;stroke:#000000;stroke-opacity:0.1;\" x=\"257.352096\" xlink:href=\"#m18e7dcae92\" y=\"140.517068\"/>\r\n     <use style=\"fill-opacity:0.1;stroke:#000000;stroke-opacity:0.1;\" x=\"268.453865\" xlink:href=\"#m18e7dcae92\" y=\"139.60549\"/>\r\n     <use style=\"fill-opacity:0.1;stroke:#000000;stroke-opacity:0.1;\" x=\"256.858044\" xlink:href=\"#m18e7dcae92\" y=\"140.496753\"/>\r\n     <use style=\"fill-opacity:0.1;stroke:#000000;stroke-opacity:0.1;\" x=\"262.471808\" xlink:href=\"#m18e7dcae92\" y=\"139.916783\"/>\r\n     <use style=\"fill-opacity:0.1;stroke:#000000;stroke-opacity:0.1;\" x=\"256.124585\" xlink:href=\"#m18e7dcae92\" y=\"140.45623\"/>\r\n     <use style=\"fill-opacity:0.1;stroke:#000000;stroke-opacity:0.1;\" x=\"254.729014\" xlink:href=\"#m18e7dcae92\" y=\"140.559392\"/>\r\n     <use style=\"fill-opacity:0.1;stroke:#000000;stroke-opacity:0.1;\" x=\"257.875643\" xlink:href=\"#m18e7dcae92\" y=\"140.29127\"/>\r\n     <use style=\"fill-opacity:0.1;stroke:#000000;stroke-opacity:0.1;\" x=\"263.118282\" xlink:href=\"#m18e7dcae92\" y=\"139.884222\"/>\r\n     <use style=\"fill-opacity:0.1;stroke:#000000;stroke-opacity:0.1;\" x=\"281.241532\" xlink:href=\"#m18e7dcae92\" y=\"138.527627\"/>\r\n     <use style=\"fill-opacity:0.1;stroke:#000000;stroke-opacity:0.1;\" x=\"273.021586\" xlink:href=\"#m18e7dcae92\" y=\"139.150402\"/>\r\n     <use style=\"fill-opacity:0.1;stroke:#000000;stroke-opacity:0.1;\" x=\"254.982337\" xlink:href=\"#m18e7dcae92\" y=\"140.567702\"/>\r\n     <use style=\"fill-opacity:0.1;stroke:#000000;stroke-opacity:0.1;\" x=\"260.2017\" xlink:href=\"#m18e7dcae92\" y=\"140.211378\"/>\r\n     <use style=\"fill-opacity:0.1;stroke:#000000;stroke-opacity:0.1;\" x=\"254.690989\" xlink:href=\"#m18e7dcae92\" y=\"140.560162\"/>\r\n     <use style=\"fill-opacity:0.1;stroke:#000000;stroke-opacity:0.1;\" x=\"256.663639\" xlink:href=\"#m18e7dcae92\" y=\"140.493542\"/>\r\n     <use style=\"fill-opacity:0.1;stroke:#000000;stroke-opacity:0.1;\" x=\"261.047716\" xlink:href=\"#m18e7dcae92\" y=\"140.020879\"/>\r\n     <use style=\"fill-opacity:0.1;stroke:#000000;stroke-opacity:0.1;\" x=\"258.336125\" xlink:href=\"#m18e7dcae92\" y=\"140.303569\"/>\r\n     <use style=\"fill-opacity:0.1;stroke:#000000;stroke-opacity:0.1;\" x=\"258.237104\" xlink:href=\"#m18e7dcae92\" y=\"140.276819\"/>\r\n     <use style=\"fill-opacity:0.1;stroke:#000000;stroke-opacity:0.1;\" x=\"254.954404\" xlink:href=\"#m18e7dcae92\" y=\"140.567159\"/>\r\n     <use style=\"fill-opacity:0.1;stroke:#000000;stroke-opacity:0.1;\" x=\"257.037505\" xlink:href=\"#m18e7dcae92\" y=\"140.504257\"/>\r\n     <use style=\"fill-opacity:0.1;stroke:#000000;stroke-opacity:0.1;\" x=\"267.398624\" xlink:href=\"#m18e7dcae92\" y=\"139.483336\"/>\r\n     <use style=\"fill-opacity:0.1;stroke:#000000;stroke-opacity:0.1;\" x=\"255.753549\" xlink:href=\"#m18e7dcae92\" y=\"140.470855\"/>\r\n     <use style=\"fill-opacity:0.1;stroke:#000000;stroke-opacity:0.1;\" x=\"261.503611\" xlink:href=\"#m18e7dcae92\" y=\"140.002377\"/>\r\n     <use style=\"fill-opacity:0.1;stroke:#000000;stroke-opacity:0.1;\" x=\"254.766955\" xlink:href=\"#m18e7dcae92\" y=\"140.560806\"/>\r\n     <use style=\"fill-opacity:0.1;stroke:#000000;stroke-opacity:0.1;\" x=\"261.364735\" xlink:href=\"#m18e7dcae92\" y=\"140.03096\"/>\r\n     <use style=\"fill-opacity:0.1;stroke:#000000;stroke-opacity:0.1;\" x=\"255.757605\" xlink:href=\"#m18e7dcae92\" y=\"140.470225\"/>\r\n     <use style=\"fill-opacity:0.1;stroke:#000000;stroke-opacity:0.1;\" x=\"259.543759\" xlink:href=\"#m18e7dcae92\" y=\"140.309591\"/>\r\n     <use style=\"fill-opacity:0.1;stroke:#000000;stroke-opacity:0.1;\" x=\"276.432156\" xlink:href=\"#m18e7dcae92\" y=\"139.094578\"/>\r\n     <use style=\"fill-opacity:0.1;stroke:#000000;stroke-opacity:0.1;\" x=\"259.780775\" xlink:href=\"#m18e7dcae92\" y=\"140.173843\"/>\r\n     <use style=\"fill-opacity:0.1;stroke:#000000;stroke-opacity:0.1;\" x=\"262.578653\" xlink:href=\"#m18e7dcae92\" y=\"139.913519\"/>\r\n     <use style=\"fill-opacity:0.1;stroke:#000000;stroke-opacity:0.1;\" x=\"256.813624\" xlink:href=\"#m18e7dcae92\" y=\"140.380037\"/>\r\n     <use style=\"fill-opacity:0.1;stroke:#000000;stroke-opacity:0.1;\" x=\"254.739954\" xlink:href=\"#m18e7dcae92\" y=\"140.562021\"/>\r\n     <use style=\"fill-opacity:0.1;stroke:#000000;stroke-opacity:0.1;\" x=\"256.965773\" xlink:href=\"#m18e7dcae92\" y=\"140.385567\"/>\r\n     <use style=\"fill-opacity:0.1;stroke:#000000;stroke-opacity:0.1;\" x=\"257.531198\" xlink:href=\"#m18e7dcae92\" y=\"140.376883\"/>\r\n     <use style=\"fill-opacity:0.1;stroke:#000000;stroke-opacity:0.1;\" x=\"258.991102\" xlink:href=\"#m18e7dcae92\" y=\"140.203898\"/>\r\n     <use style=\"fill-opacity:0.1;stroke:#000000;stroke-opacity:0.1;\" x=\"256.856226\" xlink:href=\"#m18e7dcae92\" y=\"140.382777\"/>\r\n     <use style=\"fill-opacity:0.1;stroke:#000000;stroke-opacity:0.1;\" x=\"254.672892\" xlink:href=\"#m18e7dcae92\" y=\"140.56034\"/>\r\n     <use style=\"fill-opacity:0.1;stroke:#000000;stroke-opacity:0.1;\" x=\"256.867557\" xlink:href=\"#m18e7dcae92\" y=\"140.37842\"/>\r\n     <use style=\"fill-opacity:0.1;stroke:#000000;stroke-opacity:0.1;\" x=\"260.213102\" xlink:href=\"#m18e7dcae92\" y=\"140.194772\"/>\r\n     <use style=\"fill-opacity:0.1;stroke:#000000;stroke-opacity:0.1;\" x=\"254.727679\" xlink:href=\"#m18e7dcae92\" y=\"140.561801\"/>\r\n     <use style=\"fill-opacity:0.1;stroke:#000000;stroke-opacity:0.1;\" x=\"282.22621\" xlink:href=\"#m18e7dcae92\" y=\"138.31828\"/>\r\n     <use style=\"fill-opacity:0.1;stroke:#000000;stroke-opacity:0.1;\" x=\"272.639394\" xlink:href=\"#m18e7dcae92\" y=\"139.477797\"/>\r\n     <use style=\"fill-opacity:0.1;stroke:#000000;stroke-opacity:0.1;\" x=\"257.224693\" xlink:href=\"#m18e7dcae92\" y=\"140.512099\"/>\r\n     <use style=\"fill-opacity:0.1;stroke:#000000;stroke-opacity:0.1;\" x=\"264.907692\" xlink:href=\"#m18e7dcae92\" y=\"139.721802\"/>\r\n     <use style=\"fill-opacity:0.1;stroke:#000000;stroke-opacity:0.1;\" x=\"257.310356\" xlink:href=\"#m18e7dcae92\" y=\"140.38758\"/>\r\n     <use style=\"fill-opacity:0.1;stroke:#000000;stroke-opacity:0.1;\" x=\"255.734195\" xlink:href=\"#m18e7dcae92\" y=\"140.471058\"/>\r\n     <use style=\"fill-opacity:0.1;stroke:#000000;stroke-opacity:0.1;\" x=\"257.945331\" xlink:href=\"#m18e7dcae92\" y=\"140.294249\"/>\r\n     <use style=\"fill-opacity:0.1;stroke:#000000;stroke-opacity:0.1;\" x=\"254.751336\" xlink:href=\"#m18e7dcae92\" y=\"140.562721\"/>\r\n     <use style=\"fill-opacity:0.1;stroke:#000000;stroke-opacity:0.1;\" x=\"404.818181\" xlink:href=\"#m18e7dcae92\" y=\"134.825138\"/>\r\n     <use style=\"fill-opacity:0.1;stroke:#000000;stroke-opacity:0.1;\" x=\"260.019297\" xlink:href=\"#m18e7dcae92\" y=\"140.185542\"/>\r\n     <use style=\"fill-opacity:0.1;stroke:#000000;stroke-opacity:0.1;\" x=\"254.726493\" xlink:href=\"#m18e7dcae92\" y=\"140.562165\"/>\r\n     <use style=\"fill-opacity:0.1;stroke:#000000;stroke-opacity:0.1;\" x=\"280.971044\" xlink:href=\"#m18e7dcae92\" y=\"138.519055\"/>\r\n     <use style=\"fill-opacity:0.1;stroke:#000000;stroke-opacity:0.1;\" x=\"276.80494\" xlink:href=\"#m18e7dcae92\" y=\"138.863981\"/>\r\n     <use style=\"fill-opacity:0.1;stroke:#000000;stroke-opacity:0.1;\" x=\"262.496858\" xlink:href=\"#m18e7dcae92\" y=\"140.321079\"/>\r\n     <use style=\"fill-opacity:0.1;stroke:#000000;stroke-opacity:0.1;\" x=\"255.915564\" xlink:href=\"#m18e7dcae92\" y=\"140.5312\"/>\r\n     <use style=\"fill-opacity:0.1;stroke:#000000;stroke-opacity:0.1;\" x=\"254.783967\" xlink:href=\"#m18e7dcae92\" y=\"140.563755\"/>\r\n     <use style=\"fill-opacity:0.1;stroke:#000000;stroke-opacity:0.1;\" x=\"256.796707\" xlink:href=\"#m18e7dcae92\" y=\"140.381822\"/>\r\n     <use style=\"fill-opacity:0.1;stroke:#000000;stroke-opacity:0.1;\" x=\"271.301934\" xlink:href=\"#m18e7dcae92\" y=\"139.304597\"/>\r\n     <use style=\"fill-opacity:0.1;stroke:#000000;stroke-opacity:0.1;\" x=\"304.249801\" xlink:href=\"#m18e7dcae92\" y=\"137.416937\"/>\r\n     <use style=\"fill-opacity:0.1;stroke:#000000;stroke-opacity:0.1;\" x=\"257.267976\" xlink:href=\"#m18e7dcae92\" y=\"140.626823\"/>\r\n     <use style=\"fill-opacity:0.1;stroke:#000000;stroke-opacity:0.1;\" x=\"254.667646\" xlink:href=\"#m18e7dcae92\" y=\"140.560984\"/>\r\n     <use style=\"fill-opacity:0.1;stroke:#000000;stroke-opacity:0.1;\" x=\"305.280735\" xlink:href=\"#m18e7dcae92\" y=\"136.551013\"/>\r\n     <use style=\"fill-opacity:0.1;stroke:#000000;stroke-opacity:0.1;\" x=\"301.683614\" xlink:href=\"#m18e7dcae92\" y=\"136.701075\"/>\r\n     <use style=\"fill-opacity:0.1;stroke:#000000;stroke-opacity:0.1;\" x=\"256.597147\" xlink:href=\"#m18e7dcae92\" y=\"140.493319\"/>\r\n     <use style=\"fill-opacity:0.1;stroke:#000000;stroke-opacity:0.1;\" x=\"287.303613\" xlink:href=\"#m18e7dcae92\" y=\"141.947465\"/>\r\n     <use style=\"fill-opacity:0.1;stroke:#000000;stroke-opacity:0.1;\" x=\"254.751692\" xlink:href=\"#m18e7dcae92\" y=\"140.563375\"/>\r\n     <use style=\"fill-opacity:0.1;stroke:#000000;stroke-opacity:0.1;\" x=\"261.431596\" xlink:href=\"#m18e7dcae92\" y=\"140.034171\"/>\r\n     <use style=\"fill-opacity:0.1;stroke:#000000;stroke-opacity:0.1;\" x=\"258.812684\" xlink:href=\"#m18e7dcae92\" y=\"140.273326\"/>\r\n     <use style=\"fill-opacity:0.1;stroke:#000000;stroke-opacity:0.1;\" x=\"255.769582\" xlink:href=\"#m18e7dcae92\" y=\"140.472055\"/>\r\n     <use style=\"fill-opacity:0.1;stroke:#000000;stroke-opacity:0.1;\" x=\"254.665679\" xlink:href=\"#m18e7dcae92\" y=\"140.561336\"/>\r\n     <use style=\"fill-opacity:0.1;stroke:#000000;stroke-opacity:0.1;\" x=\"268.509516\" xlink:href=\"#m18e7dcae92\" y=\"140.315516\"/>\r\n     <use style=\"fill-opacity:0.1;stroke:#000000;stroke-opacity:0.1;\" x=\"255.453674\" xlink:href=\"#m18e7dcae92\" y=\"140.578635\"/>\r\n     <use style=\"fill-opacity:0.1;stroke:#000000;stroke-opacity:0.1;\" x=\"272.441847\" xlink:href=\"#m18e7dcae92\" y=\"139.277611\"/>\r\n     <use style=\"fill-opacity:0.1;stroke:#000000;stroke-opacity:0.1;\" x=\"259.426956\" xlink:href=\"#m18e7dcae92\" y=\"140.195349\"/>\r\n     <use style=\"fill-opacity:0.1;stroke:#000000;stroke-opacity:0.1;\" x=\"254.830105\" xlink:href=\"#m18e7dcae92\" y=\"140.565808\"/>\r\n     <use style=\"fill-opacity:0.1;stroke:#000000;stroke-opacity:0.1;\" x=\"259.331178\" xlink:href=\"#m18e7dcae92\" y=\"140.189146\"/>\r\n     <use style=\"fill-opacity:0.1;stroke:#000000;stroke-opacity:0.1;\" x=\"257.899503\" xlink:href=\"#m18e7dcae92\" y=\"140.294172\"/>\r\n     <use style=\"fill-opacity:0.1;stroke:#000000;stroke-opacity:0.1;\" x=\"254.663443\" xlink:href=\"#m18e7dcae92\" y=\"140.561553\"/>\r\n     <use style=\"fill-opacity:0.1;stroke:#000000;stroke-opacity:0.1;\" x=\"254.731348\" xlink:href=\"#m18e7dcae92\" y=\"140.56336\"/>\r\n     <use style=\"fill-opacity:0.1;stroke:#000000;stroke-opacity:0.1;\" x=\"257.901498\" xlink:href=\"#m18e7dcae92\" y=\"140.294277\"/>\r\n     <use style=\"fill-opacity:0.1;stroke:#000000;stroke-opacity:0.1;\" x=\"262.578794\" xlink:href=\"#m18e7dcae92\" y=\"139.993297\"/>\r\n     <use style=\"fill-opacity:0.1;stroke:#000000;stroke-opacity:0.1;\" x=\"263.777745\" xlink:href=\"#m18e7dcae92\" y=\"139.887716\"/>\r\n     <use style=\"fill-opacity:0.1;stroke:#000000;stroke-opacity:0.1;\" x=\"261.350758\" xlink:href=\"#m18e7dcae92\" y=\"140.054791\"/>\r\n     <use style=\"fill-opacity:0.1;stroke:#000000;stroke-opacity:0.1;\" x=\"262.647854\" xlink:href=\"#m18e7dcae92\" y=\"140.173688\"/>\r\n     <use style=\"fill-opacity:0.1;stroke:#000000;stroke-opacity:0.1;\" x=\"255.739255\" xlink:href=\"#m18e7dcae92\" y=\"140.472588\"/>\r\n     <use style=\"fill-opacity:0.1;stroke:#000000;stroke-opacity:0.1;\" x=\"256.095756\" xlink:href=\"#m18e7dcae92\" y=\"140.481876\"/>\r\n     <use style=\"fill-opacity:0.1;stroke:#000000;stroke-opacity:0.1;\" x=\"254.790359\" xlink:href=\"#m18e7dcae92\" y=\"140.563607\"/>\r\n     <use style=\"fill-opacity:0.1;stroke:#000000;stroke-opacity:0.1;\" x=\"255.211008\" xlink:href=\"#m18e7dcae92\" y=\"140.574562\"/>\r\n     <use style=\"fill-opacity:0.1;stroke:#000000;stroke-opacity:0.1;\" x=\"257.205208\" xlink:href=\"#m18e7dcae92\" y=\"140.512562\"/>\r\n     <use style=\"fill-opacity:0.1;stroke:#000000;stroke-opacity:0.1;\" x=\"254.711415\" xlink:href=\"#m18e7dcae92\" y=\"140.561578\"/>\r\n     <use style=\"fill-opacity:0.1;stroke:#000000;stroke-opacity:0.1;\" x=\"260.681603\" xlink:href=\"#m18e7dcae92\" y=\"140.232035\"/>\r\n     <use style=\"fill-opacity:0.1;stroke:#000000;stroke-opacity:0.1;\" x=\"257.15631\" xlink:href=\"#m18e7dcae92\" y=\"140.368045\"/>\r\n     <use style=\"fill-opacity:0.1;stroke:#000000;stroke-opacity:0.1;\" x=\"258.281719\" xlink:href=\"#m18e7dcae92\" y=\"140.279876\"/>\r\n     <use style=\"fill-opacity:0.1;stroke:#000000;stroke-opacity:0.1;\" x=\"257.019007\" xlink:href=\"#m18e7dcae92\" y=\"140.503866\"/>\r\n     <use style=\"fill-opacity:0.1;stroke:#000000;stroke-opacity:0.1;\" x=\"257.596359\" xlink:href=\"#m18e7dcae92\" y=\"140.497156\"/>\r\n     <use style=\"fill-opacity:0.1;stroke:#000000;stroke-opacity:0.1;\" x=\"262.336613\" xlink:href=\"#m18e7dcae92\" y=\"139.941342\"/>\r\n     <use style=\"fill-opacity:0.1;stroke:#000000;stroke-opacity:0.1;\" x=\"269.699196\" xlink:href=\"#m18e7dcae92\" y=\"139.433255\"/>\r\n     <use style=\"fill-opacity:0.1;stroke:#000000;stroke-opacity:0.1;\" x=\"278.859138\" xlink:href=\"#m18e7dcae92\" y=\"136.909265\"/>\r\n     <use style=\"fill-opacity:0.1;stroke:#000000;stroke-opacity:0.1;\" x=\"267.756703\" xlink:href=\"#m18e7dcae92\" y=\"139.470807\"/>\r\n     <use style=\"fill-opacity:0.1;stroke:#000000;stroke-opacity:0.1;\" x=\"267.900573\" xlink:href=\"#m18e7dcae92\" y=\"140.152043\"/>\r\n     <use style=\"fill-opacity:0.1;stroke:#000000;stroke-opacity:0.1;\" x=\"254.940853\" xlink:href=\"#m18e7dcae92\" y=\"140.569276\"/>\r\n     <use style=\"fill-opacity:0.1;stroke:#000000;stroke-opacity:0.1;\" x=\"254.692529\" xlink:href=\"#m18e7dcae92\" y=\"140.56125\"/>\r\n     <use style=\"fill-opacity:0.1;stroke:#000000;stroke-opacity:0.1;\" x=\"279.091351\" xlink:href=\"#m18e7dcae92\" y=\"138.665119\"/>\r\n     <use style=\"fill-opacity:0.1;stroke:#000000;stroke-opacity:0.1;\" x=\"254.83553\" xlink:href=\"#m18e7dcae92\" y=\"140.566324\"/>\r\n     <use style=\"fill-opacity:0.1;stroke:#000000;stroke-opacity:0.1;\" x=\"254.686047\" xlink:href=\"#m18e7dcae92\" y=\"140.562675\"/>\r\n     <use style=\"fill-opacity:0.1;stroke:#000000;stroke-opacity:0.1;\" x=\"255.752787\" xlink:href=\"#m18e7dcae92\" y=\"140.473348\"/>\r\n     <use style=\"fill-opacity:0.1;stroke:#000000;stroke-opacity:0.1;\" x=\"259.063794\" xlink:href=\"#m18e7dcae92\" y=\"140.206995\"/>\r\n     <use style=\"fill-opacity:0.1;stroke:#000000;stroke-opacity:0.1;\" x=\"261.32442\" xlink:href=\"#m18e7dcae92\" y=\"140.114354\"/>\r\n     <use style=\"fill-opacity:0.1;stroke:#000000;stroke-opacity:0.1;\" x=\"260.351097\" xlink:href=\"#m18e7dcae92\" y=\"140.099705\"/>\r\n     <use style=\"fill-opacity:0.1;stroke:#000000;stroke-opacity:0.1;\" x=\"257.948347\" xlink:href=\"#m18e7dcae92\" y=\"140.296186\"/>\r\n     <use style=\"fill-opacity:0.1;stroke:#000000;stroke-opacity:0.1;\" x=\"256.150832\" xlink:href=\"#m18e7dcae92\" y=\"140.462115\"/>\r\n     <use style=\"fill-opacity:0.1;stroke:#000000;stroke-opacity:0.1;\" x=\"255.75921\" xlink:href=\"#m18e7dcae92\" y=\"140.473674\"/>\r\n     <use style=\"fill-opacity:0.1;stroke:#000000;stroke-opacity:0.1;\" x=\"255.760632\" xlink:href=\"#m18e7dcae92\" y=\"140.473792\"/>\r\n     <use style=\"fill-opacity:0.1;stroke:#000000;stroke-opacity:0.1;\" x=\"258.645537\" xlink:href=\"#m18e7dcae92\" y=\"140.274682\"/>\r\n     <use style=\"fill-opacity:0.1;stroke:#000000;stroke-opacity:0.1;\" x=\"255.272515\" xlink:href=\"#m18e7dcae92\" y=\"140.578335\"/>\r\n     <use style=\"fill-opacity:0.1;stroke:#000000;stroke-opacity:0.1;\" x=\"457.337382\" xlink:href=\"#m18e7dcae92\" y=\"131.130508\"/>\r\n     <use style=\"fill-opacity:0.1;stroke:#000000;stroke-opacity:0.1;\" x=\"254.676216\" xlink:href=\"#m18e7dcae92\" y=\"140.562871\"/>\r\n     <use style=\"fill-opacity:0.1;stroke:#000000;stroke-opacity:0.1;\" x=\"330.646219\" xlink:href=\"#m18e7dcae92\" y=\"141.378948\"/>\r\n     <use style=\"fill-opacity:0.1;stroke:#000000;stroke-opacity:0.1;\" x=\"255.746094\" xlink:href=\"#m18e7dcae92\" y=\"140.472783\"/>\r\n     <use style=\"fill-opacity:0.1;stroke:#000000;stroke-opacity:0.1;\" x=\"391.896938\" xlink:href=\"#m18e7dcae92\" y=\"136.041303\"/>\r\n     <use style=\"fill-opacity:0.1;stroke:#000000;stroke-opacity:0.1;\" x=\"255.473568\" xlink:href=\"#m18e7dcae92\" y=\"140.539557\"/>\r\n     <use style=\"fill-opacity:0.1;stroke:#000000;stroke-opacity:0.1;\" x=\"255.292594\" xlink:href=\"#m18e7dcae92\" y=\"140.579048\"/>\r\n     <use style=\"fill-opacity:0.1;stroke:#000000;stroke-opacity:0.1;\" x=\"265.589862\" xlink:href=\"#m18e7dcae92\" y=\"140.18133\"/>\r\n     <use style=\"fill-opacity:0.1;stroke:#000000;stroke-opacity:0.1;\" x=\"265.095132\" xlink:href=\"#m18e7dcae92\" y=\"139.732414\"/>\r\n     <use style=\"fill-opacity:0.1;stroke:#000000;stroke-opacity:0.1;\" x=\"269.797296\" xlink:href=\"#m18e7dcae92\" y=\"139.942924\"/>\r\n     <use style=\"fill-opacity:0.1;stroke:#000000;stroke-opacity:0.1;\" x=\"265.805116\" xlink:href=\"#m18e7dcae92\" y=\"139.694244\"/>\r\n     <use style=\"fill-opacity:0.1;stroke:#000000;stroke-opacity:0.1;\" x=\"271.202012\" xlink:href=\"#m18e7dcae92\" y=\"139.399064\"/>\r\n     <use style=\"fill-opacity:0.1;stroke:#000000;stroke-opacity:0.1;\" x=\"261.225994\" xlink:href=\"#m18e7dcae92\" y=\"140.111534\"/>\r\n     <use style=\"fill-opacity:0.1;stroke:#000000;stroke-opacity:0.1;\" x=\"301.518212\" xlink:href=\"#m18e7dcae92\" y=\"137.27627\"/>\r\n     <use style=\"fill-opacity:0.1;stroke:#000000;stroke-opacity:0.1;\" x=\"258.983935\" xlink:href=\"#m18e7dcae92\" y=\"140.206526\"/>\r\n     <use style=\"fill-opacity:0.1;stroke:#000000;stroke-opacity:0.1;\" x=\"256.967641\" xlink:href=\"#m18e7dcae92\" y=\"140.388476\"/>\r\n     <use style=\"fill-opacity:0.1;stroke:#000000;stroke-opacity:0.1;\" x=\"255.845481\" xlink:href=\"#m18e7dcae92\" y=\"140.476471\"/>\r\n     <use style=\"fill-opacity:0.1;stroke:#000000;stroke-opacity:0.1;\" x=\"264.95126\" xlink:href=\"#m18e7dcae92\" y=\"139.596917\"/>\r\n     <use style=\"fill-opacity:0.1;stroke:#000000;stroke-opacity:0.1;\" x=\"254.667039\" xlink:href=\"#m18e7dcae92\" y=\"140.563005\"/>\r\n     <use style=\"fill-opacity:0.1;stroke:#000000;stroke-opacity:0.1;\" x=\"257.528215\" xlink:href=\"#m18e7dcae92\" y=\"140.385078\"/>\r\n     <use style=\"fill-opacity:0.1;stroke:#000000;stroke-opacity:0.1;\" x=\"254.65426\" xlink:href=\"#m18e7dcae92\" y=\"140.562683\"/>\r\n     <use style=\"fill-opacity:0.1;stroke:#000000;stroke-opacity:0.1;\" x=\"259.926671\" xlink:href=\"#m18e7dcae92\" y=\"140.483134\"/>\r\n     <use style=\"fill-opacity:0.1;stroke:#000000;stroke-opacity:0.1;\" x=\"257.480438\" xlink:href=\"#m18e7dcae92\" y=\"140.636372\"/>\r\n     <use style=\"fill-opacity:0.1;stroke:#000000;stroke-opacity:0.1;\" x=\"261.025247\" xlink:href=\"#m18e7dcae92\" y=\"140.024964\"/>\r\n     <use style=\"fill-opacity:0.1;stroke:#000000;stroke-opacity:0.1;\" x=\"256.79834\" xlink:href=\"#m18e7dcae92\" y=\"140.383669\"/>\r\n     <use style=\"fill-opacity:0.1;stroke:#000000;stroke-opacity:0.1;\" x=\"261.427528\" xlink:href=\"#m18e7dcae92\" y=\"139.99863\"/>\r\n     <use style=\"fill-opacity:0.1;stroke:#000000;stroke-opacity:0.1;\" x=\"256.857924\" xlink:href=\"#m18e7dcae92\" y=\"140.384694\"/>\r\n     <use style=\"fill-opacity:0.1;stroke:#000000;stroke-opacity:0.1;\" x=\"260.831761\" xlink:href=\"#m18e7dcae92\" y=\"140.088801\"/>\r\n     <use style=\"fill-opacity:0.1;stroke:#000000;stroke-opacity:0.1;\" x=\"256.854634\" xlink:href=\"#m18e7dcae92\" y=\"140.38574\"/>\r\n     <use style=\"fill-opacity:0.1;stroke:#000000;stroke-opacity:0.1;\" x=\"254.677285\" xlink:href=\"#m18e7dcae92\" y=\"140.563495\"/>\r\n     <use style=\"fill-opacity:0.1;stroke:#000000;stroke-opacity:0.1;\" x=\"260.023384\" xlink:href=\"#m18e7dcae92\" y=\"140.116683\"/>\r\n     <use style=\"fill-opacity:0.1;stroke:#000000;stroke-opacity:0.1;\" x=\"258.188257\" xlink:href=\"#m18e7dcae92\" y=\"140.278963\"/>\r\n     <use style=\"fill-opacity:0.1;stroke:#000000;stroke-opacity:0.1;\" x=\"255.724824\" xlink:href=\"#m18e7dcae92\" y=\"140.47363\"/>\r\n     <use style=\"fill-opacity:0.1;stroke:#000000;stroke-opacity:0.1;\" x=\"259.238963\" xlink:href=\"#m18e7dcae92\" y=\"140.199905\"/>\r\n     <use style=\"fill-opacity:0.1;stroke:#000000;stroke-opacity:0.1;\" x=\"255.807116\" xlink:href=\"#m18e7dcae92\" y=\"140.475797\"/>\r\n     <use style=\"fill-opacity:0.1;stroke:#000000;stroke-opacity:0.1;\" x=\"255.74724\" xlink:href=\"#m18e7dcae92\" y=\"140.474243\"/>\r\n     <use style=\"fill-opacity:0.1;stroke:#000000;stroke-opacity:0.1;\" x=\"254.651992\" xlink:href=\"#m18e7dcae92\" y=\"140.562949\"/>\r\n     <use style=\"fill-opacity:0.1;stroke:#000000;stroke-opacity:0.1;\" x=\"257.03191\" xlink:href=\"#m18e7dcae92\" y=\"140.506007\"/>\r\n     <use style=\"fill-opacity:0.1;stroke:#000000;stroke-opacity:0.1;\" x=\"260.323789\" xlink:href=\"#m18e7dcae92\" y=\"140.199568\"/>\r\n     <use style=\"fill-opacity:0.1;stroke:#000000;stroke-opacity:0.1;\" x=\"268.345814\" xlink:href=\"#m18e7dcae92\" y=\"139.509437\"/>\r\n     <use style=\"fill-opacity:0.1;stroke:#000000;stroke-opacity:0.1;\" x=\"255.708487\" xlink:href=\"#m18e7dcae92\" y=\"140.473386\"/>\r\n     <use style=\"fill-opacity:0.1;stroke:#000000;stroke-opacity:0.1;\" x=\"262.263645\" xlink:href=\"#m18e7dcae92\" y=\"140.05591\"/>\r\n     <use style=\"fill-opacity:0.1;stroke:#000000;stroke-opacity:0.1;\" x=\"254.923226\" xlink:href=\"#m18e7dcae92\" y=\"140.570169\"/>\r\n     <use style=\"fill-opacity:0.1;stroke:#000000;stroke-opacity:0.1;\" x=\"266.694888\" xlink:href=\"#m18e7dcae92\" y=\"139.630773\"/>\r\n     <use style=\"fill-opacity:0.1;stroke:#000000;stroke-opacity:0.1;\" x=\"255.861265\" xlink:href=\"#m18e7dcae92\" y=\"140.477444\"/>\r\n     <use style=\"fill-opacity:0.1;stroke:#000000;stroke-opacity:0.1;\" x=\"257.907294\" xlink:href=\"#m18e7dcae92\" y=\"140.295939\"/>\r\n     <use style=\"fill-opacity:0.1;stroke:#000000;stroke-opacity:0.1;\" x=\"263.121447\" xlink:href=\"#m18e7dcae92\" y=\"139.907514\"/>\r\n     <use style=\"fill-opacity:0.1;stroke:#000000;stroke-opacity:0.1;\" x=\"377.301872\" xlink:href=\"#m18e7dcae92\" y=\"134.427236\"/>\r\n     <use style=\"fill-opacity:0.1;stroke:#000000;stroke-opacity:0.1;\" x=\"255.707311\" xlink:href=\"#m18e7dcae92\" y=\"140.473571\"/>\r\n     <use style=\"fill-opacity:0.1;stroke:#000000;stroke-opacity:0.1;\" x=\"257.0391\" xlink:href=\"#m18e7dcae92\" y=\"140.376461\"/>\r\n     <use style=\"fill-opacity:0.1;stroke:#000000;stroke-opacity:0.1;\" x=\"258.337824\" xlink:href=\"#m18e7dcae92\" y=\"140.283262\"/>\r\n     <use style=\"fill-opacity:0.1;stroke:#000000;stroke-opacity:0.1;\" x=\"262.574391\" xlink:href=\"#m18e7dcae92\" y=\"139.92357\"/>\r\n     <use style=\"fill-opacity:0.1;stroke:#000000;stroke-opacity:0.1;\" x=\"431.033552\" xlink:href=\"#m18e7dcae92\" y=\"136.146725\"/>\r\n     <use style=\"fill-opacity:0.1;stroke:#000000;stroke-opacity:0.1;\" x=\"257.973816\" xlink:href=\"#m18e7dcae92\" y=\"140.40803\"/>\r\n     <use style=\"fill-opacity:0.1;stroke:#000000;stroke-opacity:0.1;\" x=\"255.774813\" xlink:href=\"#m18e7dcae92\" y=\"140.474677\"/>\r\n     <use style=\"fill-opacity:0.1;stroke:#000000;stroke-opacity:0.1;\" x=\"262.458193\" xlink:href=\"#m18e7dcae92\" y=\"140.414451\"/>\r\n     <use style=\"fill-opacity:0.1;stroke:#000000;stroke-opacity:0.1;\" x=\"256.145404\" xlink:href=\"#m18e7dcae92\" y=\"140.485202\"/>\r\n     <use style=\"fill-opacity:0.1;stroke:#000000;stroke-opacity:0.1;\" x=\"254.650503\" xlink:href=\"#m18e7dcae92\" y=\"140.563466\"/>\r\n     <use style=\"fill-opacity:0.1;stroke:#000000;stroke-opacity:0.1;\" x=\"254.675488\" xlink:href=\"#m18e7dcae92\" y=\"140.564178\"/>\r\n     <use style=\"fill-opacity:0.1;stroke:#000000;stroke-opacity:0.1;\" x=\"269.370828\" xlink:href=\"#m18e7dcae92\" y=\"139.451067\"/>\r\n     <use style=\"fill-opacity:0.1;stroke:#000000;stroke-opacity:0.1;\" x=\"257.296821\" xlink:href=\"#m18e7dcae92\" y=\"140.372605\"/>\r\n     <use style=\"fill-opacity:0.1;stroke:#000000;stroke-opacity:0.1;\" x=\"259.013879\" xlink:href=\"#m18e7dcae92\" y=\"140.405348\"/>\r\n     <use style=\"fill-opacity:0.1;stroke:#000000;stroke-opacity:0.1;\" x=\"262.065477\" xlink:href=\"#m18e7dcae92\" y=\"139.935854\"/>\r\n     <use style=\"fill-opacity:0.1;stroke:#000000;stroke-opacity:0.1;\" x=\"254.737507\" xlink:href=\"#m18e7dcae92\" y=\"140.565882\"/>\r\n     <use style=\"fill-opacity:0.1;stroke:#000000;stroke-opacity:0.1;\" x=\"256.769219\" xlink:href=\"#m18e7dcae92\" y=\"140.384457\"/>\r\n     <use style=\"fill-opacity:0.1;stroke:#000000;stroke-opacity:0.1;\" x=\"255.778158\" xlink:href=\"#m18e7dcae92\" y=\"140.475134\"/>\r\n     <use style=\"fill-opacity:0.1;stroke:#000000;stroke-opacity:0.1;\" x=\"275.70182\" xlink:href=\"#m18e7dcae92\" y=\"139.012836\"/>\r\n     <use style=\"fill-opacity:0.1;stroke:#000000;stroke-opacity:0.1;\" x=\"259.019325\" xlink:href=\"#m18e7dcae92\" y=\"140.208734\"/>\r\n     <use style=\"fill-opacity:0.1;stroke:#000000;stroke-opacity:0.1;\" x=\"258.107214\" xlink:href=\"#m18e7dcae92\" y=\"140.301822\"/>\r\n     <use style=\"fill-opacity:0.1;stroke:#000000;stroke-opacity:0.1;\" x=\"255.855215\" xlink:href=\"#m18e7dcae92\" y=\"140.477221\"/>\r\n     <use style=\"fill-opacity:0.1;stroke:#000000;stroke-opacity:0.1;\" x=\"267.839085\" xlink:href=\"#m18e7dcae92\" y=\"139.723757\"/>\r\n     <use style=\"fill-opacity:0.1;stroke:#000000;stroke-opacity:0.1;\" x=\"281.073588\" xlink:href=\"#m18e7dcae92\" y=\"139.111758\"/>\r\n     <use style=\"fill-opacity:0.1;stroke:#000000;stroke-opacity:0.1;\" x=\"254.921967\" xlink:href=\"#m18e7dcae92\" y=\"140.570833\"/>\r\n     <use style=\"fill-opacity:0.1;stroke:#000000;stroke-opacity:0.1;\" x=\"259.054596\" xlink:href=\"#m18e7dcae92\" y=\"140.290225\"/>\r\n     <use style=\"fill-opacity:0.1;stroke:#000000;stroke-opacity:0.1;\" x=\"257.638395\" xlink:href=\"#m18e7dcae92\" y=\"140.383214\"/>\r\n     <use style=\"fill-opacity:0.1;stroke:#000000;stroke-opacity:0.1;\" x=\"256.953609\" xlink:href=\"#m18e7dcae92\" y=\"140.422806\"/>\r\n     <use style=\"fill-opacity:0.1;stroke:#000000;stroke-opacity:0.1;\" x=\"255.829477\" xlink:href=\"#m18e7dcae92\" y=\"140.47749\"/>\r\n     <use style=\"fill-opacity:0.1;stroke:#000000;stroke-opacity:0.1;\" x=\"263.534736\" xlink:href=\"#m18e7dcae92\" y=\"139.925709\"/>\r\n     <use style=\"fill-opacity:0.1;stroke:#000000;stroke-opacity:0.1;\" x=\"257.157489\" xlink:href=\"#m18e7dcae92\" y=\"140.370369\"/>\r\n     <use style=\"fill-opacity:0.1;stroke:#000000;stroke-opacity:0.1;\" x=\"254.6442\" xlink:href=\"#m18e7dcae92\" y=\"140.563903\"/>\r\n     <use style=\"fill-opacity:0.1;stroke:#000000;stroke-opacity:0.1;\" x=\"260.470184\" xlink:href=\"#m18e7dcae92\" y=\"140.384899\"/>\r\n     <use style=\"fill-opacity:0.1;stroke:#000000;stroke-opacity:0.1;\" x=\"257.114156\" xlink:href=\"#m18e7dcae92\" y=\"140.36914\"/>\r\n     <use style=\"fill-opacity:0.1;stroke:#000000;stroke-opacity:0.1;\" x=\"254.643671\" xlink:href=\"#m18e7dcae92\" y=\"140.563947\"/>\r\n    </g>\r\n   </g>\r\n   <g id=\"patch_3\">\r\n    <path d=\"M 50.333125 224.64 \r\nL 50.333125 7.2 \r\n\" style=\"fill:none;stroke:#ffffff;stroke-linecap:square;stroke-linejoin:miter;stroke-width:1.25;\"/>\r\n   </g>\r\n   <g id=\"patch_4\">\r\n    <path d=\"M 385.133125 224.64 \r\nL 385.133125 7.2 \r\n\" style=\"fill:none;stroke:#ffffff;stroke-linecap:square;stroke-linejoin:miter;stroke-width:1.25;\"/>\r\n   </g>\r\n   <g id=\"patch_5\">\r\n    <path d=\"M 50.333125 224.64 \r\nL 385.133125 224.64 \r\n\" style=\"fill:none;stroke:#ffffff;stroke-linecap:square;stroke-linejoin:miter;stroke-width:1.25;\"/>\r\n   </g>\r\n   <g id=\"patch_6\">\r\n    <path d=\"M 50.333125 7.2 \r\nL 385.133125 7.2 \r\n\" style=\"fill:none;stroke:#ffffff;stroke-linecap:square;stroke-linejoin:miter;stroke-width:1.25;\"/>\r\n   </g>\r\n  </g>\r\n </g>\r\n <defs>\r\n  <clipPath id=\"p8db3a476ae\">\r\n   <rect height=\"217.44\" width=\"334.8\" x=\"50.333125\" y=\"7.2\"/>\r\n  </clipPath>\r\n </defs>\r\n</svg>\r\n",
      "image/png": "[encoded data removed]"
     },
     "metadata": {}
    }
   ],
   "metadata": {}
  },
  {
   "cell_type": "code",
   "execution_count": 76,
   "source": [
    "ks = range(1, 10)\r\n",
    "inertias = []\r\n",
    "for k in ks:\r\n",
    "    # Create a KMeans instance with k clusters: model\r\n",
    "    model = KMeans(n_clusters=k)\r\n",
    "    \r\n",
    "    # Fit model to samples\r\n",
    "    model.fit(PCA_components.iloc[:,:5])\r\n",
    "    \r\n",
    "    # Append the inertia to the list of inertias\r\n",
    "    inertias.append(model.inertia_)\r\n",
    "    \r\n",
    "plt.plot(ks, inertias, '-o', color='black')\r\n",
    "plt.xlabel('number of clusters, k')\r\n",
    "plt.ylabel('inertia')\r\n",
    "plt.xticks(ks)\r\n",
    "plt.show()"
   ],
   "outputs": [
    {
     "output_type": "display_data",
     "data": {
      "text/plain": [
       "<Figure size 432x288 with 1 Axes>"
      ],
      "image/svg+xml": "<?xml version=\"1.0\" encoding=\"utf-8\" standalone=\"no\"?>\r\n<!DOCTYPE svg PUBLIC \"-//W3C//DTD SVG 1.1//EN\"\r\n  \"http://www.w3.org/Graphics/SVG/1.1/DTD/svg11.dtd\">\r\n<!-- Created with matplotlib (https://matplotlib.org/) -->\r\n<svg height=\"266.374219pt\" version=\"1.1\" viewBox=\"0 0 404.259531 266.374219\" width=\"404.259531pt\" xmlns=\"http://www.w3.org/2000/svg\" xmlns:xlink=\"http://www.w3.org/1999/xlink\">\r\n <metadata>\r\n  <rdf:RDF xmlns:cc=\"http://creativecommons.org/ns#\" xmlns:dc=\"http://purl.org/dc/elements/1.1/\" xmlns:rdf=\"http://www.w3.org/1999/02/22-rdf-syntax-ns#\">\r\n   <cc:Work>\r\n    <dc:type rdf:resource=\"http://purl.org/dc/dcmitype/StillImage\"/>\r\n    <dc:date>2021-08-13T12:48:53.464496</dc:date>\r\n    <dc:format>image/svg+xml</dc:format>\r\n    <dc:creator>\r\n     <cc:Agent>\r\n      <dc:title>Matplotlib v3.3.4, https://matplotlib.org/</dc:title>\r\n     </cc:Agent>\r\n    </dc:creator>\r\n   </cc:Work>\r\n  </rdf:RDF>\r\n </metadata>\r\n <defs>\r\n  <style type=\"text/css\">*{stroke-linecap:butt;stroke-linejoin:round;}</style>\r\n </defs>\r\n <g id=\"figure_1\">\r\n  <g id=\"patch_1\">\r\n   <path d=\"M 0 266.374219 \r\nL 404.259531 266.374219 \r\nL 404.259531 0 \r\nL 0 0 \r\nz\r\n\" style=\"fill:#ffffff;\"/>\r\n  </g>\r\n  <g id=\"axes_1\">\r\n   <g id=\"patch_2\">\r\n    <path d=\"M 62.259531 224.64 \r\nL 397.059531 224.64 \r\nL 397.059531 7.2 \r\nL 62.259531 7.2 \r\nz\r\n\" style=\"fill:#eaeaf2;\"/>\r\n   </g>\r\n   <g id=\"matplotlib.axis_1\">\r\n    <g id=\"xtick_1\">\r\n     <g id=\"line2d_1\">\r\n      <path clip-path=\"url(#p1746a81920)\" d=\"M 77.477713 224.64 \r\nL 77.477713 7.2 \r\n\" style=\"fill:none;stroke:#ffffff;stroke-linecap:round;\"/>\r\n     </g>\r\n     <g id=\"text_1\">\r\n      <!-- 1 -->\r\n      <g style=\"fill:#262626;\" transform=\"translate(74.419197 242.013594)scale(0.11 -0.11)\">\r\n       <defs>\r\n        <path d=\"M 37.25 0 \r\nL 28.46875 0 \r\nL 28.46875 56 \r\nQ 25.296875 52.984375 20.140625 49.953125 \r\nQ 14.984375 46.921875 10.890625 45.40625 \r\nL 10.890625 53.90625 \r\nQ 18.265625 57.375 23.78125 62.296875 \r\nQ 29.296875 67.234375 31.59375 71.875 \r\nL 37.25 71.875 \r\nz\r\n\" id=\"ArialMT-49\"/>\r\n       </defs>\r\n       <use xlink:href=\"#ArialMT-49\"/>\r\n      </g>\r\n     </g>\r\n    </g>\r\n    <g id=\"xtick_2\">\r\n     <g id=\"line2d_2\">\r\n      <path clip-path=\"url(#p1746a81920)\" d=\"M 115.523168 224.64 \r\nL 115.523168 7.2 \r\n\" style=\"fill:none;stroke:#ffffff;stroke-linecap:round;\"/>\r\n     </g>\r\n     <g id=\"text_2\">\r\n      <!-- 2 -->\r\n      <g style=\"fill:#262626;\" transform=\"translate(112.464652 242.013594)scale(0.11 -0.11)\">\r\n       <defs>\r\n        <path d=\"M 50.34375 8.453125 \r\nL 50.34375 0 \r\nL 3.03125 0 \r\nQ 2.9375 3.171875 4.046875 6.109375 \r\nQ 5.859375 10.9375 9.828125 15.625 \r\nQ 13.8125 20.3125 21.34375 26.46875 \r\nQ 33.015625 36.03125 37.109375 41.625 \r\nQ 41.21875 47.21875 41.21875 52.203125 \r\nQ 41.21875 57.421875 37.46875 61 \r\nQ 33.734375 64.59375 27.734375 64.59375 \r\nQ 21.390625 64.59375 17.578125 60.78125 \r\nQ 13.765625 56.984375 13.71875 50.25 \r\nL 4.6875 51.171875 \r\nQ 5.609375 61.28125 11.65625 66.578125 \r\nQ 17.71875 71.875 27.9375 71.875 \r\nQ 38.234375 71.875 44.234375 66.15625 \r\nQ 50.25 60.453125 50.25 52 \r\nQ 50.25 47.703125 48.484375 43.546875 \r\nQ 46.734375 39.40625 42.65625 34.8125 \r\nQ 38.578125 30.21875 29.109375 22.21875 \r\nQ 21.1875 15.578125 18.9375 13.203125 \r\nQ 16.703125 10.84375 15.234375 8.453125 \r\nz\r\n\" id=\"ArialMT-50\"/>\r\n       </defs>\r\n       <use xlink:href=\"#ArialMT-50\"/>\r\n      </g>\r\n     </g>\r\n    </g>\r\n    <g id=\"xtick_3\">\r\n     <g id=\"line2d_3\">\r\n      <path clip-path=\"url(#p1746a81920)\" d=\"M 153.568622 224.64 \r\nL 153.568622 7.2 \r\n\" style=\"fill:none;stroke:#ffffff;stroke-linecap:round;\"/>\r\n     </g>\r\n     <g id=\"text_3\">\r\n      <!-- 3 -->\r\n      <g style=\"fill:#262626;\" transform=\"translate(150.510107 242.013594)scale(0.11 -0.11)\">\r\n       <defs>\r\n        <path d=\"M 4.203125 18.890625 \r\nL 12.984375 20.0625 \r\nQ 14.5 12.59375 18.140625 9.296875 \r\nQ 21.78125 6 27 6 \r\nQ 33.203125 6 37.46875 10.296875 \r\nQ 41.75 14.59375 41.75 20.953125 \r\nQ 41.75 27 37.796875 30.921875 \r\nQ 33.84375 34.859375 27.734375 34.859375 \r\nQ 25.25 34.859375 21.53125 33.890625 \r\nL 22.515625 41.609375 \r\nQ 23.390625 41.5 23.921875 41.5 \r\nQ 29.546875 41.5 34.03125 44.421875 \r\nQ 38.53125 47.359375 38.53125 53.46875 \r\nQ 38.53125 58.296875 35.25 61.46875 \r\nQ 31.984375 64.65625 26.8125 64.65625 \r\nQ 21.6875 64.65625 18.265625 61.421875 \r\nQ 14.84375 58.203125 13.875 51.765625 \r\nL 5.078125 53.328125 \r\nQ 6.6875 62.15625 12.390625 67.015625 \r\nQ 18.109375 71.875 26.609375 71.875 \r\nQ 32.46875 71.875 37.390625 69.359375 \r\nQ 42.328125 66.84375 44.9375 62.5 \r\nQ 47.5625 58.15625 47.5625 53.265625 \r\nQ 47.5625 48.640625 45.0625 44.828125 \r\nQ 42.578125 41.015625 37.703125 38.765625 \r\nQ 44.046875 37.3125 47.5625 32.6875 \r\nQ 51.078125 28.078125 51.078125 21.140625 \r\nQ 51.078125 11.765625 44.234375 5.25 \r\nQ 37.40625 -1.265625 26.953125 -1.265625 \r\nQ 17.53125 -1.265625 11.296875 4.34375 \r\nQ 5.078125 9.96875 4.203125 18.890625 \r\nz\r\n\" id=\"ArialMT-51\"/>\r\n       </defs>\r\n       <use xlink:href=\"#ArialMT-51\"/>\r\n      </g>\r\n     </g>\r\n    </g>\r\n    <g id=\"xtick_4\">\r\n     <g id=\"line2d_4\">\r\n      <path clip-path=\"url(#p1746a81920)\" d=\"M 191.614077 224.64 \r\nL 191.614077 7.2 \r\n\" style=\"fill:none;stroke:#ffffff;stroke-linecap:round;\"/>\r\n     </g>\r\n     <g id=\"text_4\">\r\n      <!-- 4 -->\r\n      <g style=\"fill:#262626;\" transform=\"translate(188.555561 242.013594)scale(0.11 -0.11)\">\r\n       <defs>\r\n        <path d=\"M 32.328125 0 \r\nL 32.328125 17.140625 \r\nL 1.265625 17.140625 \r\nL 1.265625 25.203125 \r\nL 33.9375 71.578125 \r\nL 41.109375 71.578125 \r\nL 41.109375 25.203125 \r\nL 50.78125 25.203125 \r\nL 50.78125 17.140625 \r\nL 41.109375 17.140625 \r\nL 41.109375 0 \r\nz\r\nM 32.328125 25.203125 \r\nL 32.328125 57.46875 \r\nL 9.90625 25.203125 \r\nz\r\n\" id=\"ArialMT-52\"/>\r\n       </defs>\r\n       <use xlink:href=\"#ArialMT-52\"/>\r\n      </g>\r\n     </g>\r\n    </g>\r\n    <g id=\"xtick_5\">\r\n     <g id=\"line2d_5\">\r\n      <path clip-path=\"url(#p1746a81920)\" d=\"M 229.659531 224.64 \r\nL 229.659531 7.2 \r\n\" style=\"fill:none;stroke:#ffffff;stroke-linecap:round;\"/>\r\n     </g>\r\n     <g id=\"text_5\">\r\n      <!-- 5 -->\r\n      <g style=\"fill:#262626;\" transform=\"translate(226.601016 242.013594)scale(0.11 -0.11)\">\r\n       <defs>\r\n        <path d=\"M 4.15625 18.75 \r\nL 13.375 19.53125 \r\nQ 14.40625 12.796875 18.140625 9.390625 \r\nQ 21.875 6 27.15625 6 \r\nQ 33.5 6 37.890625 10.78125 \r\nQ 42.28125 15.578125 42.28125 23.484375 \r\nQ 42.28125 31 38.0625 35.34375 \r\nQ 33.84375 39.703125 27 39.703125 \r\nQ 22.75 39.703125 19.328125 37.765625 \r\nQ 15.921875 35.84375 13.96875 32.765625 \r\nL 5.71875 33.84375 \r\nL 12.640625 70.609375 \r\nL 48.25 70.609375 \r\nL 48.25 62.203125 \r\nL 19.671875 62.203125 \r\nL 15.828125 42.96875 \r\nQ 22.265625 47.46875 29.34375 47.46875 \r\nQ 38.71875 47.46875 45.15625 40.96875 \r\nQ 51.609375 34.46875 51.609375 24.265625 \r\nQ 51.609375 14.546875 45.953125 7.46875 \r\nQ 39.0625 -1.21875 27.15625 -1.21875 \r\nQ 17.390625 -1.21875 11.203125 4.25 \r\nQ 5.03125 9.71875 4.15625 18.75 \r\nz\r\n\" id=\"ArialMT-53\"/>\r\n       </defs>\r\n       <use xlink:href=\"#ArialMT-53\"/>\r\n      </g>\r\n     </g>\r\n    </g>\r\n    <g id=\"xtick_6\">\r\n     <g id=\"line2d_6\">\r\n      <path clip-path=\"url(#p1746a81920)\" d=\"M 267.704986 224.64 \r\nL 267.704986 7.2 \r\n\" style=\"fill:none;stroke:#ffffff;stroke-linecap:round;\"/>\r\n     </g>\r\n     <g id=\"text_6\">\r\n      <!-- 6 -->\r\n      <g style=\"fill:#262626;\" transform=\"translate(264.64647 242.013594)scale(0.11 -0.11)\">\r\n       <defs>\r\n        <path d=\"M 49.75 54.046875 \r\nL 41.015625 53.375 \r\nQ 39.84375 58.546875 37.703125 60.890625 \r\nQ 34.125 64.65625 28.90625 64.65625 \r\nQ 24.703125 64.65625 21.53125 62.3125 \r\nQ 17.390625 59.28125 14.984375 53.46875 \r\nQ 12.59375 47.65625 12.5 36.921875 \r\nQ 15.671875 41.75 20.265625 44.09375 \r\nQ 24.859375 46.4375 29.890625 46.4375 \r\nQ 38.671875 46.4375 44.84375 39.96875 \r\nQ 51.03125 33.5 51.03125 23.25 \r\nQ 51.03125 16.5 48.125 10.71875 \r\nQ 45.21875 4.9375 40.140625 1.859375 \r\nQ 35.0625 -1.21875 28.609375 -1.21875 \r\nQ 17.625 -1.21875 10.6875 6.859375 \r\nQ 3.765625 14.9375 3.765625 33.5 \r\nQ 3.765625 54.25 11.421875 63.671875 \r\nQ 18.109375 71.875 29.4375 71.875 \r\nQ 37.890625 71.875 43.28125 67.140625 \r\nQ 48.6875 62.40625 49.75 54.046875 \r\nz\r\nM 13.875 23.1875 \r\nQ 13.875 18.65625 15.796875 14.5 \r\nQ 17.71875 10.359375 21.1875 8.171875 \r\nQ 24.65625 6 28.46875 6 \r\nQ 34.03125 6 38.03125 10.484375 \r\nQ 42.046875 14.984375 42.046875 22.703125 \r\nQ 42.046875 30.125 38.078125 34.390625 \r\nQ 34.125 38.671875 28.125 38.671875 \r\nQ 22.171875 38.671875 18.015625 34.390625 \r\nQ 13.875 30.125 13.875 23.1875 \r\nz\r\n\" id=\"ArialMT-54\"/>\r\n       </defs>\r\n       <use xlink:href=\"#ArialMT-54\"/>\r\n      </g>\r\n     </g>\r\n    </g>\r\n    <g id=\"xtick_7\">\r\n     <g id=\"line2d_7\">\r\n      <path clip-path=\"url(#p1746a81920)\" d=\"M 305.75044 224.64 \r\nL 305.75044 7.2 \r\n\" style=\"fill:none;stroke:#ffffff;stroke-linecap:round;\"/>\r\n     </g>\r\n     <g id=\"text_7\">\r\n      <!-- 7 -->\r\n      <g style=\"fill:#262626;\" transform=\"translate(302.691925 242.013594)scale(0.11 -0.11)\">\r\n       <defs>\r\n        <path d=\"M 4.734375 62.203125 \r\nL 4.734375 70.65625 \r\nL 51.078125 70.65625 \r\nL 51.078125 63.8125 \r\nQ 44.234375 56.546875 37.515625 44.484375 \r\nQ 30.8125 32.421875 27.15625 19.671875 \r\nQ 24.515625 10.6875 23.78125 0 \r\nL 14.75 0 \r\nQ 14.890625 8.453125 18.0625 20.40625 \r\nQ 21.234375 32.375 27.171875 43.484375 \r\nQ 33.109375 54.59375 39.796875 62.203125 \r\nz\r\n\" id=\"ArialMT-55\"/>\r\n       </defs>\r\n       <use xlink:href=\"#ArialMT-55\"/>\r\n      </g>\r\n     </g>\r\n    </g>\r\n    <g id=\"xtick_8\">\r\n     <g id=\"line2d_8\">\r\n      <path clip-path=\"url(#p1746a81920)\" d=\"M 343.795895 224.64 \r\nL 343.795895 7.2 \r\n\" style=\"fill:none;stroke:#ffffff;stroke-linecap:round;\"/>\r\n     </g>\r\n     <g id=\"text_8\">\r\n      <!-- 8 -->\r\n      <g style=\"fill:#262626;\" transform=\"translate(340.737379 242.013594)scale(0.11 -0.11)\">\r\n       <defs>\r\n        <path d=\"M 17.671875 38.8125 \r\nQ 12.203125 40.828125 9.5625 44.53125 \r\nQ 6.9375 48.25 6.9375 53.421875 \r\nQ 6.9375 61.234375 12.546875 66.546875 \r\nQ 18.171875 71.875 27.484375 71.875 \r\nQ 36.859375 71.875 42.578125 66.421875 \r\nQ 48.296875 60.984375 48.296875 53.171875 \r\nQ 48.296875 48.1875 45.671875 44.5 \r\nQ 43.0625 40.828125 37.75 38.8125 \r\nQ 44.34375 36.671875 47.78125 31.875 \r\nQ 51.21875 27.09375 51.21875 20.453125 \r\nQ 51.21875 11.28125 44.71875 5.03125 \r\nQ 38.234375 -1.21875 27.640625 -1.21875 \r\nQ 17.046875 -1.21875 10.546875 5.046875 \r\nQ 4.046875 11.328125 4.046875 20.703125 \r\nQ 4.046875 27.6875 7.59375 32.390625 \r\nQ 11.140625 37.109375 17.671875 38.8125 \r\nz\r\nM 15.921875 53.71875 \r\nQ 15.921875 48.640625 19.1875 45.40625 \r\nQ 22.46875 42.1875 27.6875 42.1875 \r\nQ 32.765625 42.1875 36.015625 45.375 \r\nQ 39.265625 48.578125 39.265625 53.21875 \r\nQ 39.265625 58.0625 35.90625 61.359375 \r\nQ 32.5625 64.65625 27.59375 64.65625 \r\nQ 22.5625 64.65625 19.234375 61.421875 \r\nQ 15.921875 58.203125 15.921875 53.71875 \r\nz\r\nM 13.09375 20.65625 \r\nQ 13.09375 16.890625 14.875 13.375 \r\nQ 16.65625 9.859375 20.171875 7.921875 \r\nQ 23.6875 6 27.734375 6 \r\nQ 34.03125 6 38.125 10.046875 \r\nQ 42.234375 14.109375 42.234375 20.359375 \r\nQ 42.234375 26.703125 38.015625 30.859375 \r\nQ 33.796875 35.015625 27.4375 35.015625 \r\nQ 21.234375 35.015625 17.15625 30.90625 \r\nQ 13.09375 26.8125 13.09375 20.65625 \r\nz\r\n\" id=\"ArialMT-56\"/>\r\n       </defs>\r\n       <use xlink:href=\"#ArialMT-56\"/>\r\n      </g>\r\n     </g>\r\n    </g>\r\n    <g id=\"xtick_9\">\r\n     <g id=\"line2d_9\">\r\n      <path clip-path=\"url(#p1746a81920)\" d=\"M 381.841349 224.64 \r\nL 381.841349 7.2 \r\n\" style=\"fill:none;stroke:#ffffff;stroke-linecap:round;\"/>\r\n     </g>\r\n     <g id=\"text_9\">\r\n      <!-- 9 -->\r\n      <g style=\"fill:#262626;\" transform=\"translate(378.782834 242.013594)scale(0.11 -0.11)\">\r\n       <defs>\r\n        <path d=\"M 5.46875 16.546875 \r\nL 13.921875 17.328125 \r\nQ 14.984375 11.375 18.015625 8.6875 \r\nQ 21.046875 6 25.78125 6 \r\nQ 29.828125 6 32.875 7.859375 \r\nQ 35.9375 9.71875 37.890625 12.8125 \r\nQ 39.84375 15.921875 41.15625 21.1875 \r\nQ 42.484375 26.46875 42.484375 31.9375 \r\nQ 42.484375 32.515625 42.4375 33.6875 \r\nQ 39.796875 29.5 35.234375 26.875 \r\nQ 30.671875 24.265625 25.34375 24.265625 \r\nQ 16.453125 24.265625 10.296875 30.703125 \r\nQ 4.15625 37.15625 4.15625 47.703125 \r\nQ 4.15625 58.59375 10.578125 65.234375 \r\nQ 17 71.875 26.65625 71.875 \r\nQ 33.640625 71.875 39.421875 68.109375 \r\nQ 45.21875 64.359375 48.21875 57.390625 \r\nQ 51.21875 50.4375 51.21875 37.25 \r\nQ 51.21875 23.53125 48.234375 15.40625 \r\nQ 45.265625 7.28125 39.375 3.03125 \r\nQ 33.5 -1.21875 25.59375 -1.21875 \r\nQ 17.1875 -1.21875 11.859375 3.4375 \r\nQ 6.546875 8.109375 5.46875 16.546875 \r\nz\r\nM 41.453125 48.140625 \r\nQ 41.453125 55.71875 37.421875 60.15625 \r\nQ 33.40625 64.59375 27.734375 64.59375 \r\nQ 21.875 64.59375 17.53125 59.8125 \r\nQ 13.1875 55.03125 13.1875 47.40625 \r\nQ 13.1875 40.578125 17.3125 36.296875 \r\nQ 21.4375 32.03125 27.484375 32.03125 \r\nQ 33.59375 32.03125 37.515625 36.296875 \r\nQ 41.453125 40.578125 41.453125 48.140625 \r\nz\r\n\" id=\"ArialMT-57\"/>\r\n       </defs>\r\n       <use xlink:href=\"#ArialMT-57\"/>\r\n      </g>\r\n     </g>\r\n    </g>\r\n    <g id=\"text_10\">\r\n     <!-- number of clusters, k -->\r\n     <g style=\"fill:#262626;\" transform=\"translate(173.975781 256.789219)scale(0.12 -0.12)\">\r\n      <defs>\r\n       <path d=\"M 6.59375 0 \r\nL 6.59375 51.859375 \r\nL 14.5 51.859375 \r\nL 14.5 44.484375 \r\nQ 20.21875 53.03125 31 53.03125 \r\nQ 35.6875 53.03125 39.625 51.34375 \r\nQ 43.5625 49.65625 45.515625 46.921875 \r\nQ 47.46875 44.1875 48.25 40.4375 \r\nQ 48.734375 37.984375 48.734375 31.890625 \r\nL 48.734375 0 \r\nL 39.9375 0 \r\nL 39.9375 31.546875 \r\nQ 39.9375 36.921875 38.90625 39.578125 \r\nQ 37.890625 42.234375 35.28125 43.8125 \r\nQ 32.671875 45.40625 29.15625 45.40625 \r\nQ 23.53125 45.40625 19.453125 41.84375 \r\nQ 15.375 38.28125 15.375 28.328125 \r\nL 15.375 0 \r\nz\r\n\" id=\"ArialMT-110\"/>\r\n       <path d=\"M 40.578125 0 \r\nL 40.578125 7.625 \r\nQ 34.515625 -1.171875 24.125 -1.171875 \r\nQ 19.53125 -1.171875 15.546875 0.578125 \r\nQ 11.578125 2.34375 9.640625 5 \r\nQ 7.71875 7.671875 6.9375 11.53125 \r\nQ 6.390625 14.109375 6.390625 19.734375 \r\nL 6.390625 51.859375 \r\nL 15.1875 51.859375 \r\nL 15.1875 23.09375 \r\nQ 15.1875 16.21875 15.71875 13.8125 \r\nQ 16.546875 10.359375 19.234375 8.375 \r\nQ 21.921875 6.390625 25.875 6.390625 \r\nQ 29.828125 6.390625 33.296875 8.421875 \r\nQ 36.765625 10.453125 38.203125 13.9375 \r\nQ 39.65625 17.4375 39.65625 24.078125 \r\nL 39.65625 51.859375 \r\nL 48.4375 51.859375 \r\nL 48.4375 0 \r\nz\r\n\" id=\"ArialMT-117\"/>\r\n       <path d=\"M 6.59375 0 \r\nL 6.59375 51.859375 \r\nL 14.453125 51.859375 \r\nL 14.453125 44.578125 \r\nQ 16.890625 48.390625 20.9375 50.703125 \r\nQ 25 53.03125 30.171875 53.03125 \r\nQ 35.9375 53.03125 39.625 50.640625 \r\nQ 43.3125 48.25 44.828125 43.953125 \r\nQ 50.984375 53.03125 60.84375 53.03125 \r\nQ 68.5625 53.03125 72.703125 48.75 \r\nQ 76.859375 44.484375 76.859375 35.59375 \r\nL 76.859375 0 \r\nL 68.109375 0 \r\nL 68.109375 32.671875 \r\nQ 68.109375 37.9375 67.25 40.25 \r\nQ 66.40625 42.578125 64.15625 43.984375 \r\nQ 61.921875 45.40625 58.890625 45.40625 \r\nQ 53.421875 45.40625 49.796875 41.765625 \r\nQ 46.1875 38.140625 46.1875 30.125 \r\nL 46.1875 0 \r\nL 37.40625 0 \r\nL 37.40625 33.6875 \r\nQ 37.40625 39.546875 35.25 42.46875 \r\nQ 33.109375 45.40625 28.21875 45.40625 \r\nQ 24.515625 45.40625 21.359375 43.453125 \r\nQ 18.21875 41.5 16.796875 37.734375 \r\nQ 15.375 33.984375 15.375 26.90625 \r\nL 15.375 0 \r\nz\r\n\" id=\"ArialMT-109\"/>\r\n       <path d=\"M 14.703125 0 \r\nL 6.546875 0 \r\nL 6.546875 71.578125 \r\nL 15.328125 71.578125 \r\nL 15.328125 46.046875 \r\nQ 20.90625 53.03125 29.546875 53.03125 \r\nQ 34.328125 53.03125 38.59375 51.09375 \r\nQ 42.875 49.171875 45.625 45.671875 \r\nQ 48.390625 42.1875 49.953125 37.25 \r\nQ 51.515625 32.328125 51.515625 26.703125 \r\nQ 51.515625 13.375 44.921875 6.09375 \r\nQ 38.328125 -1.171875 29.109375 -1.171875 \r\nQ 19.921875 -1.171875 14.703125 6.5 \r\nz\r\nM 14.59375 26.3125 \r\nQ 14.59375 17 17.140625 12.84375 \r\nQ 21.296875 6.0625 28.375 6.0625 \r\nQ 34.125 6.0625 38.328125 11.0625 \r\nQ 42.53125 16.0625 42.53125 25.984375 \r\nQ 42.53125 36.140625 38.5 40.96875 \r\nQ 34.46875 45.796875 28.765625 45.796875 \r\nQ 23 45.796875 18.796875 40.796875 \r\nQ 14.59375 35.796875 14.59375 26.3125 \r\nz\r\n\" id=\"ArialMT-98\"/>\r\n       <path d=\"M 42.09375 16.703125 \r\nL 51.171875 15.578125 \r\nQ 49.03125 7.625 43.21875 3.21875 \r\nQ 37.40625 -1.171875 28.375 -1.171875 \r\nQ 17 -1.171875 10.328125 5.828125 \r\nQ 3.65625 12.84375 3.65625 25.484375 \r\nQ 3.65625 38.578125 10.390625 45.796875 \r\nQ 17.140625 53.03125 27.875 53.03125 \r\nQ 38.28125 53.03125 44.875 45.953125 \r\nQ 51.46875 38.875 51.46875 26.03125 \r\nQ 51.46875 25.25 51.421875 23.6875 \r\nL 12.75 23.6875 \r\nQ 13.234375 15.140625 17.578125 10.59375 \r\nQ 21.921875 6.0625 28.421875 6.0625 \r\nQ 33.25 6.0625 36.671875 8.59375 \r\nQ 40.09375 11.140625 42.09375 16.703125 \r\nz\r\nM 13.234375 30.90625 \r\nL 42.1875 30.90625 \r\nQ 41.609375 37.453125 38.875 40.71875 \r\nQ 34.671875 45.796875 27.984375 45.796875 \r\nQ 21.921875 45.796875 17.796875 41.75 \r\nQ 13.671875 37.703125 13.234375 30.90625 \r\nz\r\n\" id=\"ArialMT-101\"/>\r\n       <path d=\"M 6.5 0 \r\nL 6.5 51.859375 \r\nL 14.40625 51.859375 \r\nL 14.40625 44 \r\nQ 17.4375 49.515625 20 51.265625 \r\nQ 22.5625 53.03125 25.640625 53.03125 \r\nQ 30.078125 53.03125 34.671875 50.203125 \r\nL 31.640625 42.046875 \r\nQ 28.421875 43.953125 25.203125 43.953125 \r\nQ 22.3125 43.953125 20.015625 42.21875 \r\nQ 17.71875 40.484375 16.75 37.40625 \r\nQ 15.28125 32.71875 15.28125 27.15625 \r\nL 15.28125 0 \r\nz\r\n\" id=\"ArialMT-114\"/>\r\n       <path id=\"ArialMT-32\"/>\r\n       <path d=\"M 3.328125 25.921875 \r\nQ 3.328125 40.328125 11.328125 47.265625 \r\nQ 18.015625 53.03125 27.640625 53.03125 \r\nQ 38.328125 53.03125 45.109375 46.015625 \r\nQ 51.90625 39.015625 51.90625 26.65625 \r\nQ 51.90625 16.65625 48.90625 10.90625 \r\nQ 45.90625 5.171875 40.15625 2 \r\nQ 34.421875 -1.171875 27.640625 -1.171875 \r\nQ 16.75 -1.171875 10.03125 5.8125 \r\nQ 3.328125 12.796875 3.328125 25.921875 \r\nz\r\nM 12.359375 25.921875 \r\nQ 12.359375 15.96875 16.703125 11.015625 \r\nQ 21.046875 6.0625 27.640625 6.0625 \r\nQ 34.1875 6.0625 38.53125 11.03125 \r\nQ 42.875 16.015625 42.875 26.21875 \r\nQ 42.875 35.84375 38.5 40.796875 \r\nQ 34.125 45.75 27.640625 45.75 \r\nQ 21.046875 45.75 16.703125 40.8125 \r\nQ 12.359375 35.890625 12.359375 25.921875 \r\nz\r\n\" id=\"ArialMT-111\"/>\r\n       <path d=\"M 8.6875 0 \r\nL 8.6875 45.015625 \r\nL 0.921875 45.015625 \r\nL 0.921875 51.859375 \r\nL 8.6875 51.859375 \r\nL 8.6875 57.375 \r\nQ 8.6875 62.59375 9.625 65.140625 \r\nQ 10.890625 68.5625 14.078125 70.671875 \r\nQ 17.28125 72.796875 23.046875 72.796875 \r\nQ 26.765625 72.796875 31.25 71.921875 \r\nL 29.9375 64.265625 \r\nQ 27.203125 64.75 24.75 64.75 \r\nQ 20.75 64.75 19.09375 63.03125 \r\nQ 17.4375 61.328125 17.4375 56.640625 \r\nL 17.4375 51.859375 \r\nL 27.546875 51.859375 \r\nL 27.546875 45.015625 \r\nL 17.4375 45.015625 \r\nL 17.4375 0 \r\nz\r\n\" id=\"ArialMT-102\"/>\r\n       <path d=\"M 40.4375 19 \r\nL 49.078125 17.875 \r\nQ 47.65625 8.9375 41.8125 3.875 \r\nQ 35.984375 -1.171875 27.484375 -1.171875 \r\nQ 16.84375 -1.171875 10.375 5.78125 \r\nQ 3.90625 12.75 3.90625 25.734375 \r\nQ 3.90625 34.125 6.6875 40.421875 \r\nQ 9.46875 46.734375 15.15625 49.875 \r\nQ 20.84375 53.03125 27.546875 53.03125 \r\nQ 35.984375 53.03125 41.359375 48.75 \r\nQ 46.734375 44.484375 48.25 36.625 \r\nL 39.703125 35.296875 \r\nQ 38.484375 40.53125 35.375 43.15625 \r\nQ 32.28125 45.796875 27.875 45.796875 \r\nQ 21.234375 45.796875 17.078125 41.03125 \r\nQ 12.9375 36.28125 12.9375 25.984375 \r\nQ 12.9375 15.53125 16.9375 10.796875 \r\nQ 20.953125 6.0625 27.390625 6.0625 \r\nQ 32.5625 6.0625 36.03125 9.234375 \r\nQ 39.5 12.40625 40.4375 19 \r\nz\r\n\" id=\"ArialMT-99\"/>\r\n       <path d=\"M 6.390625 0 \r\nL 6.390625 71.578125 \r\nL 15.1875 71.578125 \r\nL 15.1875 0 \r\nz\r\n\" id=\"ArialMT-108\"/>\r\n       <path d=\"M 3.078125 15.484375 \r\nL 11.765625 16.84375 \r\nQ 12.5 11.625 15.84375 8.84375 \r\nQ 19.1875 6.0625 25.203125 6.0625 \r\nQ 31.25 6.0625 34.171875 8.515625 \r\nQ 37.109375 10.984375 37.109375 14.3125 \r\nQ 37.109375 17.28125 34.515625 19 \r\nQ 32.71875 20.171875 25.53125 21.96875 \r\nQ 15.875 24.421875 12.140625 26.203125 \r\nQ 8.40625 27.984375 6.46875 31.125 \r\nQ 4.546875 34.28125 4.546875 38.09375 \r\nQ 4.546875 41.546875 6.125 44.5 \r\nQ 7.71875 47.46875 10.453125 49.421875 \r\nQ 12.5 50.921875 16.03125 51.96875 \r\nQ 19.578125 53.03125 23.640625 53.03125 \r\nQ 29.734375 53.03125 34.34375 51.265625 \r\nQ 38.96875 49.515625 41.15625 46.5 \r\nQ 43.359375 43.5 44.1875 38.484375 \r\nL 35.59375 37.3125 \r\nQ 35.015625 41.3125 32.203125 43.546875 \r\nQ 29.390625 45.796875 24.265625 45.796875 \r\nQ 18.21875 45.796875 15.625 43.796875 \r\nQ 13.03125 41.796875 13.03125 39.109375 \r\nQ 13.03125 37.40625 14.109375 36.03125 \r\nQ 15.1875 34.625 17.484375 33.6875 \r\nQ 18.796875 33.203125 25.25 31.453125 \r\nQ 34.578125 28.953125 38.25 27.359375 \r\nQ 41.9375 25.78125 44.03125 22.75 \r\nQ 46.140625 19.734375 46.140625 15.234375 \r\nQ 46.140625 10.84375 43.578125 6.953125 \r\nQ 41.015625 3.078125 36.171875 0.953125 \r\nQ 31.34375 -1.171875 25.25 -1.171875 \r\nQ 15.140625 -1.171875 9.84375 3.03125 \r\nQ 4.546875 7.234375 3.078125 15.484375 \r\nz\r\n\" id=\"ArialMT-115\"/>\r\n       <path d=\"M 25.78125 7.859375 \r\nL 27.046875 0.09375 \r\nQ 23.34375 -0.6875 20.40625 -0.6875 \r\nQ 15.625 -0.6875 12.984375 0.828125 \r\nQ 10.359375 2.34375 9.28125 4.8125 \r\nQ 8.203125 7.28125 8.203125 15.1875 \r\nL 8.203125 45.015625 \r\nL 1.765625 45.015625 \r\nL 1.765625 51.859375 \r\nL 8.203125 51.859375 \r\nL 8.203125 64.703125 \r\nL 16.9375 69.96875 \r\nL 16.9375 51.859375 \r\nL 25.78125 51.859375 \r\nL 25.78125 45.015625 \r\nL 16.9375 45.015625 \r\nL 16.9375 14.703125 \r\nQ 16.9375 10.9375 17.40625 9.859375 \r\nQ 17.875 8.796875 18.921875 8.15625 \r\nQ 19.96875 7.515625 21.921875 7.515625 \r\nQ 23.390625 7.515625 25.78125 7.859375 \r\nz\r\n\" id=\"ArialMT-116\"/>\r\n       <path d=\"M 8.890625 0 \r\nL 8.890625 10.015625 \r\nL 18.890625 10.015625 \r\nL 18.890625 0 \r\nQ 18.890625 -5.515625 16.9375 -8.90625 \r\nQ 14.984375 -12.3125 10.75 -14.15625 \r\nL 8.296875 -10.40625 \r\nQ 11.078125 -9.1875 12.390625 -6.8125 \r\nQ 13.71875 -4.4375 13.875 0 \r\nz\r\n\" id=\"ArialMT-44\"/>\r\n       <path d=\"M 6.640625 0 \r\nL 6.640625 71.578125 \r\nL 15.4375 71.578125 \r\nL 15.4375 30.765625 \r\nL 36.234375 51.859375 \r\nL 47.609375 51.859375 \r\nL 27.78125 32.625 \r\nL 49.609375 0 \r\nL 38.765625 0 \r\nL 21.625 26.515625 \r\nL 15.4375 20.5625 \r\nL 15.4375 0 \r\nz\r\n\" id=\"ArialMT-107\"/>\r\n      </defs>\r\n      <use xlink:href=\"#ArialMT-110\"/>\r\n      <use x=\"55.615234\" xlink:href=\"#ArialMT-117\"/>\r\n      <use x=\"111.230469\" xlink:href=\"#ArialMT-109\"/>\r\n      <use x=\"194.53125\" xlink:href=\"#ArialMT-98\"/>\r\n      <use x=\"250.146484\" xlink:href=\"#ArialMT-101\"/>\r\n      <use x=\"305.761719\" xlink:href=\"#ArialMT-114\"/>\r\n      <use x=\"339.0625\" xlink:href=\"#ArialMT-32\"/>\r\n      <use x=\"366.845703\" xlink:href=\"#ArialMT-111\"/>\r\n      <use x=\"422.460938\" xlink:href=\"#ArialMT-102\"/>\r\n      <use x=\"450.244141\" xlink:href=\"#ArialMT-32\"/>\r\n      <use x=\"478.027344\" xlink:href=\"#ArialMT-99\"/>\r\n      <use x=\"528.027344\" xlink:href=\"#ArialMT-108\"/>\r\n      <use x=\"550.244141\" xlink:href=\"#ArialMT-117\"/>\r\n      <use x=\"605.859375\" xlink:href=\"#ArialMT-115\"/>\r\n      <use x=\"655.859375\" xlink:href=\"#ArialMT-116\"/>\r\n      <use x=\"683.642578\" xlink:href=\"#ArialMT-101\"/>\r\n      <use x=\"739.257812\" xlink:href=\"#ArialMT-114\"/>\r\n      <use x=\"772.558594\" xlink:href=\"#ArialMT-115\"/>\r\n      <use x=\"822.558594\" xlink:href=\"#ArialMT-44\"/>\r\n      <use x=\"850.341797\" xlink:href=\"#ArialMT-32\"/>\r\n      <use x=\"878.125\" xlink:href=\"#ArialMT-107\"/>\r\n     </g>\r\n    </g>\r\n   </g>\r\n   <g id=\"matplotlib.axis_2\">\r\n    <g id=\"ytick_1\">\r\n     <g id=\"line2d_10\">\r\n      <path clip-path=\"url(#p1746a81920)\" d=\"M 62.259531 197.609294 \r\nL 397.059531 197.609294 \r\n\" style=\"fill:none;stroke:#ffffff;stroke-linecap:round;\"/>\r\n     </g>\r\n     <g id=\"text_11\">\r\n      <!-- 2000 -->\r\n      <g style=\"fill:#262626;\" transform=\"translate(28.291406 201.546091)scale(0.11 -0.11)\">\r\n       <defs>\r\n        <path d=\"M 4.15625 35.296875 \r\nQ 4.15625 48 6.765625 55.734375 \r\nQ 9.375 63.484375 14.515625 67.671875 \r\nQ 19.671875 71.875 27.484375 71.875 \r\nQ 33.25 71.875 37.59375 69.546875 \r\nQ 41.9375 67.234375 44.765625 62.859375 \r\nQ 47.609375 58.5 49.21875 52.21875 \r\nQ 50.828125 45.953125 50.828125 35.296875 \r\nQ 50.828125 22.703125 48.234375 14.96875 \r\nQ 45.65625 7.234375 40.5 3 \r\nQ 35.359375 -1.21875 27.484375 -1.21875 \r\nQ 17.140625 -1.21875 11.234375 6.203125 \r\nQ 4.15625 15.140625 4.15625 35.296875 \r\nz\r\nM 13.1875 35.296875 \r\nQ 13.1875 17.671875 17.3125 11.828125 \r\nQ 21.4375 6 27.484375 6 \r\nQ 33.546875 6 37.671875 11.859375 \r\nQ 41.796875 17.71875 41.796875 35.296875 \r\nQ 41.796875 52.984375 37.671875 58.78125 \r\nQ 33.546875 64.59375 27.390625 64.59375 \r\nQ 21.34375 64.59375 17.71875 59.46875 \r\nQ 13.1875 52.9375 13.1875 35.296875 \r\nz\r\n\" id=\"ArialMT-48\"/>\r\n       </defs>\r\n       <use xlink:href=\"#ArialMT-50\"/>\r\n       <use x=\"55.615234\" xlink:href=\"#ArialMT-48\"/>\r\n       <use x=\"111.230469\" xlink:href=\"#ArialMT-48\"/>\r\n       <use x=\"166.845703\" xlink:href=\"#ArialMT-48\"/>\r\n      </g>\r\n     </g>\r\n    </g>\r\n    <g id=\"ytick_2\">\r\n     <g id=\"line2d_11\">\r\n      <path clip-path=\"url(#p1746a81920)\" d=\"M 62.259531 170.07809 \r\nL 397.059531 170.07809 \r\n\" style=\"fill:none;stroke:#ffffff;stroke-linecap:round;\"/>\r\n     </g>\r\n     <g id=\"text_12\">\r\n      <!-- 4000 -->\r\n      <g style=\"fill:#262626;\" transform=\"translate(28.291406 174.014886)scale(0.11 -0.11)\">\r\n       <use xlink:href=\"#ArialMT-52\"/>\r\n       <use x=\"55.615234\" xlink:href=\"#ArialMT-48\"/>\r\n       <use x=\"111.230469\" xlink:href=\"#ArialMT-48\"/>\r\n       <use x=\"166.845703\" xlink:href=\"#ArialMT-48\"/>\r\n      </g>\r\n     </g>\r\n    </g>\r\n    <g id=\"ytick_3\">\r\n     <g id=\"line2d_12\">\r\n      <path clip-path=\"url(#p1746a81920)\" d=\"M 62.259531 142.546885 \r\nL 397.059531 142.546885 \r\n\" style=\"fill:none;stroke:#ffffff;stroke-linecap:round;\"/>\r\n     </g>\r\n     <g id=\"text_13\">\r\n      <!-- 6000 -->\r\n      <g style=\"fill:#262626;\" transform=\"translate(28.291406 146.483682)scale(0.11 -0.11)\">\r\n       <use xlink:href=\"#ArialMT-54\"/>\r\n       <use x=\"55.615234\" xlink:href=\"#ArialMT-48\"/>\r\n       <use x=\"111.230469\" xlink:href=\"#ArialMT-48\"/>\r\n       <use x=\"166.845703\" xlink:href=\"#ArialMT-48\"/>\r\n      </g>\r\n     </g>\r\n    </g>\r\n    <g id=\"ytick_4\">\r\n     <g id=\"line2d_13\">\r\n      <path clip-path=\"url(#p1746a81920)\" d=\"M 62.259531 115.015681 \r\nL 397.059531 115.015681 \r\n\" style=\"fill:none;stroke:#ffffff;stroke-linecap:round;\"/>\r\n     </g>\r\n     <g id=\"text_14\">\r\n      <!-- 8000 -->\r\n      <g style=\"fill:#262626;\" transform=\"translate(28.291406 118.952478)scale(0.11 -0.11)\">\r\n       <use xlink:href=\"#ArialMT-56\"/>\r\n       <use x=\"55.615234\" xlink:href=\"#ArialMT-48\"/>\r\n       <use x=\"111.230469\" xlink:href=\"#ArialMT-48\"/>\r\n       <use x=\"166.845703\" xlink:href=\"#ArialMT-48\"/>\r\n      </g>\r\n     </g>\r\n    </g>\r\n    <g id=\"ytick_5\">\r\n     <g id=\"line2d_14\">\r\n      <path clip-path=\"url(#p1746a81920)\" d=\"M 62.259531 87.484477 \r\nL 397.059531 87.484477 \r\n\" style=\"fill:none;stroke:#ffffff;stroke-linecap:round;\"/>\r\n     </g>\r\n     <g id=\"text_15\">\r\n      <!-- 10000 -->\r\n      <g style=\"fill:#262626;\" transform=\"translate(22.174375 91.421274)scale(0.11 -0.11)\">\r\n       <use xlink:href=\"#ArialMT-49\"/>\r\n       <use x=\"55.615234\" xlink:href=\"#ArialMT-48\"/>\r\n       <use x=\"111.230469\" xlink:href=\"#ArialMT-48\"/>\r\n       <use x=\"166.845703\" xlink:href=\"#ArialMT-48\"/>\r\n       <use x=\"222.460938\" xlink:href=\"#ArialMT-48\"/>\r\n      </g>\r\n     </g>\r\n    </g>\r\n    <g id=\"ytick_6\">\r\n     <g id=\"line2d_15\">\r\n      <path clip-path=\"url(#p1746a81920)\" d=\"M 62.259531 59.953273 \r\nL 397.059531 59.953273 \r\n\" style=\"fill:none;stroke:#ffffff;stroke-linecap:round;\"/>\r\n     </g>\r\n     <g id=\"text_16\">\r\n      <!-- 12000 -->\r\n      <g style=\"fill:#262626;\" transform=\"translate(22.174375 63.89007)scale(0.11 -0.11)\">\r\n       <use xlink:href=\"#ArialMT-49\"/>\r\n       <use x=\"55.615234\" xlink:href=\"#ArialMT-50\"/>\r\n       <use x=\"111.230469\" xlink:href=\"#ArialMT-48\"/>\r\n       <use x=\"166.845703\" xlink:href=\"#ArialMT-48\"/>\r\n       <use x=\"222.460938\" xlink:href=\"#ArialMT-48\"/>\r\n      </g>\r\n     </g>\r\n    </g>\r\n    <g id=\"ytick_7\">\r\n     <g id=\"line2d_16\">\r\n      <path clip-path=\"url(#p1746a81920)\" d=\"M 62.259531 32.422069 \r\nL 397.059531 32.422069 \r\n\" style=\"fill:none;stroke:#ffffff;stroke-linecap:round;\"/>\r\n     </g>\r\n     <g id=\"text_17\">\r\n      <!-- 14000 -->\r\n      <g style=\"fill:#262626;\" transform=\"translate(22.174375 36.358866)scale(0.11 -0.11)\">\r\n       <use xlink:href=\"#ArialMT-49\"/>\r\n       <use x=\"55.615234\" xlink:href=\"#ArialMT-52\"/>\r\n       <use x=\"111.230469\" xlink:href=\"#ArialMT-48\"/>\r\n       <use x=\"166.845703\" xlink:href=\"#ArialMT-48\"/>\r\n       <use x=\"222.460938\" xlink:href=\"#ArialMT-48\"/>\r\n      </g>\r\n     </g>\r\n    </g>\r\n    <g id=\"text_18\">\r\n     <!-- inertia -->\r\n     <g style=\"fill:#262626;\" transform=\"translate(15.789375 132.260625)rotate(-90)scale(0.12 -0.12)\">\r\n      <defs>\r\n       <path d=\"M 6.640625 61.46875 \r\nL 6.640625 71.578125 \r\nL 15.4375 71.578125 \r\nL 15.4375 61.46875 \r\nz\r\nM 6.640625 0 \r\nL 6.640625 51.859375 \r\nL 15.4375 51.859375 \r\nL 15.4375 0 \r\nz\r\n\" id=\"ArialMT-105\"/>\r\n       <path d=\"M 40.4375 6.390625 \r\nQ 35.546875 2.25 31.03125 0.53125 \r\nQ 26.515625 -1.171875 21.34375 -1.171875 \r\nQ 12.796875 -1.171875 8.203125 3 \r\nQ 3.609375 7.171875 3.609375 13.671875 \r\nQ 3.609375 17.484375 5.34375 20.625 \r\nQ 7.078125 23.78125 9.890625 25.6875 \r\nQ 12.703125 27.59375 16.21875 28.5625 \r\nQ 18.796875 29.25 24.03125 29.890625 \r\nQ 34.671875 31.15625 39.703125 32.90625 \r\nQ 39.75 34.71875 39.75 35.203125 \r\nQ 39.75 40.578125 37.25 42.78125 \r\nQ 33.890625 45.75 27.25 45.75 \r\nQ 21.046875 45.75 18.09375 43.578125 \r\nQ 15.140625 41.40625 13.71875 35.890625 \r\nL 5.125 37.0625 \r\nQ 6.296875 42.578125 8.984375 45.96875 \r\nQ 11.671875 49.359375 16.75 51.1875 \r\nQ 21.828125 53.03125 28.515625 53.03125 \r\nQ 35.15625 53.03125 39.296875 51.46875 \r\nQ 43.453125 49.90625 45.40625 47.53125 \r\nQ 47.359375 45.171875 48.140625 41.546875 \r\nQ 48.578125 39.3125 48.578125 33.453125 \r\nL 48.578125 21.734375 \r\nQ 48.578125 9.46875 49.140625 6.21875 \r\nQ 49.703125 2.984375 51.375 0 \r\nL 42.1875 0 \r\nQ 40.828125 2.734375 40.4375 6.390625 \r\nz\r\nM 39.703125 26.03125 \r\nQ 34.90625 24.078125 25.34375 22.703125 \r\nQ 19.921875 21.921875 17.671875 20.9375 \r\nQ 15.4375 19.96875 14.203125 18.09375 \r\nQ 12.984375 16.21875 12.984375 13.921875 \r\nQ 12.984375 10.40625 15.640625 8.0625 \r\nQ 18.3125 5.71875 23.4375 5.71875 \r\nQ 28.515625 5.71875 32.46875 7.9375 \r\nQ 36.421875 10.15625 38.28125 14.015625 \r\nQ 39.703125 17 39.703125 22.796875 \r\nz\r\n\" id=\"ArialMT-97\"/>\r\n      </defs>\r\n      <use xlink:href=\"#ArialMT-105\"/>\r\n      <use x=\"22.216797\" xlink:href=\"#ArialMT-110\"/>\r\n      <use x=\"77.832031\" xlink:href=\"#ArialMT-101\"/>\r\n      <use x=\"133.447266\" xlink:href=\"#ArialMT-114\"/>\r\n      <use x=\"166.748047\" xlink:href=\"#ArialMT-116\"/>\r\n      <use x=\"194.53125\" xlink:href=\"#ArialMT-105\"/>\r\n      <use x=\"216.748047\" xlink:href=\"#ArialMT-97\"/>\r\n     </g>\r\n    </g>\r\n   </g>\r\n   <g id=\"line2d_17\">\r\n    <path clip-path=\"url(#p1746a81920)\" d=\"M 77.477713 17.083636 \r\nL 115.523168 108.233472 \r\nL 153.568622 148.271713 \r\nL 191.614077 175.952948 \r\nL 229.659531 190.342355 \r\nL 267.704986 204.032648 \r\nL 305.75044 208.543798 \r\nL 343.795895 211.174366 \r\nL 381.841349 214.756364 \r\n\" style=\"fill:none;stroke:#000000;stroke-linecap:round;stroke-width:1.5;\"/>\r\n    <defs>\r\n     <path d=\"M 0 3 \r\nC 0.795609 3 1.55874 2.683901 2.12132 2.12132 \r\nC 2.683901 1.55874 3 0.795609 3 0 \r\nC 3 -0.795609 2.683901 -1.55874 2.12132 -2.12132 \r\nC 1.55874 -2.683901 0.795609 -3 0 -3 \r\nC -0.795609 -3 -1.55874 -2.683901 -2.12132 -2.12132 \r\nC -2.683901 -1.55874 -3 -0.795609 -3 0 \r\nC -3 0.795609 -2.683901 1.55874 -2.12132 2.12132 \r\nC -1.55874 2.683901 -0.795609 3 0 3 \r\nz\r\n\" id=\"m312936ed8e\" style=\"stroke:#000000;\"/>\r\n    </defs>\r\n    <g clip-path=\"url(#p1746a81920)\">\r\n     <use style=\"stroke:#000000;\" x=\"77.477713\" xlink:href=\"#m312936ed8e\" y=\"17.083636\"/>\r\n     <use style=\"stroke:#000000;\" x=\"115.523168\" xlink:href=\"#m312936ed8e\" y=\"108.233472\"/>\r\n     <use style=\"stroke:#000000;\" x=\"153.568622\" xlink:href=\"#m312936ed8e\" y=\"148.271713\"/>\r\n     <use style=\"stroke:#000000;\" x=\"191.614077\" xlink:href=\"#m312936ed8e\" y=\"175.952948\"/>\r\n     <use style=\"stroke:#000000;\" x=\"229.659531\" xlink:href=\"#m312936ed8e\" y=\"190.342355\"/>\r\n     <use style=\"stroke:#000000;\" x=\"267.704986\" xlink:href=\"#m312936ed8e\" y=\"204.032648\"/>\r\n     <use style=\"stroke:#000000;\" x=\"305.75044\" xlink:href=\"#m312936ed8e\" y=\"208.543798\"/>\r\n     <use style=\"stroke:#000000;\" x=\"343.795895\" xlink:href=\"#m312936ed8e\" y=\"211.174366\"/>\r\n     <use style=\"stroke:#000000;\" x=\"381.841349\" xlink:href=\"#m312936ed8e\" y=\"214.756364\"/>\r\n    </g>\r\n   </g>\r\n   <g id=\"patch_3\">\r\n    <path d=\"M 62.259531 224.64 \r\nL 62.259531 7.2 \r\n\" style=\"fill:none;stroke:#ffffff;stroke-linecap:square;stroke-linejoin:miter;stroke-width:1.25;\"/>\r\n   </g>\r\n   <g id=\"patch_4\">\r\n    <path d=\"M 397.059531 224.64 \r\nL 397.059531 7.2 \r\n\" style=\"fill:none;stroke:#ffffff;stroke-linecap:square;stroke-linejoin:miter;stroke-width:1.25;\"/>\r\n   </g>\r\n   <g id=\"patch_5\">\r\n    <path d=\"M 62.259531 224.64 \r\nL 397.059531 224.64 \r\n\" style=\"fill:none;stroke:#ffffff;stroke-linecap:square;stroke-linejoin:miter;stroke-width:1.25;\"/>\r\n   </g>\r\n   <g id=\"patch_6\">\r\n    <path d=\"M 62.259531 7.2 \r\nL 397.059531 7.2 \r\n\" style=\"fill:none;stroke:#ffffff;stroke-linecap:square;stroke-linejoin:miter;stroke-width:1.25;\"/>\r\n   </g>\r\n  </g>\r\n </g>\r\n <defs>\r\n  <clipPath id=\"p1746a81920\">\r\n   <rect height=\"217.44\" width=\"334.8\" x=\"62.259531\" y=\"7.2\"/>\r\n  </clipPath>\r\n </defs>\r\n</svg>\r\n",
      "image/png": "[encoded data removed]"
     },
     "metadata": {}
    }
   ],
   "metadata": {}
  },
  {
   "cell_type": "code",
   "execution_count": 77,
   "source": [
    "    # Create a KMeans instance with k clusters: model\r\n",
    "    model = KMeans(n_clusters=6)\r\n",
    "    \r\n",
    "    # Fit model to samples\r\n",
    "    model.fit(PCA_components.iloc[:,:5])"
   ],
   "outputs": [
    {
     "output_type": "execute_result",
     "data": {
      "text/plain": [
       "KMeans(n_clusters=6)"
      ]
     },
     "metadata": {},
     "execution_count": 77
    }
   ],
   "metadata": {}
  },
  {
   "cell_type": "code",
   "execution_count": null,
   "source": [
    "from sklearn.cluster import KMeans\r\n",
    "from sklearn.metrics import silhouette_samples, silhouette_score\r\n",
    "import matplotlib.cm as cm\r\n",
    "\r\n",
    "X = PCA_components.iloc[:,:5].to_numpy()\r\n",
    "\r\n",
    "range_n_clusters = [5,6,7]# [x for x in range(9)[3:]]\r\n",
    "\r\n",
    "for n_clusters in range_n_clusters:\r\n",
    "    # Create a subplot with 1 row and 2 columns\r\n",
    "    fig, (ax1, ax2) = plt.subplots(1, 2)\r\n",
    "    fig.set_size_inches(18, 7)\r\n",
    "\r\n",
    "    # The 1st subplot is the silhouette plot\r\n",
    "    # The silhouette coefficient can range from -1, 1 but in this example all\r\n",
    "    # lie within [-0.1, 1]\r\n",
    "    ax1.set_xlim([-0.1, 1])\r\n",
    "    # The (n_clusters+1)*10 is for inserting blank space between silhouette\r\n",
    "    # plots of individual clusters, to demarcate them clearly.\r\n",
    "    ax1.set_ylim([0, len(X) + (n_clusters + 1) * 10])\r\n",
    "\r\n",
    "    # Initialize the clusterer with n_clusters value and a random generator\r\n",
    "    # seed of 10 for reproducibility.\r\n",
    "    clusterer = KMeans(n_clusters=n_clusters, random_state=10)\r\n",
    "    cluster_labels = clusterer.fit_predict(X)\r\n",
    "\r\n",
    "    # The silhouette_score gives the average value for all the samples.\r\n",
    "    # This gives a perspective into the density and separation of the formed\r\n",
    "    # clusters\r\n",
    "    silhouette_avg = silhouette_score(X, cluster_labels)\r\n",
    "    print(\"For n_clusters =\", n_clusters,\r\n",
    "          \"The average silhouette_score is :\", silhouette_avg)\r\n",
    "\r\n",
    "    # Compute the silhouette scores for each sample\r\n",
    "    sample_silhouette_values = silhouette_samples(X, cluster_labels)\r\n",
    "\r\n",
    "    y_lower = 10\r\n",
    "    for i in range(n_clusters):\r\n",
    "        # Aggregate the silhouette scores for samples belonging to\r\n",
    "        # cluster i, and sort them\r\n",
    "        ith_cluster_silhouette_values = \\\r\n",
    "            sample_silhouette_values[cluster_labels == i]\r\n",
    "\r\n",
    "        ith_cluster_silhouette_values.sort()\r\n",
    "\r\n",
    "        size_cluster_i = ith_cluster_silhouette_values.shape[0]\r\n",
    "        y_upper = y_lower + size_cluster_i\r\n",
    "\r\n",
    "        color = cm.nipy_spectral(float(i) / n_clusters)\r\n",
    "        ax1.fill_betweenx(np.arange(y_lower, y_upper),\r\n",
    "                          0, ith_cluster_silhouette_values,\r\n",
    "                          facecolor=color, edgecolor=color, alpha=0.7)\r\n",
    "\r\n",
    "        # Label the silhouette plots with their cluster numbers at the middle\r\n",
    "        ax1.text(-0.05, y_lower + 0.5 * size_cluster_i, str(i))\r\n",
    "\r\n",
    "        # Compute the new y_lower for next plot\r\n",
    "        y_lower = y_upper + 10  # 10 for the 0 samples\r\n",
    "\r\n",
    "    ax1.set_title(\"The silhouette plot for the various clusters.\")\r\n",
    "    ax1.set_xlabel(\"The silhouette coefficient values\")\r\n",
    "    ax1.set_ylabel(\"Cluster label\")\r\n",
    "\r\n",
    "    # The vertical line for average silhouette score of all the values\r\n",
    "    ax1.axvline(x=silhouette_avg, color=\"red\", linestyle=\"--\")\r\n",
    "\r\n",
    "    ax1.set_yticks([])  # Clear the yaxis labels / ticks\r\n",
    "    ax1.set_xticks([-0.1, 0, 0.2, 0.4, 0.6, 0.8, 1])\r\n",
    "\r\n",
    "    # 2nd Plot showing the actual clusters formed\r\n",
    "    colors = cm.nipy_spectral(cluster_labels.astype(float) / n_clusters)\r\n",
    "    ax2.scatter(X[:, 0], X[:, 1], marker='.', s=30, lw=0, alpha=0.7,\r\n",
    "                c=colors, edgecolor='k')\r\n",
    "\r\n",
    "    # Labeling the clusters\r\n",
    "    centers = clusterer.cluster_centers_\r\n",
    "    # Draw white circles at cluster centers\r\n",
    "    ax2.scatter(centers[:, 0], centers[:, 1], marker='o',\r\n",
    "                c=\"white\", alpha=1, s=200, edgecolor='k')\r\n",
    "\r\n",
    "    for i, c in enumerate(centers):\r\n",
    "        ax2.scatter(c[0], c[1], marker='$%d$' % i, alpha=1,\r\n",
    "                    s=50, edgecolor='k')\r\n",
    "\r\n",
    "    ax2.set_title(\"The visualization of the clustered data.\")\r\n",
    "    ax2.set_xlabel(\"Feature space for the 1st feature\")\r\n",
    "    ax2.set_ylabel(\"Feature space for the 2nd feature\")\r\n",
    "\r\n",
    "    plt.suptitle((\"Silhouette analysis for KMeans clustering on sample data \"\r\n",
    "                  \"with n_clusters = %d\" % n_clusters),\r\n",
    "                 fontsize=14, fontweight='bold')\r\n",
    "\r\n",
    "plt.show()"
   ],
   "outputs": [],
   "metadata": {}
  },
  {
   "cell_type": "code",
   "execution_count": null,
   "source": [],
   "outputs": [],
   "metadata": {}
  },
  {
   "cell_type": "code",
   "execution_count": null,
   "source": [],
   "outputs": [],
   "metadata": {}
  },
  {
   "cell_type": "code",
   "execution_count": null,
   "source": [
    "# from sklearn.datasets import load_iris\r\n",
    "import typing\r\n",
    "from sklearn.preprocessing import StandardScaler #, RobustScaler\r\n",
    "\r\n",
    "class SklearnWrapper:\r\n",
    "    def __init__(self, transformation: typing.Callable):\r\n",
    "        self.transformation = transformation\r\n",
    "        self._group_transforms = []\r\n",
    "        # Start with -1 and for each group up the pointer by one\r\n",
    "        self._pointer = -1\r\n",
    "\r\n",
    "    def _call_with_function(self, df: pd.DataFrame, function: str):\r\n",
    "        # If pointer >= len we are making a new apply, reset _pointer\r\n",
    "        if self._pointer >= len(self._group_transforms):\r\n",
    "            self._pointer = -1\r\n",
    "        self._pointer += 1\r\n",
    "        return pd.DataFrame(\r\n",
    "            getattr(self._group_transforms[self._pointer], function)(df.values),\r\n",
    "            columns=df.columns,\r\n",
    "            index=df.index,\r\n",
    "        )\r\n",
    "\r\n",
    "    def fit(self, df):\r\n",
    "        self._group_transforms.append(self.transformation.fit(df.values))\r\n",
    "        return self\r\n",
    "\r\n",
    "    def transform(self, df):\r\n",
    "        return self._call_with_function(df, \"transform\")\r\n",
    "\r\n",
    "    def fit_transform(self, df):\r\n",
    "        self.fit(df)\r\n",
    "        return self.transform(df)\r\n",
    "\r\n",
    "    def inverse_transform(self, df):\r\n",
    "        return self._call_with_function(df, \"inverse_transform\")\r\n",
    "\r\n",
    "# data = load_iris()\r\n",
    "# df = pd.DataFrame(data[\"data\"], columns=data[\"feature_names\"])\r\n",
    "# df[\"class\"] = data[\"target\"]\r\n",
    "\r\n",
    "# Create scaler outside the class\r\n",
    "scaler = SklearnWrapper(StandardScaler())\r\n",
    "\r\n",
    "# Fit and transform data (holding state)\r\n",
    "df_rescaled = df.groupby(\"date_month\").apply(scaler.fit_transform)\r\n",
    "\r\n",
    "# # Inverse the operation\r\n",
    "# df_inverted = df_rescaled.groupby(\"class\").apply(scaler.inverse_transform)\r\n",
    "\r\n",
    "# # Apply transformation once again\r\n",
    "# df_transformed = (\r\n",
    "#     df_inverted.groupby(\"class\")\r\n",
    "#     .apply(scaler.transform)\r\n",
    "#     .drop(\"class\", axis=\"columns\")\r\n",
    "# )"
   ],
   "outputs": [],
   "metadata": {}
  },
  {
   "cell_type": "code",
   "execution_count": null,
   "source": [
    "df_rescaled.head(3)"
   ],
   "outputs": [
    {
     "output_type": "execute_result",
     "data": {
      "text/plain": [
       "       avg_count_trace_address_to  avg_count_trace_contract_to  \\\n",
       "62000                   -0.196060                    -0.210826   \n",
       "62001                    4.472717                     5.077697   \n",
       "62002                    0.170257                     0.317750   \n",
       "\n",
       "       avg_count_address_to  avg_count_contract_to  avg_sum_value_address_to  \\\n",
       "62000             -0.207719              -0.230996                 -0.242893   \n",
       "62001              3.048896               3.629732                 15.750198   \n",
       "62002              0.498923               0.838093                  0.757130   \n",
       "\n",
       "       avg_sum_value_contract_to  avg_count_token_address_to  nr_days_to  \\\n",
       "62000                  -0.237768                   -0.147400   -0.780358   \n",
       "62001                   2.373635                    7.467687    1.755733   \n",
       "62002                   0.040743                   -0.147400    1.755733   \n",
       "\n",
       "       avg_count_trace_address_from  avg_count_trace_contract_from  \\\n",
       "62000                     -0.122052                      -0.108284   \n",
       "62001                     15.017201                      -0.107168   \n",
       "62002                      0.168516                      -0.108284   \n",
       "\n",
       "       avg_count_address_from  avg_count_contract_from  \\\n",
       "62000               -0.162748                -0.104361   \n",
       "62001                8.305513                -0.102541   \n",
       "62002                0.806766                -0.104361   \n",
       "\n",
       "       avg_sum_value_address_from  avg_sum_value_contract_from  \\\n",
       "62000                   -0.126177                    -0.156908   \n",
       "62001                   17.059648                    -0.156906   \n",
       "62002                    0.457064                    -0.156908   \n",
       "\n",
       "       avg_count_token_address_from  nr_days_from  avg_balance  \n",
       "62000                     -0.142320     -0.655728    14.548843  \n",
       "62001                     13.909215      2.067645     4.530837  \n",
       "62002                     -0.142320      2.067645     3.726692  "
      ],
      "text/html": [
       "<div>\n",
       "<style scoped>\n",
       "    .dataframe tbody tr th:only-of-type {\n",
       "        vertical-align: middle;\n",
       "    }\n",
       "\n",
       "    .dataframe tbody tr th {\n",
       "        vertical-align: top;\n",
       "    }\n",
       "\n",
       "    .dataframe thead th {\n",
       "        text-align: right;\n",
       "    }\n",
       "</style>\n",
       "<table border=\"1\" class=\"dataframe\">\n",
       "  <thead>\n",
       "    <tr style=\"text-align: right;\">\n",
       "      <th></th>\n",
       "      <th>avg_count_trace_address_to</th>\n",
       "      <th>avg_count_trace_contract_to</th>\n",
       "      <th>avg_count_address_to</th>\n",
       "      <th>avg_count_contract_to</th>\n",
       "      <th>avg_sum_value_address_to</th>\n",
       "      <th>avg_sum_value_contract_to</th>\n",
       "      <th>avg_count_token_address_to</th>\n",
       "      <th>nr_days_to</th>\n",
       "      <th>avg_count_trace_address_from</th>\n",
       "      <th>avg_count_trace_contract_from</th>\n",
       "      <th>avg_count_address_from</th>\n",
       "      <th>avg_count_contract_from</th>\n",
       "      <th>avg_sum_value_address_from</th>\n",
       "      <th>avg_sum_value_contract_from</th>\n",
       "      <th>avg_count_token_address_from</th>\n",
       "      <th>nr_days_from</th>\n",
       "      <th>avg_balance</th>\n",
       "    </tr>\n",
       "  </thead>\n",
       "  <tbody>\n",
       "    <tr>\n",
       "      <th>62000</th>\n",
       "      <td>-0.196060</td>\n",
       "      <td>-0.210826</td>\n",
       "      <td>-0.207719</td>\n",
       "      <td>-0.230996</td>\n",
       "      <td>-0.242893</td>\n",
       "      <td>-0.237768</td>\n",
       "      <td>-0.147400</td>\n",
       "      <td>-0.780358</td>\n",
       "      <td>-0.122052</td>\n",
       "      <td>-0.108284</td>\n",
       "      <td>-0.162748</td>\n",
       "      <td>-0.104361</td>\n",
       "      <td>-0.126177</td>\n",
       "      <td>-0.156908</td>\n",
       "      <td>-0.142320</td>\n",
       "      <td>-0.655728</td>\n",
       "      <td>14.548843</td>\n",
       "    </tr>\n",
       "    <tr>\n",
       "      <th>62001</th>\n",
       "      <td>4.472717</td>\n",
       "      <td>5.077697</td>\n",
       "      <td>3.048896</td>\n",
       "      <td>3.629732</td>\n",
       "      <td>15.750198</td>\n",
       "      <td>2.373635</td>\n",
       "      <td>7.467687</td>\n",
       "      <td>1.755733</td>\n",
       "      <td>15.017201</td>\n",
       "      <td>-0.107168</td>\n",
       "      <td>8.305513</td>\n",
       "      <td>-0.102541</td>\n",
       "      <td>17.059648</td>\n",
       "      <td>-0.156906</td>\n",
       "      <td>13.909215</td>\n",
       "      <td>2.067645</td>\n",
       "      <td>4.530837</td>\n",
       "    </tr>\n",
       "    <tr>\n",
       "      <th>62002</th>\n",
       "      <td>0.170257</td>\n",
       "      <td>0.317750</td>\n",
       "      <td>0.498923</td>\n",
       "      <td>0.838093</td>\n",
       "      <td>0.757130</td>\n",
       "      <td>0.040743</td>\n",
       "      <td>-0.147400</td>\n",
       "      <td>1.755733</td>\n",
       "      <td>0.168516</td>\n",
       "      <td>-0.108284</td>\n",
       "      <td>0.806766</td>\n",
       "      <td>-0.104361</td>\n",
       "      <td>0.457064</td>\n",
       "      <td>-0.156908</td>\n",
       "      <td>-0.142320</td>\n",
       "      <td>2.067645</td>\n",
       "      <td>3.726692</td>\n",
       "    </tr>\n",
       "  </tbody>\n",
       "</table>\n",
       "</div>"
      ]
     },
     "metadata": {},
     "execution_count": 80
    }
   ],
   "metadata": {}
  },
  {
   "cell_type": "code",
   "execution_count": null,
   "source": [
    "plt.plot(df_rescaled.avg_count_token_address_to.sort_values().reset_index(drop=True), color = pal[0], marker = '.') #[250:]\r\n",
    "# plt.yscale('log')"
   ],
   "outputs": [
    {
     "output_type": "execute_result",
     "data": {
      "text/plain": [
       "[<matplotlib.lines.Line2D at 0x1b2cec24508>]"
      ]
     },
     "metadata": {},
     "execution_count": 81
    },
    {
     "output_type": "display_data",
     "data": {
      "text/plain": [
       "<Figure size 432x288 with 1 Axes>"
      ],
      "image/png": "[encoded data removed]"
     },
     "metadata": {}
    }
   ],
   "metadata": {}
  },
  {
   "cell_type": "code",
   "execution_count": null,
   "source": [
    "# from sklearn.datasets import make_blobs\r\n",
    "from sklearn.cluster import KMeans\r\n",
    "from sklearn.metrics import silhouette_samples, silhouette_score\r\n",
    "import matplotlib.cm as cm\r\n",
    "\r\n",
    "X = df_rescaled.to_numpy()\r\n",
    "\r\n",
    "range_n_clusters = [x for x in range(9)[3:]]\r\n",
    "\r\n",
    "for n_clusters in range_n_clusters:\r\n",
    "    # Create a subplot with 1 row and 2 columns\r\n",
    "    fig, (ax1, ax2) = plt.subplots(1, 2)\r\n",
    "    fig.set_size_inches(18, 7)\r\n",
    "\r\n",
    "    # The 1st subplot is the silhouette plot\r\n",
    "    # The silhouette coefficient can range from -1, 1 but in this example all\r\n",
    "    # lie within [-0.1, 1]\r\n",
    "    ax1.set_xlim([-0.1, 1])\r\n",
    "    # The (n_clusters+1)*10 is for inserting blank space between silhouette\r\n",
    "    # plots of individual clusters, to demarcate them clearly.\r\n",
    "    ax1.set_ylim([0, len(X) + (n_clusters + 1) * 10])\r\n",
    "\r\n",
    "    # Initialize the clusterer with n_clusters value and a random generator\r\n",
    "    # seed of 10 for reproducibility.\r\n",
    "    clusterer = KMeans(n_clusters=n_clusters, random_state=10)\r\n",
    "    cluster_labels = clusterer.fit_predict(X)\r\n",
    "\r\n",
    "    # The silhouette_score gives the average value for all the samples.\r\n",
    "    # This gives a perspective into the density and separation of the formed\r\n",
    "    # clusters\r\n",
    "    silhouette_avg = silhouette_score(X, cluster_labels)\r\n",
    "    print(\"For n_clusters =\", n_clusters,\r\n",
    "          \"The average silhouette_score is :\", silhouette_avg)\r\n",
    "\r\n",
    "    # Compute the silhouette scores for each sample\r\n",
    "    sample_silhouette_values = silhouette_samples(X, cluster_labels)\r\n",
    "\r\n",
    "    y_lower = 10\r\n",
    "    for i in range(n_clusters):\r\n",
    "        # Aggregate the silhouette scores for samples belonging to\r\n",
    "        # cluster i, and sort them\r\n",
    "        ith_cluster_silhouette_values = \\\r\n",
    "            sample_silhouette_values[cluster_labels == i]\r\n",
    "\r\n",
    "        ith_cluster_silhouette_values.sort()\r\n",
    "\r\n",
    "        size_cluster_i = ith_cluster_silhouette_values.shape[0]\r\n",
    "        y_upper = y_lower + size_cluster_i\r\n",
    "\r\n",
    "        color = cm.nipy_spectral(float(i) / n_clusters)\r\n",
    "        ax1.fill_betweenx(np.arange(y_lower, y_upper),\r\n",
    "                          0, ith_cluster_silhouette_values,\r\n",
    "                          facecolor=color, edgecolor=color, alpha=0.7)\r\n",
    "\r\n",
    "        # Label the silhouette plots with their cluster numbers at the middle\r\n",
    "        ax1.text(-0.05, y_lower + 0.5 * size_cluster_i, str(i))\r\n",
    "\r\n",
    "        # Compute the new y_lower for next plot\r\n",
    "        y_lower = y_upper + 10  # 10 for the 0 samples\r\n",
    "\r\n",
    "    ax1.set_title(\"The silhouette plot for the various clusters.\")\r\n",
    "    ax1.set_xlabel(\"The silhouette coefficient values\")\r\n",
    "    ax1.set_ylabel(\"Cluster label\")\r\n",
    "\r\n",
    "    # The vertical line for average silhouette score of all the values\r\n",
    "    ax1.axvline(x=silhouette_avg, color=\"red\", linestyle=\"--\")\r\n",
    "\r\n",
    "    ax1.set_yticks([])  # Clear the yaxis labels / ticks\r\n",
    "    ax1.set_xticks([-0.1, 0, 0.2, 0.4, 0.6, 0.8, 1])\r\n",
    "\r\n",
    "    # 2nd Plot showing the actual clusters formed\r\n",
    "    colors = cm.nipy_spectral(cluster_labels.astype(float) / n_clusters)\r\n",
    "    ax2.scatter(X[:, 0], X[:, 1], marker='.', s=30, lw=0, alpha=0.7,\r\n",
    "                c=colors, edgecolor='k')\r\n",
    "\r\n",
    "    # Labeling the clusters\r\n",
    "    centers = clusterer.cluster_centers_\r\n",
    "    # Draw white circles at cluster centers\r\n",
    "    ax2.scatter(centers[:, 0], centers[:, 1], marker='o',\r\n",
    "                c=\"white\", alpha=1, s=200, edgecolor='k')\r\n",
    "\r\n",
    "    for i, c in enumerate(centers):\r\n",
    "        ax2.scatter(c[0], c[1], marker='$%d$' % i, alpha=1,\r\n",
    "                    s=50, edgecolor='k')\r\n",
    "\r\n",
    "    ax2.set_title(\"The visualization of the clustered data.\")\r\n",
    "    ax2.set_xlabel(\"Feature space for the 1st feature\")\r\n",
    "    ax2.set_ylabel(\"Feature space for the 2nd feature\")\r\n",
    "\r\n",
    "    plt.suptitle((\"Silhouette analysis for KMeans clustering on sample data \"\r\n",
    "                  \"with n_clusters = %d\" % n_clusters),\r\n",
    "                 fontsize=14, fontweight='bold')\r\n",
    "\r\n",
    "plt.show()"
   ],
   "outputs": [],
   "metadata": {}
  },
  {
   "cell_type": "code",
   "execution_count": null,
   "source": [],
   "outputs": [],
   "metadata": {}
  },
  {
   "cell_type": "code",
   "execution_count": null,
   "source": [],
   "outputs": [],
   "metadata": {}
  },
  {
   "cell_type": "code",
   "execution_count": null,
   "source": [],
   "outputs": [],
   "metadata": {}
  },
  {
   "cell_type": "code",
   "execution_count": null,
   "source": [],
   "outputs": [],
   "metadata": {}
  },
  {
   "cell_type": "code",
   "execution_count": null,
   "source": [
    "# X = address_clustering.loc[address_clustering.date_month == datetime.date(2021,6,1), address_clustering.columns.isin(['avg_sum_value_address_to', 'avg_balance'])].to_numpy() #'avg_count_trace_contract_to', \r\n",
    "# X = StandardScaler().fit_transform(X)\r\n",
    "import datetime\r\n",
    "\r\n",
    "X = address_clustering.loc[address_clustering.date_month == datetime.date(2021,6,1), ~address_clustering.columns.isin(['date_month', 'address', 'nr_days_to', 'nr_days_from', 'rank'])].to_numpy()\r\n",
    "X = StandardScaler().fit_transform(X)"
   ],
   "outputs": [],
   "metadata": {}
  },
  {
   "cell_type": "code",
   "execution_count": 4,
   "source": [
    "# from sklearn.cluster import DBSCAN\r\n",
    "# from sklearn import metrics\r\n",
    "\r\n",
    "# # X = df_rescaled.to_numpy() #address_clustering.loc[address_clustering.date_month == datetime.date(2021,6,1), ~address_clustering.columns.isin(['address', 'nr_days_to', 'nr_days_from', 'date_month'])].to_numpy()\r\n",
    "\r\n",
    "# db = DBSCAN().fit(X) #eps=0.3, min_samples=10\r\n",
    "# core_samples_mask = np.zeros_like(db.labels_, dtype=bool)\r\n",
    "# core_samples_mask[db.core_sample_indices_] = True\r\n",
    "# labels = db.labels_\r\n",
    "\r\n",
    "# # Number of clusters in labels, ignoring noise if present.\r\n",
    "# n_clusters_ = len(set(labels)) - (1 if -1 in labels else 0)\r\n",
    "# n_noise_ = list(labels).count(-1)\r\n",
    "\r\n",
    "# print('Estimated number of clusters: %d' % n_clusters_)\r\n",
    "# print('Estimated number of noise points: %d' % n_noise_)\r\n",
    "# # print(\"Homogeneity: %0.3f\" % metrics.homogeneity_score(labels_true, labels))\r\n",
    "# # print(\"Completeness: %0.3f\" % metrics.completeness_score(labels_true, labels))\r\n",
    "# # print(\"V-measure: %0.3f\" % metrics.v_measure_score(labels_true, labels))\r\n",
    "# # print(\"Adjusted Rand Index: %0.3f\"\r\n",
    "# #       % metrics.adjusted_rand_score(labels_true, labels))\r\n",
    "# # print(\"Adjusted Mutual Information: %0.3f\"\r\n",
    "# #       % metrics.adjusted_mutual_info_score(labels_true, labels))\r\n",
    "# print(\"Silhouette Coefficient: %0.3f\"\r\n",
    "#       % metrics.silhouette_score(X, labels))\r\n",
    "\r\n",
    "# # #############################################################################\r\n",
    "# # Plot result\r\n",
    "# import matplotlib.pyplot as plt\r\n",
    "\r\n",
    "# # Black removed and is used for noise instead.\r\n",
    "# unique_labels = set(labels)\r\n",
    "# colors = [plt.cm.Spectral(each)\r\n",
    "#           for each in np.linspace(0, 1, len(unique_labels))]\r\n",
    "# for k, col in zip(unique_labels, colors):\r\n",
    "#     if k == -1:\r\n",
    "#         # Black used for noise.\r\n",
    "#         col = [0, 0, 0, 1]\r\n",
    "\r\n",
    "#     class_member_mask = (labels == k)\r\n",
    "\r\n",
    "#     xy = X[class_member_mask & core_samples_mask]\r\n",
    "#     plt.plot(xy[:, 0], xy[:, 1], 'o', markerfacecolor=tuple(col),\r\n",
    "#              markeredgecolor='k', markersize=14)\r\n",
    "\r\n",
    "#     xy = X[class_member_mask & ~core_samples_mask]\r\n",
    "#     plt.plot(xy[:, 0], xy[:, 1], 'o', markerfacecolor=tuple(col),\r\n",
    "#              markeredgecolor='k', markersize=6)\r\n",
    "\r\n",
    "# plt.title('Estimated number of clusters: %d' % n_clusters_)\r\n",
    "# plt.show()"
   ],
   "outputs": [],
   "metadata": {}
  },
  {
   "cell_type": "code",
   "execution_count": null,
   "source": [
    "from collections import Counter\r\n",
    "Counter(labels)"
   ],
   "outputs": [
    {
     "output_type": "execute_result",
     "data": {
      "text/plain": [
       "Counter({0: 1048, -1: 29})"
      ]
     },
     "metadata": {},
     "execution_count": 60
    }
   ],
   "metadata": {}
  },
  {
   "cell_type": "markdown",
   "source": [
    "## Return/price Prediction"
   ],
   "metadata": {}
  },
  {
   "cell_type": "code",
   "execution_count": null,
   "source": [],
   "outputs": [],
   "metadata": {}
  },
  {
   "cell_type": "code",
   "execution_count": null,
   "source": [],
   "outputs": [],
   "metadata": {}
  },
  {
   "cell_type": "code",
   "execution_count": null,
   "source": [],
   "outputs": [],
   "metadata": {}
  },
  {
   "cell_type": "code",
   "execution_count": null,
   "source": [],
   "outputs": [],
   "metadata": {}
  },
  {
   "cell_type": "code",
   "execution_count": null,
   "source": [],
   "outputs": [],
   "metadata": {}
  },
  {
   "cell_type": "code",
   "execution_count": null,
   "source": [],
   "outputs": [],
   "metadata": {}
  },
  {
   "cell_type": "code",
   "execution_count": null,
   "source": [],
   "outputs": [],
   "metadata": {}
  },
  {
   "cell_type": "markdown",
   "source": [
    "## Miners"
   ],
   "metadata": {}
  },
  {
   "cell_type": "code",
   "execution_count": null,
   "source": [
    "%%bigquery test2 --project fiery-rarity-322109\r\n",
    "\r\n",
    "select FORMAT_DATE('%m%Y', DATE(block_timestamp)) month\r\n",
    ", count(distinct case when to_month_mined_blocks >= 20 then to_address else null end) count_miners\r\n",
    "from `fiery-rarity-322109.ethereum.traces_new`\r\n",
    "group by month\r\n",
    "order by month"
   ],
   "outputs": [
    {
     "output_type": "stream",
     "name": "stderr",
     "text": [
      "Query complete after 0.03s: 100%|██████████| 1/1 [00:00<00:00, 1001.51query/s]\n",
      "Downloading: 100%|██████████| 73/73 [00:02<00:00, 27.00rows/s]\n"
     ]
    }
   ],
   "metadata": {}
  },
  {
   "cell_type": "code",
   "execution_count": null,
   "source": [
    "plt.plot(test2.count_miners, 'b.')\r\n",
    "# plt.ylim(ymax = 100, ymin = 0)"
   ],
   "outputs": [
    {
     "output_type": "execute_result",
     "data": {
      "text/plain": [
       "[<matplotlib.lines.Line2D at 0x1be8bc1a8c8>]"
      ]
     },
     "metadata": {},
     "execution_count": 5
    },
    {
     "output_type": "display_data",
     "data": {
      "text/plain": [
       "<Figure size 432x288 with 1 Axes>"
      ],
      "image/png": "[encoded data removed]"
     },
     "metadata": {}
    }
   ],
   "metadata": {}
  },
  {
   "cell_type": "markdown",
   "source": [
    "## Exchanges"
   ],
   "metadata": {}
  },
  {
   "cell_type": "code",
   "execution_count": null,
   "source": [
    "%%bigquery test3 --project fiery-rarity-322109\r\n",
    "\r\n",
    "select date_month, count(*) count_address\r\n",
    "from `fiery-rarity-322109.ethereum.address_classification`\r\n",
    "group by date_month\r\n",
    "# order by date_month"
   ],
   "outputs": [
    {
     "output_type": "stream",
     "name": "stderr",
     "text": [
      "Query complete after 0.00s: 100%|██████████| 2/2 [00:00<00:00, 1002.34query/s]\n",
      "Downloading: 100%|██████████| 72/72 [00:02<00:00, 28.33rows/s]\n"
     ]
    }
   ],
   "metadata": {}
  },
  {
   "cell_type": "code",
   "execution_count": null,
   "source": [
    "from datetime import datetime\r\n",
    "\r\n",
    "test3['date'] = [datetime.strptime(x, '%m%Y') for x in test3.date_month]\r\n",
    "plt.plot(test3.date, test3.count_address, 'b.')\r\n",
    "plt.ylim(ymin = 0)"
   ],
   "outputs": [
    {
     "output_type": "execute_result",
     "data": {
      "text/plain": [
       "(0.0, 7102311.5)"
      ]
     },
     "metadata": {},
     "execution_count": 65
    },
    {
     "output_type": "display_data",
     "data": {
      "text/plain": [
       "<Figure size 432x288 with 1 Axes>"
      ],
      "image/png": "[encoded data removed]"
     },
     "metadata": {}
    }
   ],
   "metadata": {}
  }
 ],
 "metadata": {
  "orig_nbformat": 4,
  "language_info": {
   "name": "python",
   "version": "3.7.10",
   "mimetype": "text/x-python",
   "codemirror_mode": {
    "name": "ipython",
    "version": 3
   },
   "pygments_lexer": "ipython3",
   "nbconvert_exporter": "python",
   "file_extension": ".py"
  },
  "kernelspec": {
   "name": "python3",
   "display_name": "Python 3.7.10 64-bit ('pytorch_venv': conda)"
  },
  "interpreter": {
   "hash": "a9ccbcb15b8082a8e867ed11db41a55120f0817222dc3e0719b0cd7d1d1c0a16"
  }
 },
 "nbformat": 4,
 "nbformat_minor": 2
}