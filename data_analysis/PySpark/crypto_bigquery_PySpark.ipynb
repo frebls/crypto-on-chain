{
 "cells": [
  {
   "cell_type": "markdown",
   "source": [
    "## 2. Network analysis [RUN ONLY FOR 01-01-2020]"
   ],
   "metadata": {}
  },
  {
   "cell_type": "code",
   "execution_count": 1,
   "source": [
    "import pyspark\r\n",
    "from pyspark.sql import SparkSession\r\n",
    "from pyspark.sql import functions as F"
   ],
   "outputs": [],
   "metadata": {}
  },
  {
   "cell_type": "code",
   "execution_count": 2,
   "source": [
    "#pyspark --packages graphframes:graphframes:0.8.1-spark2.4-s_2.12\r\n",
    "conf = pyspark.SparkConf().setAll([('spark.jars', 'gs://spark-lib/bigquery/spark-bigquery-latest_2.12.jar'),\r\n",
    "                                   ('spark.jars.packages', 'graphframes:graphframes:0.8.1-spark2.4-s_2.12')])\r\n",
    "\r\n",
    "spark = SparkSession.builder \\\r\n",
    "    .master('yarn') \\\r\n",
    "    .appName('spark-bigquery-crypto') \\\r\n",
    "    .config(conf = conf) \\\r\n",
    "    .getOrCreate()\r\n",
    "\r\n",
    "spark"
   ],
   "outputs": [
    {
     "output_type": "execute_result",
     "data": {
      "text/plain": [
       "<pyspark.sql.session.SparkSession at 0x7f1cdacfee10>"
      ],
      "text/html": [
       "\n",
       "            <div>\n",
       "                <p><b>SparkSession - in-memory</b></p>\n",
       "                \n",
       "        <div>\n",
       "            <p><b>SparkContext</b></p>\n",
       "\n",
       "            <p><a href=\"http://cluster-50d7-m.us-central1-c.c.charged-sector-315517.internal:38803\">Spark UI</a></p>\n",
       "\n",
       "            <dl>\n",
       "              <dt>Version</dt>\n",
       "                <dd><code>v2.4.8</code></dd>\n",
       "              <dt>Master</dt>\n",
       "                <dd><code>yarn</code></dd>\n",
       "              <dt>AppName</dt>\n",
       "                <dd><code>spark-bigquery-crypto</code></dd>\n",
       "            </dl>\n",
       "        </div>\n",
       "        \n",
       "            </div>\n",
       "        "
      ]
     },
     "metadata": {},
     "execution_count": 2
    }
   ],
   "metadata": {}
  },
  {
   "cell_type": "code",
   "execution_count": 3,
   "source": [
    "bucket = \"dataproc-staging-us-central1-397709471406-lrrymuq9\"\r\n",
    "spark.conf.set('temporaryGcsBucket', bucket)"
   ],
   "outputs": [],
   "metadata": {}
  },
  {
   "cell_type": "code",
   "execution_count": 4,
   "source": [
    "from graphframes import *"
   ],
   "outputs": [],
   "metadata": {}
  },
  {
   "cell_type": "code",
   "execution_count": 18,
   "source": [
    "# Load data from BigQuery.\r\n",
    "table = 'charged-sector-315517:ethereum_onchain.transactions'\r\n",
    "\r\n",
    "# .option(\"filter\", \"DATE(block_timestamp) between '2020-01-01' and '2020-01-31'\") \\\r\n",
    "eth_transactions = spark.read.format('bigquery') \\\r\n",
    "                          .option('table', table) \\\r\n",
    "                          .option(\"filter\", \"DATE(block_timestamp) = '2020-01-01'\") \\\r\n",
    "                          .load()\r\n",
    "\r\n",
    "eth_transactions.createOrReplaceTempView('eth_transactions')"
   ],
   "outputs": [],
   "metadata": {}
  },
  {
   "cell_type": "code",
   "execution_count": 19,
   "source": [
    "edges = spark.sql('''\r\n",
    "                    SELECT from_address as src, to_address as dst, value, block_timestamp, `hash` hash_trnsct\r\n",
    "                    FROM eth_transactions\r\n",
    "                    where from_address is not null and to_address is not null\r\n",
    "                    --and DATE(block_timestamp) = '2020-01-01'\r\n",
    "                    ''')"
   ],
   "outputs": [],
   "metadata": {}
  },
  {
   "cell_type": "code",
   "execution_count": 20,
   "source": [
    "nodes = edges \\\r\n",
    "         .select(\"src\") \\\r\n",
    "         .union(edges.select(\"dst\")) \\\r\n",
    "         .distinct() \\\r\n",
    "         .withColumnRenamed('src', 'id')"
   ],
   "outputs": [],
   "metadata": {}
  },
  {
   "cell_type": "code",
   "execution_count": 21,
   "source": [
    "nodes.show(2)"
   ],
   "outputs": [
    {
     "output_type": "stream",
     "name": "stdout",
     "text": [
      "+--------------------+\n",
      "|                  id|\n",
      "+--------------------+\n",
      "|0x0d86a7a059f316f...|\n",
      "|0x7238223d1baa660...|\n",
      "+--------------------+\n",
      "only showing top 2 rows\n",
      "\n"
     ]
    }
   ],
   "metadata": {}
  },
  {
   "cell_type": "code",
   "execution_count": 22,
   "source": [
    "edges.show(2)"
   ],
   "outputs": [
    {
     "output_type": "stream",
     "name": "stdout",
     "text": [
      "+--------------------+--------------------+-----+-------------------+--------------------+\n",
      "|                 src|                 dst|value|    block_timestamp|         hash_trnsct|\n",
      "+--------------------+--------------------+-----+-------------------+--------------------+\n",
      "|0x00472c1e4275230...|0xcd111aa492a9c77...| 0E-9|2020-01-01 02:08:52|0x5f10a5daa31cb78...|\n",
      "|0x00472c1e4275230...|0xcd111aa492a9c77...| 0E-9|2020-01-01 06:21:38|0x90e16e94bb357cf...|\n",
      "+--------------------+--------------------+-----+-------------------+--------------------+\n",
      "only showing top 2 rows\n",
      "\n"
     ]
    }
   ],
   "metadata": {}
  },
  {
   "cell_type": "code",
   "execution_count": 23,
   "source": [
    "g = GraphFrame(nodes, edges)"
   ],
   "outputs": [],
   "metadata": {}
  },
  {
   "cell_type": "markdown",
   "source": [
    "### Degrees distributions"
   ],
   "metadata": {}
  },
  {
   "cell_type": "code",
   "execution_count": 35,
   "source": [
    "%%time\r\n",
    "gDegrees = g.inDegrees.join(g.outDegrees, 'id', 'outer').na.fill(0)\r\n",
    "gDegrees.sort(F.desc(\"inDegree\")).show(5, False)\r\n",
    "gDegrees.sort(F.desc(\"outDegree\")).show(5, False)"
   ],
   "outputs": [
    {
     "output_type": "stream",
     "name": "stdout",
     "text": [
      "+------------------------------------------+--------+---------+\n",
      "|id                                        |inDegree|outDegree|\n",
      "+------------------------------------------+--------+---------+\n",
      "|0xdac17f958d2ee523a2206206994597c13d831ec7|48981   |0        |\n",
      "|0x68e54af74b22acaccffa04ccaad13be16ed14eac|8517    |0        |\n",
      "|0xcadb96858fe496bb6309622f9023ba2defb5d540|8340    |0        |\n",
      "|0x8fdcc30eda7e94f1c12ce0280df6cd531e8365c5|6859    |0        |\n",
      "|0x06012c8cf97bead5deae237070f9587f8e7a266d|5291    |0        |\n",
      "+------------------------------------------+--------+---------+\n",
      "only showing top 5 rows\n",
      "\n",
      "+------------------------------------------+--------+---------+\n",
      "|id                                        |inDegree|outDegree|\n",
      "+------------------------------------------+--------+---------+\n",
      "|0xea674fdde714fd979de3edf0f56aa9716b898ec8|0       |12060    |\n",
      "|0x52bc44d5378309ee2abf1539bf71de1b7d7be3b5|0       |4814     |\n",
      "|0x84295d5e054d8cff5a22428b195f5a1615bd644f|0       |4357     |\n",
      "|0x8babf0ba311aab914c00e8fda7e8558a8b66de5d|7       |4149     |\n",
      "|0x9a75eabb817b9cbff16d84c18dbb2dadb18309c6|0       |4117     |\n",
      "+------------------------------------------+--------+---------+\n",
      "only showing top 5 rows\n",
      "\n",
      "CPU times: user 6.79 ms, sys: 3.97 ms, total: 10.8 ms\n",
      "Wall time: 9.03 s\n"
     ]
    }
   ],
   "metadata": {}
  },
  {
   "cell_type": "code",
   "execution_count": 36,
   "source": [
    "%%time\r\n",
    "gDegrees.drop(\"id\").describe().show()"
   ],
   "outputs": [
    {
     "output_type": "stream",
     "name": "stdout",
     "text": [
      "+-------+------------------+------------------+\n",
      "|summary|          inDegree|         outDegree|\n",
      "+-------+------------------+------------------+\n",
      "|  count|            159279|            159279|\n",
      "|   mean|2.9224756559245098|2.9224756559245098|\n",
      "| stddev|136.58425654668912|52.896254157525966|\n",
      "|    min|                 0|                 0|\n",
      "|    max|             48981|             12060|\n",
      "+-------+------------------+------------------+\n",
      "\n",
      "CPU times: user 3.43 ms, sys: 713 µs, total: 4.14 ms\n",
      "Wall time: 4.59 s\n"
     ]
    }
   ],
   "metadata": {}
  },
  {
   "cell_type": "code",
   "execution_count": 40,
   "source": [
    "%%time\r\n",
    "log_count_list = [x['count'] for x in g.inDegrees.drop(\"id\").groupBy(\"inDegree\").count().select('count').collect()]\r\n",
    "log_inDegree_list = [x['inDegree'] for x in g.inDegrees.drop(\"id\").groupBy(\"inDegree\").count().select('inDegree').collect()]\r\n",
    "\r\n",
    "fig, ax = plt.subplots()\r\n",
    "plt.plot(log_inDegree_list, log_count_list, 'b.')\r\n",
    "plt.ylabel('Frequency')\r\n",
    "plt.xlabel('inDegree')\r\n",
    "ax.set_yscale('log')\r\n",
    "ax.set_xscale('log')\r\n",
    "plt.show()"
   ],
   "outputs": [
    {
     "output_type": "display_data",
     "data": {
      "text/plain": [
       "<Figure size 432x288 with 1 Axes>"
      ],
      "image/png": "[encoded data removed]"
     },
     "metadata": {
      "needs_background": "light"
     }
    },
    {
     "output_type": "stream",
     "name": "stdout",
     "text": [
      "CPU times: user 1.14 s, sys: 23.9 ms, total: 1.17 s\n",
      "Wall time: 6.66 s\n"
     ]
    }
   ],
   "metadata": {}
  },
  {
   "cell_type": "code",
   "execution_count": 41,
   "source": [
    "%%time\r\n",
    "log_count_list = [x['count'] for x in g.outDegrees.drop(\"id\").groupBy(\"outDegree\").count().select('count').collect()]\r\n",
    "log_outDegree_list = [x['outDegree'] for x in g.outDegrees.drop(\"id\").groupBy(\"outDegree\").count().select('outDegree').collect()]\r\n",
    "\r\n",
    "\r\n",
    "fig, ax = plt.subplots()\r\n",
    "plt.plot(log_outDegree_list, log_count_list, 'b.')\r\n",
    "plt.ylabel('Frequency')\r\n",
    "plt.xlabel('OutDegree')\r\n",
    "ax.set_yscale('log')\r\n",
    "ax.set_xscale('log')\r\n",
    "plt.show()"
   ],
   "outputs": [
    {
     "output_type": "display_data",
     "data": {
      "text/plain": [
       "<Figure size 432x288 with 1 Axes>"
      ],
      "image/png": "[encoded data removed]"
     },
     "metadata": {
      "needs_background": "light"
     }
    },
    {
     "output_type": "stream",
     "name": "stdout",
     "text": [
      "CPU times: user 926 ms, sys: 0 ns, total: 926 ms\n",
      "Wall time: 6.28 s\n"
     ]
    }
   ],
   "metadata": {}
  },
  {
   "cell_type": "markdown",
   "source": [
    "### PageRank"
   ],
   "metadata": {}
  },
  {
   "cell_type": "code",
   "execution_count": 34,
   "source": [
    "%%time\r\n",
    "# Run PageRank algorithm and show top 10 results.\r\n",
    "results = g.pageRank(resetProbability=0.1, maxIter=10)\r\n",
    "results.vertices.select(\"id\", \"pagerank\").sort(F.desc(\"pagerank\")).show(10, False)"
   ],
   "outputs": [
    {
     "output_type": "stream",
     "name": "stdout",
     "text": [
      "+------------------------------------------+------------------+\n",
      "|id                                        |pagerank          |\n",
      "+------------------------------------------+------------------+\n",
      "|0xdac17f958d2ee523a2206206994597c13d831ec7|8871.21936128007  |\n",
      "|0x3f5ce5fbfe3e9af3971dd833d26ba9b5c936f0be|1470.7253331038562|\n",
      "|0x5e07b6f1b98a11f7e04e7ffa8707b63f1c177753|1463.9912669229016|\n",
      "|0x68e54af74b22acaccffa04ccaad13be16ed14eac|1437.0096557882616|\n",
      "|0xcfcf469b76113c5e7218f8275eaf10a881ac106d|1181.9322675161513|\n",
      "|0xcadb96858fe496bb6309622f9023ba2defb5d540|759.1644792166619 |\n",
      "|0xd7cc16500d0b0ac3d0ba156a584865a43b0b0050|714.6486228622971 |\n",
      "|0xbcf935d206ca32929e1b887a07ed240f0d8ccd22|684.3307191834742 |\n",
      "|0xa0b86991c6218b36c1d19d4a2e9eb0ce3606eb48|559.1603035104554 |\n",
      "|0x2b591e99afe9f32eaa6214f7b7629768c40eeb39|516.1284156281846 |\n",
      "+------------------------------------------+------------------+\n",
      "only showing top 10 rows\n",
      "\n",
      "CPU times: user 51.5 ms, sys: 9.45 ms, total: 61 ms\n",
      "Wall time: 4min 41s\n"
     ]
    }
   ],
   "metadata": {}
  },
  {
   "cell_type": "markdown",
   "source": [
    "### Motifs"
   ],
   "metadata": {}
  },
  {
   "cell_type": "code",
   "execution_count": 32,
   "source": [
    "%%time\r\n",
    "# Count pairs of vertices with edges in both directions between them.\r\n",
    "motifs = g.find(\"(a)-[e]->(b); (b)-[e2]->(a)\")\r\n",
    "motifs.show(5)"
   ],
   "outputs": [
    {
     "output_type": "stream",
     "name": "stdout",
     "text": [
      "+--------------------+--------------------+--------------------+--------------------+\n",
      "|                   a|                   e|                   b|                  e2|\n",
      "+--------------------+--------------------+--------------------+--------------------+\n",
      "|[0xd7a8ddd1ff0fe8...|[0xd7a8ddd1ff0fe8...|[0x76f0fb9c5cfe95...|[0x76f0fb9c5cfe95...|\n",
      "|[0xcae9cd51a1e816...|[0xcae9cd51a1e816...|[0xc2c21fcdea61ad...|[0xc2c21fcdea61ad...|\n",
      "|[0xcae9cd51a1e816...|[0xcae9cd51a1e816...|[0xc2c21fcdea61ad...|[0xc2c21fcdea61ad...|\n",
      "|[0x54c666e8e09ab4...|[0x54c666e8e09ab4...|[0xc2fb36db76571a...|[0xc2fb36db76571a...|\n",
      "|[0x54c666e8e09ab4...|[0x54c666e8e09ab4...|[0xc2fb36db76571a...|[0xc2fb36db76571a...|\n",
      "+--------------------+--------------------+--------------------+--------------------+\n",
      "only showing top 5 rows\n",
      "\n",
      "CPU times: user 2.01 ms, sys: 3.9 ms, total: 5.91 ms\n",
      "Wall time: 18.8 s\n"
     ]
    }
   ],
   "metadata": {}
  },
  {
   "cell_type": "code",
   "execution_count": null,
   "source": [
    "%%time\r\n",
    "triangles = g.triangleCount()\r\n",
    "triangles.select(\"id\", \"count\").sort(F.desc(\"count\")).show(5, False)"
   ],
   "outputs": [
    {
     "output_type": "stream",
     "name": "stdout",
     "text": [
      "+------------------------------------------+-----+\n",
      "|id                                        |count|\n",
      "+------------------------------------------+-----+\n",
      "|0xdac17f958d2ee523a2206206994597c13d831ec7|3255 |\n",
      "|0x1091c132630310aca62f62cb155f2506070c2ec5|1070 |\n",
      "|0xd78e0d77f0801c22561deaa5e958667fc590973f|1070 |\n",
      "|0x29d5b3c621606fc8b1a76395f3cc091dd7fb5152|701  |\n",
      "|0x3f5ce5fbfe3e9af3971dd833d26ba9b5c936f0be|471  |\n",
      "+------------------------------------------+-----+\n",
      "only showing top 5 rows\n",
      "\n",
      "CPU times: user 28.8 ms, sys: 33.6 ms, total: 62.4 ms\n",
      "Wall time: 4min 49s\n"
     ]
    }
   ],
   "metadata": {}
  },
  {
   "cell_type": "markdown",
   "source": [
    "### Connected components\n",
    "https://en.wikipedia.org/wiki/Component_(graph_theory)"
   ],
   "metadata": {}
  },
  {
   "cell_type": "code",
   "execution_count": 24,
   "source": [
    "sc = spark.sparkContext\r\n",
    "sc.setCheckpointDir('graphframes_cps')"
   ],
   "outputs": [],
   "metadata": {}
  },
  {
   "cell_type": "code",
   "execution_count": 28,
   "source": [
    "%%time\r\n",
    "conncomp = g.connectedComponents()\r\n",
    "conncomp.select(\"id\", \"component\").sort(F.desc(\"component\")).show(5, False)"
   ],
   "outputs": [
    {
     "output_type": "stream",
     "name": "stdout",
     "text": [
      "+------------------------------------------+-------------+\n",
      "|id                                        |component    |\n",
      "+------------------------------------------+-------------+\n",
      "|0xa1380417ea4721b69c36a747da16ccf96ef984b9|1709396984323|\n",
      "|0x05947d13b2b7a86a0b8fa83e8641050b87d73b2b|1709396983830|\n",
      "|0xc86f6dbbf283b79c89d18bbd69f89f21deddce3e|1683627180652|\n",
      "|0xc3fa2be82e7e7124fa6f75c22bec0119683a0265|1683627180652|\n",
      "|0x50e9bd47939b996439d00b40a66a05378c6e0c41|1675037245656|\n",
      "+------------------------------------------+-------------+\n",
      "only showing top 5 rows\n",
      "\n",
      "CPU times: user 16 ms, sys: 4.89 ms, total: 20.9 ms\n",
      "Wall time: 1min 14s\n"
     ]
    }
   ],
   "metadata": {}
  },
  {
   "cell_type": "markdown",
   "source": [
    "### Strongly connected components\n",
    "\n",
    "https://en.wikipedia.org/wiki/Strongly_connected_component"
   ],
   "metadata": {}
  },
  {
   "cell_type": "code",
   "execution_count": null,
   "source": [
    "%%time\r\n",
    "strconncomp = g.stronglyConnectedComponents(maxIter=10)\r\n",
    "strconncomp.select(\"id\", \"component\").sort(F.desc(\"component\")).show(5, False)"
   ],
   "outputs": [],
   "metadata": {}
  },
  {
   "cell_type": "markdown",
   "source": [
    "### Label Propagation Algorithm (LPA)\n",
    "https://en.wikipedia.org/wiki/Label_propagation_algorithm"
   ],
   "metadata": {}
  },
  {
   "cell_type": "code",
   "execution_count": null,
   "source": [
    "%%time\r\n",
    "labprop = g.labelPropagation(maxIter=5)\r\n",
    "labprop.select(\"id\", \"label\").show(5, False)"
   ],
   "outputs": [],
   "metadata": {}
  }
 ],
 "metadata": {
  "kernelspec": {
   "display_name": "Python 3",
   "language": "python",
   "name": "python3"
  },
  "language_info": {
   "codemirror_mode": {
    "name": "ipython",
    "version": 3
   },
   "file_extension": ".py",
   "mimetype": "text/x-python",
   "name": "python",
   "nbconvert_exporter": "python",
   "pygments_lexer": "ipython3",
   "version": "3.8.5"
  }
 },
 "nbformat": 4,
 "nbformat_minor": 4
}